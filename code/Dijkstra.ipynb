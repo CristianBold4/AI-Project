{
  "nbformat": 4,
  "nbformat_minor": 0,
  "metadata": {
    "colab": {
      "name": "Dijkstra.ipynb",
      "provenance": [],
      "collapsed_sections": []
    },
    "kernelspec": {
      "name": "python3",
      "display_name": "Python 3"
    },
    "language_info": {
      "name": "python"
    }
  },
  "cells": [
    {
      "cell_type": "code",
      "source": [
        "from queue import PriorityQueue"
      ],
      "metadata": {
        "id": "5QATvH08XZIT"
      },
      "execution_count": 2,
      "outputs": []
    },
    {
      "cell_type": "code",
      "execution_count": 52,
      "metadata": {
        "id": "AvtX692PWHHh"
      },
      "outputs": [],
      "source": [
        "class Graph:\n",
        "    def __init__(self, num_of_vertices):\n",
        "        self.v = num_of_vertices\n",
        "        self.edges = [[-1 for i in range(num_of_vertices)] for j in range(num_of_vertices)]\n",
        "        self.visited = []\n",
        " \n",
        "    def add_edge(self, u, v, weight):\n",
        "        self.edges[u][v] = weight\n",
        "        self.edges[v][u] = weight\n",
        " \n",
        "    # Function that implements Dijkstra's single source\n",
        "    # shortest path algorithm for a graph represented\n",
        "    # using adjacency matrix representation\n",
        "    def dijkstra(self, start_vertex, end_vertex):\n",
        "        prec = {v:int(0) for v in range(self.v)}\n",
        "        D = {v:float('inf') for v in range(self.v)}\n",
        "        D[start_vertex] = 0\n",
        "        prec[0] = 0\n",
        "    \n",
        "        pq = PriorityQueue()\n",
        "        pq.put((0, start_vertex))\n",
        "    \n",
        "        while not pq.empty():\n",
        "            (dist, current_vertex) = pq.get()\n",
        "            self.visited.append(current_vertex)\n",
        "    \n",
        "            for neighbor in range(self.v):\n",
        "                if self.edges[current_vertex][neighbor] != -1:\n",
        "                    distance = self.edges[current_vertex][neighbor]\n",
        "                    if neighbor not in self.visited:\n",
        "                        old_cost = D[neighbor]\n",
        "                        new_cost = D[current_vertex] + distance\n",
        "                        if new_cost < old_cost:\n",
        "                            pq.put((new_cost, neighbor))\n",
        "                            D[neighbor] = new_cost\n",
        "                            prec[neighbor] = current_vertex\n",
        "        \n",
        "        current = prec[end_vertex]\n",
        "        path = [end_vertex]\n",
        "        while (current != 0):\n",
        "          path.append(prec[current])\n",
        "          current = prec[current]\n",
        "\n",
        "        return D.get(end_vertex), path\n",
        " "
      ]
    },
    {
      "cell_type": "code",
      "source": [
        "import csv\n",
        "import math\n",
        "\n",
        "# read flash.dat to a list of lists\n",
        "datContent = [i.strip().split() for i in open(\"./input.dat\").readlines()]\n",
        "\n",
        "dim = int(datContent[0][2])\n",
        "print(\"Dim: \", dim)\n",
        "\n",
        "print(datContent[3])\n",
        "\n",
        "nodes = []\n",
        "\n",
        "for i in range(4, dim + 4):\n",
        "  nodes.append({'id': datContent[i][0], 'coordinates':[datContent[i][1], datContent[i][2]]})\n",
        "  \n",
        "\n",
        "g = Graph(dim)\n",
        "\n",
        "for i in range(dim+5, len(datContent)):\n",
        "  if (datContent[i][0] == 'DRIVERS_STARTING_COORD') :\n",
        "    break\n",
        "  n1 = int(datContent[i][0])\n",
        "  n2 = int(datContent[i][1])\n",
        "  x_coord_1 = float(nodes[n1].get('coordinates')[0])\n",
        "  y_coord_1 = float(nodes[n1].get('coordinates')[1])\n",
        "  x_coord_2 = float(nodes[n2].get('coordinates')[0])\n",
        "  y_coord_2 = float(nodes[n2].get('coordinates')[1])\n",
        "  \n",
        "  x_coord_1 = x_coord_1 * 111.32\n",
        "  x_coord_2 = x_coord_2 * 111.32\n",
        "  y_coord_1 = 40075 * math.cos(x_coord_1)/360 * y_coord_1;\n",
        "  y_coord_2 = 40075 * math.cos(x_coord_2)/360 * y_coord_2;\n",
        "  dist = math.sqrt((y_coord_1 - y_coord_2)**2 + (x_coord_1 - x_coord_2)**2)\n",
        "  g.add_edge(int(datContent[i][0]), int(datContent[i][1]), dist) \n",
        "  \n",
        "\n",
        "dist, D1 = g.dijkstra(0, 2238)\n",
        "\n",
        "print(\"dist\", dist)\n",
        "print(D1)\n",
        "\n",
        "\n",
        " \n",
        " "
      ],
      "metadata": {
        "colab": {
          "base_uri": "https://localhost:8080/"
        },
        "id": "4qj9FHRFWj_c",
        "outputId": "0b9c76b4-4c3f-4dcb-c645-f65ff108e987"
      },
      "execution_count": 56,
      "outputs": [
        {
          "output_type": "stream",
          "name": "stdout",
          "text": [
            "Dim:  2239\n",
            "['NODE_COORD_SECTION']\n",
            "dist 85825.2892878215\n",
            "[2238, 426, 173, 170, 171, 174, 1930, 1929, 1207, 10, 9, 769, 1019, 1279, 1434, 1251, 1250, 1230, 14, 13, 1249, 50, 48, 49, 1286, 1216, 218, 1289, 1290, 294, 165, 176, 47, 1, 0]\n"
          ]
        }
      ]
    }
  ]
}