{
  "cells": [
    {
      "cell_type": "markdown",
      "id": "9a84ad5b-ba78-4156-9683-a3cd1eb92438",
      "metadata": {
        "id": "9a84ad5b-ba78-4156-9683-a3cd1eb92438"
      },
      "source": [
        "## Test per progetto AI"
      ]
    },
    {
      "cell_type": "markdown",
      "id": "f78b133c-c586-4acb-927f-9c6ed2425b37",
      "metadata": {
        "id": "f78b133c-c586-4acb-927f-9c6ed2425b37"
      },
      "source": [
        "E' necessario caricare i file roads_small.json e nodes_small.json"
      ]
    },
    {
      "cell_type": "code",
      "execution_count": 75,
      "id": "4bd11cac-00d0-4554-add1-786f80976988",
      "metadata": {
        "id": "4bd11cac-00d0-4554-add1-786f80976988"
      },
      "outputs": [],
      "source": [
        "import json\n",
        "import numpy as np\n",
        "import matplotlib.pyplot as plt\n",
        "import math\n",
        "import random"
      ]
    },
    {
      "cell_type": "code",
      "execution_count": 76,
      "id": "ee530b18-25c2-4d55-8e0b-c6ed8e979380",
      "metadata": {
        "colab": {
          "base_uri": "https://localhost:8080/"
        },
        "id": "ee530b18-25c2-4d55-8e0b-c6ed8e979380",
        "outputId": "e44dbd09-a0da-4cc3-8334-25c9244d72c4"
      },
      "outputs": [
        {
          "output_type": "stream",
          "name": "stdout",
          "text": [
            "Num nodes 2239\n",
            "Num roads 10138\n"
          ]
        }
      ],
      "source": [
        "nodes = json.load(open('new_nodes.json', 'r'))\n",
        "roads = json.load(open('new_roads.json', 'r'))\n",
        "print(\"Num nodes\", len(nodes))\n",
        "print(\"Num roads\", len(roads))"
      ]
    },
    {
      "cell_type": "markdown",
      "id": "0c9bd191-fbf2-4926-9fe3-5315f2b63def",
      "metadata": {
        "id": "0c9bd191-fbf2-4926-9fe3-5315f2b63def"
      },
      "source": [
        "Create two maps as lookup tables for the nodes"
      ]
    },
    {
      "cell_type": "code",
      "execution_count": 77,
      "id": "d9ddb0c8-29d5-4fe1-9302-ac1481b290ef",
      "metadata": {
        "id": "d9ddb0c8-29d5-4fe1-9302-ac1481b290ef"
      },
      "outputs": [],
      "source": [
        "#create a lookup table for point coordinates\n",
        "node_coords = {point['id']:tuple(point['coordinates']) for point in nodes} #dictonary initialization with comprehension\n",
        "coords_node = {tuple(point['coordinates']):point['id'] for point in nodes} #tuples are hashable-> can be key to a dictionary"
      ]
    },
    {
      "cell_type": "code",
      "execution_count": 78,
      "id": "8bad6089-b3c1-499e-be26-0c53d98e7120",
      "metadata": {
        "colab": {
          "base_uri": "https://localhost:8080/"
        },
        "id": "8bad6089-b3c1-499e-be26-0c53d98e7120",
        "outputId": "763b606c-1398-4c1f-e5e9-89858bb0dd79"
      },
      "outputs": [
        {
          "output_type": "stream",
          "name": "stdout",
          "text": [
            "(12.55, 45.59)\n"
          ]
        }
      ],
      "source": [
        "print(node_coords[roads[11]['p1']]) #retrieve coordinates from node ID"
      ]
    },
    {
      "cell_type": "markdown",
      "id": "79e8398c-a30b-4bca-a4c5-28c647a5dc03",
      "metadata": {
        "id": "79e8398c-a30b-4bca-a4c5-28c647a5dc03"
      },
      "source": [
        "A questo punto bisogna generare le query degli utenti:\n",
        "\n",
        "semplificazione: l'orario non influisce sui tempi di percorrenza -> dipendono solo dalla distanza"
      ]
    },
    {
      "cell_type": "markdown",
      "id": "a81a0a84-db99-4b8b-8d81-cad548c57c5c",
      "metadata": {
        "id": "a81a0a84-db99-4b8b-8d81-cad548c57c5c"
      },
      "source": [
        "Consider each trip as starting or ending in one of the nodes: the function below serves to approximate the closest node on the map"
      ]
    },
    {
      "cell_type": "markdown",
      "id": "bab3d7ee-4cd8-4423-a556-bb23484829b8",
      "metadata": {
        "id": "bab3d7ee-4cd8-4423-a556-bb23484829b8"
      },
      "source": [
        "Regular transfer (not related to pendolarism) is modeled as a gaussian random variable with respect to location ($\\mu = 15km, \\sigma = 10km$)  "
      ]
    },
    {
      "cell_type": "code",
      "source": [
        "# compute distance between two nodes\n",
        "\n",
        "def compute_distance(x_coord_1, y_coord_1, x_coord_2, y_coord_2):\n",
        "  x_coord_1 = x_coord_1 * 111.32\n",
        "  x_coord_2 = x_coord_2 * 111.32\n",
        "  y_coord_1 = 40075 * math.cos(x_coord_1)/360 * y_coord_1;\n",
        "  y_coord_2 = 40075 * math.cos(x_coord_2)/360 * y_coord_2;\n",
        "  dist = math.sqrt((y_coord_1 - y_coord_2)**2 + (x_coord_1 - x_coord_2)**2)\n",
        "  return dist"
      ],
      "metadata": {
        "id": "dlYeFIyA9vIN"
      },
      "id": "dlYeFIyA9vIN",
      "execution_count": 79,
      "outputs": []
    },
    {
      "cell_type": "code",
      "source": [
        "# use of networkx, creation of graph\n",
        "\n",
        "import networkx as nx\n",
        "# use of networkx\n",
        "\n",
        "G = nx.Graph()\n",
        "\n",
        "G.add_nodes_from(range(len(nodes)))\n",
        "for road in roads :\n",
        "  n1 = int(road.get(\"p1\"))\n",
        "  n2 = int(road.get(\"p2\"))\n",
        "  x_coord_1 = float(nodes[n1].get('coordinates')[0])\n",
        "  y_coord_1 = float(nodes[n1].get('coordinates')[1])\n",
        "  x_coord_2 = float(nodes[n2].get('coordinates')[0])\n",
        "  y_coord_2 = float(nodes[n2].get('coordinates')[1])\n",
        "  dist = compute_distance(x_coord_1, y_coord_1, x_coord_2, y_coord_2)\n",
        "\n",
        "  G.add_edge(n1, n2, weight=dist)\n",
        "\n",
        "G.get_edge_data(0, 1)\n",
        "\n"
      ],
      "metadata": {
        "colab": {
          "base_uri": "https://localhost:8080/"
        },
        "id": "MqdpU6s99pZ9",
        "outputId": "310fec81-9777-4428-8c4e-a1581854e1bf"
      },
      "id": "MqdpU6s99pZ9",
      "execution_count": 80,
      "outputs": [
        {
          "output_type": "execute_result",
          "data": {
            "text/plain": [
              "{'weight': 2698.256500971123}"
            ]
          },
          "metadata": {},
          "execution_count": 80
        }
      ]
    },
    {
      "cell_type": "code",
      "execution_count": 81,
      "id": "d587b013-ad1f-4648-8c47-e2b7f8e868ac",
      "metadata": {
        "id": "d587b013-ad1f-4648-8c47-e2b7f8e868ac"
      },
      "outputs": [],
      "source": [
        "def generate_ratings(n_driver):\n",
        "  mean, std = 3.5, 0.5\n",
        "  x = np.random.normal(mean, std, size=(n_driver, 1))\n",
        "  ratings = np.empty(shape = (n_driver, 1))\n",
        "  for i in range(n_driver):\n",
        "    y = math.ceil(x[i])\n",
        "    if (y - x[i] > 0.5) :\n",
        "      ratings[i] = y - 0.5\n",
        "    else :\n",
        "      ratings[i] = y\n",
        "      \n",
        "  return ratings\n"
      ]
    },
    {
      "cell_type": "code",
      "execution_count": 82,
      "id": "cOIS8p1_Eh0j",
      "metadata": {
        "colab": {
          "base_uri": "https://localhost:8080/"
        },
        "id": "cOIS8p1_Eh0j",
        "outputId": "e5c4a45d-6c9c-4790-d4f0-6ec1d54072a8"
      },
      "outputs": [
        {
          "output_type": "stream",
          "name": "stdout",
          "text": [
            "[{'id': 2136, 'coordinates': (12.39, 45.59)}, {'id': 1588, 'coordinates': (12.18, 45.5)}, {'id': 1477, 'coordinates': (11.75, 45.24)}, {'id': 1166, 'coordinates': (12.05, 45.54)}, {'id': 1470, 'coordinates': (12.37, 45.61)}, {'id': 560, 'coordinates': (12.02, 45.54)}, {'id': 1517, 'coordinates': (12.02, 45.6)}, {'id': 685, 'coordinates': (12.03, 45.38)}]\n"
          ]
        }
      ],
      "source": [
        "# pool of end points \n",
        "# define a random number of destinations (e.g. from 8 to 12)\n",
        "num_dest = random.randrange(8, 12, 1)\n",
        "pool_dest = []\n",
        "for i in range(num_dest):\n",
        "  rand = random.randrange(len(node_coords))\n",
        "  id_dest = list(node_coords.keys())[rand]\n",
        "  coord_dest = list(node_coords.values())[rand]\n",
        "  pool_dest.append({'id':id_dest, 'coordinates':coord_dest})\n",
        "\n",
        "print(pool_dest)"
      ]
    },
    {
      "cell_type": "markdown",
      "source": [
        "Minimum path lenght:\n",
        "- Drivers: 40 km\n",
        "- Riders: 10 km"
      ],
      "metadata": {
        "id": "aaswT2gyQUTD"
      },
      "id": "aaswT2gyQUTD"
    },
    {
      "cell_type": "code",
      "execution_count": 83,
      "id": "Y9GxoHPZb2dD",
      "metadata": {
        "id": "Y9GxoHPZb2dD"
      },
      "outputs": [],
      "source": [
        "def generate_trips(n, gen):\n",
        "  # needs to define, for each driver/rider, one random starting point, and peak from the pool of destinations a random end points\n",
        "  trips_start = []\n",
        "  trips_dest = []\n",
        "  for i in range(n):\n",
        "    # start point\n",
        "    if (gen == 'driver') :\n",
        "      while True:\n",
        "        # start point\n",
        "        rand_s = random.randrange((len(nodes)))\n",
        "        id_start = list(node_coords.keys())[rand_s]\n",
        "        # end point\n",
        "        rand_d = random.randrange(num_dest)\n",
        "        dest = pool_dest[rand_d]\n",
        "        dist = nx.shortest_path_length(G, id_start, dest.get('id'), weight='weight')\n",
        "        if (dist > 40e3) :\n",
        "          coord_start = list(node_coords.values())[rand_s]\n",
        "          break\n",
        "    else :\n",
        "        while True:\n",
        "          # start point\n",
        "          rand_s = random.randrange((len(nodes)))\n",
        "          id_start = list(node_coords.keys())[rand_s]\n",
        "          # end point\n",
        "          rand_d = random.randrange(num_dest)\n",
        "          dest = pool_dest[rand_d]\n",
        "          dist = nx.shortest_path_length(G, id_start, dest.get('id'), weight='weight')\n",
        "          if (dist > 10e3) :\n",
        "            coord_start = list(node_coords.values())[rand_s]\n",
        "            break\n",
        "     \n",
        "    \n",
        "    trips_start.append({'id':id_start, 'coordinates':coord_start})\n",
        "    trips_dest.append(dest)\n",
        "\n",
        "  return trips_start, trips_dest\n"
      ]
    },
    {
      "cell_type": "code",
      "execution_count": 84,
      "id": "359951c9-c520-4e13-8ac4-1c7ec48e1ab2",
      "metadata": {
        "id": "359951c9-c520-4e13-8ac4-1c7ec48e1ab2"
      },
      "outputs": [],
      "source": [
        "def generate_schedules(n):\n",
        "  #time probability mass: how many requests per 2-hour slot in percentage\n",
        "  time_prob = {   6 : 0.2,\n",
        "                  8 : 0.1,\n",
        "                  10 : 0.07,\n",
        "                  12 : 0.1,\n",
        "                  14 : 0.07,\n",
        "                  16 : 0.15,\n",
        "                  18 : 0.15,\n",
        "                  20 : 0.05,\n",
        "                  22 : 0.05,\n",
        "                  0 : 0.01,\n",
        "                  2 : 0.01,\n",
        "                  4 : 0.04 }\n",
        "\n",
        "  times = []\n",
        "  hours = list(time_prob.keys())\n",
        "  prob = list(time_prob.values())\n",
        "  for i in range(n):\n",
        "    times.append(str(random.choices(hours, prob)[0]) + \":00\")\n",
        "\n",
        "  return times"
      ]
    },
    {
      "cell_type": "code",
      "execution_count": 85,
      "id": "CIOti8PLigxN",
      "metadata": {
        "id": "CIOti8PLigxN"
      },
      "outputs": [],
      "source": [
        "class Driver:\n",
        "  def __init__(self, id, rating, hour, start_point, end_point):\n",
        "    self.id = id\n",
        "    self.rating = rating\n",
        "    self.hour = hour\n",
        "    self.start_point = start_point\n",
        "    self.end_point = end_point\n",
        "\n",
        "  def __str__(self):\n",
        "    return \"Driver ( id = \" + str(self.id) + \", rating = \" + str(self.rating) + \", hour = \" + self.hour + \", start = \" + str(self.start_point) + \", dest = \" + str(self.end_point) + \")\"\n",
        "\n",
        "class Rider:\n",
        "  def __init__(self, id, hour, start_point, end_point):\n",
        "    self.id = id\n",
        "    self.hour = hour\n",
        "    self.start_point = start_point\n",
        "    self.end_point = end_point\n",
        "\n",
        "  def __str__(self):\n",
        "    return \"Rider ( id = \" + str(self.id) + \", hour = \" + self.hour + \", start = \" + str(self.start_point) + \", dest = \" + str(self.end_point) + \")\""
      ]
    },
    {
      "cell_type": "code",
      "execution_count": 86,
      "id": "GVRlI8gLYWCO",
      "metadata": {
        "id": "GVRlI8gLYWCO"
      },
      "outputs": [],
      "source": [
        "def generate_data():\n",
        "  # 1- generate n_drivers and n_riders\n",
        "  # range: start, end, stepsize\n",
        "  n_drivers = random.randrange(40, 50, 1)\n",
        "  n_riders = random.randrange(90, 150, 15)\n",
        "  print(\"N_drivers: \", n_drivers)\n",
        "  print(\"N_riders: \", n_riders)\n",
        "  # 2 - generate start point and end point for drivers and riders\n",
        "  trips_start_drivers, trips_dest_drivers = generate_trips(n_drivers, gen='driver')\n",
        "  trips_start_riders, trips_dest_riders = generate_trips(n_riders, gen='rider')\n",
        "  # 3 - generate schedules\n",
        "  drivers_schedule = generate_schedules(n_drivers)\n",
        "  riders_schedule = generate_schedules(n_riders)\n",
        "  # 4- generate ratings for drivers\n",
        "  ratings = generate_ratings(n_drivers)\n",
        "  # 5 - parse in a list of objects\n",
        "  riders = []\n",
        "  drivers = []\n",
        "  for i in range(n_riders):\n",
        "    riders.append( Rider(i, riders_schedule[i], trips_start_riders[i], trips_dest_riders[i]))\n",
        "\n",
        "  for i in range(n_drivers):\n",
        "    drivers.append( Driver(i, ratings[i][0], drivers_schedule[i], trips_start_drivers[i], trips_dest_drivers[i]))\n",
        "\n",
        "  return drivers, riders\n",
        "\n"
      ]
    },
    {
      "cell_type": "code",
      "execution_count": 87,
      "id": "1be3f349-94ec-4ac4-8306-74f789381445",
      "metadata": {
        "colab": {
          "base_uri": "https://localhost:8080/"
        },
        "id": "1be3f349-94ec-4ac4-8306-74f789381445",
        "outputId": "2fcf6bdf-bc26-4c99-99e7-f0c88fbe72df"
      },
      "outputs": [
        {
          "output_type": "stream",
          "name": "stdout",
          "text": [
            "N_drivers:  43\n",
            "N_riders:  90\n",
            "Driver ( id = 0, rating = 4.0, hour = 6:00, start = {'id': 1484, 'coordinates': (12.42, 45.64)}, dest = {'id': 685, 'coordinates': (12.03, 45.38)})\n",
            "Driver ( id = 1, rating = 2.5, hour = 8:00, start = {'id': 2112, 'coordinates': (12.62, 45.63)}, dest = {'id': 685, 'coordinates': (12.03, 45.38)})\n",
            "Driver ( id = 2, rating = 3.5, hour = 8:00, start = {'id': 1623, 'coordinates': (12.5, 45.58)}, dest = {'id': 1477, 'coordinates': (11.75, 45.24)})\n",
            "Driver ( id = 3, rating = 5.0, hour = 6:00, start = {'id': 2230, 'coordinates': (12.71, 45.6)}, dest = {'id': 1517, 'coordinates': (12.02, 45.6)})\n",
            "Driver ( id = 4, rating = 4.0, hour = 14:00, start = {'id': 358, 'coordinates': (11.74, 45.23)}, dest = {'id': 1470, 'coordinates': (12.37, 45.61)})\n",
            "\n",
            "\n",
            "***********************************************************************\n",
            "\n",
            "\n",
            "Rider ( id = 0, hour = 22:00, start = {'id': 289, 'coordinates': (12.21, 45.62)}, dest = {'id': 560, 'coordinates': (12.02, 45.54)})\n",
            "Rider ( id = 1, hour = 4:00, start = {'id': 633, 'coordinates': (11.84, 45.24)}, dest = {'id': 1470, 'coordinates': (12.37, 45.61)})\n",
            "Rider ( id = 2, hour = 16:00, start = {'id': 1466, 'coordinates': (12.45, 45.59)}, dest = {'id': 1517, 'coordinates': (12.02, 45.6)})\n",
            "Rider ( id = 3, hour = 18:00, start = {'id': 1714, 'coordinates': (12.11, 45.44)}, dest = {'id': 560, 'coordinates': (12.02, 45.54)})\n",
            "Rider ( id = 4, hour = 4:00, start = {'id': 512, 'coordinates': (11.88, 45.35)}, dest = {'id': 560, 'coordinates': (12.02, 45.54)})\n"
          ]
        }
      ],
      "source": [
        "drivers, riders = generate_data()\n",
        "\n",
        "for i in range(5) :\n",
        "  print(drivers[i])\n",
        "\n",
        "print(\"\\n\\n***********************************************************************\\n\\n\")\n",
        "\n",
        "for i in range(5) :\n",
        "  print(riders[i])\n"
      ]
    },
    {
      "cell_type": "code",
      "source": [
        "from datetime import datetime\n",
        "from datetime import timedelta\n",
        "\n",
        "# use of Dijkstra for shortest path\n",
        "\n",
        "drivers_path = []\n",
        "riders_path = []\n",
        "\n",
        "# 50 km/h\n",
        "avg_vel = 50\n",
        "date_format_str = '%H:%M'\n",
        "\n",
        "for driver in drivers:\n",
        "  spath = nx.dijkstra_path(G, driver.start_point.get('id'), driver.end_point.get('id'))\n",
        "  dpath = [{'node' : spath[0], 'hour': driver.hour}]\n",
        "  dist = 0\n",
        "\n",
        "\n",
        "  for i in range(1, len(spath)):\n",
        "    # retrieve distance and convert into km\n",
        "    \n",
        "    # distance in km\n",
        "    dist += (G.get_edge_data(spath[i-1], spath[i]).get('weight')) / 1e3\n",
        "    time = dist / avg_vel\n",
        "    time_1 = datetime.strptime(driver.hour, date_format_str)\n",
        "    time_2 = time_1 + timedelta(hours=time)\n",
        "    str_time = time_2.strftime(date_format_str)\n",
        "\n",
        "    dpath.append({'node': spath[i], 'hour':str_time})\n",
        "\n",
        "\n",
        "\n",
        "  drivers_path.append({'id_driver': driver.id, 'shortest_path' : dpath})\n",
        "  total_dist = nx.shortest_path_length(G, driver.start_point.get('id'), driver.end_point.get('id'), weight='weight')\n",
        "  #print(\"Driver #\" + str(driver.id) + \": start at \" + driver.hour + \" , end at \" + dpath[len(dpath)-1].get('hour'))\n",
        "  #print(\"    -> total dist km: \", total_dist/1e3)\n",
        "\n",
        "\n",
        "for rider in riders:\n",
        "  spath = nx.dijkstra_path(G, rider.start_point.get('id'), rider.end_point.get('id'))\n",
        "  riders_path.append({'id_rider': rider.id, 'shortest_path' : spath})\n",
        "\n",
        "print(drivers_path[0])\n",
        "#print(riders_path)"
      ],
      "metadata": {
        "colab": {
          "base_uri": "https://localhost:8080/"
        },
        "id": "rQk3RUI9_9pF",
        "outputId": "68f28824-da77-4f50-f18a-3667b8a31259"
      },
      "id": "rQk3RUI9_9pF",
      "execution_count": 99,
      "outputs": [
        {
          "output_type": "stream",
          "name": "stdout",
          "text": [
            "{'id_driver': 0, 'shortest_path': [{'node': 1484, 'hour': '6:00'}, {'node': 427, 'hour': '06:01'}, {'node': 1482, 'hour': '06:01'}, {'node': 173, 'hour': '06:01'}, {'node': 164, 'hour': '06:07'}, {'node': 162, 'hour': '06:12'}, {'node': 161, 'hour': '06:20'}, {'node': 314, 'hour': '06:25'}, {'node': 309, 'hour': '06:31'}, {'node': 510, 'hour': '06:31'}, {'node': 523, 'hour': '06:38'}, {'node': 312, 'hour': '06:38'}, {'node': 508, 'hour': '06:38'}, {'node': 514, 'hour': '06:42'}, {'node': 783, 'hour': '06:49'}, {'node': 889, 'hour': '06:54'}, {'node': 107, 'hour': '06:54'}, {'node': 888, 'hour': '07:00'}, {'node': 787, 'hour': '07:03'}, {'node': 788, 'hour': '07:04'}, {'node': 276, 'hour': '07:11'}, {'node': 1152, 'hour': '07:11'}, {'node': 397, 'hour': '07:11'}, {'node': 1175, 'hour': '07:11'}, {'node': 1882, 'hour': '07:11'}, {'node': 1831, 'hour': '07:11'}, {'node': 1528, 'hour': '07:18'}, {'node': 1524, 'hour': '07:20'}, {'node': 1097, 'hour': '07:20'}, {'node': 756, 'hour': '07:21'}, {'node': 685, 'hour': '07:21'}]}\n"
          ]
        }
      ]
    },
    {
      "cell_type": "code",
      "source": [
        "# find matching, since we assumed same dest\n",
        "\n",
        "drivers_match = [{} for _ in range(len(drivers))]\n",
        "\n",
        "# couple drivers and riders with same dest\n",
        "\n",
        "for driver in drivers :\n",
        "  drivers_match[driver.id] = {'id_driver' : driver.id, 'list_of_riders' : []}\n",
        "  for rider in riders :\n",
        "    if driver.end_point.get('id') == rider.end_point.get('id') :\n",
        "      drivers_match[driver.id].get('list_of_riders').append(rider.id)\n",
        "\n",
        "print(drivers_match)\n"
      ],
      "metadata": {
        "colab": {
          "base_uri": "https://localhost:8080/"
        },
        "id": "ztU1h2qCsQ8a",
        "outputId": "0c2ef262-c0a4-410d-e3b8-a0da93ae9ce4"
      },
      "id": "ztU1h2qCsQ8a",
      "execution_count": 97,
      "outputs": [
        {
          "output_type": "stream",
          "name": "stdout",
          "text": [
            "[{'id_driver': 0, 'list_of_riders': [7, 15, 27, 33, 40, 51, 69, 78, 79, 80, 81]}, {'id_driver': 1, 'list_of_riders': [7, 15, 27, 33, 40, 51, 69, 78, 79, 80, 81]}, {'id_driver': 2, 'list_of_riders': [16, 28, 36, 39, 49, 50, 58, 60, 63, 75, 89]}, {'id_driver': 3, 'list_of_riders': [2, 5, 30, 35, 47, 53, 73, 82]}, {'id_driver': 4, 'list_of_riders': [1, 12, 13, 18, 21, 37, 41, 44, 48, 52, 57, 68, 84, 86, 88]}, {'id_driver': 5, 'list_of_riders': [7, 15, 27, 33, 40, 51, 69, 78, 79, 80, 81]}, {'id_driver': 6, 'list_of_riders': [6, 8, 11, 19, 20, 24, 32, 54, 56, 64, 65, 70, 83, 85]}, {'id_driver': 7, 'list_of_riders': [1, 12, 13, 18, 21, 37, 41, 44, 48, 52, 57, 68, 84, 86, 88]}, {'id_driver': 8, 'list_of_riders': [1, 12, 13, 18, 21, 37, 41, 44, 48, 52, 57, 68, 84, 86, 88]}, {'id_driver': 9, 'list_of_riders': [7, 15, 27, 33, 40, 51, 69, 78, 79, 80, 81]}, {'id_driver': 10, 'list_of_riders': [1, 12, 13, 18, 21, 37, 41, 44, 48, 52, 57, 68, 84, 86, 88]}, {'id_driver': 11, 'list_of_riders': [0, 3, 4, 9, 38, 67, 76]}, {'id_driver': 12, 'list_of_riders': [2, 5, 30, 35, 47, 53, 73, 82]}, {'id_driver': 13, 'list_of_riders': [16, 28, 36, 39, 49, 50, 58, 60, 63, 75, 89]}, {'id_driver': 14, 'list_of_riders': [2, 5, 30, 35, 47, 53, 73, 82]}, {'id_driver': 15, 'list_of_riders': [10, 22, 23, 26, 43, 55, 59, 66, 71, 72, 77]}, {'id_driver': 16, 'list_of_riders': [1, 12, 13, 18, 21, 37, 41, 44, 48, 52, 57, 68, 84, 86, 88]}, {'id_driver': 17, 'list_of_riders': [10, 22, 23, 26, 43, 55, 59, 66, 71, 72, 77]}, {'id_driver': 18, 'list_of_riders': [10, 22, 23, 26, 43, 55, 59, 66, 71, 72, 77]}, {'id_driver': 19, 'list_of_riders': [6, 8, 11, 19, 20, 24, 32, 54, 56, 64, 65, 70, 83, 85]}, {'id_driver': 20, 'list_of_riders': [1, 12, 13, 18, 21, 37, 41, 44, 48, 52, 57, 68, 84, 86, 88]}, {'id_driver': 21, 'list_of_riders': [6, 8, 11, 19, 20, 24, 32, 54, 56, 64, 65, 70, 83, 85]}, {'id_driver': 22, 'list_of_riders': [6, 8, 11, 19, 20, 24, 32, 54, 56, 64, 65, 70, 83, 85]}, {'id_driver': 23, 'list_of_riders': [1, 12, 13, 18, 21, 37, 41, 44, 48, 52, 57, 68, 84, 86, 88]}, {'id_driver': 24, 'list_of_riders': [10, 22, 23, 26, 43, 55, 59, 66, 71, 72, 77]}, {'id_driver': 25, 'list_of_riders': [10, 22, 23, 26, 43, 55, 59, 66, 71, 72, 77]}, {'id_driver': 26, 'list_of_riders': [16, 28, 36, 39, 49, 50, 58, 60, 63, 75, 89]}, {'id_driver': 27, 'list_of_riders': [2, 5, 30, 35, 47, 53, 73, 82]}, {'id_driver': 28, 'list_of_riders': [0, 3, 4, 9, 38, 67, 76]}, {'id_driver': 29, 'list_of_riders': [1, 12, 13, 18, 21, 37, 41, 44, 48, 52, 57, 68, 84, 86, 88]}, {'id_driver': 30, 'list_of_riders': [1, 12, 13, 18, 21, 37, 41, 44, 48, 52, 57, 68, 84, 86, 88]}, {'id_driver': 31, 'list_of_riders': [6, 8, 11, 19, 20, 24, 32, 54, 56, 64, 65, 70, 83, 85]}, {'id_driver': 32, 'list_of_riders': [10, 22, 23, 26, 43, 55, 59, 66, 71, 72, 77]}, {'id_driver': 33, 'list_of_riders': [10, 22, 23, 26, 43, 55, 59, 66, 71, 72, 77]}, {'id_driver': 34, 'list_of_riders': [10, 22, 23, 26, 43, 55, 59, 66, 71, 72, 77]}, {'id_driver': 35, 'list_of_riders': [10, 22, 23, 26, 43, 55, 59, 66, 71, 72, 77]}, {'id_driver': 36, 'list_of_riders': [7, 15, 27, 33, 40, 51, 69, 78, 79, 80, 81]}, {'id_driver': 37, 'list_of_riders': [1, 12, 13, 18, 21, 37, 41, 44, 48, 52, 57, 68, 84, 86, 88]}, {'id_driver': 38, 'list_of_riders': [10, 22, 23, 26, 43, 55, 59, 66, 71, 72, 77]}, {'id_driver': 39, 'list_of_riders': [2, 5, 30, 35, 47, 53, 73, 82]}, {'id_driver': 40, 'list_of_riders': [10, 22, 23, 26, 43, 55, 59, 66, 71, 72, 77]}, {'id_driver': 41, 'list_of_riders': [1, 12, 13, 18, 21, 37, 41, 44, 48, 52, 57, 68, 84, 86, 88]}, {'id_driver': 42, 'list_of_riders': [2, 5, 30, 35, 47, 53, 73, 82]}]\n"
          ]
        }
      ]
    },
    {
      "cell_type": "code",
      "execution_count": null,
      "id": "mrmM8dlr9jTE",
      "metadata": {
        "id": "mrmM8dlr9jTE"
      },
      "outputs": [],
      "source": [
        "# create file input.dat (obsolete (?))\n",
        "f = open(\"input.dat\", \"w\")\n",
        "content = \"DIMENSION : \" + str(len(nodes)) + \"\\n\"\n",
        "content += \"DRIVERS : \" + str(len(drivers)) + \"\\n\"\n",
        "content += \"RIDERS : \" + str(len(riders)) + \"\\n\"\n",
        "content += \"NODE_COORD_SECTION\\n\"\n",
        "for node in nodes :\n",
        "  content += str(node.get(\"id\")) + \" \" + str(node.get(\"coordinates\")[0]) + \" \" + str(node.get(\"coordinates\")[1]) + \"\\n\"\n",
        "content += \"ROADS_SECTION\\n\"\n",
        "for road in roads :\n",
        "  content += str(road.get(\"p1\")) + \" \" + str(road.get(\"p2\")) + \"\\n\"\n",
        "content += \"DRIVERS_STARTING_COORD\\n\"\n",
        "for driver in drivers:\n",
        "  content += str(driver.start_point.get(\"id\")) + \" \" + str(driver.start_point.get(\"coordinates\")[0]) + \" \" + str(driver.start_point.get(\"coordinates\")[1]) + \"\\n\"\n",
        "content += \"DRIVERS_DESTINATION_COORD\\n\"\n",
        "for driver in drivers:\n",
        "  content += str(driver.end_point.get(\"id\")) + \" \" + str(driver.end_point.get(\"coordinates\")[0]) + \" \" + str(driver.end_point.get(\"coordinates\")[1]) + \"\\n\"\n",
        "content += \"RIDERS_STARTING_COORD\\n\"\n",
        "for rider in riders:\n",
        "  content += str(rider.start_point.get(\"id\")) + \" \" + str(rider.start_point.get(\"coordinates\")[0]) + \" \" + str(rider.start_point.get(\"coordinates\")[1]) + \"\\n\"\n",
        "content += \"RIDERS_DESTINATION_COORD\\n\"\n",
        "for rider in riders:\n",
        "  content += str(rider.end_point.get(\"id\")) + \" \" + str(rider.end_point.get(\"coordinates\")[0]) + \" \" + str(rider.end_point.get(\"coordinates\")[1]) + \"\\n\"\n",
        "content += \"EOF\"\n",
        "f.write(content)\n",
        "f.close()"
      ]
    }
  ],
  "metadata": {
    "colab": {
      "collapsed_sections": [],
      "name": "AlgoCarSharing.ipynb",
      "provenance": []
    },
    "kernelspec": {
      "display_name": "Python 3 (ipykernel)",
      "language": "python",
      "name": "python3"
    },
    "language_info": {
      "codemirror_mode": {
        "name": "ipython",
        "version": 3
      },
      "file_extension": ".py",
      "mimetype": "text/x-python",
      "name": "python",
      "nbconvert_exporter": "python",
      "pygments_lexer": "ipython3",
      "version": "3.8.13"
    }
  },
  "nbformat": 4,
  "nbformat_minor": 5
}