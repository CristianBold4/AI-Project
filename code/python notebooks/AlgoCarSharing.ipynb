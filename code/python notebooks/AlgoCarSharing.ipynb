{
  "cells": [
    {
      "cell_type": "markdown",
      "id": "9a84ad5b-ba78-4156-9683-a3cd1eb92438",
      "metadata": {
        "id": "9a84ad5b-ba78-4156-9683-a3cd1eb92438"
      },
      "source": [
        "## Test per progetto AI"
      ]
    },
    {
      "cell_type": "markdown",
      "id": "f78b133c-c586-4acb-927f-9c6ed2425b37",
      "metadata": {
        "id": "f78b133c-c586-4acb-927f-9c6ed2425b37"
      },
      "source": [
        "E' necessario caricare i file roads_small.json e nodes_small.json"
      ]
    },
    {
      "cell_type": "code",
      "execution_count": 1,
      "id": "4bd11cac-00d0-4554-add1-786f80976988",
      "metadata": {
        "id": "4bd11cac-00d0-4554-add1-786f80976988"
      },
      "outputs": [],
      "source": [
        "import json\n",
        "import numpy as np\n",
        "import matplotlib.pyplot as plt\n",
        "import math\n",
        "import networkx as nx\n",
        "import random\n",
        "\n",
        "from datetime import datetime\n",
        "from datetime import timedelta\n",
        "from itertools import permutations"
      ]
    },
    {
      "cell_type": "code",
      "source": [
        "!pip install pyvis"
      ],
      "metadata": {
        "colab": {
          "base_uri": "https://localhost:8080/"
        },
        "id": "uYdX901AmzIl",
        "outputId": "85c84dd5-694f-452a-89c2-cc1ec1a0df74"
      },
      "id": "uYdX901AmzIl",
      "execution_count": 2,
      "outputs": [
        {
          "output_type": "stream",
          "name": "stdout",
          "text": [
            "Collecting pyvis\n",
            "  Downloading pyvis-0.2.0.tar.gz (21 kB)\n",
            "Requirement already satisfied: jinja2>=2.9.6 in /usr/local/lib/python3.7/dist-packages (from pyvis) (2.11.3)\n",
            "Requirement already satisfied: networkx>=1.11 in /usr/local/lib/python3.7/dist-packages (from pyvis) (2.6.3)\n",
            "Requirement already satisfied: ipython>=5.3.0 in /usr/local/lib/python3.7/dist-packages (from pyvis) (5.5.0)\n",
            "Collecting jsonpickle>=1.4.1\n",
            "  Downloading jsonpickle-2.1.0-py2.py3-none-any.whl (38 kB)\n",
            "Requirement already satisfied: setuptools>=18.5 in /usr/local/lib/python3.7/dist-packages (from ipython>=5.3.0->pyvis) (57.4.0)\n",
            "Requirement already satisfied: traitlets>=4.2 in /usr/local/lib/python3.7/dist-packages (from ipython>=5.3.0->pyvis) (5.1.1)\n",
            "Requirement already satisfied: pickleshare in /usr/local/lib/python3.7/dist-packages (from ipython>=5.3.0->pyvis) (0.7.5)\n",
            "Requirement already satisfied: pexpect in /usr/local/lib/python3.7/dist-packages (from ipython>=5.3.0->pyvis) (4.8.0)\n",
            "Requirement already satisfied: prompt-toolkit<2.0.0,>=1.0.4 in /usr/local/lib/python3.7/dist-packages (from ipython>=5.3.0->pyvis) (1.0.18)\n",
            "Requirement already satisfied: pygments in /usr/local/lib/python3.7/dist-packages (from ipython>=5.3.0->pyvis) (2.6.1)\n",
            "Requirement already satisfied: decorator in /usr/local/lib/python3.7/dist-packages (from ipython>=5.3.0->pyvis) (4.4.2)\n",
            "Requirement already satisfied: simplegeneric>0.8 in /usr/local/lib/python3.7/dist-packages (from ipython>=5.3.0->pyvis) (0.8.1)\n",
            "Requirement already satisfied: MarkupSafe>=0.23 in /usr/local/lib/python3.7/dist-packages (from jinja2>=2.9.6->pyvis) (2.0.1)\n",
            "Requirement already satisfied: importlib-metadata in /usr/local/lib/python3.7/dist-packages (from jsonpickle>=1.4.1->pyvis) (4.11.3)\n",
            "Requirement already satisfied: six>=1.9.0 in /usr/local/lib/python3.7/dist-packages (from prompt-toolkit<2.0.0,>=1.0.4->ipython>=5.3.0->pyvis) (1.15.0)\n",
            "Requirement already satisfied: wcwidth in /usr/local/lib/python3.7/dist-packages (from prompt-toolkit<2.0.0,>=1.0.4->ipython>=5.3.0->pyvis) (0.2.5)\n",
            "Requirement already satisfied: zipp>=0.5 in /usr/local/lib/python3.7/dist-packages (from importlib-metadata->jsonpickle>=1.4.1->pyvis) (3.8.0)\n",
            "Requirement already satisfied: typing-extensions>=3.6.4 in /usr/local/lib/python3.7/dist-packages (from importlib-metadata->jsonpickle>=1.4.1->pyvis) (4.2.0)\n",
            "Requirement already satisfied: ptyprocess>=0.5 in /usr/local/lib/python3.7/dist-packages (from pexpect->ipython>=5.3.0->pyvis) (0.7.0)\n",
            "Building wheels for collected packages: pyvis\n",
            "  Building wheel for pyvis (setup.py) ... \u001b[?25l\u001b[?25hdone\n",
            "  Created wheel for pyvis: filename=pyvis-0.2.0-py3-none-any.whl size=23677 sha256=9df5f84b583b2fcf65049c21fe0f1b8c14698aaf6805d2e3417533949d533d12\n",
            "  Stored in directory: /root/.cache/pip/wheels/74/ed/a1/9441bf0a9e35efc8351ea92cb62c71c2a604a027b890f970c4\n",
            "Successfully built pyvis\n",
            "Installing collected packages: jsonpickle, pyvis\n",
            "Successfully installed jsonpickle-2.1.0 pyvis-0.2.0\n"
          ]
        }
      ]
    },
    {
      "cell_type": "code",
      "source": [
        "from pyvis.network import Network"
      ],
      "metadata": {
        "id": "0hVnn4SAmzee"
      },
      "id": "0hVnn4SAmzee",
      "execution_count": 3,
      "outputs": []
    },
    {
      "cell_type": "code",
      "source": [
        "# retrieve dataset\n",
        "\n",
        "!wget https://raw.githubusercontent.com/KrukDallan/AI-Project/main/code/datasets/new_nodes.json\n",
        "!wget https://raw.githubusercontent.com/KrukDallan/AI-Project/main/code/datasets/new_roads.json"
      ],
      "metadata": {
        "colab": {
          "base_uri": "https://localhost:8080/"
        },
        "id": "vKSd48dAmSNS",
        "outputId": "12899b35-12cf-49f1-ce81-719dd2ee7b6e"
      },
      "id": "vKSd48dAmSNS",
      "execution_count": 4,
      "outputs": [
        {
          "output_type": "stream",
          "name": "stdout",
          "text": [
            "--2022-05-07 08:20:34--  https://raw.githubusercontent.com/KrukDallan/AI-Project/main/code/datasets/new_nodes.json\n",
            "Resolving raw.githubusercontent.com (raw.githubusercontent.com)... 185.199.108.133, 185.199.109.133, 185.199.110.133, ...\n",
            "Connecting to raw.githubusercontent.com (raw.githubusercontent.com)|185.199.108.133|:443... connected.\n",
            "HTTP request sent, awaiting response... 200 OK\n",
            "Length: 99175 (97K) [text/plain]\n",
            "Saving to: ‘new_nodes.json’\n",
            "\n",
            "new_nodes.json      100%[===================>]  96.85K  --.-KB/s    in 0.01s   \n",
            "\n",
            "2022-05-07 08:20:35 (9.28 MB/s) - ‘new_nodes.json’ saved [99175/99175]\n",
            "\n",
            "--2022-05-07 08:20:35--  https://raw.githubusercontent.com/KrukDallan/AI-Project/main/code/datasets/new_roads.json\n",
            "Resolving raw.githubusercontent.com (raw.githubusercontent.com)... 185.199.108.133, 185.199.109.133, 185.199.110.133, ...\n",
            "Connecting to raw.githubusercontent.com (raw.githubusercontent.com)|185.199.108.133|:443... connected.\n",
            "HTTP request sent, awaiting response... 200 OK\n",
            "Length: 1314608 (1.3M) [text/plain]\n",
            "Saving to: ‘new_roads.json’\n",
            "\n",
            "new_roads.json      100%[===================>]   1.25M  --.-KB/s    in 0.03s   \n",
            "\n",
            "2022-05-07 08:20:35 (39.1 MB/s) - ‘new_roads.json’ saved [1314608/1314608]\n",
            "\n"
          ]
        }
      ]
    },
    {
      "cell_type": "code",
      "execution_count": 5,
      "id": "ee530b18-25c2-4d55-8e0b-c6ed8e979380",
      "metadata": {
        "colab": {
          "base_uri": "https://localhost:8080/"
        },
        "id": "ee530b18-25c2-4d55-8e0b-c6ed8e979380",
        "outputId": "02b06822-4ec2-4753-9c50-a3e333a3e31f"
      },
      "outputs": [
        {
          "output_type": "stream",
          "name": "stdout",
          "text": [
            "Num nodes 2239\n",
            "Num roads 10138\n"
          ]
        }
      ],
      "source": [
        "nodes = json.load(open('new_nodes.json', 'r'))\n",
        "roads = json.load(open('new_roads.json', 'r'))\n",
        "print(\"Num nodes\", len(nodes))\n",
        "print(\"Num roads\", len(roads))"
      ]
    },
    {
      "cell_type": "code",
      "execution_count": 6,
      "id": "14b91ae0-cdb3-418f-b7a0-4240b43df0c2",
      "metadata": {
        "id": "14b91ae0-cdb3-418f-b7a0-4240b43df0c2"
      },
      "outputs": [],
      "source": [
        "np.random.seed(0) # fix the random seed for np\n",
        "random.seed(0)"
      ]
    },
    {
      "cell_type": "markdown",
      "id": "0c9bd191-fbf2-4926-9fe3-5315f2b63def",
      "metadata": {
        "id": "0c9bd191-fbf2-4926-9fe3-5315f2b63def"
      },
      "source": [
        "Create two maps as lookup tables for the nodes"
      ]
    },
    {
      "cell_type": "code",
      "execution_count": 7,
      "id": "d9ddb0c8-29d5-4fe1-9302-ac1481b290ef",
      "metadata": {
        "id": "d9ddb0c8-29d5-4fe1-9302-ac1481b290ef"
      },
      "outputs": [],
      "source": [
        "#create a lookup table for point coordinates\n",
        "node_coords = {point['id']:tuple(point['coordinates']) for point in nodes} #dictonary initialization with comprehension\n",
        "coords_node = {tuple(point['coordinates']):point['id'] for point in nodes} #tuples are hashable-> can be key to a dictionary"
      ]
    },
    {
      "cell_type": "code",
      "execution_count": 8,
      "id": "8bad6089-b3c1-499e-be26-0c53d98e7120",
      "metadata": {
        "colab": {
          "base_uri": "https://localhost:8080/"
        },
        "id": "8bad6089-b3c1-499e-be26-0c53d98e7120",
        "outputId": "243b9e2f-03ee-481f-b1c2-6388ca97f99a"
      },
      "outputs": [
        {
          "output_type": "stream",
          "name": "stdout",
          "text": [
            "(12.55, 45.59)\n"
          ]
        }
      ],
      "source": [
        "print(node_coords[roads[11]['p1']]) #retrieve coordinates from node ID"
      ]
    },
    {
      "cell_type": "markdown",
      "id": "79e8398c-a30b-4bca-a4c5-28c647a5dc03",
      "metadata": {
        "id": "79e8398c-a30b-4bca-a4c5-28c647a5dc03"
      },
      "source": [
        "A questo punto bisogna generare le query degli utenti:\n",
        "\n",
        "semplificazione: l'orario non influisce sui tempi di percorrenza -> dipendono solo dalla distanza"
      ]
    },
    {
      "cell_type": "markdown",
      "id": "a81a0a84-db99-4b8b-8d81-cad548c57c5c",
      "metadata": {
        "id": "a81a0a84-db99-4b8b-8d81-cad548c57c5c"
      },
      "source": [
        "Consider each trip as starting or ending in one of the nodes: the function below serves to approximate the closest node on the map"
      ]
    },
    {
      "cell_type": "markdown",
      "id": "bab3d7ee-4cd8-4423-a556-bb23484829b8",
      "metadata": {
        "id": "bab3d7ee-4cd8-4423-a556-bb23484829b8"
      },
      "source": [
        "Regular transfer (not related to pendolarism) is modeled as a gaussian random variable with respect to location ($\\mu = 15km, \\sigma = 10km$)  "
      ]
    },
    {
      "cell_type": "code",
      "execution_count": 9,
      "id": "dlYeFIyA9vIN",
      "metadata": {
        "id": "dlYeFIyA9vIN"
      },
      "outputs": [],
      "source": [
        "# compute distance between two nodes\n",
        "\n",
        "def compute_distance(x_coord_1, y_coord_1, x_coord_2, y_coord_2):\n",
        "  x_coord_1 = x_coord_1 * 111.32\n",
        "  x_coord_2 = x_coord_2 * 111.32\n",
        "  y_coord_1 = 40075 * math.cos(x_coord_1)/360 * y_coord_1;\n",
        "  y_coord_2 = 40075 * math.cos(x_coord_2)/360 * y_coord_2;\n",
        "  dist = math.sqrt((y_coord_1 - y_coord_2)**2 + (x_coord_1 - x_coord_2)**2)\n",
        "  return dist"
      ]
    },
    {
      "cell_type": "code",
      "execution_count": 10,
      "id": "j33_1pvp0Yyd",
      "metadata": {
        "id": "j33_1pvp0Yyd"
      },
      "outputs": [],
      "source": [
        "def compute_distance(x1, y1, x2, y2) :\n",
        "  R = 6371e3 #metres\n",
        "  phi1 = x1 * math.pi/180 # φ, λ in radians\n",
        "  phi2 = x2 * math.pi/180\n",
        "  delta_phi = (x2-x1) * math.pi/180\n",
        "  delta_lambda = (y2-y1) * math.pi/180\n",
        "\n",
        "  a = math.sin(delta_phi/2) * math.sin(delta_phi/2) + math.cos(phi1) * math.cos(phi2) * math.sin(delta_lambda/2) * math.sin(delta_lambda/2)\n",
        "  c = 2 * math.atan2(math.sqrt(a), math.sqrt(1-a));\n",
        "\n",
        "  d = R * c #in metres\n",
        "\n",
        "  return d"
      ]
    },
    {
      "cell_type": "code",
      "execution_count": 11,
      "id": "MqdpU6s99pZ9",
      "metadata": {
        "colab": {
          "base_uri": "https://localhost:8080/"
        },
        "id": "MqdpU6s99pZ9",
        "outputId": "e674670c-58b3-42e7-cb61-e0ef11ddd675"
      },
      "outputs": [
        {
          "output_type": "execute_result",
          "data": {
            "text/plain": [
              "{'weight': 1553.904995103261}"
            ]
          },
          "metadata": {},
          "execution_count": 11
        }
      ],
      "source": [
        "# use of networkx, creation of graph\n",
        "\n",
        "G = nx.Graph()\n",
        "\n",
        "G.add_nodes_from(range(len(nodes)))\n",
        "for road in roads :\n",
        "  n1 = int(road.get(\"p1\"))\n",
        "  n2 = int(road.get(\"p2\"))\n",
        "  x_coord_1 = float(nodes[n1].get('coordinates')[0])\n",
        "  y_coord_1 = float(nodes[n1].get('coordinates')[1])\n",
        "  x_coord_2 = float(nodes[n2].get('coordinates')[0])\n",
        "  y_coord_2 = float(nodes[n2].get('coordinates')[1])\n",
        "  dist = compute_distance(x_coord_1, y_coord_1, x_coord_2, y_coord_2)\n",
        "\n",
        "  G.add_edge(n1, n2, weight=dist)\n",
        "\n",
        "G.get_edge_data(0, 1)\n",
        "\n"
      ]
    },
    {
      "cell_type": "code",
      "execution_count": 12,
      "id": "d587b013-ad1f-4648-8c47-e2b7f8e868ac",
      "metadata": {
        "id": "d587b013-ad1f-4648-8c47-e2b7f8e868ac"
      },
      "outputs": [],
      "source": [
        "def generate_ratings(n_driver):\n",
        "  mean, std = 3.5, 0.5\n",
        "  x = np.random.normal(mean, std, size=(n_driver, 1))\n",
        "  ratings = np.empty(shape = (n_driver, 1))\n",
        "  for i in range(n_driver):\n",
        "    y = math.ceil(x[i])\n",
        "    if (y - x[i] > 0.5) :\n",
        "      ratings[i] = y - 0.5\n",
        "    else :\n",
        "      ratings[i] = y\n",
        "      \n",
        "  return ratings\n"
      ]
    },
    {
      "cell_type": "code",
      "execution_count": 13,
      "id": "cOIS8p1_Eh0j",
      "metadata": {
        "colab": {
          "base_uri": "https://localhost:8080/"
        },
        "id": "cOIS8p1_Eh0j",
        "outputId": "6e5271ef-392a-4043-cb0e-a4cfc89ad60d"
      },
      "outputs": [
        {
          "output_type": "stream",
          "name": "stdout",
          "text": [
            "[{'id': 1722, 'coordinates': (12.38, 45.51)}, {'id': 165, 'coordinates': (12.57, 45.48)}, {'id': 1060, 'coordinates': (12.44, 45.61)}, {'id': 2094, 'coordinates': (12.16, 45.51)}, {'id': 1990, 'coordinates': (11.94, 45.33)}, {'id': 1658, 'coordinates': (12.19, 45.24)}, {'id': 1242, 'coordinates': (11.81, 45.44)}]\n"
          ]
        }
      ],
      "source": [
        "# pool of end points \n",
        "# define a random number of destinations (e.g. from 6 to 8)\n",
        "num_dest = random.randrange(6, 8, 1)\n",
        "pool_dest = []\n",
        "for i in range(num_dest):\n",
        "  rand = random.randrange(len(node_coords))\n",
        "  id_dest = list(node_coords.keys())[rand]\n",
        "  coord_dest = list(node_coords.values())[rand]\n",
        "  pool_dest.append({'id':id_dest, 'coordinates':coord_dest})\n",
        "\n",
        "print(pool_dest)"
      ]
    },
    {
      "cell_type": "markdown",
      "id": "aaswT2gyQUTD",
      "metadata": {
        "id": "aaswT2gyQUTD"
      },
      "source": [
        "Minimum path lenght:\n",
        "- Drivers: 40 km\n",
        "- Riders: 10 km"
      ]
    },
    {
      "cell_type": "code",
      "execution_count": 14,
      "id": "Y9GxoHPZb2dD",
      "metadata": {
        "id": "Y9GxoHPZb2dD"
      },
      "outputs": [],
      "source": [
        "def generate_trips(n, gen):\n",
        "  # needs to define, for each driver/rider, one random starting point, and peak from the pool of destinations a random end points\n",
        "  trips_start = []\n",
        "  trips_dest = []\n",
        "  for i in range(n):\n",
        "    # start point\n",
        "    if (gen == 'driver') :\n",
        "      while True:\n",
        "        # start point\n",
        "        rand_s = random.randrange((len(nodes)))\n",
        "        id_start = list(node_coords.keys())[rand_s]\n",
        "        # end point\n",
        "        rand_d = random.randrange(num_dest)\n",
        "        dest = pool_dest[rand_d]\n",
        "        dist = nx.shortest_path_length(G, id_start, dest.get('id'), weight='weight')\n",
        "        if (dist > 40e3) :\n",
        "          coord_start = list(node_coords.values())[rand_s]\n",
        "          break\n",
        "    else :\n",
        "        while True:\n",
        "          # start point\n",
        "          rand_s = random.randrange((len(nodes)))\n",
        "          id_start = list(node_coords.keys())[rand_s]\n",
        "          # end point\n",
        "          rand_d = random.randrange(num_dest)\n",
        "          dest = pool_dest[rand_d]\n",
        "          dist = nx.shortest_path_length(G, id_start, dest.get('id'), weight='weight')\n",
        "          if (dist > 10e3) :\n",
        "            coord_start = list(node_coords.values())[rand_s]\n",
        "            break\n",
        "     \n",
        "    \n",
        "    trips_start.append({'id':id_start, 'coordinates':coord_start})\n",
        "    trips_dest.append(dest)\n",
        "\n",
        "  return trips_start, trips_dest\n"
      ]
    },
    {
      "cell_type": "code",
      "execution_count": 15,
      "id": "359951c9-c520-4e13-8ac4-1c7ec48e1ab2",
      "metadata": {
        "id": "359951c9-c520-4e13-8ac4-1c7ec48e1ab2"
      },
      "outputs": [],
      "source": [
        "def generate_schedules(n):\n",
        "  \n",
        "  #time probability mass: how many requests per 2-hour slot in percentage\n",
        "  time_prob = {   \n",
        "                  '00:00': 1e-3,\n",
        "                  '2:00': 1e-3,\n",
        "                  '4:00': 1e-3,\n",
        "                  '6:00': 1e-3,\n",
        "                  '6:30': 5e-3,\n",
        "                  '7:00': 0.02,\n",
        "                  '7:30': 0.1,\n",
        "                  '8:00': 0.1,\n",
        "                  '8:30': 0.1,\n",
        "                  '10:00': 0.01,\n",
        "                  '10:30': 0.01,\n",
        "                  '12:00': 0.1,\n",
        "                  '12:30': 0.1,\n",
        "                  '13:00': 0.1,\n",
        "                  '14:00': 0.01,\n",
        "                  '16:00': 0.01,\n",
        "                  '18:00': 0.1,\n",
        "                  '18:30': 0.1,\n",
        "                  '19:00': 0.1,\n",
        "                  '19:30': 0.02,\n",
        "                  '20:00': 5e-3,\n",
        "                  '21:00': 5e-3,\n",
        "                  '22:00': 1e-3,\n",
        "  }\n",
        "\n",
        "  \n",
        "\n",
        "  times = []\n",
        "  hours = list(time_prob.keys())\n",
        "  prob = list(time_prob.values())\n",
        "  for i in range(n):\n",
        "    times.append((random.choices(hours, prob)[0]))\n",
        "\n",
        "  return times"
      ]
    },
    {
      "cell_type": "code",
      "execution_count": 16,
      "id": "CIOti8PLigxN",
      "metadata": {
        "id": "CIOti8PLigxN"
      },
      "outputs": [],
      "source": [
        "class Driver:\n",
        "  def __init__(self, id, rating, hour, start_point, end_point):\n",
        "    self.id = id\n",
        "    self.rating = rating\n",
        "    self.hour = hour\n",
        "    self.start_point = start_point\n",
        "    self.end_point = end_point\n",
        "\n",
        "  def __str__(self):\n",
        "    return \"Driver ( id = \" + str(self.id) + \", rating = \" + str(self.rating) + \", hour = \" + self.hour + \", start = \" + str(self.start_point) + \", dest = \" + str(self.end_point) + \")\"\n",
        "\n",
        "class Rider:\n",
        "  def __init__(self, id, rating, hour, start_point, end_point):\n",
        "    self.id = id\n",
        "    self.rating = rating\n",
        "    self.hour = hour\n",
        "    self.start_point = start_point\n",
        "    self.end_point = end_point\n",
        "\n",
        "  def __str__(self):\n",
        "    date_format_str = '%H:%M'\n",
        "    return \"Rider ( id = \" + str(self.id) + \", rating = \" + str(self.rating) + \", hour = \" + self.hour + \", start = \" + str(self.start_point) + \", dest = \" + str(self.end_point) + \")\""
      ]
    },
    {
      "cell_type": "code",
      "execution_count": 17,
      "id": "GVRlI8gLYWCO",
      "metadata": {
        "id": "GVRlI8gLYWCO"
      },
      "outputs": [],
      "source": [
        "def generate_data():\n",
        "  # 1- generate n_drivers and n_riders\n",
        "  # range: start, end, stepsize\n",
        "  n_drivers = random.randrange(40, 50, 1)\n",
        "  n_riders = random.randrange(150, 250, 15)\n",
        "  print(\"N_drivers: \", n_drivers)\n",
        "  print(\"N_riders: \", n_riders)\n",
        "  # 2 - generate start point and end point for drivers and riders\n",
        "  trips_start_drivers, trips_dest_drivers = generate_trips(n_drivers, gen='driver')\n",
        "  trips_start_riders, trips_dest_riders = generate_trips(n_riders, gen='rider')\n",
        "  # 3 - generate schedules\n",
        "  drivers_schedule = generate_schedules(n_drivers)\n",
        "  riders_schedule = generate_schedules(n_riders)\n",
        "  # 4- generate ratings for drivers and riders\n",
        "  ratings_d = generate_ratings(n_drivers)\n",
        "  ratings_r = generate_ratings(n_riders)\n",
        "  # 5 - parse in a list of objects\n",
        "  riders = []\n",
        "  drivers = []\n",
        "  for i in range(n_riders):\n",
        "    riders.append( Rider(i, ratings_r[i][0], riders_schedule[i], trips_start_riders[i], trips_dest_riders[i]))\n",
        "\n",
        "  for i in range(n_drivers):\n",
        "    drivers.append( Driver(i, ratings_d[i][0], drivers_schedule[i], trips_start_drivers[i], trips_dest_drivers[i]))\n",
        "\n",
        "  return drivers, riders\n",
        "\n"
      ]
    },
    {
      "cell_type": "code",
      "execution_count": 18,
      "id": "1be3f349-94ec-4ac4-8306-74f789381445",
      "metadata": {
        "colab": {
          "base_uri": "https://localhost:8080/"
        },
        "id": "1be3f349-94ec-4ac4-8306-74f789381445",
        "outputId": "9f47e0d6-786c-49eb-a2a0-ea4dc8d84438"
      },
      "outputs": [
        {
          "output_type": "stream",
          "name": "stdout",
          "text": [
            "N_drivers:  47\n",
            "N_riders:  180\n",
            "Driver ( id = 0, rating = 4.5, hour = 19:00, start = {'id': 570, 'coordinates': (11.78, 45.29)}, dest = {'id': 1060, 'coordinates': (12.44, 45.61)})\n",
            "Driver ( id = 1, rating = 4.0, hour = 12:30, start = {'id': 388, 'coordinates': (12.28, 45.19)}, dest = {'id': 1990, 'coordinates': (11.94, 45.33)})\n",
            "Driver ( id = 2, rating = 4.0, hour = 8:00, start = {'id': 404, 'coordinates': (12.21, 45.55)}, dest = {'id': 1658, 'coordinates': (12.19, 45.24)})\n",
            "Driver ( id = 3, rating = 5.0, hour = 19:00, start = {'id': 1352, 'coordinates': (11.88, 45.26)}, dest = {'id': 2094, 'coordinates': (12.16, 45.51)})\n",
            "Driver ( id = 4, rating = 4.5, hour = 13:00, start = {'id': 837, 'coordinates': (12.6, 45.65)}, dest = {'id': 1990, 'coordinates': (11.94, 45.33)})\n",
            "Driver ( id = 5, rating = 3.5, hour = 7:30, start = {'id': 255, 'coordinates': (12.3, 45.2)}, dest = {'id': 1242, 'coordinates': (11.81, 45.44)})\n",
            "Driver ( id = 6, rating = 4.0, hour = 18:00, start = {'id': 1633, 'coordinates': (12.63, 45.65)}, dest = {'id': 1658, 'coordinates': (12.19, 45.24)})\n",
            "Driver ( id = 7, rating = 3.5, hour = 18:30, start = {'id': 4, 'coordinates': (12.68, 45.51)}, dest = {'id': 1990, 'coordinates': (11.94, 45.33)})\n",
            "Driver ( id = 8, rating = 3.5, hour = 12:00, start = {'id': 1364, 'coordinates': (11.89, 45.25)}, dest = {'id': 165, 'coordinates': (12.57, 45.48)})\n",
            "Driver ( id = 9, rating = 4.0, hour = 7:30, start = {'id': 257, 'coordinates': (12.2, 45.5)}, dest = {'id': 165, 'coordinates': (12.57, 45.48)})\n",
            "\n",
            "\n",
            "***********************************************************************\n",
            "\n",
            "\n",
            "Rider ( id = 0, rating = 4.0, hour = 13:00, start = {'id': 413, 'coordinates': (12.31, 45.54)}, dest = {'id': 1658, 'coordinates': (12.19, 45.24)})\n",
            "Rider ( id = 1, rating = 3.0, hour = 19:00, start = {'id': 1602, 'coordinates': (12.02, 45.2)}, dest = {'id': 165, 'coordinates': (12.57, 45.48)})\n",
            "Rider ( id = 2, rating = 3.5, hour = 19:00, start = {'id': 1065, 'coordinates': (12.54, 45.65)}, dest = {'id': 1060, 'coordinates': (12.44, 45.61)})\n",
            "Rider ( id = 3, rating = 3.5, hour = 7:30, start = {'id': 1926, 'coordinates': (11.91, 45.53)}, dest = {'id': 1242, 'coordinates': (11.81, 45.44)})\n",
            "Rider ( id = 4, rating = 4.0, hour = 8:30, start = {'id': 693, 'coordinates': (11.91, 45.45)}, dest = {'id': 1658, 'coordinates': (12.19, 45.24)})\n",
            "Rider ( id = 5, rating = 3.5, hour = 7:00, start = {'id': 833, 'coordinates': (11.93, 45.43)}, dest = {'id': 1242, 'coordinates': (11.81, 45.44)})\n",
            "Rider ( id = 6, rating = 3.0, hour = 12:30, start = {'id': 237, 'coordinates': (12.25, 45.47)}, dest = {'id': 1242, 'coordinates': (11.81, 45.44)})\n",
            "Rider ( id = 7, rating = 3.5, hour = 13:00, start = {'id': 648, 'coordinates': (11.95, 45.58)}, dest = {'id': 1242, 'coordinates': (11.81, 45.44)})\n",
            "Rider ( id = 8, rating = 4.0, hour = 19:00, start = {'id': 663, 'coordinates': (11.92, 45.5)}, dest = {'id': 1060, 'coordinates': (12.44, 45.61)})\n",
            "Rider ( id = 9, rating = 4.0, hour = 8:30, start = {'id': 2168, 'coordinates': (11.91, 45.59)}, dest = {'id': 1060, 'coordinates': (12.44, 45.61)})\n"
          ]
        }
      ],
      "source": [
        "drivers, riders = generate_data()\n",
        "\n",
        "for i in range(10) :\n",
        "  print(drivers[i])\n",
        "\n",
        "print(\"\\n\\n***********************************************************************\\n\\n\")\n",
        "\n",
        "for i in range(10) :\n",
        "  print(riders[i])\n"
      ]
    },
    {
      "cell_type": "code",
      "execution_count": 19,
      "id": "rQk3RUI9_9pF",
      "metadata": {
        "colab": {
          "base_uri": "https://localhost:8080/"
        },
        "id": "rQk3RUI9_9pF",
        "outputId": "c7a80701-ab89-4daa-d995-b8915fc0efb4"
      },
      "outputs": [
        {
          "output_type": "stream",
          "name": "stdout",
          "text": [
            "{'id_driver': 0, 'shortest_path': [{'node': 570, 'hour': '19:00'}, {'node': 569, 'hour': '19:01'}, {'node': 851, 'hour': '19:02'}, {'node': 486, 'hour': '19:10'}, {'node': 115, 'hour': '19:26'}, {'node': 69, 'hour': '19:30'}, {'node': 396, 'hour': '19:31'}, {'node': 397, 'hour': '19:42'}, {'node': 70, 'hour': '19:44'}, {'node': 1940, 'hour': '19:45'}, {'node': 788, 'hour': '19:46'}, {'node': 787, 'hour': '19:49'}, {'node': 888, 'hour': '19:54'}, {'node': 107, 'hour': '19:56'}, {'node': 108, 'hour': '19:57'}, {'node': 1488, 'hour': '19:59'}, {'node': 1491, 'hour': '20:00'}, {'node': 1676, 'hour': '20:01'}, {'node': 246, 'hour': '20:03'}, {'node': 247, 'hour': '20:05'}, {'node': 539, 'hour': '20:06'}, {'node': 1667, 'hour': '20:08'}, {'node': 67, 'hour': '20:09'}, {'node': 44, 'hour': '20:11'}, {'node': 20, 'hour': '20:12'}, {'node': 21, 'hour': '20:14'}, {'node': 60, 'hour': '20:16'}, {'node': 58, 'hour': '20:17'}, {'node': 59, 'hour': '20:19'}, {'node': 61, 'hour': '20:21'}, {'node': 98, 'hour': '20:22'}, {'node': 891, 'hour': '20:27'}, {'node': 1187, 'hour': '20:28'}, {'node': 162, 'hour': '20:30'}, {'node': 349, 'hour': '20:37'}, {'node': 173, 'hour': '20:40'}, {'node': 170, 'hour': '20:42'}, {'node': 171, 'hour': '20:44'}, {'node': 1060, 'hour': '20:45'}], 'arrival_time': '20:45'}\n",
            "[{'id_rider': 0, 'shortest_path': [413, 98, 61, 59, 58, 60, 21, 20, 44, 67, 280, 300, 536, 316, 647, 688, 131, 645, 705, 611, 1965, 605, 604, 606, 961, 307, 306, 308, 1975, 1974, 1663, 1662, 1658]}, {'id_rider': 1, 'shortest_path': [1602, 363, 364, 2084, 1690, 1688, 1687, 1979, 1980, 1844, 1843, 1025, 307, 961, 606, 604, 605, 1965, 1966, 1972, 702, 691, 613, 19, 102, 531, 532, 1719, 122, 121, 237, 27, 84, 1004, 234, 366, 365, 292, 530, 529, 1710, 1709, 1708, 479, 40, 41, 1702, 1621, 1546, 1018, 1019, 1279, 2029, 14, 13, 2133, 49, 51, 218, 1387, 294, 165]}, {'id_rider': 2, 'shortest_path': [1065, 1341, 416, 415, 1215, 1930, 174, 171, 1060]}, {'id_rider': 3, 'shortest_path': [1926, 203, 201, 202, 1126, 1199, 740, 739, 1729, 1728, 872, 263, 871, 620, 621, 1242]}, {'id_rider': 4, 'shortest_path': [693, 671, 713, 833, 446, 444, 445, 449, 149, 455, 454, 456, 457, 977, 138, 905, 1617, 1619, 1683, 1852, 1024, 596, 1022, 1975, 1974, 1663, 1662, 1658]}, {'id_rider': 5, 'shortest_path': [833, 713, 671, 546, 205, 305, 267, 867, 871, 620, 621, 1242]}, {'id_rider': 6, 'shortest_path': [237, 122, 331, 120, 536, 316, 100, 251, 226, 788, 70, 397, 1185, 910, 942, 940, 726, 727, 723, 724, 722, 712, 694, 671, 546, 205, 305, 267, 867, 871, 620, 621, 1242]}, {'id_rider': 7, 'shortest_path': [648, 1625, 1074, 327, 718, 720, 657, 1075, 201, 202, 1126, 1199, 740, 739, 1729, 1728, 872, 263, 871, 620, 621, 1242]}, {'id_rider': 8, 'shortest_path': [663, 696, 1117, 1118, 1119, 733, 1143, 1144, 1875, 1020, 1146, 884, 1404, 1405, 1693, 1692, 1400, 2178, 1067, 1066, 2097, 2146, 2096, 1079, 665, 664, 2093, 950, 674, 1767, 2186, 672, 547, 75, 73, 74, 58, 59, 61, 98, 891, 1187, 162, 349, 173, 170, 171, 1060]}, {'id_rider': 9, 'shortest_path': [2168, 2052, 2049, 2050, 1073, 747, 648, 1907, 1915, 649, 650, 1136, 1912, 1642, 1909, 1174, 1173, 1750, 1752, 104, 105, 281, 786, 785, 782, 1686, 1665, 353, 352, 355, 534, 568, 491, 347, 346, 520, 523, 510, 309, 314, 161, 163, 162, 349, 173, 170, 171, 1060]}, {'id_rider': 10, 'shortest_path': [1811, 1240, 1503, 659, 293, 209, 207, 200, 231, 189, 186, 228, 229, 445, 449, 149, 455, 454, 456, 457, 977, 138, 905, 1617, 1619, 1683, 1852, 1024, 596, 1022, 1975, 1974, 1663, 1662, 1658]}, {'id_rider': 11, 'shortest_path': [716, 1265, 1474, 1881, 790, 923, 1445, 338, 335, 337, 814, 341, 810, 1598, 1109, 1597, 1594, 1596, 1650, 250, 1476, 107, 108, 1488, 1491, 1676, 246, 247, 539, 1667, 67, 44, 20, 21, 22, 83, 80, 78, 81, 291, 2027, 1709, 1708, 1722]}, {'id_rider': 12, 'shortest_path': [1931, 617, 171, 170, 173, 349, 162, 1187, 891, 98, 61, 59, 58, 60, 21, 20, 44, 67, 280, 300, 536, 316, 647, 688, 131, 645, 705, 611, 1965, 605, 604, 606, 961, 307, 306, 308, 1975, 1974, 1663, 1662, 1658]}, {'id_rider': 13, 'shortest_path': [1678, 1677, 1397, 1430, 1394, 1393, 1395, 1390, 1315, 1353, 1298, 1316, 882, 1407, 1409, 2001, 1608, 1603, 1605, 1990]}, {'id_rider': 14, 'shortest_path': [2083, 394, 1995, 158, 152, 155, 156, 1839, 1612, 1832, 136, 138, 976, 971, 1026, 922, 1886, 751, 1964, 757, 760, 1898, 1986, 1542, 1541, 706, 645, 131, 688, 647, 316, 536, 300, 280, 67, 44, 20, 21, 60, 58, 59, 61, 98, 891, 1187, 162, 349, 173, 170, 171, 1060]}, {'id_rider': 15, 'shortest_path': [1462, 1463, 164, 162, 1187, 891, 98, 61, 59, 58, 60, 21, 20, 44, 86, 533, 1697, 329, 328, 1792, 2094]}, {'id_rider': 16, 'shortest_path': [1027, 1029, 606, 604, 605, 1965, 1966, 1972, 702, 691, 613, 19, 102, 531, 532, 1719, 122, 237, 27, 84, 1004, 234, 366, 365, 292, 530, 529, 1710, 1709, 1708, 479, 40, 41, 1702, 1621, 1546, 1018, 1019, 1279, 2029, 14, 13, 2133, 49, 51, 218, 1387, 294, 165]}, {'id_rider': 17, 'shortest_path': [50, 1249, 13, 14, 2029, 1279, 1019, 1018, 1546, 1621, 1702, 41, 40, 479, 1708, 1709, 2027, 291, 81, 78, 80, 83, 22, 21, 20, 44, 86, 533, 1697, 329, 328, 1792, 2094]}, {'id_rider': 18, 'shortest_path': [323, 318, 320, 321, 1127, 332, 1128, 1131, 1170, 1168, 1172, 2074, 1873, 1874, 1872, 1071, 1072, 214, 213, 2145, 2147, 2143, 409, 955, 954, 675, 673, 406, 405, 410, 414, 290, 91, 66, 38, 65, 411, 412, 103, 544, 891, 1187, 162, 349, 173, 170, 171, 1060]}, {'id_rider': 19, 'shortest_path': [187, 228, 362, 279, 807, 832, 825, 826, 1990]}, {'id_rider': 20, 'shortest_path': [1150, 819, 299, 298, 1751, 1739, 1738, 105, 281, 786, 785, 782, 1686, 1665, 353, 352, 355, 568, 491, 347, 346, 520, 523, 510, 309, 314, 161, 163, 162, 778, 96, 1698, 1700, 1699, 1544, 42, 41, 1702, 1621, 1546, 1018, 1019, 1279, 2029, 14, 13, 2133, 49, 51, 218, 1387, 294, 165]}, {'id_rider': 21, 'shortest_path': [983, 1412, 1411, 1425, 512, 500, 854, 194, 259, 224, 222, 659, 1239, 1238, 1242]}, {'id_rider': 22, 'shortest_path': [1973, 1660, 1658, 1662, 1663, 1974, 1975, 308, 306, 307, 961, 606, 604, 605, 1965, 611, 705, 645, 131, 688, 647, 316, 536, 300, 280, 67, 44, 20, 21, 60, 58, 59, 61, 98, 891, 1187, 162, 349, 173, 170, 171, 1060]}, {'id_rider': 23, 'shortest_path': [1179, 1178, 1177, 1476, 1475, 707, 1105, 1671, 645, 705, 611, 1965, 605, 604, 606, 961, 307, 306, 308, 1975, 1974, 1663, 1662, 1658]}, {'id_rider': 24, 'shortest_path': [1471, 1470, 1937, 2125, 777, 778, 162, 1187, 891, 98, 61, 59, 58, 60, 21, 20, 44, 67, 280, 300, 536, 316, 647, 688, 131, 645, 706, 1541, 1542, 1986, 1898, 760, 757, 754, 744, 743, 685, 684, 683, 761, 682, 454, 803, 894, 562, 563, 1990]}, {'id_rider': 25, 'shortest_path': [542, 870, 981, 9, 1017, 1018, 1546, 1621, 1702, 41, 40, 479, 1708, 1709, 1710, 529, 530, 292, 365, 366, 234, 1004, 84, 27, 237, 121, 122, 1719, 532, 531, 102, 19, 613, 691, 702, 1972, 1966, 1965, 605, 604, 606, 961, 307, 306, 308, 1975, 1974, 1663, 1662, 1658]}, {'id_rider': 26, 'shortest_path': [1270, 431, 1273, 1274, 1275, 11, 13, 14, 2029, 1279, 1019, 1018, 1546, 1621, 1702, 41, 40, 479, 1708, 1709, 2027, 291, 81, 78, 80, 83, 22, 21, 20, 44, 86, 533, 1697, 329, 328, 1792, 2094]}, {'id_rider': 27, 'shortest_path': [1697, 2172, 1588, 248, 274, 272, 275, 108, 107, 888, 787, 788, 70, 397, 1185, 910, 942, 940, 726, 727, 723, 724, 722, 712, 694, 671, 546, 205, 305, 344, 267, 867, 871, 620, 621, 1242]}, {'id_rider': 28, 'shortest_path': [330, 71, 509, 64, 412, 98, 97, 78, 81, 291, 2027, 1709, 1708, 1722]}, {'id_rider': 29, 'shortest_path': [787, 226, 135, 133, 1897, 1542, 1986, 1041, 609, 608, 607, 604, 606, 961, 307, 306, 308, 1975, 1974, 1663, 1662, 1658]}, {'id_rider': 30, 'shortest_path': [1369, 1760, 1770, 2031, 2085, 1610, 2190, 1848, 1497, 137, 136, 138, 976, 971, 1026, 922, 1886, 751, 1964, 757, 760, 1898, 1986, 1542, 1541, 706, 645, 131, 688, 647, 316, 536, 120, 331, 122, 121, 237, 27, 84, 1004, 234, 366, 365, 292, 530, 529, 1710, 1709, 1708, 479, 40, 41, 1702, 1621, 1546, 1018, 1019, 1279, 2029, 14, 13, 2133, 49, 51, 218, 1387, 294, 165]}, {'id_rider': 31, 'shortest_path': [980, 1011, 1008, 1015, 9, 769, 1019, 1279, 2029, 14, 13, 2133, 49, 51, 218, 1387, 294, 165]}, {'id_rider': 32, 'shortest_path': [1835, 1834, 1832, 136, 138, 976, 971, 1026, 922, 1886, 751, 1964, 757, 760, 1048, 134, 133, 135, 226, 787, 888, 107, 108, 110, 111, 1944, 1266, 2094]}, {'id_rider': 33, 'shortest_path': [1697, 533, 86, 44, 20, 21, 22, 83, 80, 78, 81, 291, 2027, 1709, 1708, 1722]}, {'id_rider': 34, 'shortest_path': [1647, 1646, 1212, 1480, 957, 1001, 873, 1000, 914, 913, 912, 1584, 1077, 1726, 1241, 1828, 1242]}, {'id_rider': 35, 'shortest_path': [1713, 325, 324, 326, 851, 945, 944, 916, 999, 909, 873, 1000, 914, 913, 912, 1584, 1077, 1726, 1241, 1828, 1242]}, {'id_rider': 36, 'shortest_path': [191, 185, 260, 806, 362, 278, 445, 444, 68, 70, 788, 787, 888, 107, 108, 1488, 1491, 1676, 246, 247, 539, 1667, 67, 44, 20, 21, 22, 83, 80, 78, 81, 291, 2027, 1709, 1708, 479, 40, 41, 1702, 1621, 1546, 1018, 1019, 1279, 2029, 14, 13, 2133, 49, 51, 218, 1387, 294, 165]}, {'id_rider': 37, 'shortest_path': [1824, 1823, 596, 308, 306, 307, 961, 606, 604, 605, 1965, 1966, 1972, 702, 691, 613, 19, 102, 531, 532, 1719, 122, 121, 237, 27, 84, 1004, 234, 366, 365, 292, 530, 529, 1710, 1709, 1708, 1722]}, {'id_rider': 38, 'shortest_path': [1061, 519, 494, 496, 500, 501, 1743, 1742, 1727, 807, 829, 830, 804, 894, 901, 680, 900, 457, 977, 138, 905, 1617, 1619, 1683, 1852, 1024, 596, 1022, 1975, 1974, 1663, 1662, 1658]}, {'id_rider': 39, 'shortest_path': [645, 131, 688, 647, 316, 1675, 1676, 274, 273, 1792, 2094]}, {'id_rider': 40, 'shortest_path': [2160, 135, 226, 787, 888, 107, 108, 110, 111, 1944, 1266, 2094]}, {'id_rider': 41, 'shortest_path': [0, 1, 47, 176, 165, 294, 1387, 218, 51, 49, 2133, 13, 14, 2029, 1279, 1019, 1018, 1546, 1621, 1702, 41, 40, 479, 1708, 1722]}, {'id_rider': 42, 'shortest_path': [2025, 81, 78, 97, 98, 891, 1187, 162, 349, 173, 170, 171, 1060]}, {'id_rider': 43, 'shortest_path': [1278, 11, 13, 14, 2029, 1279, 1019, 1018, 1546, 1621, 1702, 41, 40, 479, 1708, 1709, 2027, 291, 81, 78, 80, 83, 22, 21, 20, 44, 67, 1667, 539, 247, 246, 1676, 1491, 1488, 108, 107, 888, 787, 788, 70, 397, 1185, 910, 942, 940, 726, 727, 723, 724, 722, 712, 694, 671, 546, 205, 305, 267, 867, 871, 620, 621, 1242]}, {'id_rider': 44, 'shortest_path': [1912, 1642, 1909, 1174, 1173, 1750, 1752, 104, 105, 281, 786, 784, 781, 783, 844, 351, 350, 505, 504, 407, 400, 79, 290, 91, 66, 62, 63, 97, 78, 81, 291, 2027, 1709, 1708, 1722]}, {'id_rider': 45, 'shortest_path': [1700, 1699, 1544, 42, 41, 1702, 1621, 1546, 1018, 1019, 1279, 2029, 14, 13, 2133, 49, 51, 218, 1387, 294, 165]}, {'id_rider': 46, 'shortest_path': [341, 814, 337, 335, 338, 1445, 923, 790, 1881, 1474, 1265, 716, 693, 546, 205, 305, 267, 867, 871, 620, 621, 1242]}, {'id_rider': 47, 'shortest_path': [534, 568, 491, 347, 346, 221, 91, 66, 62, 63, 97, 78, 81, 291, 2027, 1709, 1708, 1722]}, {'id_rider': 48, 'shortest_path': [1645, 1043, 914, 875, 269, 485, 484, 487, 483, 482, 543, 1411, 1410, 1809, 1592, 1609, 1603, 1604, 1634, 1771, 2067, 2088, 1091, 1611, 1848, 1836, 1833, 1832, 1616, 1851, 1615, 1685, 1684, 1024, 596, 1022, 1975, 1974, 1663, 1662, 1658]}, {'id_rider': 49, 'shortest_path': [1710, 1709, 1708, 479, 40, 1544, 1473, 1464, 1462, 1461, 1460, 1060]}, {'id_rider': 50, 'shortest_path': [58, 60, 21, 20, 44, 67, 280, 300, 536, 316, 647, 688, 131, 645, 705, 611, 1965, 605, 604, 606, 961, 307, 306, 308, 1975, 1974, 1663, 1662, 1658]}, {'id_rider': 51, 'shortest_path': [9, 1017, 1018, 1546, 1621, 1702, 41, 40, 479, 1708, 1709, 2027, 291, 81, 78, 80, 83, 22, 21, 20, 44, 67, 1667, 539, 247, 246, 1676, 1491, 1488, 108, 107, 888, 787, 788, 1940, 70, 397, 1185, 910, 942, 940, 726, 727, 723, 724, 722, 712, 694, 671, 546, 205, 305, 267, 867, 871, 620, 621, 1242]}, {'id_rider': 52, 'shortest_path': [2164, 1758, 1517, 1518, 1643, 1642, 1912, 2003, 793, 559, 1170, 1169, 1141, 1020, 1454, 813, 337, 340, 1547, 942, 940, 941, 795, 918, 443, 442, 433, 455, 893, 894, 562, 563, 1990]}, {'id_rider': 53, 'shortest_path': [400, 79, 290, 91, 66, 38, 65, 411, 412, 103, 544, 891, 1187, 1310, 1002, 1701, 1545, 1544, 42, 41, 1702, 1621, 1546, 1018, 1019, 1279, 2029, 14, 13, 2133, 49, 51, 218, 1387, 294, 165]}, {'id_rider': 54, 'shortest_path': [487, 483, 482, 543, 1411, 1410, 1809, 1607, 1990]}, {'id_rider': 55, 'shortest_path': [813, 337, 335, 338, 1445, 923, 790, 1881, 1474, 1265, 716, 693, 546, 205, 305, 267, 867, 871, 620, 621, 1242]}, {'id_rider': 56, 'shortest_path': [1238, 1239, 660, 268, 265, 243, 244, 204, 198, 578, 446, 68, 70, 788, 787, 888, 107, 108, 1488, 1491, 1676, 246, 247, 539, 1667, 67, 44, 20, 21, 60, 58, 59, 61, 98, 891, 1187, 162, 349, 173, 170, 171, 1060]}, {'id_rider': 57, 'shortest_path': [746, 748, 1640, 1639, 1635, 1637, 1912, 1642, 1909, 1174, 1173, 1750, 1752, 104, 105, 281, 786, 784, 781, 783, 844, 351, 350, 505, 504, 407, 400, 79, 290, 91, 66, 62, 63, 97, 78, 81, 291, 2027, 1709, 1708, 1722]}, {'id_rider': 58, 'shortest_path': [1948, 1949, 386, 842, 840, 598, 597, 596, 1024, 1852, 1683, 1619, 1617, 905, 138, 977, 457, 456, 454, 455, 149, 449, 445, 229, 228, 186, 189, 231, 200, 207, 209, 293, 659, 1239, 1238, 1242]}, {'id_rider': 59, 'shortest_path': [1624, 1623, 1599, 1056, 1057, 1651, 42, 41, 40, 479, 1708, 1709, 1710, 529, 530, 292, 365, 366, 234, 1004, 84, 27, 237, 121, 122, 1719, 532, 531, 102, 19, 613, 691, 702, 1972, 1966, 1965, 605, 604, 606, 961, 307, 306, 308, 1975, 1974, 1663, 1662, 1658]}, {'id_rider': 60, 'shortest_path': [333, 787, 888, 107, 108, 1488, 1491, 1676, 246, 247, 539, 1667, 67, 44, 20, 21, 22, 83, 80, 78, 81, 291, 2027, 1709, 1708, 1722]}, {'id_rider': 61, 'shortest_path': [1125, 1123, 201, 658, 656, 1156, 1120, 822, 821, 820, 1149, 1142, 1141, 1145, 885, 1403, 1406, 1693, 1692, 1400, 2178, 1067, 1066, 2097, 2146, 2096, 1079, 1266, 2094]}, {'id_rider': 62, 'shortest_path': [474, 585, 1807, 1695, 1808, 1800, 1799, 1244, 1243, 580, 1728, 872, 263, 871, 620, 621, 1242]}, {'id_rider': 63, 'shortest_path': [1050, 1049, 133, 1897, 1542, 1541, 706, 645, 131, 688, 647, 316, 536, 120, 331, 122, 237, 27, 84, 1004, 234, 366, 365, 292, 530, 529, 1710, 1709, 1708, 479, 40, 41, 1702, 1621, 1546, 1018, 1019, 1279, 2029, 14, 13, 2133, 49, 51, 218, 1387, 294, 165]}, {'id_rider': 64, 'shortest_path': [2133, 13, 14, 2029, 1279, 1019, 1018, 1546, 1621, 1702, 41, 40, 479, 1708, 1709, 2027, 291, 81, 78, 80, 83, 22, 21, 20, 44, 67, 1667, 539, 247, 246, 1676, 1491, 1488, 108, 107, 888, 787, 788, 70, 397, 1185, 910, 942, 940, 726, 727, 723, 724, 722, 712, 694, 671, 546, 205, 305, 267, 867, 871, 620, 621, 1242]}, {'id_rider': 65, 'shortest_path': [1421, 629, 628, 1395, 1390, 1301, 1302, 1292, 990, 988, 483, 115, 69, 396, 397, 70, 1940, 788, 787, 888, 107, 108, 1488, 1491, 1676, 246, 247, 539, 1667, 67, 44, 20, 21, 22, 83, 80, 78, 81, 291, 2027, 1709, 1708, 1722]}, {'id_rider': 66, 'shortest_path': [632, 631, 1339, 1338, 1296, 1316, 882, 1383, 1382, 1384, 1768, 1592, 1809, 1607, 826, 1564, 562, 894, 803, 454, 682, 761, 683, 684, 685, 743, 744, 754, 757, 760, 1898, 1986, 1542, 1541, 706, 645, 131, 688, 647, 316, 536, 300, 280, 67, 44, 20, 21, 60, 58, 59, 61, 98, 891, 1187, 162, 349, 173, 170, 171, 1060]}, {'id_rider': 67, 'shortest_path': [76, 77, 78, 81, 291, 2027, 1709, 1708, 1722]}, {'id_rider': 68, 'shortest_path': [1063, 10, 7, 8, 619, 1059, 171, 170, 173, 349, 162, 1187, 891, 98, 61, 59, 58, 60, 21, 20, 44, 67, 280, 300, 536, 316, 647, 688, 131, 645, 706, 1541, 1542, 1986, 1898, 760, 757, 754, 744, 743, 685, 684, 683, 761, 682, 454, 803, 894, 562, 563, 1990]}, {'id_rider': 69, 'shortest_path': [1289, 218, 51, 49, 2133, 13, 14, 2029, 1279, 1019, 1018, 1546, 1016, 1014, 1009, 1442, 1441, 1443, 1058, 1060]}, {'id_rider': 70, 'shortest_path': [172, 170, 173, 349, 162, 1187, 891, 98, 61, 59, 58, 60, 21, 20, 44, 67, 1667, 539, 247, 246, 1676, 1491, 1488, 108, 107, 888, 787, 788, 1940, 70, 397, 1185, 910, 942, 940, 726, 727, 723, 724, 722, 712, 694, 671, 546, 205, 305, 267, 867, 871, 620, 621, 1242]}, {'id_rider': 71, 'shortest_path': [2025, 81, 78, 80, 83, 22, 21, 20, 44, 67, 280, 300, 536, 316, 647, 688, 131, 645, 705, 611, 1965, 605, 604, 606, 961, 307, 306, 308, 1975, 1974, 1663, 1662, 1658]}, {'id_rider': 72, 'shortest_path': [1878, 1879, 106, 450, 214, 1069, 1066, 302, 1657, 1177, 1476, 1475, 707, 1105, 1671, 645, 705, 611, 1965, 605, 604, 606, 961, 307, 306, 308, 1975, 1974, 1663, 1662, 1658]}, {'id_rider': 73, 'shortest_path': [1783, 715, 327, 2055, 824, 765, 1919, 823, 1133, 745, 793, 794, 1160, 1162, 1165, 452, 451, 1753, 1878, 1879, 106, 216, 516, 784, 781, 783, 514, 508, 310, 314, 161, 163, 162, 349, 173, 170, 171, 1060]}, {'id_rider': 74, 'shortest_path': [2203, 619, 8, 7, 10, 9, 769, 1019, 1279, 2029, 14, 13, 2133, 49, 51, 218, 1387, 294, 165]}, {'id_rider': 75, 'shortest_path': [851, 486, 115, 69, 396, 397, 70, 1940, 788, 787, 888, 107, 108, 110, 111, 1944, 1266, 2094]}, {'id_rider': 76, 'shortest_path': [1192, 858, 354, 355, 568, 491, 347, 346, 221, 91, 66, 62, 63, 97, 78, 81, 291, 2027, 1709, 1708, 1722]}, {'id_rider': 77, 'shortest_path': [567, 66, 38, 65, 411, 412, 103, 544, 891, 1187, 1310, 1002, 1701, 1545, 1544, 42, 41, 1702, 1621, 1546, 1018, 1019, 1279, 2029, 14, 13, 2133, 49, 51, 218, 1387, 294, 165]}, {'id_rider': 78, 'shortest_path': [1111, 815, 813, 812, 811, 1453, 1457, 1595, 1401, 2008, 2007, 1402, 1177, 646, 109, 110, 275, 272, 274, 248, 247, 539, 1667, 67, 44, 20, 21, 60, 58, 59, 61, 98, 891, 1187, 162, 349, 173, 170, 171, 1060]}, {'id_rider': 79, 'shortest_path': [1382, 1380, 983, 1412, 1411, 1425, 512, 500, 854, 194, 259, 224, 222, 659, 1239, 1238, 1242]}, {'id_rider': 80, 'shortest_path': [1504, 251, 123, 610, 611, 1965, 605, 604, 606, 961, 307, 306, 308, 1975, 1974, 1663, 1662, 1658]}, {'id_rider': 81, 'shortest_path': [383, 384, 389, 1779, 387, 386, 842, 840, 1023, 1021, 1022, 308, 306, 307, 961, 606, 604, 605, 1965, 611, 705, 645, 131, 688, 647, 316, 536, 300, 280, 67, 44, 20, 21, 60, 58, 59, 61, 98, 891, 1187, 162, 349, 173, 170, 171, 1060]}, {'id_rider': 82, 'shortest_path': [146, 1282, 379, 140, 169, 378, 377, 148, 2, 0, 1, 47, 176, 165, 294, 1387, 218, 51, 49, 2133, 13, 14, 2029, 1279, 1019, 1018, 1546, 1621, 1702, 41, 40, 479, 1708, 1722]}, {'id_rider': 83, 'shortest_path': [1104, 1100, 1102, 1311, 1310, 1002, 1701, 1545, 1544, 42, 41, 1702, 1621, 1546, 1018, 1019, 1279, 2029, 14, 13, 2133, 49, 51, 218, 1387, 294, 165]}, {'id_rider': 84, 'shortest_path': [612, 610, 1540, 1542, 1986, 1898, 760, 757, 754, 744, 743, 685, 684, 683, 761, 682, 454, 803, 894, 562, 563, 1990]}, {'id_rider': 85, 'shortest_path': [1185, 397, 70, 788, 787, 888, 107, 108, 1488, 1491, 1676, 246, 247, 539, 1667, 67, 44, 20, 21, 60, 58, 59, 61, 98, 891, 1187, 162, 349, 173, 170, 171, 1060]}, {'id_rider': 86, 'shortest_path': [1617, 905, 138, 977, 1080, 967, 1094, 679, 678, 564, 563, 1990]}, {'id_rider': 87, 'shortest_path': [531, 532, 1719, 122, 121, 227, 36, 88, 22, 60, 58, 59, 61, 98, 891, 1187, 162, 349, 173, 170, 171, 1060]}, {'id_rider': 88, 'shortest_path': [470, 468, 1807, 1195, 1196, 1781, 1780, 1784, 719, 718, 1155, 824, 765, 763, 1130, 1129, 1132, 1170, 1168, 1172, 2074, 1873, 1874, 1872, 1071, 1069, 1070, 2097, 2146, 2096, 1079, 1266, 2094]}, {'id_rider': 89, 'shortest_path': [981, 9, 1017, 1018, 1546, 1621, 1702, 41, 40, 479, 1708, 1722]}, {'id_rider': 90, 'shortest_path': [1261, 1256, 5, 6, 1254, 1253, 12, 11, 13, 2133, 49, 51, 218, 1387, 294, 165]}, {'id_rider': 91, 'shortest_path': [2142, 1173, 2128, 451, 453, 797, 214, 1069, 1066, 302, 1657, 1177, 1476, 1475, 707, 1105, 1671, 645, 705, 611, 1965, 605, 604, 606, 961, 307, 306, 308, 1975, 1974, 1663, 1662, 1658]}, {'id_rider': 92, 'shortest_path': [290, 91, 66, 38, 65, 411, 412, 103, 544, 891, 1187, 162, 349, 173, 170, 171, 1060]}, {'id_rider': 93, 'shortest_path': [1651, 42, 1544, 1545, 1701, 1002, 1310, 1187, 891, 98, 61, 59, 58, 60, 21, 20, 44, 67, 1667, 539, 247, 246, 1676, 1491, 1488, 108, 107, 888, 787, 788, 1940, 70, 397, 1185, 910, 942, 940, 726, 727, 723, 724, 722, 712, 694, 671, 546, 205, 305, 267, 867, 871, 620, 621, 1242]}, {'id_rider': 94, 'shortest_path': [1345, 1370, 1760, 1770, 2031, 2085, 1610, 2190, 1848, 1497, 137, 136, 138, 976, 971, 1026, 922, 1886, 751, 1964, 757, 760, 1898, 1986, 1542, 1541, 706, 645, 131, 688, 647, 316, 536, 300, 280, 67, 44, 20, 21, 60, 58, 59, 61, 98, 891, 1187, 162, 349, 173, 170, 171, 1060]}, {'id_rider': 95, 'shortest_path': [1698, 1701, 1545, 479, 1708, 1722]}, {'id_rider': 96, 'shortest_path': [407, 504, 505, 828, 675, 950, 952, 1792, 1490, 272, 275, 108, 107, 888, 787, 788, 1705, 565, 1050, 1052, 1528, 1524, 936, 1031, 683, 761, 682, 454, 803, 894, 562, 563, 1990]}, {'id_rider': 97, 'shortest_path': [1970, 1965, 611, 705, 645, 131, 688, 647, 316, 1675, 1676, 274, 273, 1792, 2094]}, {'id_rider': 98, 'shortest_path': [1380, 983, 1412, 1411, 1425, 512, 500, 854, 194, 259, 224, 222, 659, 1239, 1238, 1242]}, {'id_rider': 99, 'shortest_path': [1407, 1409, 2001, 1608, 1603, 1605, 1990, 563, 562, 894, 803, 454, 682, 761, 683, 684, 685, 743, 744, 754, 757, 760, 1898, 1986, 1542, 1541, 706, 645, 131, 688, 647, 316, 536, 120, 331, 122, 121, 237, 27, 84, 1004, 234, 366, 365, 292, 530, 529, 1710, 1709, 1708, 1722]}, {'id_rider': 100, 'shortest_path': [1962, 1899, 1039, 1900, 604, 605, 1965, 1966, 1972, 702, 691, 613, 19, 102, 531, 532, 1719, 122, 237, 27, 84, 1004, 234, 366, 365, 292, 530, 529, 1710, 1709, 1708, 1722]}, {'id_rider': 101, 'shortest_path': [2038, 1244, 2058, 1201, 1200, 1126, 202, 640, 663, 696, 1117, 1118, 1119, 733, 1143, 1144, 1875, 1020, 1146, 884, 1404, 1405, 1693, 1692, 1400, 2178, 1067, 1066, 2097, 2146, 2096, 1079, 1266, 2094]}, {'id_rider': 102, 'shortest_path': [154, 153, 156, 1839, 1612, 1832, 136, 138, 976, 971, 1026, 922, 1886, 751, 1964, 757, 760, 1898, 1986, 1542, 1541, 706, 645, 131, 688, 647, 316, 536, 300, 280, 67, 44, 20, 21, 60, 58, 59, 61, 98, 891, 1187, 162, 349, 173, 170, 171, 1060]}, {'id_rider': 103, 'shortest_path': [1372, 2028, 1902, 1904, 395, 393, 363, 364, 2084, 2158, 2140, 2079, 1815, 1689, 1823, 596, 1022, 1975, 1974, 1663, 1662, 1658]}, {'id_rider': 104, 'shortest_path': [637, 662, 669, 1114, 1108, 731, 1112, 1111, 815, 813, 812, 811, 1453, 1457, 1595, 1401, 2007, 1402, 1177, 646, 109, 110, 275, 272, 274, 248, 247, 539, 1667, 67, 44, 20, 21, 22, 83, 80, 78, 81, 291, 2027, 1709, 1708, 479, 40, 41, 1702, 1621, 1546, 1018, 1019, 1279, 2029, 14, 13, 2133, 49, 51, 218, 1387, 294, 165]}, {'id_rider': 105, 'shortest_path': [1538, 135, 2073, 565, 1050, 1052, 1528, 1524, 876, 439, 441, 795, 511, 396, 68, 446, 578, 267, 867, 871, 620, 621, 1242]}, {'id_rider': 106, 'shortest_path': [356, 1671, 131, 688, 647, 316, 536, 120, 331, 122, 121, 237, 27, 84, 1004, 234, 366, 365, 292, 530, 529, 1710, 1709, 1708, 1722]}, {'id_rider': 107, 'shortest_path': [346, 520, 523, 510, 309, 314, 161, 163, 162, 778, 96, 1698, 1700, 1699, 1544, 42, 41, 1702, 1621, 1546, 1018, 1019, 1279, 2029, 14, 13, 2133, 49, 51, 218, 1387, 294, 165]}, {'id_rider': 108, 'shortest_path': [905, 138, 976, 971, 1026, 922, 1886, 751, 1964, 757, 760, 1898, 1986, 1542, 1541, 706, 645, 131, 688, 647, 316, 536, 120, 331, 122, 121, 237, 27, 84, 1004, 234, 366, 365, 292, 530, 529, 1710, 1709, 1708, 1722]}, {'id_rider': 109, 'shortest_path': [1576, 1574, 1575, 1579, 1580, 1236, 948, 947, 770, 1558, 1245, 769, 1019, 1018, 1546, 1621, 1702, 41, 40, 479, 1708, 1722]}, {'id_rider': 110, 'shortest_path': [401, 407, 504, 505, 828, 675, 950, 952, 1792, 2094]}, {'id_rider': 111, 'shortest_path': [2125, 1937, 2136, 349, 173, 170, 171, 1060]}, {'id_rider': 112, 'shortest_path': [1837, 1835, 1834, 1832, 136, 138, 976, 971, 1026, 922, 1886, 751, 1964, 757, 760, 1048, 134, 133, 135, 226, 787, 888, 107, 108, 110, 111, 1944, 1266, 2094]}, {'id_rider': 113, 'shortest_path': [342, 1154, 1110, 1109, 1597, 1594, 1596, 1650, 250, 1476, 107, 108, 1488, 1491, 1676, 246, 247, 539, 1667, 67, 44, 20, 21, 60, 58, 59, 61, 98, 891, 1187, 162, 349, 173, 170, 171, 1060]}, {'id_rider': 114, 'shortest_path': [901, 894, 803, 454, 682, 761, 683, 684, 685, 743, 744, 754, 757, 760, 1898, 1986, 1542, 1541, 706, 645, 131, 688, 647, 316, 536, 300, 280, 67, 44, 20, 21, 60, 58, 59, 61, 98, 891, 1187, 162, 349, 173, 170, 171, 1060]}, {'id_rider': 115, 'shortest_path': [682, 761, 683, 1031, 936, 1524, 1528, 1052, 1050, 565, 1705, 788, 787, 888, 107, 108, 110, 111, 1944, 1266, 2094]}, {'id_rider': 116, 'shortest_path': [786, 785, 782, 1686, 1665, 353, 352, 355, 568, 491, 347, 346, 520, 523, 510, 309, 314, 161, 162, 349, 173, 170, 171, 1060]}, {'id_rider': 117, 'shortest_path': [471, 469, 585, 1806, 2059, 1789, 1782, 1783, 715, 327, 2055, 824, 765, 1919, 823, 1133, 745, 793, 794, 1160, 1162, 1165, 452, 451, 453, 797, 214, 213, 2145, 2147, 2143, 409, 955, 954, 675, 674, 1767, 2186, 672, 547, 75, 73, 74, 58, 59, 63, 97, 78, 81, 291, 2027, 1709, 1708, 1722]}, {'id_rider': 118, 'shortest_path': [113, 980, 1013, 1715, 949, 862, 10, 7, 8, 619, 1059, 171, 170, 173, 349, 162, 1187, 891, 98, 61, 59, 58, 60, 21, 20, 44, 67, 280, 300, 536, 316, 647, 688, 131, 645, 706, 1541, 1542, 1986, 1898, 760, 757, 754, 744, 743, 685, 684, 683, 761, 682, 454, 803, 894, 562, 563, 1990]}, {'id_rider': 119, 'shortest_path': [1849, 1089, 1084, 1090, 677, 563, 562, 902, 831, 829, 807, 279, 818, 816, 185, 184, 190, 193, 209, 293, 659, 1239, 1238, 1242]}, {'id_rider': 120, 'shortest_path': [826, 1564, 562, 894, 803, 454, 682, 761, 683, 684, 685, 743, 744, 754, 757, 760, 1898, 1986, 1542, 1541, 706, 645, 131, 688, 647, 316, 536, 120, 331, 122, 121, 237, 27, 84, 1004, 234, 366, 365, 292, 530, 529, 1710, 1709, 1708, 1722]}, {'id_rider': 121, 'shortest_path': [2036, 471, 469, 585, 1806, 2059, 1789, 1782, 1783, 715, 327, 2055, 824, 765, 763, 1130, 1129, 1132, 1170, 1168, 1172, 2074, 1873, 1874, 1872, 1071, 1069, 1070, 2097, 2146, 2096, 1079, 1266, 2094]}, {'id_rider': 122, 'shortest_path': [1050, 1049, 133, 1897, 1542, 1541, 706, 645, 131, 688, 647, 316, 536, 120, 331, 122, 237, 27, 84, 1004, 234, 366, 365, 292, 530, 529, 1710, 1709, 1708, 479, 40, 41, 1702, 1621, 1546, 1018, 1019, 1279, 2029, 14, 13, 2133, 49, 51, 218, 1387, 294, 165]}, {'id_rider': 123, 'shortest_path': [172, 170, 173, 349, 162, 1187, 891, 98, 61, 59, 58, 60, 21, 20, 44, 67, 1667, 539, 247, 246, 1676, 1491, 1488, 108, 107, 888, 787, 788, 1940, 70, 397, 1185, 910, 942, 940, 726, 727, 723, 724, 722, 712, 694, 671, 546, 205, 305, 267, 867, 871, 620, 621, 1242]}, {'id_rider': 124, 'shortest_path': [884, 1456, 811, 341, 339, 1153, 910, 943, 1525, 876, 936, 1031, 683, 761, 682, 454, 803, 894, 562, 563, 1990]}, {'id_rider': 125, 'shortest_path': [599, 600, 491, 347, 346, 221, 91, 66, 62, 63, 97, 78, 81, 291, 2027, 1709, 1708, 1722]}, {'id_rider': 126, 'shortest_path': [810, 1598, 1109, 1597, 1594, 1596, 1650, 250, 1476, 109, 110, 111, 1944, 1266, 2094]}, {'id_rider': 127, 'shortest_path': [1548, 1547, 1158, 1153, 1151, 1152, 276, 334, 333, 787, 888, 107, 108, 1488, 1491, 1676, 246, 247, 539, 1667, 67, 44, 20, 21, 60, 58, 59, 61, 98, 891, 1187, 162, 349, 173, 170, 171, 1060]}, {'id_rider': 128, 'shortest_path': [2238, 425, 426, 164, 162, 1187, 891, 98, 61, 59, 58, 60, 21, 20, 44, 67, 1667, 539, 247, 246, 1676, 1491, 1488, 108, 107, 888, 787, 788, 1940, 70, 397, 1185, 910, 942, 940, 726, 727, 723, 724, 722, 712, 694, 671, 546, 205, 305, 267, 867, 871, 620, 621, 1242]}, {'id_rider': 129, 'shortest_path': [619, 1058, 1460, 1461, 1462, 1464, 1473, 1544, 40, 479, 1708, 1722]}, {'id_rider': 130, 'shortest_path': [1998, 1608, 1603, 1605, 1990, 563, 562, 894, 803, 454, 682, 761, 683, 684, 685, 743, 744, 754, 757, 760, 1898, 1986, 1542, 1541, 706, 645, 131, 688, 647, 316, 536, 120, 331, 122, 121, 237, 27, 84, 1004, 234, 366, 365, 292, 530, 529, 1710, 1709, 1708, 479, 40, 41, 1702, 1621, 1546, 1018, 1019, 1279, 2029, 14, 13, 2133, 49, 51, 218, 1387, 294, 165]}, {'id_rider': 131, 'shortest_path': [1733, 1581, 1579, 1580, 1236, 948, 947, 770, 1558, 1245, 769, 1019, 1018, 1546, 1621, 1702, 41, 40, 479, 1708, 1709, 1710, 529, 530, 292, 365, 366, 234, 1004, 84, 27, 237, 121, 122, 331, 120, 536, 316, 647, 688, 131, 645, 706, 1541, 1542, 1986, 1898, 760, 757, 754, 744, 743, 685, 684, 683, 761, 682, 454, 803, 894, 562, 563, 1990]}, {'id_rider': 132, 'shortest_path': [2029, 1279, 1019, 1018, 1546, 1621, 1702, 41, 40, 479, 1708, 1709, 1710, 529, 530, 292, 365, 366, 234, 1004, 84, 27, 237, 121, 122, 1719, 532, 531, 102, 19, 613, 691, 702, 1972, 1966, 1965, 605, 604, 606, 961, 307, 306, 308, 1975, 1974, 1663, 1662, 1658]}, {'id_rider': 133, 'shortest_path': [1320, 992, 991, 482, 490, 1191, 519, 614, 253, 297, 240, 296, 1240, 1238, 1242]}, {'id_rider': 134, 'shortest_path': [2041, 1602, 363, 394, 1995, 158, 152, 155, 156, 1839, 1612, 1832, 136, 138, 976, 971, 1026, 922, 1886, 751, 1964, 757, 760, 1048, 134, 133, 135, 226, 787, 888, 107, 108, 110, 111, 1944, 1266, 2094]}, {'id_rider': 135, 'shortest_path': [896, 898, 906, 962, 919, 920, 1047, 753, 752, 754, 757, 760, 1898, 1986, 1542, 1541, 706, 645, 131, 688, 647, 316, 536, 120, 331, 122, 121, 237, 27, 84, 1004, 234, 366, 365, 292, 530, 529, 1710, 1709, 1708, 1722]}, {'id_rider': 136, 'shortest_path': [1393, 1395, 1390, 1315, 1298, 1316, 1318, 1354, 1355, 1356, 879, 877, 1759, 1770, 159, 154, 152, 155, 157, 1687, 1979, 1824, 1823, 596, 1022, 1975, 1974, 1663, 1662, 1658]}, {'id_rider': 137, 'shortest_path': [1303, 326, 851, 945, 944, 916, 999, 909, 873, 1000, 914, 913, 912, 1584, 1077, 1726, 1241, 1828, 1242]}, {'id_rider': 138, 'shortest_path': [1318, 881, 882, 1383, 1382, 1384, 1768, 1592, 1809, 1607, 826, 1564, 562, 894, 803, 454, 682, 761, 683, 684, 685, 743, 744, 754, 757, 760, 1898, 1986, 1542, 1541, 706, 645, 131, 688, 647, 316, 536, 120, 331, 122, 121, 237, 27, 84, 1004, 234, 366, 365, 292, 530, 529, 1710, 1709, 1708, 1722]}, {'id_rider': 139, 'shortest_path': [2150, 1909, 1174, 1173, 1750, 1752, 104, 105, 281, 786, 785, 782, 1686, 1665, 353, 352, 355, 568, 491, 347, 346, 520, 523, 510, 309, 314, 161, 163, 162, 778, 96, 1698, 1700, 1699, 1544, 42, 41, 1702, 1621, 1546, 1018, 1019, 1279, 2029, 14, 13, 2133, 49, 51, 218, 1387, 294, 165]}, {'id_rider': 140, 'shortest_path': [1052, 1528, 1524, 936, 1031, 683, 761, 682, 454, 803, 894, 562, 563, 1990]}, {'id_rider': 141, 'shortest_path': [638, 637, 636, 582, 738, 737, 735, 345, 267, 867, 871, 620, 621, 1242]}, {'id_rider': 142, 'shortest_path': [1552, 1556, 1557, 1439, 1426, 926, 870, 981, 9, 1017, 1018, 1546, 1621, 1702, 41, 40, 479, 1708, 1709, 1710, 529, 530, 292, 365, 366, 234, 1004, 84, 27, 237, 121, 122, 331, 120, 536, 316, 647, 688, 131, 645, 706, 1541, 1542, 1986, 1898, 760, 757, 754, 744, 743, 685, 684, 683, 761, 682, 454, 803, 894, 562, 563, 1990]}, {'id_rider': 143, 'shortest_path': [1205, 528, 926, 870, 981, 9, 1017, 1018, 1546, 1621, 1702, 41, 40, 479, 1708, 1709, 1710, 529, 530, 292, 365, 366, 234, 1004, 84, 27, 237, 121, 122, 1719, 532, 531, 102, 19, 613, 691, 702, 1972, 1966, 1965, 605, 604, 606, 961, 307, 306, 308, 1975, 1974, 1663, 1662, 1658]}, {'id_rider': 144, 'shortest_path': [1926, 1076, 657, 318, 320, 321, 1127, 332, 1128, 1131, 1170, 1168, 1172, 2074, 1873, 1874, 1872, 1071, 1072, 214, 213, 2145, 2147, 2143, 409, 955, 954, 675, 674, 1767, 2186, 672, 547, 75, 73, 74, 58, 59, 63, 97, 78, 81, 291, 2027, 1709, 1708, 1722]}, {'id_rider': 145, 'shortest_path': [346, 347, 401, 407, 504, 505, 828, 675, 950, 952, 1792, 1490, 272, 275, 108, 107, 888, 787, 788, 1705, 565, 1050, 1052, 1528, 1524, 936, 1031, 683, 761, 682, 454, 803, 894, 562, 563, 1990]}, {'id_rider': 146, 'shortest_path': [161, 163, 1187, 1310, 1311, 1669, 2064, 291, 2027, 1709, 1708, 1722]}, {'id_rider': 147, 'shortest_path': [921, 919, 920, 1047, 753, 752, 754, 757, 760, 1898, 1986, 1542, 1541, 706, 645, 131, 688, 647, 316, 536, 120, 331, 122, 237, 27, 84, 1004, 234, 366, 365, 292, 530, 529, 1710, 1709, 1708, 479, 40, 41, 1702, 1621, 1546, 1018, 1019, 1279, 2029, 14, 13, 2133, 49, 51, 218, 1387, 294, 165]}, {'id_rider': 148, 'shortest_path': [166, 1387, 218, 51, 49, 2133, 13, 14, 2029, 1279, 1019, 1018, 1546, 1016, 1014, 1009, 1442, 1441, 1443, 1058, 1060]}, {'id_rider': 149, 'shortest_path': [62, 58, 60, 21, 20, 44, 67, 1667, 539, 247, 246, 1676, 1491, 1488, 108, 107, 888, 787, 788, 70, 397, 1185, 910, 942, 940, 726, 727, 723, 724, 722, 712, 694, 671, 546, 205, 305, 267, 867, 871, 620, 621, 1242]}, {'id_rider': 150, 'shortest_path': [1837, 1835, 1834, 1832, 136, 138, 976, 971, 1026, 922, 1886, 751, 1964, 757, 760, 1898, 1986, 1542, 1541, 706, 645, 131, 688, 647, 316, 536, 300, 280, 67, 44, 20, 21, 60, 58, 59, 61, 98, 891, 1187, 162, 349, 173, 170, 171, 1060]}, {'id_rider': 151, 'shortest_path': [658, 201, 202, 1126, 1199, 740, 739, 1729, 1728, 872, 263, 871, 620, 621, 1242]}, {'id_rider': 152, 'shortest_path': [609, 1042, 762, 758, 757, 754, 744, 743, 685, 684, 683, 863, 437, 443, 801, 800, 447, 445, 229, 228, 186, 189, 231, 200, 207, 209, 293, 659, 1239, 1238, 1242]}, {'id_rider': 153, 'shortest_path': [1887, 1030, 1029, 606, 604, 605, 1965, 611, 705, 645, 131, 688, 647, 316, 536, 300, 280, 67, 44, 20, 21, 60, 58, 59, 61, 98, 891, 1187, 162, 349, 173, 170, 171, 1060]}, {'id_rider': 154, 'shortest_path': [2068, 22, 21, 20, 44, 86, 533, 1697, 329, 328, 1792, 2094]}, {'id_rider': 155, 'shortest_path': [2170, 692, 687, 686, 688, 131, 645, 706, 1541, 1542, 1986, 1898, 760, 757, 754, 744, 743, 685, 684, 683, 761, 682, 454, 803, 894, 562, 563, 1990]}, {'id_rider': 156, 'shortest_path': [137, 1864, 1089, 1084, 1090, 677, 563, 1990]}, {'id_rider': 157, 'shortest_path': [371, 144, 146, 1282, 379, 140, 169, 378, 377, 148, 2, 0, 1, 47, 176, 165, 294, 1387, 218, 51, 49, 2133, 13, 14, 2029, 1279, 1019, 1018, 1546, 1621, 1702, 41, 40, 479, 1708, 1709, 1710, 529, 530, 292, 365, 366, 234, 1004, 84, 27, 237, 122, 1719, 532, 531, 102, 19, 613, 691, 702, 1972, 1966, 1965, 605, 604, 606, 961, 307, 306, 308, 1975, 1974, 1663, 1662, 1658]}, {'id_rider': 158, 'shortest_path': [2121, 6, 1254, 1231, 1230, 1250, 1251, 1434, 1229, 1433, 1019, 1018, 1546, 1621, 1702, 41, 40, 479, 1708, 1709, 2027, 291, 81, 78, 80, 83, 22, 21, 20, 44, 67, 1667, 539, 247, 246, 1676, 1491, 1488, 108, 107, 888, 787, 788, 70, 397, 1185, 910, 942, 940, 726, 727, 723, 724, 722, 712, 694, 671, 546, 205, 305, 267, 867, 871, 620, 621, 1242]}, {'id_rider': 159, 'shortest_path': [312, 523, 526, 221, 91, 290, 414, 410, 547, 951, 44, 67, 280, 300, 536, 316, 647, 688, 131, 645, 705, 611, 1965, 605, 604, 606, 961, 307, 306, 308, 1975, 1974, 1663, 1662, 1658]}, {'id_rider': 160, 'shortest_path': [1746, 1737, 125, 1139, 105, 104, 1752, 1750, 1173, 1174, 1909, 2150, 794, 793, 745, 1133, 1130, 763, 322, 320, 318, 657, 1075, 201, 202, 1126, 1199, 740, 739, 1729, 1728, 872, 263, 871, 620, 621, 1242]}, {'id_rider': 161, 'shortest_path': [844, 351, 350, 505, 504, 407, 401, 347, 346, 520, 523, 510, 309, 314, 161, 162, 349, 173, 170, 171, 1060]}, {'id_rider': 162, 'shortest_path': [2193, 2002, 159, 2031, 2032, 1775, 1773, 1774, 1604, 1991, 1605, 1990]}, {'id_rider': 163, 'shortest_path': [1711, 629, 628, 1394, 1305, 1303, 326, 851, 945, 944, 916, 999, 909, 873, 1000, 914, 913, 912, 1584, 1077, 1726, 1241, 1828, 1242]}, {'id_rider': 164, 'shortest_path': [1975, 1022, 596, 1024, 1852, 1683, 1619, 1617, 905, 138, 977, 457, 456, 454, 455, 149, 449, 445, 229, 228, 186, 189, 231, 200, 207, 209, 293, 659, 1239, 1238, 1242]}, {'id_rider': 165, 'shortest_path': [1591, 232, 1004, 84, 27, 237, 122, 331, 120, 536, 316, 647, 688, 131, 645, 706, 1541, 1542, 1986, 1898, 760, 757, 754, 744, 743, 685, 684, 683, 761, 682, 454, 803, 894, 562, 563, 1990]}, {'id_rider': 166, 'shortest_path': [956, 999, 909, 873, 1000, 914, 913, 912, 1584, 1077, 1726, 1241, 1828, 1242]}, {'id_rider': 167, 'shortest_path': [83, 22, 21, 20, 44, 67, 280, 300, 536, 316, 647, 688, 131, 645, 705, 611, 1965, 605, 604, 606, 961, 307, 306, 308, 1975, 1974, 1663, 1662, 1658]}, {'id_rider': 168, 'shortest_path': [0, 1, 47, 176, 165, 294, 1387, 218, 51, 49, 2133, 13, 14, 2029, 1279, 1019, 1018, 1546, 1621, 1702, 41, 40, 479, 1708, 1709, 1710, 529, 530, 292, 365, 366, 234, 1004, 84, 27, 237, 121, 122, 1719, 532, 531, 102, 19, 613, 691, 702, 1972, 1966, 1965, 605, 604, 606, 961, 307, 306, 308, 1975, 1974, 1663, 1662, 1658]}, {'id_rider': 169, 'shortest_path': [745, 793, 794, 1160, 1162, 1165, 452, 451, 1753, 1878, 1879, 106, 216, 516, 784, 781, 783, 514, 508, 310, 314, 161, 163, 162, 349, 173, 170, 171, 1060]}, {'id_rider': 170, 'shortest_path': [2076, 1022, 596, 1024, 1852, 1683, 1619, 1617, 905, 138, 977, 1080, 967, 1094, 679, 678, 564, 563, 1990]}, {'id_rider': 171, 'shortest_path': [1042, 609, 608, 605, 1965, 611, 705, 645, 131, 688, 647, 316, 536, 300, 280, 67, 44, 20, 21, 60, 58, 59, 61, 98, 891, 1187, 162, 349, 173, 170, 171, 1060]}, {'id_rider': 172, 'shortest_path': [268, 265, 243, 244, 204, 198, 578, 446, 68, 70, 788, 787, 888, 107, 108, 110, 111, 1944, 1266, 2094]}, {'id_rider': 173, 'shortest_path': [1073, 327, 718, 720, 657, 1075, 201, 202, 1126, 1199, 740, 739, 1729, 1728, 872, 263, 871, 620, 621, 1242]}, {'id_rider': 174, 'shortest_path': [1671, 1105, 707, 708, 1487, 1491, 272, 1490, 1792, 2094]}, {'id_rider': 175, 'shortest_path': [1571, 1569, 840, 1023, 1021, 1022, 308, 306, 307, 961, 606, 604, 605, 1965, 1966, 1972, 702, 691, 613, 19, 102, 531, 532, 1719, 122, 121, 237, 27, 84, 1004, 234, 366, 365, 292, 530, 529, 1710, 1709, 1708, 1722]}, {'id_rider': 176, 'shortest_path': [670, 729, 790, 723, 725, 396, 438, 800, 436, 149, 455, 454, 456, 457, 977, 138, 905, 1617, 1619, 1683, 1852, 1024, 596, 1022, 1975, 1974, 1663, 1662, 1658]}, {'id_rider': 177, 'shortest_path': [521, 523, 510, 309, 314, 161, 163, 162, 778, 96, 1698, 1700, 1699, 1544, 42, 41, 1702, 1621, 1546, 1018, 1019, 1279, 2029, 14, 13, 2133, 49, 51, 218, 1387, 294, 165]}, {'id_rider': 178, 'shortest_path': [1175, 1176, 1519, 1052, 749, 750, 744, 753, 751, 1886, 1884, 1883, 2022, 1889, 903, 1858, 1857, 1683, 1852, 1024, 596, 1022, 1975, 1974, 1663, 1662, 1658]}, {'id_rider': 179, 'shortest_path': [1368, 1770, 2031, 2085, 1610, 2190, 1848, 1497, 137, 136, 138, 976, 971, 1026, 922, 1886, 751, 1964, 757, 760, 1898, 1986, 1542, 1541, 706, 645, 131, 688, 647, 316, 536, 120, 331, 122, 121, 237, 27, 84, 1004, 234, 366, 365, 292, 530, 529, 1710, 1709, 1708, 1722]}]\n"
          ]
        }
      ],
      "source": [
        "# use of Dijkstra for shortest path\n",
        "\n",
        "drivers_path = []\n",
        "riders_path = []\n",
        "\n",
        "# 50 km/h\n",
        "avg_vel = 50\n",
        "date_format_str = '%H:%M'\n",
        "\n",
        "for driver in drivers:\n",
        "  spath = nx.dijkstra_path(G, driver.start_point.get('id'), driver.end_point.get('id'))\n",
        "  dpath = [{'node' : spath[0], 'hour': driver.hour}]\n",
        "  dist = 0\n",
        "\n",
        "\n",
        "  for i in range(1, len(spath)):\n",
        "    # retrieve distance and convert into km\n",
        "    \n",
        "    # distance in km\n",
        "    dist += (G.get_edge_data(spath[i-1], spath[i]).get('weight')) / 1e3\n",
        "    time = dist / avg_vel\n",
        "    time_1 = datetime.strptime(driver.hour, date_format_str)\n",
        "    time_2 = time_1 + timedelta(hours=time)\n",
        "    str_time = time_2.strftime(date_format_str)\n",
        "\n",
        "    dpath.append({'node': spath[i], 'hour':str_time})\n",
        "\n",
        "\n",
        "  total_dist = nx.shortest_path_length(G, driver.start_point.get('id'), driver.end_point.get('id'), weight='weight')\n",
        "\n",
        "  drivers_path.append({'id_driver': driver.id, 'shortest_path' : dpath, 'arrival_time': str_time})\n",
        "  \n",
        "  #print(\"Driver #\" + str(driver.id) + \": start at \" + driver.hour + \" , end at \" + dpath[len(dpath)-1].get('hour'))\n",
        "  #print(\"    -> total dist km: \", total_dist/1e3)\n",
        "\n",
        "\n",
        "for rider in riders:\n",
        "  spath = nx.dijkstra_path(G, rider.start_point.get('id'), rider.end_point.get('id'))\n",
        "  riders_path.append({'id_rider': rider.id, 'shortest_path' : spath})\n",
        "\n",
        "print(drivers_path[0])\n",
        "print(riders_path)"
      ]
    },
    {
      "cell_type": "code",
      "execution_count": 20,
      "id": "VvTci_DIxG38",
      "metadata": {
        "id": "VvTci_DIxG38"
      },
      "outputs": [],
      "source": [
        "def min_distance (shortest_path_driver, rider) :\n",
        "  min_distance = float('inf')\n",
        "  xr = rider.start_point.get('coordinates')[0]\n",
        "  yr = rider.start_point.get('coordinates')[1]\n",
        "  for node in shortest_path_driver :\n",
        "    id = node.get('node')\n",
        "    x1 = nodes[id].get('coordinates')[0]\n",
        "    x2 = nodes[id].get('coordinates')[1]\n",
        "    dist = compute_distance(x1, x2, xr, yr)\n",
        "    if dist < min_distance :\n",
        "      min_distance = dist\n",
        "\n",
        "  return min_distance\n"
      ]
    },
    {
      "cell_type": "code",
      "execution_count": 21,
      "id": "ztU1h2qCsQ8a",
      "metadata": {
        "id": "ztU1h2qCsQ8a"
      },
      "outputs": [],
      "source": [
        "# find matching: since we assumed drivers and riders having same dest\n",
        "# first: filter the total of drivers and riders\n",
        "\n",
        "drivers_match = [{} for _ in range(len(drivers))]\n",
        "\n",
        "# couple drivers and riders with same dest and similar hours\n",
        "\n",
        "for driver in drivers :\n",
        "  drivers_match[driver.id] = {'id_driver' : driver.id, 'list_of_riders' : []}\n",
        "  for rider in riders :\n",
        "    dhour_start = datetime.strptime(driver.hour, date_format_str)\n",
        "    dhour_end = datetime.strptime(drivers_path[driver.id].get('arrival_time'), date_format_str)\n",
        "    rhour = datetime.strptime(rider.hour, date_format_str)\n",
        "\n",
        "    #print(\"min distance: \" , min_distance(drivers_path[driver.id].get('shortest_path'), rider))\n",
        "\n",
        "    # filter per\n",
        "    # 1- same dest\n",
        "    # 2- simil hour\n",
        "    # 3- minimum distance from rider and shortest path <= 30 km\n",
        "    if driver.end_point.get('id') == rider.end_point.get('id') and ((dhour_start - timedelta(minutes=30)) <= rhour <= (dhour_end + timedelta(minutes=30)))  :\n",
        "      drivers_match[driver.id].get('list_of_riders').append(rider.id)\n",
        "  \n",
        "\n"
      ]
    },
    {
      "cell_type": "code",
      "execution_count": 22,
      "id": "hpk10lYH2eH2",
      "metadata": {
        "id": "hpk10lYH2eH2"
      },
      "outputs": [],
      "source": [
        "def preference_list_drivers(drivers_match) :\n",
        "\n",
        "  preferences = [{} for _ in range(len(drivers))]\n",
        "\n",
        "  for driver in drivers :\n",
        "    pref_dict = {}\n",
        "    for r in drivers_match[driver.id].get('list_of_riders') :\n",
        "      rider = riders[r]     \n",
        "      min_dist = min_distance(drivers_path[driver.id].get('shortest_path'), rider)\n",
        "      if min_dist <= 35e3 :\n",
        "        # 0.4 * rating + 0.6 * distance in kms\n",
        "        measure =  0.4*rider.rating + 0.6*(min_dist/1e3)\n",
        "        pref_dict[rider.id] = measure\n",
        "\n",
        "    # sort list\n",
        "    preferences[driver.id] = {'id_driver' : driver.id, 'list_of_riders' : list(dict(sorted(pref_dict.items(), key=lambda item: item[1])))}\n",
        "\n",
        "    \n",
        "    \n",
        "  return preferences\n",
        "\n"
      ]
    },
    {
      "cell_type": "code",
      "execution_count": 23,
      "id": "mntDBTb5ksl0",
      "metadata": {
        "id": "mntDBTb5ksl0"
      },
      "outputs": [],
      "source": [
        "def preference_list_riders(list_of_riders) :\n",
        "\n",
        "  preferences = [{} for _ in range(len(riders))]\n",
        "\n",
        "  pref = [ {} for _ in range(len(riders))]\n",
        "\n",
        "  # build the lists\n",
        "\n",
        "  for driver in drivers:\n",
        "    for r in drivers_match[driver.id].get('list_of_riders') :\n",
        "      rider = riders[r]\n",
        "      min_dist = min_distance(drivers_path[driver.id].get('shortest_path'), rider)\n",
        "      if min_dist <= 35e3 :\n",
        "        pref[rider.id][driver.id] = driver.rating\n",
        "\n",
        "      \n",
        "      \n",
        "\n",
        "  #sort the lists\n",
        "\n",
        "  for i in range(len(riders)):\n",
        "    preferences[i] = {'id_rider' : i, 'list_of_drivers' : list(dict(sorted(pref[i].items(), key=lambda item: item[1])))} \n",
        "  \n",
        "  return preferences"
      ]
    },
    {
      "cell_type": "markdown",
      "id": "DRt2OiPl6k8n",
      "metadata": {
        "id": "DRt2OiPl6k8n"
      },
      "source": [
        "# Start of main algorithm"
      ]
    },
    {
      "cell_type": "code",
      "execution_count": 24,
      "id": "VHJJzPEQ6n7n",
      "metadata": {
        "colab": {
          "base_uri": "https://localhost:8080/"
        },
        "id": "VHJJzPEQ6n7n",
        "outputId": "6af5390c-c87e-4b91-9216-4912aae06a7c"
      },
      "outputs": [
        {
          "output_type": "stream",
          "name": "stdout",
          "text": [
            "[{'id_driver': 0, 'list_of_riders': [111, 85, 78, 8, 18, 2, 153]}, {'id_driver': 1, 'list_of_riders': [86, 19, 54, 84, 13]}, {'id_driver': 2, 'list_of_riders': [159, 167, 71, 72, 103, 176, 4]}, {'id_driver': 3, 'list_of_riders': [154]}, {'id_driver': 4, 'list_of_riders': [86, 54, 13]}, {'id_driver': 5, 'list_of_riders': [58, 5, 21, 152, 3, 105, 34, 149]}, {'id_driver': 6, 'list_of_riders': [143, 25, 50, 157, 178, 38]}, {'id_driver': 7, 'list_of_riders': [165, 155, 140, 131, 96, 145, 124]}, {'id_driver': 8, 'list_of_riders': [63, 130, 53, 90, 177, 139, 104]}, {'id_driver': 9, 'list_of_riders': [83, 31, 74, 122, 20, 147]}, {'id_driver': 10, 'list_of_riders': [63, 53, 177, 130, 104, 90, 139]}, {'id_driver': 11, 'list_of_riders': [41, 67, 109, 28, 33, 76]}, {'id_driver': 12, 'list_of_riders': [24, 162, 156, 68, 170, 52, 118]}, {'id_driver': 13, 'list_of_riders': [131, 165, 155, 140, 96, 145, 124]}, {'id_driver': 14, 'list_of_riders': [72, 159, 71, 103]}, {'id_driver': 15, 'list_of_riders': [86, 54, 13]}, {'id_driver': 16, 'list_of_riders': [42, 87, 161, 171, 116, 66, 56, 150, 102, 9, 148, 22]}, {'id_driver': 17, 'list_of_riders': [83, 122, 147, 31, 74, 36]}, {'id_driver': 18, 'list_of_riders': [47, 146, 95, 60, 11, 106, 117, 99]}, {'id_driver': 19, 'list_of_riders': [15, 174, 126, 115]}, {'id_driver': 20, 'list_of_riders': [83, 31, 74, 122, 20, 147]}, {'id_driver': 21, 'list_of_riders': [50, 178, 157, 38]}, {'id_driver': 22, 'list_of_riders': [50, 178, 157, 38, 25]}, {'id_driver': 23, 'list_of_riders': [21, 5, 3, 34, 152, 58, 105]}, {'id_driver': 24, 'list_of_riders': [5, 149, 105, 70, 123, 152, 3, 21, 34, 51, 64, 58, 158]}, {'id_driver': 25, 'list_of_riders': [155, 140, 145, 96, 165, 124, 131]}, {'id_driver': 26, 'list_of_riders': [0, 29, 91, 12]}, {'id_driver': 27, 'list_of_riders': [107, 16]}, {'id_driver': 28, 'list_of_riders': []}, {'id_driver': 29, 'list_of_riders': [60, 95, 11, 99]}, {'id_driver': 30, 'list_of_riders': [111, 153, 49, 85, 2, 78, 8, 18, 81]}, {'id_driver': 31, 'list_of_riders': [161, 42, 9, 87, 56, 150]}, {'id_driver': 32, 'list_of_riders': [106, 95, 146, 60, 47, 11, 99]}, {'id_driver': 33, 'list_of_riders': [62, 46, 166, 163, 119]}, {'id_driver': 34, 'list_of_riders': [67, 33, 120, 28, 76, 41, 144, 175, 65, 109]}, {'id_driver': 35, 'list_of_riders': [167, 159, 72, 59, 176, 4]}, {'id_driver': 36, 'list_of_riders': [96, 140, 145, 155, 165]}, {'id_driver': 37, 'list_of_riders': [154]}, {'id_driver': 38, 'list_of_riders': [2, 111]}, {'id_driver': 39, 'list_of_riders': [57, 125, 82, 129, 89, 135, 100, 108, 179]}, {'id_driver': 40, 'list_of_riders': [45, 107, 16]}, {'id_driver': 41, 'list_of_riders': []}, {'id_driver': 42, 'list_of_riders': [162, 156, 24, 170, 52, 68, 118]}, {'id_driver': 43, 'list_of_riders': [27, 6, 93, 151, 160, 173, 7, 79, 133, 98, 164]}, {'id_driver': 44, 'list_of_riders': [67, 33, 28, 120, 76, 41, 175, 144, 65, 109]}, {'id_driver': 45, 'list_of_riders': [20, 83, 31, 74, 122, 147]}, {'id_driver': 46, 'list_of_riders': [67, 33, 76, 28, 144, 41, 120, 109]}]\n",
            "\n",
            "************************************\n",
            "\n",
            "[{'id_rider': 0, 'list_of_drivers': [26]}, {'id_rider': 1, 'list_of_drivers': []}, {'id_rider': 2, 'list_of_drivers': [38, 30, 0]}, {'id_rider': 3, 'list_of_drivers': [5, 23, 24]}, {'id_rider': 4, 'list_of_drivers': [2, 35]}, {'id_rider': 5, 'list_of_drivers': [5, 23, 24]}, {'id_rider': 6, 'list_of_drivers': [43]}, {'id_rider': 7, 'list_of_drivers': [43]}, {'id_rider': 8, 'list_of_drivers': [30, 0]}, {'id_rider': 9, 'list_of_drivers': [31, 16]}, {'id_rider': 10, 'list_of_drivers': []}, {'id_rider': 11, 'list_of_drivers': [32, 18, 29]}, {'id_rider': 12, 'list_of_drivers': [26]}, {'id_rider': 13, 'list_of_drivers': [1, 15, 4]}, {'id_rider': 14, 'list_of_drivers': []}, {'id_rider': 15, 'list_of_drivers': [19]}, {'id_rider': 16, 'list_of_drivers': [40, 27]}, {'id_rider': 17, 'list_of_drivers': []}, {'id_rider': 18, 'list_of_drivers': [30, 0]}, {'id_rider': 19, 'list_of_drivers': [1]}, {'id_rider': 20, 'list_of_drivers': [20, 45, 9]}, {'id_rider': 21, 'list_of_drivers': [5, 23, 24]}, {'id_rider': 22, 'list_of_drivers': [16]}, {'id_rider': 23, 'list_of_drivers': []}, {'id_rider': 24, 'list_of_drivers': [42, 12]}, {'id_rider': 25, 'list_of_drivers': [6, 22]}, {'id_rider': 26, 'list_of_drivers': []}, {'id_rider': 27, 'list_of_drivers': [43]}, {'id_rider': 28, 'list_of_drivers': [46, 34, 44, 11]}, {'id_rider': 29, 'list_of_drivers': [26]}, {'id_rider': 30, 'list_of_drivers': []}, {'id_rider': 31, 'list_of_drivers': [20, 17, 45, 9]}, {'id_rider': 32, 'list_of_drivers': []}, {'id_rider': 33, 'list_of_drivers': [46, 34, 44, 11]}, {'id_rider': 34, 'list_of_drivers': [5, 23, 24]}, {'id_rider': 35, 'list_of_drivers': []}, {'id_rider': 36, 'list_of_drivers': [17]}, {'id_rider': 37, 'list_of_drivers': []}, {'id_rider': 38, 'list_of_drivers': [6, 21, 22]}, {'id_rider': 39, 'list_of_drivers': []}, {'id_rider': 40, 'list_of_drivers': []}, {'id_rider': 41, 'list_of_drivers': [46, 34, 44, 11]}, {'id_rider': 42, 'list_of_drivers': [31, 16]}, {'id_rider': 43, 'list_of_drivers': []}, {'id_rider': 44, 'list_of_drivers': []}, {'id_rider': 45, 'list_of_drivers': [40]}, {'id_rider': 46, 'list_of_drivers': [33]}, {'id_rider': 47, 'list_of_drivers': [32, 18]}, {'id_rider': 48, 'list_of_drivers': []}, {'id_rider': 49, 'list_of_drivers': [30]}, {'id_rider': 50, 'list_of_drivers': [6, 21, 22]}, {'id_rider': 51, 'list_of_drivers': [24]}, {'id_rider': 52, 'list_of_drivers': [42, 12]}, {'id_rider': 53, 'list_of_drivers': [8, 10]}, {'id_rider': 54, 'list_of_drivers': [1, 15, 4]}, {'id_rider': 55, 'list_of_drivers': []}, {'id_rider': 56, 'list_of_drivers': [31, 16]}, {'id_rider': 57, 'list_of_drivers': [39]}, {'id_rider': 58, 'list_of_drivers': [5, 23, 24]}, {'id_rider': 59, 'list_of_drivers': [35]}, {'id_rider': 60, 'list_of_drivers': [32, 18, 29]}, {'id_rider': 61, 'list_of_drivers': []}, {'id_rider': 62, 'list_of_drivers': [33]}, {'id_rider': 63, 'list_of_drivers': [8, 10]}, {'id_rider': 64, 'list_of_drivers': [24]}, {'id_rider': 65, 'list_of_drivers': [34, 44]}, {'id_rider': 66, 'list_of_drivers': [16]}, {'id_rider': 67, 'list_of_drivers': [46, 34, 44, 11]}, {'id_rider': 68, 'list_of_drivers': [42, 12]}, {'id_rider': 69, 'list_of_drivers': []}, {'id_rider': 70, 'list_of_drivers': [24]}, {'id_rider': 71, 'list_of_drivers': [2, 14]}, {'id_rider': 72, 'list_of_drivers': [2, 14, 35]}, {'id_rider': 73, 'list_of_drivers': []}, {'id_rider': 74, 'list_of_drivers': [20, 17, 45, 9]}, {'id_rider': 75, 'list_of_drivers': []}, {'id_rider': 76, 'list_of_drivers': [46, 34, 44, 11]}, {'id_rider': 77, 'list_of_drivers': []}, {'id_rider': 78, 'list_of_drivers': [30, 0]}, {'id_rider': 79, 'list_of_drivers': [43]}, {'id_rider': 80, 'list_of_drivers': []}, {'id_rider': 81, 'list_of_drivers': [30]}, {'id_rider': 82, 'list_of_drivers': [39]}, {'id_rider': 83, 'list_of_drivers': [20, 17, 45, 9]}, {'id_rider': 84, 'list_of_drivers': [1]}, {'id_rider': 85, 'list_of_drivers': [30, 0]}, {'id_rider': 86, 'list_of_drivers': [1, 15, 4]}, {'id_rider': 87, 'list_of_drivers': [31, 16]}, {'id_rider': 88, 'list_of_drivers': []}, {'id_rider': 89, 'list_of_drivers': [39]}, {'id_rider': 90, 'list_of_drivers': [8, 10]}, {'id_rider': 91, 'list_of_drivers': [26]}, {'id_rider': 92, 'list_of_drivers': []}, {'id_rider': 93, 'list_of_drivers': [43]}, {'id_rider': 94, 'list_of_drivers': []}, {'id_rider': 95, 'list_of_drivers': [32, 18, 29]}, {'id_rider': 96, 'list_of_drivers': [25, 7, 13, 36]}, {'id_rider': 97, 'list_of_drivers': []}, {'id_rider': 98, 'list_of_drivers': [43]}, {'id_rider': 99, 'list_of_drivers': [32, 18, 29]}, {'id_rider': 100, 'list_of_drivers': [39]}, {'id_rider': 101, 'list_of_drivers': []}, {'id_rider': 102, 'list_of_drivers': [16]}, {'id_rider': 103, 'list_of_drivers': [2, 14]}, {'id_rider': 104, 'list_of_drivers': [8, 10]}, {'id_rider': 105, 'list_of_drivers': [5, 23, 24]}, {'id_rider': 106, 'list_of_drivers': [32, 18]}, {'id_rider': 107, 'list_of_drivers': [40, 27]}, {'id_rider': 108, 'list_of_drivers': [39]}, {'id_rider': 109, 'list_of_drivers': [46, 34, 44, 11]}, {'id_rider': 110, 'list_of_drivers': []}, {'id_rider': 111, 'list_of_drivers': [38, 30, 0]}, {'id_rider': 112, 'list_of_drivers': []}, {'id_rider': 113, 'list_of_drivers': []}, {'id_rider': 114, 'list_of_drivers': []}, {'id_rider': 115, 'list_of_drivers': [19]}, {'id_rider': 116, 'list_of_drivers': [16]}, {'id_rider': 117, 'list_of_drivers': [18]}, {'id_rider': 118, 'list_of_drivers': [42, 12]}, {'id_rider': 119, 'list_of_drivers': [33]}, {'id_rider': 120, 'list_of_drivers': [46, 34, 44]}, {'id_rider': 121, 'list_of_drivers': []}, {'id_rider': 122, 'list_of_drivers': [20, 17, 45, 9]}, {'id_rider': 123, 'list_of_drivers': [24]}, {'id_rider': 124, 'list_of_drivers': [25, 7, 13]}, {'id_rider': 125, 'list_of_drivers': [39]}, {'id_rider': 126, 'list_of_drivers': [19]}, {'id_rider': 127, 'list_of_drivers': []}, {'id_rider': 128, 'list_of_drivers': []}, {'id_rider': 129, 'list_of_drivers': [39]}, {'id_rider': 130, 'list_of_drivers': [8, 10]}, {'id_rider': 131, 'list_of_drivers': [25, 7, 13]}, {'id_rider': 132, 'list_of_drivers': []}, {'id_rider': 133, 'list_of_drivers': [43]}, {'id_rider': 134, 'list_of_drivers': []}, {'id_rider': 135, 'list_of_drivers': [39]}, {'id_rider': 136, 'list_of_drivers': []}, {'id_rider': 137, 'list_of_drivers': []}, {'id_rider': 138, 'list_of_drivers': []}, {'id_rider': 139, 'list_of_drivers': [8, 10]}, {'id_rider': 140, 'list_of_drivers': [25, 7, 13, 36]}, {'id_rider': 141, 'list_of_drivers': []}, {'id_rider': 142, 'list_of_drivers': []}, {'id_rider': 143, 'list_of_drivers': [6]}, {'id_rider': 144, 'list_of_drivers': [46, 34, 44]}, {'id_rider': 145, 'list_of_drivers': [25, 7, 13, 36]}, {'id_rider': 146, 'list_of_drivers': [32, 18]}, {'id_rider': 147, 'list_of_drivers': [20, 17, 45, 9]}, {'id_rider': 148, 'list_of_drivers': [16]}, {'id_rider': 149, 'list_of_drivers': [5, 24]}, {'id_rider': 150, 'list_of_drivers': [31, 16]}, {'id_rider': 151, 'list_of_drivers': [43]}, {'id_rider': 152, 'list_of_drivers': [5, 23, 24]}, {'id_rider': 153, 'list_of_drivers': [30, 0]}, {'id_rider': 154, 'list_of_drivers': [37, 3]}, {'id_rider': 155, 'list_of_drivers': [25, 7, 13, 36]}, {'id_rider': 156, 'list_of_drivers': [42, 12]}, {'id_rider': 157, 'list_of_drivers': [6, 21, 22]}, {'id_rider': 158, 'list_of_drivers': [24]}, {'id_rider': 159, 'list_of_drivers': [2, 14, 35]}, {'id_rider': 160, 'list_of_drivers': [43]}, {'id_rider': 161, 'list_of_drivers': [31, 16]}, {'id_rider': 162, 'list_of_drivers': [42, 12]}, {'id_rider': 163, 'list_of_drivers': [33]}, {'id_rider': 164, 'list_of_drivers': [43]}, {'id_rider': 165, 'list_of_drivers': [25, 7, 13, 36]}, {'id_rider': 166, 'list_of_drivers': [33]}, {'id_rider': 167, 'list_of_drivers': [2, 35]}, {'id_rider': 168, 'list_of_drivers': []}, {'id_rider': 169, 'list_of_drivers': []}, {'id_rider': 170, 'list_of_drivers': [42, 12]}, {'id_rider': 171, 'list_of_drivers': [16]}, {'id_rider': 172, 'list_of_drivers': []}, {'id_rider': 173, 'list_of_drivers': [43]}, {'id_rider': 174, 'list_of_drivers': [19]}, {'id_rider': 175, 'list_of_drivers': [34, 44]}, {'id_rider': 176, 'list_of_drivers': [2, 35]}, {'id_rider': 177, 'list_of_drivers': [8, 10]}, {'id_rider': 178, 'list_of_drivers': [6, 21, 22]}, {'id_rider': 179, 'list_of_drivers': [39]}]\n"
          ]
        }
      ],
      "source": [
        "# 1- get path from Steiner tree (first option: compute shortest path)\n",
        "\n",
        "# 2 - compute preference list of drivers\n",
        "\n",
        "#print(drivers_match[0].get('list_of_riders'))\n",
        "\n",
        "print(preference_list_drivers(drivers_match))\n",
        "\n",
        "print(\"\\n************************************\\n\")\n",
        "\n",
        "# 3 - compute preference list of riders\n",
        "\n",
        "print(preference_list_riders(drivers_match))"
      ]
    },
    {
      "cell_type": "code",
      "source": [
        "# make Network show itself with repr_html\n",
        "def net_repr_html(self):\n",
        "  nodes, edges, heading, height, width, options = self.get_network_data()\n",
        "  html = self.template.render(height=height, width=width, nodes=nodes, edges=edges, options=options)\n",
        "  return html\n",
        "\n",
        "Network._repr_html_ = net_repr_html"
      ],
      "metadata": {
        "id": "4NYoDyPhmxSc"
      },
      "id": "4NYoDyPhmxSc",
      "execution_count": 25,
      "outputs": []
    },
    {
      "cell_type": "code",
      "source": [
        "# pyvis part\n",
        "def draw_networkx(nx_graph, show_edge_weights=False):\n",
        "    from pyvis.network import Network\n",
        "    nt = Network(\"500px\", \"500px\", notebook=True)\n",
        "    nt.from_nx(nx_graph, show_edge_weights=show_edge_weights)\n",
        "    nt.bgcolor = '#ffffff'\n",
        "    return nt"
      ],
      "metadata": {
        "id": "fiAcgBo6m-86"
      },
      "id": "fiAcgBo6m-86",
      "execution_count": 28,
      "outputs": []
    },
    {
      "cell_type": "code",
      "source": [
        "# visualize Graph\n",
        "draw_networkx(G)"
      ],
      "metadata": {
        "id": "uH14yijsmqy0"
      },
      "id": "uH14yijsmqy0",
      "execution_count": null,
      "outputs": []
    },
    {
      "cell_type": "code",
      "execution_count": 30,
      "id": "mrmM8dlr9jTE",
      "metadata": {
        "id": "mrmM8dlr9jTE"
      },
      "outputs": [],
      "source": [
        "# create file input.dat (obsolete (?))\n",
        "f = open(\"input.dat\", \"w\")\n",
        "content = \"DIMENSION : \" + str(len(nodes)) + \"\\n\"\n",
        "content += \"DRIVERS : \" + str(len(drivers)) + \"\\n\"\n",
        "content += \"RIDERS : \" + str(len(riders)) + \"\\n\"\n",
        "content += \"NODE_COORD_SECTION\\n\"\n",
        "for node in nodes :\n",
        "  content += str(node.get(\"id\")) + \" \" + str(node.get(\"coordinates\")[0]) + \" \" + str(node.get(\"coordinates\")[1]) + \"\\n\"\n",
        "content += \"ROADS_SECTION\\n\"\n",
        "for road in roads :\n",
        "  content += str(road.get(\"p1\")) + \" \" + str(road.get(\"p2\")) + \"\\n\"\n",
        "content += \"DRIVERS_STARTING_COORD\\n\"\n",
        "for driver in drivers:\n",
        "  content += str(driver.start_point.get(\"id\")) + \" \" + str(driver.start_point.get(\"coordinates\")[0]) + \" \" + str(driver.start_point.get(\"coordinates\")[1]) + \"\\n\"\n",
        "content += \"DRIVERS_DESTINATION_COORD\\n\"\n",
        "for driver in drivers:\n",
        "  content += str(driver.end_point.get(\"id\")) + \" \" + str(driver.end_point.get(\"coordinates\")[0]) + \" \" + str(driver.end_point.get(\"coordinates\")[1]) + \"\\n\"\n",
        "content += \"RIDERS_STARTING_COORD\\n\"\n",
        "for rider in riders:\n",
        "  content += str(rider.start_point.get(\"id\")) + \" \" + str(rider.start_point.get(\"coordinates\")[0]) + \" \" + str(rider.start_point.get(\"coordinates\")[1]) + \"\\n\"\n",
        "content += \"RIDERS_DESTINATION_COORD\\n\"\n",
        "for rider in riders:\n",
        "  content += str(rider.end_point.get(\"id\")) + \" \" + str(rider.end_point.get(\"coordinates\")[0]) + \" \" + str(rider.end_point.get(\"coordinates\")[1]) + \"\\n\"\n",
        "content += \"EOF\"\n",
        "f.write(content)\n",
        "f.close()"
      ]
    },
    {
      "cell_type": "markdown",
      "id": "12d24364-69af-4164-9e0b-2355025e4193",
      "metadata": {
        "id": "12d24364-69af-4164-9e0b-2355025e4193",
        "tags": []
      },
      "source": [
        "## Stable matching module\n",
        "\n",
        "Stable matching is modeled after the Hospital-Resident problem, where drivers are modeled as hospitals (their capacity being the number of free seats in the car) and riders are modeled as residents.\n",
        "\n",
        "We use the open source ```matching``` library, originally released under MIT license by Cardiff University researcher Henry Wilde. https://github.com/daffidwilde/matching"
      ]
    },
    {
      "cell_type": "markdown",
      "id": "c8ab73f5-d1d3-424c-93bf-67610d55498a",
      "metadata": {
        "id": "c8ab73f5-d1d3-424c-93bf-67610d55498a"
      },
      "source": [
        "Make sure to install ```matching```: (https://matching.readthedocs.io/en/latest/tutorials/installation.html)\n",
        "\n",
        "```matching``` is also available through **Conda forge**"
      ]
    },
    {
      "cell_type": "code",
      "source": [
        "!pip install matching\n"
      ],
      "metadata": {
        "colab": {
          "base_uri": "https://localhost:8080/"
        },
        "id": "8VjMCWY0v0l-",
        "outputId": "9784a3c1-2eda-4f54-9bdb-93abbfa9374d"
      },
      "id": "8VjMCWY0v0l-",
      "execution_count": 31,
      "outputs": [
        {
          "output_type": "stream",
          "name": "stdout",
          "text": [
            "Collecting matching\n",
            "  Downloading matching-1.4-py3-none-any.whl (29 kB)\n",
            "Installing collected packages: matching\n",
            "Successfully installed matching-1.4\n"
          ]
        }
      ]
    },
    {
      "cell_type": "code",
      "execution_count": 32,
      "id": "da9b18f9-01d6-4686-a970-51f45f8a6a99",
      "metadata": {
        "id": "da9b18f9-01d6-4686-a970-51f45f8a6a99",
        "outputId": "280fc150-e019-4419-fd66-e9cc04b35e3e",
        "colab": {
          "base_uri": "https://localhost:8080/"
        }
      },
      "outputs": [
        {
          "output_type": "stream",
          "name": "stdout",
          "text": [
            "n° of stranded riders: 44 \n",
            "\n",
            "\n",
            "{0: [8, 18], 1: [86, 19, 54, 84], 2: [159, 167, 71, 72], 3: [], 4: [], 5: [58, 5, 21, 152], 6: [143, 25, 50, 157], 7: [165, 131, 124], 8: [63, 130, 53, 90], 9: [], 10: [177, 104, 139], 11: [], 12: [68, 52, 118], 13: [], 14: [103], 15: [13], 16: [171, 116, 66, 56], 17: [147, 36], 18: [47, 11, 117, 99], 19: [15, 174, 126, 115], 20: [83, 31, 74, 122], 21: [178, 38], 22: [], 23: [3, 34, 105], 24: [149, 70, 123, 51], 25: [155, 140, 145, 96], 26: [0, 29, 91, 12], 27: [], 29: [], 30: [153, 49, 85, 78], 31: [161, 42, 9, 87], 32: [106, 95, 146, 60], 33: [62, 46, 166, 163], 34: [120, 41, 144, 175], 35: [59, 176, 4], 36: [], 37: [154], 38: [2, 111], 39: [57, 125, 82, 129], 40: [45, 107, 16], 42: [162, 156, 24, 170], 43: [27, 6, 93, 151], 44: [65, 109], 45: [20], 46: [67, 33, 76, 28]}\n"
          ]
        }
      ],
      "source": [
        "from matching.games import HospitalResident\n",
        "\n",
        "lone_drivers = {dic[\"id_driver\"] for dic in preference_list_drivers(drivers_match) if len(dic['list_of_riders'])==0}\n",
        "stranded_riders = {dic[\"id_rider\"] for dic in preference_list_riders(drivers_match) if len(dic['list_of_drivers'])==0}\n",
        "\n",
        "print(\"n° of stranded riders:\", len(stranded_riders), '\\n\\n')\n",
        "\n",
        "d = {dic[\"id_driver\"]:dic[\"list_of_riders\"] for dic in preference_list_drivers(drivers_match) if len(dic['list_of_riders'])>0} #drivers\n",
        "r = {dic[\"id_rider\"]:dic[\"list_of_drivers\"] for dic in preference_list_riders(drivers_match) if len(dic['list_of_drivers'])>0} #riders\n",
        "capacities = {driver_id:4 for driver_id in d} #for the sake of simplicity, every driver is able/willing to transport up to 4 people\n",
        "\n",
        "game = HospitalResident.create_from_dictionaries(r, d, capacities)\n",
        "\n",
        "matching = game.solve(optimal=\"hospital\") #driver-optimal\n",
        "print(matching)"
      ]
    },
    {
      "cell_type": "code",
      "execution_count": 33,
      "id": "e9c17f2e-5baa-4d8a-99b2-22d7526e0008",
      "metadata": {
        "id": "e9c17f2e-5baa-4d8a-99b2-22d7526e0008",
        "outputId": "eaaf151f-0dd7-451d-a3a5-af6e22c7905a",
        "colab": {
          "base_uri": "https://localhost:8080/"
        }
      },
      "outputs": [
        {
          "output_type": "stream",
          "name": "stdout",
          "text": [
            "lone drivers:  11 / 47\n",
            "stranded riders  64 / 180\n",
            "\n",
            "\n",
            " {128, 1, 132, 133, 134, 7, 136, 137, 10, 138, 135, 141, 14, 142, 17, 148, 22, 23, 150, 26, 30, 158, 32, 160, 35, 164, 37, 39, 40, 168, 169, 43, 44, 172, 173, 48, 179, 55, 61, 64, 69, 73, 75, 77, 79, 80, 81, 88, 89, 92, 94, 97, 98, 100, 101, 102, 108, 110, 112, 113, 114, 119, 121, 127}\n"
          ]
        }
      ],
      "source": [
        "matched_riders = set()\n",
        "\n",
        "for driver in dict(matching):\n",
        "    if not matching[driver]: #empty list\n",
        "        lone_drivers.add(driver)\n",
        "    for x in dict(matching)[driver]:\n",
        "        matched_riders.add(x.name) #perché python madonna beata non te lo dice ma x è di tipo Player\n",
        "        \n",
        "for rid in set(r):\n",
        "    if rid not in matched_riders:\n",
        "        stranded_riders.add(rid)\n",
        "\n",
        "print(\"lone drivers: \", len(lone_drivers), \"/ 47\")\n",
        "print(\"stranded riders \", len(stranded_riders), \"/ 180\")\n",
        "\n",
        "print(\"\\n\\n\", stranded_riders)"
      ]
    },
    {
      "cell_type": "markdown",
      "id": "f5c827ac-4baa-4cd9-90ae-45abf361d5fc",
      "metadata": {
        "id": "f5c827ac-4baa-4cd9-90ae-45abf361d5fc"
      },
      "source": [
        "## Create the output file for CPlex (Steiner Tree)"
      ]
    },
    {
      "cell_type": "markdown",
      "id": "e9d971a8-9d93-4be7-9a07-696412b001e1",
      "metadata": {
        "id": "e9d971a8-9d93-4be7-9a07-696412b001e1"
      },
      "source": [
        "Identify the relevant subset of nodes..."
      ]
    },
    {
      "cell_type": "code",
      "source": [
        ""
      ],
      "metadata": {
        "id": "5RcqnF74wfZt"
      },
      "id": "5RcqnF74wfZt",
      "execution_count": null,
      "outputs": []
    },
    {
      "cell_type": "code",
      "source": [
        "def calc_path(G,point1,point2,path_list):\n",
        "  tmp=point1\n",
        "  cost_path=0\n",
        "  for node in nx.dijkstra_path(G, point1, point2):\n",
        "    path_list.append(node)\n",
        "    if tmp==node:\n",
        "      continue\n",
        "    cost_path += (G.get_edge_data(tmp, node).get('weight'))\n",
        "    tmp=node\n",
        "  path_list.remove(point1)\n",
        "  return cost_path"
      ],
      "metadata": {
        "id": "Fa-_JESK0QOv"
      },
      "id": "Fa-_JESK0QOv",
      "execution_count": 34,
      "outputs": []
    },
    {
      "cell_type": "code",
      "source": [
        "test=[]\n",
        "tot_cost=[]\n",
        "for driv_id in dict(matching):\n",
        "    type(driv_id.name)\n",
        "    tmp = [] #id of start node for driver driv_id\n",
        "    finish=drivers[driv_id.name].end_point['id']\n",
        "    cost=nx.dijkstra_path_length(G, drivers[driv_id.name].start_point['id'], finish)\n",
        "    for node in dict(matching)[driv_id]:                     \n",
        "        if riders[node.name].start_point['id']!=0:\n",
        "          cost+=nx.dijkstra_path_length(G, riders[node.name].start_point['id'], finish)\n",
        "          tmp.append(riders[node.name].start_point['id'])\n",
        "    tot_cost.append(cost)\n",
        "    test.append(tmp)"
      ],
      "metadata": {
        "id": "k_Md4TS_5pFK"
      },
      "id": "k_Md4TS_5pFK",
      "execution_count": 35,
      "outputs": []
    },
    {
      "cell_type": "code",
      "execution_count": 66,
      "id": "9ae466e4-f6a5-4e99-9a24-18d8b83b7842",
      "metadata": {
        "id": "9ae466e4-f6a5-4e99-9a24-18d8b83b7842",
        "outputId": "1c38e04e-ae4c-449b-d1a1-efad08b7ce4f",
        "colab": {
          "base_uri": "https://localhost:8080/"
        }
      },
      "outputs": [
        {
          "output_type": "stream",
          "name": "stdout",
          "text": [
            "[570, 1214, 944, 993, 1314, 485, 592, 859, 614, 230, 259, 208, 209, 217, 244, 204, 546, 693, 695, 666, 637, 638, 640, 663, 696, 656, 323, 318, 320, 321, 1127, 332, 1128, 1131, 1170, 1168, 1172, 2074, 1873, 1874, 1872, 1071, 1072, 214, 213, 2145, 2147, 2143, 409, 955, 954, 675, 673, 406, 405, 410, 414, 290, 91, 66, 38, 65, 411, 412, 103, 544, 891, 1187, 162, 349, 173, 170, 171, 1060]\n",
            "[96197.37567795385, 100524.7041842764, 95456.32792899606, 51714.93644288363, 90078.20338629054, 99537.82503933446, 174070.9760566482, 119366.78265374624, 144715.27978390717, 61255.539404806885, 123339.93123453793, 57664.24828286722, 122805.50646822268, 91691.40026942277, 83594.07587865654, 164544.62619717722, 138352.46718957287, 124555.28620046598, 130293.178580479, 106985.25998447347, 120864.03656472416, 91686.38544569093, 51321.66667011711, 112021.97704719333, 114320.28684135286, 75147.54141623649, 124195.52738953427, 61778.684414561794, 40247.24691315577, 92496.39031391821, 98881.1990286358, 100968.92340850379, 121560.71880689086, 145255.54580877244, 146891.86997392267, 49486.683288974964, 64895.92195069024, 84230.37673622073, 180948.10110195883, 125425.84009491609, 113333.75659212518, 96778.14083384426, 186534.1043309486, 98883.52231778437, 72002.17794427914]\n",
            "\n",
            "\n",
            "\n",
            " 45\n"
          ]
        }
      ],
      "source": [
        "from networkx.linalg.graphmatrix import incidence_matrix\n",
        "trips_list=[]\n",
        "driver_opt_list = [] #this will be a list of lists of node IDs e.g. [[1,4,254,45], [2,13]]\n",
        "best_cost=[]\n",
        "for driv_id in dict(matching):\n",
        "    type(driv_id.name)\n",
        "    tmp = []\n",
        "    tmp2 = []\n",
        "    tmp3=[]\n",
        "    \n",
        "    origin = drivers[driv_id.name].start_point['id'] #id of start node for driver driv_id\n",
        "    tmp3.append(node_coords[origin])\n",
        "    for node in dict(matching)[driv_id]:                     \n",
        "        if riders[node.name].start_point['id']!=0:\n",
        "          tmp.append(riders[node.name].start_point['id']) #coords of intermediate points\n",
        "        \n",
        "    permutazioni = list(permutations(tmp)) #list of all possible permutation of the riders\n",
        "    cost_path=math.inf\n",
        "    i=0\n",
        "    save_id=0\n",
        "    \n",
        "    for id in permutazioni:\n",
        "      all_path=[]\n",
        "      all_path.append(origin)\n",
        "      idx=0\n",
        "      tmp_cost=0\n",
        "      begin=origin\n",
        "      if len(id)!=0:\n",
        "        while(idx<len(id)): #calculation of the best path from origin to end passing through all the riders associated with the current driver\n",
        "          tmp_cost +=calc_path(G, begin, id[idx], all_path) #function that saves the hole path\n",
        "          begin=id[idx]\n",
        "          idx+=1\n",
        "          \n",
        "        tmp_cost += calc_path(G,begin, drivers[driv_id.name].end_point['id'],all_path)\n",
        "\n",
        "        if tmp_cost<cost_path:\n",
        "          cost_path=tmp_cost\n",
        "          save_id=i\n",
        "          best=[]\n",
        "          best=all_path \n",
        "      else: #costpath and optimal path when the driver has no riders associated\n",
        "        cost_path = 0\n",
        "        best=[]\n",
        "        best.append(origin)\n",
        "        cost_path += calc_path(G,begin, drivers[driv_id.name].end_point['id'],best) \n",
        "       \n",
        "      i+=1\n",
        "      if i == math.factorial(len(id)):\n",
        "        i=0\n",
        " \n",
        "    #print(best)\n",
        "    for node in best:\n",
        "      tmp2.append(node)\n",
        "      tmp3.append(node_coords[node])             \n",
        "    driver_opt_list.append(tmp2)\n",
        "    best_cost.append(cost_path)\n",
        "    trips_list.append(tmp3)\n",
        "    #print(driver_opt_list)\n",
        "    #print(cost_path)\n",
        "\n",
        "print(driver_opt_list[0])\n",
        "print(best_cost)\n",
        "print(\"\\n\\n\\n\", len(driver_opt_list))\n"
      ]
    },
    {
      "cell_type": "code",
      "source": [
        "CO2=0.15 #around 150gr of CO2 is emitted by a car in 1km\n",
        "saved_CO2=[]\n",
        "for i in range(0,len(best_cost)):\n",
        "  s_km=0\n",
        "  s_km=(tot_cost[i]-best_cost[i])/1000\n",
        "  saved_CO2.append(s_km*CO2)\n",
        "print(saved_CO2)"
      ],
      "metadata": {
        "colab": {
          "base_uri": "https://localhost:8080/"
        },
        "id": "VXI27E-DugKe",
        "outputId": "fed4380b-6b6c-4d97-9bdc-f032a9b458c6"
      },
      "id": "VXI27E-DugKe",
      "execution_count": 37,
      "outputs": [
        {
          "output_type": "stream",
          "name": "stdout",
          "text": [
            "[17.70477593234764, 1.5135692500486633, 23.142745425653164, 0.0, 0.0, 13.78068313084536, 38.779168012391814, 21.989191351073636, 35.70330910135998, 0.0, 33.27143155956185, 0.0, 20.469593716757615, 0.0, -1.094624666017932, -3.41632756598414, 29.757703691777035, 22.84891019681364, 19.739086415983085, 4.6409364259981665, 19.90377833917058, 4.185615677637684, 0.0, 0.09076965676731634, 38.0892109749991, 20.878951258637372, 21.678872680611885, 0.0, 0.0, 24.13431812988991, 19.51092715137904, 10.04125147808667, 2.4899201319862114, 12.903820297194999, 11.388639308287622, 0.0, -1.5448406898877547, -0.8709640788644428, 5.794146696274475, 16.89286011284236, 8.950878276559058, 26.673193792893482, -1.8932714075413954, 11.998038648820229, 8.502524263839597]\n"
          ]
        }
      ]
    },
    {
      "cell_type": "code",
      "execution_count": 74,
      "id": "15a45e3f-c5be-45d1-bbe2-164325d45f71",
      "metadata": {
        "id": "15a45e3f-c5be-45d1-bbe2-164325d45f71"
      },
      "outputs": [],
      "source": [
        "\"\"\"\n",
        "Returns a (potentially very long) list of coordinates that constitute a bounding box for the points in list_of_coords, with a tolerance of delta\n",
        "\"\"\"\n",
        "def find_bbox(list_of_coords, delta): \n",
        "    zipt = list(zip(*list_of_coords)) #[(long1, long2, ...),(lat1, lat2, ...)]\n",
        "    min_long = min(zipt[0])-delta\n",
        "    max_long = max(zipt[0])+delta\n",
        "    min_lat = min(zipt[1])-delta\n",
        "    max_lat = max(zipt[1])+delta\n",
        "    \n",
        "    ret = [c for c in coords_node if c[0]>= min_long and c[0]<= max_long and c[1]>= min_lat and c[1]<= max_lat]\n",
        "    return ret"
      ]
    },
    {
      "cell_type": "code",
      "execution_count": 77,
      "id": "72368127-8f7a-4c66-b373-b55b8d448c05",
      "metadata": {
        "id": "72368127-8f7a-4c66-b373-b55b8d448c05",
        "outputId": "d32c0332-4048-443f-9009-9ccac97e56d4",
        "colab": {
          "base_uri": "https://localhost:8080/"
        }
      },
      "outputs": [
        {
          "output_type": "stream",
          "name": "stdout",
          "text": [
            "[(12.31, 45.44), (12.27, 45.46), (12.28, 45.5), (12.2, 45.45), (12.2, 45.44), (12.24, 45.51), (12.25, 45.51), (12.26, 45.51), (12.27, 45.5), (12.25, 45.5), (12.25, 45.49), (12.24, 45.5), (12.26, 45.47), (12.26, 45.46), (12.22, 45.48), (12.23, 45.48), (12.23, 45.49), (12.29, 45.5), (12.27, 45.47), (12.24, 45.49), (12.28, 45.51), (12.26, 45.49), (12.27, 45.49), (12.27, 45.55), (12.23, 45.5), (12.23, 45.51), (12.25, 45.52), (12.24, 45.48), (12.27, 45.53), (12.28, 45.53), (12.26, 45.52), (12.29, 45.54), (12.27, 45.54), (12.29, 45.53), (12.3, 45.56), (12.28, 45.55), (12.26, 45.55), (12.22, 45.5), (11.95, 45.42), (11.95, 45.41), (12.05, 45.44), (12.25, 45.53), (12.26, 45.53), (12.24, 45.53), (12.29, 45.51), (12.3, 45.51), (12.3, 45.52), (12.23, 45.55), (12.28, 45.52), (12.31, 45.52), (12.28, 45.49), (12.27, 45.52), (12.27, 45.48), (12.22, 45.52), (12.22, 45.51), (12.26, 45.5), (12.27, 45.56), (12.29, 45.56), (12.25, 45.55), (12.31, 45.56), (12.37, 45.57), (12.3, 45.53), (12.3, 45.54), (12.18, 45.45), (12.16, 45.46), (12.16, 45.45), (12.21, 45.45), (12.31, 45.55), (12.09, 45.57), (12.1, 45.57), (12.1, 45.56), (12.13, 45.48), (12.14, 45.48), (12.13, 45.49), (12.14, 45.49), (12.14, 45.5), (11.95, 45.38), (12.21, 45.47), (12.24, 45.47), (12.23, 45.47), (12.12, 45.43), (12.13, 45.43), (12.15, 45.44), (12.15, 45.43), (12.09, 45.41), (12.09, 45.4), (12.09, 45.42), (12.04, 45.29), (12.03, 45.29), (12.04, 45.3), (12.07, 45.3), (11.96, 45.38), (11.94, 45.38), (12.33, 45.57), (12.35, 45.57), (12.34, 45.57), (11.89, 45.4), (11.89, 45.39), (11.91, 45.41), (11.91, 45.4), (11.9, 45.4), (11.9, 45.41), (11.88, 45.4), (11.88, 45.39), (11.87, 45.39), (11.87, 45.4), (11.86, 45.38), (11.85, 45.37), (11.92, 45.41), (11.91, 45.42), (11.92, 45.42), (11.93, 45.41), (11.88, 45.41), (11.91, 45.51), (11.9, 45.5), (11.91, 45.52), (11.89, 45.43), (11.89, 45.44), (11.9, 45.42), (11.87, 45.41), (11.86, 45.4), (11.86, 45.41), (12.11, 45.54), (12.1, 45.54), (12.11, 45.55), (12.11, 45.56), (11.87, 45.42), (12.24, 45.56), (12.25, 45.56), (11.84, 45.41), (11.84, 45.4), (11.85, 45.4), (12.11, 45.43), (12.09, 45.44), (12.25, 45.48), (11.92, 45.4), (11.93, 45.4), (11.85, 45.38), (11.89, 45.41), (12.29, 45.48), (12.3, 45.48), (12.3, 45.49), (11.9, 45.43), (12.24, 45.52), (12.25, 45.47), (11.88, 45.42), (11.89, 45.42), (11.87, 45.43), (11.88, 45.43), (12.19, 45.48), (12.18, 45.48), (12.19, 45.49), (12.18, 45.49), (12.21, 45.49), (12.11, 45.48), (12.11, 45.45), (12.12, 45.45), (12.2, 45.5), (11.85, 45.41), (11.86, 45.39), (11.9, 45.39), (11.84, 45.45), (11.85, 45.45), (11.84, 45.46), (11.86, 45.43), (11.86, 45.42), (11.86, 45.44), (11.85, 45.43), (12.16, 45.49), (12.17, 45.5), (12.17, 45.49), (12.15, 45.49), (12.06, 45.45), (11.84, 45.38), (11.93, 45.39), (11.92, 45.38), (12.22, 45.49), (12.11, 45.57), (12.24, 45.55), (12.34, 45.52), (12.33, 45.5), (11.85, 45.42), (12.21, 45.48), (12.11, 45.51), (12.1, 45.51), (11.88, 45.44), (12.28, 45.57), (12.17, 45.46), (12.21, 45.46), (11.94, 45.53), (11.94, 45.54), (11.95, 45.53), (11.96, 45.53), (11.96, 45.54), (11.93, 45.52), (11.93, 45.56), (12.18, 45.51), (12.19, 45.51), (12.22, 45.47), (11.98, 45.53), (12.08, 45.45), (12.07, 45.45), (11.99, 45.47), (11.99, 45.46), (12.0, 45.47), (11.98, 45.46), (12.02, 45.46), (12.0, 45.46), (12.02, 45.47), (12.03, 45.46), (12.26, 45.48), (11.87, 45.44), (11.87, 45.45), (12.24, 45.57), (12.23, 45.57), (12.18, 45.56), (12.17, 45.56), (12.18, 45.57), (12.17, 45.57), (12.19, 45.57), (12.13, 45.44), (12.2, 45.48), (11.91, 45.37), (11.9, 45.37), (11.92, 45.39), (12.32, 45.5), (12.31, 45.49), (12.31, 45.5), (12.3, 45.5), (12.31, 45.43), (11.96, 45.42), (12.04, 45.44), (12.22, 45.55), (12.22, 45.56), (12.12, 45.44), (12.23, 45.56), (12.21, 45.55), (12.22, 45.54), (12.21, 45.54), (12.21, 45.56), (12.2, 45.55), (12.15, 45.54), (12.23, 45.54), (12.29, 45.55), (12.3, 45.55), (12.31, 45.54), (12.24, 45.54), (11.86, 45.37), (11.97, 45.38), (11.98, 45.38), (11.97, 45.39), (11.96, 45.39), (11.99, 45.4), (11.96, 45.41), (12.0, 45.41), (12.0, 45.4), (11.99, 45.41), (11.98, 45.39), (11.98, 45.4), (11.94, 45.41), (11.94, 45.4), (11.94, 45.42), (11.95, 45.4), (11.94, 45.39), (11.95, 45.39), (12.1, 45.55), (12.07, 45.55), (12.06, 45.55), (12.07, 45.54), (11.98, 45.37), (11.97, 45.37), (11.99, 45.37), (12.01, 45.34), (12.31, 45.48), (12.29, 45.49), (11.84, 45.53), (11.84, 45.54), (11.85, 45.53), (11.85, 45.54), (11.84, 45.55), (11.85, 45.55), (11.85, 45.56), (11.84, 45.56), (11.85, 45.57), (11.84, 45.57), (11.86, 45.57), (11.96, 45.37), (11.86, 45.33), (11.85, 45.33), (11.84, 45.33), (11.84, 45.34), (11.87, 45.35), (11.86, 45.35), (11.86, 45.34), (12.22, 45.57), (11.85, 45.34), (11.87, 45.34), (11.86, 45.36), (12.15, 45.45), (11.87, 45.36), (12.28, 45.54), (11.88, 45.38), (11.88, 45.37), (11.88, 45.36), (11.89, 45.36), (12.2, 45.56), (12.19, 45.56), (12.31, 45.57), (12.27, 45.57), (11.97, 45.42), (11.88, 45.35), (11.85, 45.39), (12.12, 45.56), (11.87, 45.38), (12.33, 45.51), (11.85, 45.36), (12.25, 45.57), (12.26, 45.57), (12.3, 45.57), (12.29, 45.57), (12.26, 45.56), (12.34, 45.51), (12.34, 45.5), (12.22, 45.45), (12.22, 45.46), (12.21, 45.51), (12.2, 45.57), (12.19, 45.55), (12.2, 45.47), (12.2, 45.46), (12.19, 45.46), (12.2, 45.49), (11.87, 45.33), (12.32, 45.56), (12.25, 45.54), (11.9, 45.44), (12.23, 45.53), (12.01, 45.54), (12.02, 45.54), (11.96, 45.34), (11.96, 45.33), (11.97, 45.33), (12.07, 45.42), (12.26, 45.54), (12.21, 45.57), (11.93, 45.42), (11.85, 45.48), (11.86, 45.48), (11.89, 45.48), (11.84, 45.48), (11.84, 45.47), (11.86, 45.56), (11.84, 45.35), (12.13, 45.36), (12.13, 45.39), (12.13, 45.32), (12.13, 45.37), (12.13, 45.38), (12.12, 45.38), (12.13, 45.41), (12.14, 45.41), (12.15, 45.41), (12.19, 45.43), (11.84, 45.37), (12.25, 45.41), (12.24, 45.42), (12.2, 45.43), (11.89, 45.45), (11.9, 45.45), (11.9, 45.48), (11.91, 45.48), (11.91, 45.49), (11.92, 45.49), (11.91, 45.5), (11.9, 45.49), (11.89, 45.49), (12.32, 45.57), (12.12, 45.46), (12.14, 45.43), (12.12, 45.49), (12.17, 45.45), (11.98, 45.57), (11.99, 45.57), (11.98, 45.56), (11.94, 45.52), (11.95, 45.52), (11.96, 45.52), (11.93, 45.51), (11.93, 45.53), (11.92, 45.51), (11.84, 45.42), (11.84, 45.43), (11.92, 45.47), (11.92, 45.48), (11.92, 45.5), (12.16, 45.52), (12.15, 45.52), (11.91, 45.47), (11.93, 45.49), (11.93, 45.47), (11.93, 45.48), (11.94, 45.47), (11.91, 45.44), (12.22, 45.53), (12.19, 45.54), (12.19, 45.53), (12.18, 45.54), (11.96, 45.32), (11.98, 45.33), (11.99, 45.33), (11.99, 45.34), (11.98, 45.34), (11.99, 45.38), (12.01, 45.38), (12.02, 45.38), (12.03, 45.38), (12.17, 45.44), (12.18, 45.44), (12.16, 45.44), (12.17, 45.43), (12.16, 45.43), (12.18, 45.43), (12.19, 45.44), (11.91, 45.45), (11.92, 45.44), (11.91, 45.46), (11.93, 45.5), (11.87, 45.54), (11.87, 45.53), (11.88, 45.53), (11.88, 45.54), (12.17, 45.42), (12.16, 45.42), (12.18, 45.42), (12.15, 45.42), (12.14, 45.42), (12.13, 45.42), (12.14, 45.46), (12.15, 45.46), (11.9, 45.46), (11.9, 45.47), (11.89, 45.47), (11.93, 45.44), (11.92, 45.43), (11.92, 45.46), (11.92, 45.56), (11.92, 45.45), (11.95, 45.43), (11.93, 45.55), (11.92, 45.55), (11.93, 45.54), (11.94, 45.43), (11.94, 45.44), (11.96, 45.44), (11.95, 45.44), (11.96, 45.43), (11.98, 45.44), (11.97, 45.44), (11.94, 45.49), (11.95, 45.47), (11.96, 45.49), (11.96, 45.48), (11.97, 45.49), (11.97, 45.5), (11.89, 45.46), (11.88, 45.45), (11.87, 45.46), (11.88, 45.46), (11.88, 45.47), (11.87, 45.47), (11.87, 45.48), (11.88, 45.48), (11.91, 45.43), (12.04, 45.38), (12.05, 45.38), (12.0, 45.55), (12.05, 45.4), (12.05, 45.39), (12.06, 45.36), (12.06, 45.37), (12.05, 45.37), (12.06, 45.38), (12.04, 45.39), (12.03, 45.39), (12.07, 45.38), (12.08, 45.38), (12.07, 45.39), (12.08, 45.39), (12.0, 45.38), (12.09, 45.38), (11.97, 45.54), (11.95, 45.54), (11.96, 45.55), (12.36, 45.57), (12.14, 45.56), (12.14, 45.57), (12.15, 45.56), (12.13, 45.56), (12.13, 45.57), (12.12, 45.57), (12.09, 45.45), (12.07, 45.44), (11.96, 45.45), (11.95, 45.46), (11.95, 45.45), (11.98, 45.47), (12.01, 45.55), (12.02, 45.55), (11.98, 45.42), (12.09, 45.54), (12.08, 45.54), (12.08, 45.55), (11.96, 45.4), (11.97, 45.4), (11.97, 45.41), (11.98, 45.36), (11.96, 45.36), (11.95, 45.37), (11.91, 45.39), (11.93, 45.36), (11.93, 45.38), (11.93, 45.37), (12.03, 45.47), (12.03, 45.48), (12.02, 45.48), (12.01, 45.48), (12.01, 45.47), (12.0, 45.48), (11.9, 45.38), (11.89, 45.38), (11.91, 45.38), (11.98, 45.51), (11.97, 45.51), (11.96, 45.51), (11.98, 45.55), (11.95, 45.55), (11.93, 45.34), (11.94, 45.34), (11.94, 45.37), (12.18, 45.55), (11.94, 45.36), (11.95, 45.36), (11.94, 45.35), (11.93, 45.35), (11.93, 45.43), (12.17, 45.55), (12.16, 45.56), (12.16, 45.55), (11.87, 45.37), (11.84, 45.39), (12.25, 45.46), (12.0, 45.39), (11.99, 45.39), (11.84, 45.52), (11.85, 45.44), (11.84, 45.44), (11.85, 45.46), (12.01, 45.41), (11.86, 45.28), (11.87, 45.28), (11.88, 45.28), (11.87, 45.29), (12.03, 45.5), (12.03, 45.51), (12.04, 45.52), (12.05, 45.52), (12.12, 45.47), (12.14, 45.55), (12.15, 45.55), (12.33, 45.56), (11.97, 45.43), (11.97, 45.36), (11.97, 45.35), (11.96, 45.35), (11.99, 45.36), (11.99, 45.35), (12.0, 45.36), (12.0, 45.35), (12.0, 45.34), (11.97, 45.34), (11.95, 45.35), (12.07, 45.31), (12.03, 45.3), (12.05, 45.29), (12.01, 45.36), (12.01, 45.37), (12.01, 45.44), (12.0, 45.37), (11.98, 45.41), (12.03, 45.36), (12.04, 45.36), (12.03, 45.35), (12.05, 45.34), (11.96, 45.46), (12.19, 45.47), (12.02, 45.39), (12.01, 45.4), (11.99, 45.42), (12.0, 45.42), (11.98, 45.43), (11.99, 45.44), (11.99, 45.43), (12.0, 45.44), (12.01, 45.43), (12.18, 45.53), (12.23, 45.52), (12.18, 45.52), (12.17, 45.53), (12.17, 45.54), (12.16, 45.54), (12.05, 45.35), (12.13, 45.28), (12.02, 45.36), (12.01, 45.35), (12.02, 45.35), (12.02, 45.34), (12.02, 45.33), (12.01, 45.33), (12.02, 45.32), (12.03, 45.32), (12.03, 45.33), (12.04, 45.32), (12.04, 45.33), (12.06, 45.31), (12.05, 45.31), (12.05, 45.32), (12.04, 45.31), (12.03, 45.31), (11.87, 45.31), (11.88, 45.31), (11.9, 45.31), (11.89, 45.31), (11.85, 45.32), (11.85, 45.31), (11.86, 45.32), (11.86, 45.31), (12.36, 45.56), (12.28, 45.48), (12.01, 45.5), (12.05, 45.33), (12.12, 45.33), (12.11, 45.33), (12.12, 45.32), (12.11, 45.32), (12.01, 45.39), (12.07, 45.36), (12.08, 45.36), (12.08, 45.37), (12.09, 45.36), (12.1, 45.36), (12.11, 45.36), (12.09, 45.35), (12.12, 45.39), (12.11, 45.38), (12.04, 45.37), (12.08, 45.4), (12.08, 45.41), (12.06, 45.41), (12.07, 45.41), (12.05, 45.41), (11.86, 45.45), (11.84, 45.36), (12.1, 45.52), (12.09, 45.52), (12.09, 45.51), (12.1, 45.53), (12.11, 45.53), (12.08, 45.53), (12.09, 45.53), (11.93, 45.57), (11.94, 45.57), (11.92, 45.52), (11.92, 45.53), (12.15, 45.53), (12.14, 45.52), (12.01, 45.32), (12.0, 45.32), (11.99, 45.32), (12.0, 45.3), (11.99, 45.3), (11.99, 45.31), (11.98, 45.31), (11.98, 45.32), (11.97, 45.32), (12.01, 45.3), (11.97, 45.31), (11.99, 45.29), (12.01, 45.31), (12.0, 45.31), (12.0, 45.33), (12.02, 45.37), (12.03, 45.37), (12.02, 45.4), (12.03, 45.4), (12.32, 45.54), (12.32, 45.55), (12.33, 45.54), (12.32, 45.53), (12.33, 45.53), (12.14, 45.45), (12.13, 45.46), (11.96, 45.47), (11.95, 45.48), (12.05, 45.47), (12.05, 45.46), (11.98, 45.48), (11.97, 45.48), (11.97, 45.47), (11.94, 45.48), (11.95, 45.49), (11.94, 45.45), (11.94, 45.5), (11.95, 45.5), (11.96, 45.5), (11.95, 45.51), (11.98, 45.49), (11.99, 45.49), (11.9, 45.51), (11.9, 45.52), (11.89, 45.51), (11.89, 45.5), (11.97, 45.53), (11.99, 45.53), (11.99, 45.54), (11.98, 45.54), (12.0, 45.53), (12.0, 45.54), (11.99, 45.55), (12.0, 45.56), (11.99, 45.56), (12.0, 45.57), (12.01, 45.51), (12.0, 45.51), (11.98, 45.5), (11.99, 45.5), (12.02, 45.51), (12.02, 45.5), (11.99, 45.52), (12.0, 45.52), (11.99, 45.51), (12.03, 45.45), (12.04, 45.45), (12.02, 45.45), (12.04, 45.46), (11.94, 45.55), (11.94, 45.51), (11.97, 45.52), (12.01, 45.45), (12.0, 45.49), (12.03, 45.55), (12.03, 45.54), (12.04, 45.55), (12.03, 45.56), (12.04, 45.54), (12.05, 45.55), (12.05, 45.54), (12.02, 45.53), (12.01, 45.52), (12.01, 45.53), (11.98, 45.52), (12.03, 45.53), (12.06, 45.57), (12.04, 45.57), (12.04, 45.43), (12.05, 45.43), (12.11, 45.49), (12.11, 45.5), (12.12, 45.51), (12.03, 45.43), (12.02, 45.43), (12.02, 45.44), (11.92, 45.57), (12.34, 45.56), (11.85, 45.35), (11.92, 45.54), (11.91, 45.54), (11.87, 45.55), (11.88, 45.55), (11.89, 45.54), (11.89, 45.53), (11.88, 45.49), (11.88, 45.5), (11.87, 45.5), (11.88, 45.51), (11.85, 45.49), (11.85, 45.5), (11.93, 45.45), (12.15, 45.51), (11.84, 45.3), (11.85, 45.3), (11.84, 45.29), (11.85, 45.29), (12.35, 45.56), (12.34, 45.55), (12.35, 45.55), (11.86, 45.29), (11.85, 45.28), (11.86, 45.3), (11.87, 45.3), (11.88, 45.3), (11.88, 45.29), (11.89, 45.3), (11.89, 45.29), (11.9, 45.3), (12.08, 45.5), (12.09, 45.5), (12.08, 45.51), (12.07, 45.49), (12.1, 45.49), (12.04, 45.51), (12.04, 45.5), (12.05, 45.5), (12.05, 45.51), (11.9, 45.28), (11.9, 45.29), (11.91, 45.28), (11.9, 45.32), (11.88, 45.33), (11.88, 45.32), (11.89, 45.35), (11.9, 45.35), (11.88, 45.34), (11.97, 45.46), (12.01, 45.46), (12.08, 45.46), (12.07, 45.46), (12.06, 45.46), (12.04, 45.49), (12.05, 45.49), (12.04, 45.48), (12.01, 45.49), (12.02, 45.49), (12.03, 45.49), (12.05, 45.48), (11.93, 45.46), (12.13, 45.47), (12.12, 45.48), (12.15, 45.47), (12.15, 45.48), (12.15, 45.5), (12.16, 45.5), (12.16, 45.48), (12.02, 45.29), (12.11, 45.46), (12.11, 45.47), (11.84, 45.32), (12.1, 45.46), (12.21, 45.44), (12.22, 45.44), (12.23, 45.44), (12.22, 45.43), (12.22, 45.42), (12.21, 45.43), (12.25, 45.43), (12.25, 45.42), (12.23, 45.43), (12.1, 45.45), (12.05, 45.42), (12.33, 45.49), (12.02, 45.41), (12.01, 45.42), (12.32, 45.49), (12.06, 45.39), (12.03, 45.41), (12.04, 45.4), (12.16, 45.53), (12.04, 45.35), (12.04, 45.34), (12.06, 45.42), (12.1, 45.43), (12.1, 45.42), (12.12, 45.41), (12.12, 45.42), (12.11, 45.41), (12.11, 45.42), (12.0, 45.45), (11.99, 45.45), (11.98, 45.45), (11.89, 45.33), (11.9, 45.33), (11.95, 45.34), (12.18, 45.5), (12.19, 45.52), (12.2, 45.52), (12.29, 45.47), (11.91, 45.31), (12.07, 45.48), (12.07, 45.47), (12.06, 45.48), (12.08, 45.47), (12.06, 45.47), (12.04, 45.47), (11.96, 45.31), (11.95, 45.31), (11.93, 45.31), (11.94, 45.3), (11.94, 45.32), (11.93, 45.3), (11.93, 45.33), (11.92, 45.29), (11.92, 45.31), (11.99, 45.28), (12.0, 45.29), (12.05, 45.28), (12.06, 45.29), (12.07, 45.28), (12.08, 45.28), (11.95, 45.57), (11.86, 45.46), (11.95, 45.3), (12.02, 45.57), (12.1, 45.48), (11.86, 45.49), (12.03, 45.42), (12.1, 45.5), (12.06, 45.34), (12.16, 45.57), (12.21, 45.5), (12.34, 45.54), (12.1, 45.47), (12.14, 45.44), (12.28, 45.47), (12.18, 45.47), (12.17, 45.47), (12.17, 45.48), (12.08, 45.29), (12.09, 45.28), (12.15, 45.57), (12.07, 45.5), (12.07, 45.51), (12.06, 45.51), (12.06, 45.5), (11.86, 45.54), (12.2, 45.51), (12.38, 45.57), (12.07, 45.43), (12.16, 45.47), (12.38, 45.52), (12.37, 45.52), (12.36, 45.52), (12.35, 45.51), (12.11, 45.44), (12.23, 45.46), (12.24, 45.46), (12.23, 45.45), (12.38, 45.51), (11.92, 45.36), (11.85, 45.47), (11.86, 45.47), (12.33, 45.55), (12.21, 45.52), (12.14, 45.47), (11.89, 45.34), (11.9, 45.34), (11.91, 45.36), (11.9, 45.36), (11.89, 45.37), (11.92, 45.37), (12.07, 45.57), (12.08, 45.57), (12.07, 45.56), (12.2, 45.53), (11.91, 45.3), (11.96, 45.3), (11.96, 45.29), (11.95, 45.29), (11.94, 45.29), (11.96, 45.28), (11.95, 45.28), (11.9, 45.55), (11.89, 45.55), (11.9, 45.56), (11.91, 45.56), (11.91, 45.55), (11.9, 45.54), (11.88, 45.57), (11.89, 45.57), (11.9, 45.57), (11.89, 45.56), (12.17, 45.51), (11.92, 45.34), (11.92, 45.35), (11.91, 45.35), (11.86, 45.52), (11.85, 45.51), (11.85, 45.52), (11.84, 45.51), (11.86, 45.51), (11.87, 45.52), (11.88, 45.52), (11.89, 45.52), (11.87, 45.56), (11.86, 45.55), (11.86, 45.53), (11.91, 45.32), (12.02, 45.42), (12.04, 45.41), (12.04, 45.28), (12.03, 45.28), (12.02, 45.28), (12.01, 45.28), (12.01, 45.29), (12.07, 45.29), (12.06, 45.28), (12.1, 45.28), (12.12, 45.29), (12.09, 45.29), (12.08, 45.3), (12.1, 45.29), (12.11, 45.29), (12.1, 45.3), (12.11, 45.3), (12.06, 45.3), (12.02, 45.3), (12.23, 45.42), (12.19, 45.42), (12.19, 45.41), (12.06, 45.54), (12.07, 45.53), (12.05, 45.53), (12.06, 45.53), (12.0, 45.5), (12.03, 45.52), (12.02, 45.52), (12.08, 45.56), (12.09, 45.56), (11.94, 45.46), (12.04, 45.42), (12.07, 45.34), (12.07, 45.35), (12.08, 45.34), (12.06, 45.35), (12.09, 45.31), (12.08, 45.32), (12.07, 45.32), (12.08, 45.31), (12.3, 45.44), (12.1, 45.41), (12.1, 45.4), (12.1, 45.35), (12.12, 45.36), (12.07, 45.4), (12.03, 45.57), (11.96, 45.57), (11.96, 45.56), (12.01, 45.57), (11.97, 45.56), (11.97, 45.57), (11.97, 45.55), (11.87, 45.57), (11.9, 45.53), (11.91, 45.53), (12.06, 45.44), (12.06, 45.43), (12.14, 45.51), (12.09, 45.3), (12.11, 45.34), (12.09, 45.33), (12.1, 45.33), (12.08, 45.33), (12.09, 45.34), (12.08, 45.35), (12.09, 45.37), (12.1, 45.34), (12.12, 45.34), (12.07, 45.37), (12.14, 45.4), (12.15, 45.4), (12.15, 45.38), (12.16, 45.38), (12.16, 45.39), (12.14, 45.39), (12.18, 45.4), (12.16, 45.41), (11.91, 45.34), (11.87, 45.51), (12.11, 45.4), (12.09, 45.39), (12.1, 45.39), (11.93, 45.32), (11.94, 45.33), (11.94, 45.31), (11.87, 45.32), (12.28, 45.46), (12.02, 45.31), (11.91, 45.29), (11.92, 45.3), (11.91, 45.33), (11.92, 45.33), (11.92, 45.28), (12.01, 45.56), (12.09, 45.49), (12.08, 45.49), (12.12, 45.5), (12.06, 45.49), (12.09, 45.47), (12.09, 45.46), (11.92, 45.32), (11.93, 45.29), (11.94, 45.28), (12.07, 45.33), (12.06, 45.33), (12.06, 45.32), (12.31, 45.53), (12.36, 45.53), (12.35, 45.52), (11.84, 45.49), (11.95, 45.56), (11.94, 45.56), (11.87, 45.49), (11.86, 45.5), (11.88, 45.56), (11.84, 45.5), (12.35, 45.53), (11.97, 45.3), (12.27, 45.51), (12.08, 45.42), (12.04, 45.53), (11.97, 45.28), (11.98, 45.28), (11.98, 45.29), (12.03, 45.34), (11.98, 45.3), (12.17, 45.52), (12.16, 45.51), (12.13, 45.51), (12.13, 45.52), (12.11, 45.52), (12.06, 45.56), (12.05, 45.56), (12.09, 45.55), (12.05, 45.57), (12.14, 45.54), (12.12, 45.53), (12.12, 45.54), (12.12, 45.52), (12.13, 45.54), (12.13, 45.55), (12.12, 45.55), (12.02, 45.56), (12.09, 45.43), (12.08, 45.43), (12.08, 45.44), (12.19, 45.45), (12.18, 45.46), (12.19, 45.5), (11.95, 45.32), (11.95, 45.33), (12.1, 45.38), (12.08, 45.52), (12.06, 45.52), (12.07, 45.52), (12.04, 45.56), (11.97, 45.45), (12.21, 45.53), (12.2, 45.54), (12.13, 45.53), (12.14, 45.53), (12.0, 45.28), (12.11, 45.39), (12.13, 45.45), (12.1, 45.37), (12.12, 45.37), (12.09, 45.48), (12.12, 45.28), (12.11, 45.28), (12.2, 45.41), (12.18, 45.41), (12.3, 45.43), (11.91, 45.57), (12.37, 45.55), (12.24, 45.45), (12.25, 45.45), (12.13, 45.5), (12.03, 45.44), (12.27, 45.45), (12.05, 45.36)]\n"
          ]
        }
      ],
      "source": [
        "len(find_bbox(trips_list[18], 0)) "
      ]
    },
    {
      "cell_type": "code",
      "source": [
        "import networkx as nx\n",
        "import matplotlib.pyplot as plt\n",
        "\n",
        "routes = list(driver_opt_list[7])\n",
        "edges = []\n",
        "tmp_riders=list(test[7])\n",
        "\n",
        "for i in range(0,len(routes)-1):\n",
        "    edges.append([(routes[i],routes[i+1])])\n",
        "\n",
        "print(\"Graph has %d nodes with %d edges\" %(G.number_of_nodes(),    \n",
        "G.number_of_edges()))\n",
        "\n",
        "nx.draw_networkx(G, pos=node_coords, with_labels=False, node_size=1)\n",
        "#nx.draw_networkx_labels(G,pos=pos, font_size=3)\n",
        "for edgelist in edges:\n",
        "  nx.draw_networkx_edges(G,pos=node_coords,edgelist=edgelist,edge_color = 'r', width=5)\n",
        "nx.draw_networkx_nodes(G, pos=node_coords, nodelist=tmp_riders, node_color='g',node_size=50)\n",
        "nx.draw_networkx_nodes(G, pos=node_coords, nodelist=[routes[0],routes[len(routes)-1]], node_color='b',node_size=50)\n",
        "plt.savefig('graph.png', dpi=1000)\n"
      ],
      "metadata": {
        "colab": {
          "base_uri": "https://localhost:8080/",
          "height": 265
        },
        "id": "TiO861wv63yv",
        "outputId": "54c4806b-832c-4efe-dea1-f6d66feeacf1"
      },
      "id": "TiO861wv63yv",
      "execution_count": 97,
      "outputs": [
        {
          "output_type": "stream",
          "name": "stdout",
          "text": [
            "Graph has 2239 nodes with 4266 edges\n"
          ]
        },
        {
          "output_type": "display_data",
          "data": {
            "text/plain": [
              "<Figure size 432x288 with 1 Axes>"
            ],
            "image/png": "[encoded data removed]"
          },
          "metadata": {}
        }
      ]
    },
    {
      "cell_type": "markdown",
      "id": "7123e9ab-827e-47c9-9899-d87cc230c5ba",
      "metadata": {
        "id": "7123e9ab-827e-47c9-9899-d87cc230c5ba"
      },
      "source": [
        "# E' parecchio"
      ]
    },
    {
      "cell_type": "code",
      "execution_count": null,
      "id": "8e8c05cd-a0aa-4a16-b627-d9a09537fd45",
      "metadata": {
        "id": "8e8c05cd-a0aa-4a16-b627-d9a09537fd45",
        "outputId": "e17ddf38-f1c1-4849-ea07-eaf4c588b787"
      },
      "outputs": [
        {
          "name": "stdout",
          "output_type": "stream",
          "text": [
            "took 577.0677988529205 seconds to process\n"
          ]
        }
      ],
      "source": [
        "#e provando lo steiner tree normale? (2-(2/t))-approximation\n",
        "import time\n",
        "start = time.time()\n",
        "\n",
        "\"\"\"\n",
        "for trip in trips_list:    #processing for all nodes:estimated time: 15'\n",
        "    ids = [coords_node[x] for x in trip]\n",
        "    nx.algorithms.approximation.steiner_tree(G, ids)\n",
        "\"\"\"\n",
        "for i in range(30):\n",
        "    x = np.random.randint(0,len(trips_list))\n",
        "    ids = [coords_node[x] for x in trip]\n",
        "    nx.algorithms.approximation.steiner_tree(G, ids)\n",
        "\n",
        "pass\n",
        "end = time.time()\n",
        "delta = end - start\n",
        "print(\"took\", delta, \"seconds to process\")\n"
      ]
    },
    {
      "cell_type": "code",
      "execution_count": null,
      "id": "5ac32c07-6626-41bf-87d7-7c8ee11e66bf",
      "metadata": {
        "id": "5ac32c07-6626-41bf-87d7-7c8ee11e66bf"
      },
      "outputs": [],
      "source": [
        ""
      ]
    }
  ],
  "metadata": {
    "colab": {
      "collapsed_sections": [],
      "name": "AlgoCarSharing.ipynb",
      "provenance": []
    },
    "kernelspec": {
      "display_name": "Python 3 (ipykernel)",
      "language": "python",
      "name": "python3"
    },
    "language_info": {
      "codemirror_mode": {
        "name": "ipython",
        "version": 3
      },
      "file_extension": ".py",
      "mimetype": "text/x-python",
      "name": "python",
      "nbconvert_exporter": "python",
      "pygments_lexer": "ipython3",
      "version": "3.8.13"
    }
  },
  "nbformat": 4,
  "nbformat_minor": 5
}
