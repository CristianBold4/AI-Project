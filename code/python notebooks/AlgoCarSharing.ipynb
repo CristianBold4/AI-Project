{
 "cells": [
  {
   "cell_type": "markdown",
   "id": "9a84ad5b-ba78-4156-9683-a3cd1eb92438",
   "metadata": {
    "id": "9a84ad5b-ba78-4156-9683-a3cd1eb92438"
   },
   "source": [
    "## Test per progetto AI"
   ]
  },
  {
   "cell_type": "markdown",
   "id": "f78b133c-c586-4acb-927f-9c6ed2425b37",
   "metadata": {
    "id": "f78b133c-c586-4acb-927f-9c6ed2425b37"
   },
   "source": [
    "E' necessario caricare i file roads_small.json e nodes_small.json"
   ]
  },
  {
   "cell_type": "code",
   "execution_count": 1,
   "id": "4bd11cac-00d0-4554-add1-786f80976988",
   "metadata": {
    "id": "4bd11cac-00d0-4554-add1-786f80976988"
   },
   "outputs": [],
   "source": [
    "import json\n",
    "import numpy as np\n",
    "import matplotlib.pyplot as plt\n",
    "import math\n",
    "import networkx as nx\n",
    "import random\n",
    "\n",
    "from datetime import datetime\n",
    "from datetime import timedelta"
   ]
  },
  {
   "cell_type": "code",
   "execution_count": 2,
   "id": "ee530b18-25c2-4d55-8e0b-c6ed8e979380",
   "metadata": {
    "colab": {
     "base_uri": "https://localhost:8080/"
    },
    "id": "ee530b18-25c2-4d55-8e0b-c6ed8e979380",
    "outputId": "d086db7d-22b8-4446-ad36-7bb3b18e5cd4"
   },
   "outputs": [
    {
     "name": "stdout",
     "output_type": "stream",
     "text": [
      "Num nodes 2239\n",
      "Num roads 10138\n"
     ]
    }
   ],
   "source": [
    "nodes = json.load(open('../datasets/new_nodes.json', 'r'))\n",
    "roads = json.load(open('../datasets/new_roads.json', 'r'))\n",
    "print(\"Num nodes\", len(nodes))\n",
    "print(\"Num roads\", len(roads))"
   ]
  },
  {
   "cell_type": "code",
   "execution_count": null,
   "id": "14b91ae0-cdb3-418f-b7a0-4240b43df0c2",
   "metadata": {},
   "outputs": [],
   "source": [
    "np.random.seed(0) # fix the random seed for np"
   ]
  },
  {
   "cell_type": "markdown",
   "id": "0c9bd191-fbf2-4926-9fe3-5315f2b63def",
   "metadata": {
    "id": "0c9bd191-fbf2-4926-9fe3-5315f2b63def"
   },
   "source": [
    "Create two maps as lookup tables for the nodes"
   ]
  },
  {
   "cell_type": "code",
   "execution_count": 3,
   "id": "d9ddb0c8-29d5-4fe1-9302-ac1481b290ef",
   "metadata": {
    "id": "d9ddb0c8-29d5-4fe1-9302-ac1481b290ef"
   },
   "outputs": [],
   "source": [
    "#create a lookup table for point coordinates\n",
    "node_coords = {point['id']:tuple(point['coordinates']) for point in nodes} #dictonary initialization with comprehension\n",
    "coords_node = {tuple(point['coordinates']):point['id'] for point in nodes} #tuples are hashable-> can be key to a dictionary"
   ]
  },
  {
   "cell_type": "code",
   "execution_count": 4,
   "id": "8bad6089-b3c1-499e-be26-0c53d98e7120",
   "metadata": {
    "colab": {
     "base_uri": "https://localhost:8080/"
    },
    "id": "8bad6089-b3c1-499e-be26-0c53d98e7120",
    "outputId": "4c61ed68-c45e-483e-8de1-e4c6b2bed6b3"
   },
   "outputs": [
    {
     "name": "stdout",
     "output_type": "stream",
     "text": [
      "(12.55, 45.59)\n"
     ]
    }
   ],
   "source": [
    "print(node_coords[roads[11]['p1']]) #retrieve coordinates from node ID"
   ]
  },
  {
   "cell_type": "markdown",
   "id": "79e8398c-a30b-4bca-a4c5-28c647a5dc03",
   "metadata": {
    "id": "79e8398c-a30b-4bca-a4c5-28c647a5dc03"
   },
   "source": [
    "A questo punto bisogna generare le query degli utenti:\n",
    "\n",
    "semplificazione: l'orario non influisce sui tempi di percorrenza -> dipendono solo dalla distanza"
   ]
  },
  {
   "cell_type": "markdown",
   "id": "a81a0a84-db99-4b8b-8d81-cad548c57c5c",
   "metadata": {
    "id": "a81a0a84-db99-4b8b-8d81-cad548c57c5c"
   },
   "source": [
    "Consider each trip as starting or ending in one of the nodes: the function below serves to approximate the closest node on the map"
   ]
  },
  {
   "cell_type": "markdown",
   "id": "bab3d7ee-4cd8-4423-a556-bb23484829b8",
   "metadata": {
    "id": "bab3d7ee-4cd8-4423-a556-bb23484829b8"
   },
   "source": [
    "Regular transfer (not related to pendolarism) is modeled as a gaussian random variable with respect to location ($\\mu = 15km, \\sigma = 10km$)  "
   ]
  },
  {
   "cell_type": "code",
   "execution_count": 5,
   "id": "dlYeFIyA9vIN",
   "metadata": {
    "id": "dlYeFIyA9vIN"
   },
   "outputs": [],
   "source": [
    "# compute distance between two nodes\n",
    "\n",
    "def compute_distance(x_coord_1, y_coord_1, x_coord_2, y_coord_2):\n",
    "  x_coord_1 = x_coord_1 * 111.32\n",
    "  x_coord_2 = x_coord_2 * 111.32\n",
    "  y_coord_1 = 40075 * math.cos(x_coord_1)/360 * y_coord_1;\n",
    "  y_coord_2 = 40075 * math.cos(x_coord_2)/360 * y_coord_2;\n",
    "  dist = math.sqrt((y_coord_1 - y_coord_2)**2 + (x_coord_1 - x_coord_2)**2)\n",
    "  return dist"
   ]
  },
  {
   "cell_type": "code",
   "execution_count": 6,
   "id": "j33_1pvp0Yyd",
   "metadata": {
    "id": "j33_1pvp0Yyd"
   },
   "outputs": [],
   "source": [
    "def compute_distance(x1, y1, x2, y2) :\n",
    "  R = 6371e3 #metres\n",
    "  phi1 = x1 * math.pi/180 # φ, λ in radians\n",
    "  phi2 = x2 * math.pi/180\n",
    "  delta_phi = (x2-x1) * math.pi/180\n",
    "  delta_lambda = (y2-y1) * math.pi/180\n",
    "\n",
    "  a = math.sin(delta_phi/2) * math.sin(delta_phi/2) + math.cos(phi1) * math.cos(phi2) * math.sin(delta_lambda/2) * math.sin(delta_lambda/2)\n",
    "  c = 2 * math.atan2(math.sqrt(a), math.sqrt(1-a));\n",
    "\n",
    "  d = R * c #in metres\n",
    "\n",
    "  return d"
   ]
  },
  {
   "cell_type": "code",
   "execution_count": 7,
   "id": "MqdpU6s99pZ9",
   "metadata": {
    "colab": {
     "base_uri": "https://localhost:8080/"
    },
    "id": "MqdpU6s99pZ9",
    "outputId": "49b87dfa-dc46-4d8d-a1c7-afdd53580d21"
   },
   "outputs": [
    {
     "data": {
      "text/plain": [
       "{'weight': 1553.904995103261}"
      ]
     },
     "execution_count": 7,
     "metadata": {},
     "output_type": "execute_result"
    }
   ],
   "source": [
    "# use of networkx, creation of graph\n",
    "\n",
    "G = nx.Graph()\n",
    "\n",
    "G.add_nodes_from(range(len(nodes)))\n",
    "for road in roads :\n",
    "  n1 = int(road.get(\"p1\"))\n",
    "  n2 = int(road.get(\"p2\"))\n",
    "  x_coord_1 = float(nodes[n1].get('coordinates')[0])\n",
    "  y_coord_1 = float(nodes[n1].get('coordinates')[1])\n",
    "  x_coord_2 = float(nodes[n2].get('coordinates')[0])\n",
    "  y_coord_2 = float(nodes[n2].get('coordinates')[1])\n",
    "  dist = compute_distance(x_coord_1, y_coord_1, x_coord_2, y_coord_2)\n",
    "\n",
    "  G.add_edge(n1, n2, weight=dist)\n",
    "\n",
    "G.get_edge_data(0, 1)\n",
    "\n"
   ]
  },
  {
   "cell_type": "code",
   "execution_count": 8,
   "id": "d587b013-ad1f-4648-8c47-e2b7f8e868ac",
   "metadata": {
    "id": "d587b013-ad1f-4648-8c47-e2b7f8e868ac"
   },
   "outputs": [],
   "source": [
    "def generate_ratings(n_driver):\n",
    "  mean, std = 3.5, 0.5\n",
    "  x = np.random.normal(mean, std, size=(n_driver, 1))\n",
    "  ratings = np.empty(shape = (n_driver, 1))\n",
    "  for i in range(n_driver):\n",
    "    y = math.ceil(x[i])\n",
    "    if (y - x[i] > 0.5) :\n",
    "      ratings[i] = y - 0.5\n",
    "    else :\n",
    "      ratings[i] = y\n",
    "      \n",
    "  return ratings\n"
   ]
  },
  {
   "cell_type": "code",
   "execution_count": 9,
   "id": "cOIS8p1_Eh0j",
   "metadata": {
    "colab": {
     "base_uri": "https://localhost:8080/"
    },
    "id": "cOIS8p1_Eh0j",
    "outputId": "9ae5957d-35a8-4097-8336-54e44a0af677"
   },
   "outputs": [
    {
     "name": "stdout",
     "output_type": "stream",
     "text": [
      "[{'id': 2238, 'coordinates': (12.39, 45.62)}, {'id': 380, 'coordinates': (12.46, 45.46)}, {'id': 393, 'coordinates': (12.02, 45.21)}, {'id': 272, 'coordinates': (12.16, 45.49)}, {'id': 2115, 'coordinates': (12.62, 45.65)}, {'id': 2037, 'coordinates': (11.81, 45.5)}, {'id': 1808, 'coordinates': (11.86, 45.53)}]\n"
     ]
    }
   ],
   "source": [
    "# pool of end points \n",
    "# define a random number of destinations (e.g. from 6 to 8)\n",
    "num_dest = random.randrange(6, 8, 1)\n",
    "pool_dest = []\n",
    "for i in range(num_dest):\n",
    "  rand = random.randrange(len(node_coords))\n",
    "  id_dest = list(node_coords.keys())[rand]\n",
    "  coord_dest = list(node_coords.values())[rand]\n",
    "  pool_dest.append({'id':id_dest, 'coordinates':coord_dest})\n",
    "\n",
    "print(pool_dest)"
   ]
  },
  {
   "cell_type": "markdown",
   "id": "aaswT2gyQUTD",
   "metadata": {
    "id": "aaswT2gyQUTD"
   },
   "source": [
    "Minimum path lenght:\n",
    "- Drivers: 40 km\n",
    "- Riders: 10 km"
   ]
  },
  {
   "cell_type": "code",
   "execution_count": 10,
   "id": "Y9GxoHPZb2dD",
   "metadata": {
    "id": "Y9GxoHPZb2dD"
   },
   "outputs": [],
   "source": [
    "def generate_trips(n, gen):\n",
    "  # needs to define, for each driver/rider, one random starting point, and peak from the pool of destinations a random end points\n",
    "  trips_start = []\n",
    "  trips_dest = []\n",
    "  for i in range(n):\n",
    "    # start point\n",
    "    if (gen == 'driver') :\n",
    "      while True:\n",
    "        # start point\n",
    "        rand_s = random.randrange((len(nodes)))\n",
    "        id_start = list(node_coords.keys())[rand_s]\n",
    "        # end point\n",
    "        rand_d = random.randrange(num_dest)\n",
    "        dest = pool_dest[rand_d]\n",
    "        dist = nx.shortest_path_length(G, id_start, dest.get('id'), weight='weight')\n",
    "        if (dist > 40e3) :\n",
    "          coord_start = list(node_coords.values())[rand_s]\n",
    "          break\n",
    "    else :\n",
    "        while True:\n",
    "          # start point\n",
    "          rand_s = random.randrange((len(nodes)))\n",
    "          id_start = list(node_coords.keys())[rand_s]\n",
    "          # end point\n",
    "          rand_d = random.randrange(num_dest)\n",
    "          dest = pool_dest[rand_d]\n",
    "          dist = nx.shortest_path_length(G, id_start, dest.get('id'), weight='weight')\n",
    "          if (dist > 10e3) :\n",
    "            coord_start = list(node_coords.values())[rand_s]\n",
    "            break\n",
    "     \n",
    "    \n",
    "    trips_start.append({'id':id_start, 'coordinates':coord_start})\n",
    "    trips_dest.append(dest)\n",
    "\n",
    "  return trips_start, trips_dest\n"
   ]
  },
  {
   "cell_type": "code",
   "execution_count": 11,
   "id": "359951c9-c520-4e13-8ac4-1c7ec48e1ab2",
   "metadata": {
    "id": "359951c9-c520-4e13-8ac4-1c7ec48e1ab2"
   },
   "outputs": [],
   "source": [
    "def generate_schedules(n):\n",
    "  \n",
    "  #time probability mass: how many requests per 2-hour slot in percentage\n",
    "  time_prob = {   \n",
    "                  '00:00': 1e-3,\n",
    "                  '2:00': 1e-3,\n",
    "                  '4:00': 1e-3,\n",
    "                  '6:00': 1e-3,\n",
    "                  '6:30': 5e-3,\n",
    "                  '7:00': 0.02,\n",
    "                  '7:30': 0.1,\n",
    "                  '8:00': 0.1,\n",
    "                  '8:30': 0.1,\n",
    "                  '10:00': 0.01,\n",
    "                  '10:30': 0.01,\n",
    "                  '12:00': 0.1,\n",
    "                  '12:30': 0.1,\n",
    "                  '13:00': 0.1,\n",
    "                  '14:00': 0.01,\n",
    "                  '16:00': 0.01,\n",
    "                  '18:00': 0.1,\n",
    "                  '18:30': 0.1,\n",
    "                  '19:00': 0.1,\n",
    "                  '19:30': 0.02,\n",
    "                  '20:00': 5e-3,\n",
    "                  '21:00': 5e-3,\n",
    "                  '22:00': 1e-3,\n",
    "  }\n",
    "\n",
    "  \n",
    "\n",
    "  times = []\n",
    "  hours = list(time_prob.keys())\n",
    "  prob = list(time_prob.values())\n",
    "  for i in range(n):\n",
    "    times.append((random.choices(hours, prob)[0]))\n",
    "\n",
    "  return times"
   ]
  },
  {
   "cell_type": "code",
   "execution_count": 12,
   "id": "CIOti8PLigxN",
   "metadata": {
    "id": "CIOti8PLigxN"
   },
   "outputs": [],
   "source": [
    "class Driver:\n",
    "  def __init__(self, id, rating, hour, start_point, end_point):\n",
    "    self.id = id\n",
    "    self.rating = rating\n",
    "    self.hour = hour\n",
    "    self.start_point = start_point\n",
    "    self.end_point = end_point\n",
    "\n",
    "  def __str__(self):\n",
    "    return \"Driver ( id = \" + str(self.id) + \", rating = \" + str(self.rating) + \", hour = \" + self.hour + \", start = \" + str(self.start_point) + \", dest = \" + str(self.end_point) + \")\"\n",
    "\n",
    "class Rider:\n",
    "  def __init__(self, id, rating, hour, start_point, end_point):\n",
    "    self.id = id\n",
    "    self.rating = rating\n",
    "    self.hour = hour\n",
    "    self.start_point = start_point\n",
    "    self.end_point = end_point\n",
    "\n",
    "  def __str__(self):\n",
    "    date_format_str = '%H:%M'\n",
    "    return \"Rider ( id = \" + str(self.id) + \", rating = \" + str(self.rating) + \", hour = \" + self.hour + \", start = \" + str(self.start_point) + \", dest = \" + str(self.end_point) + \")\""
   ]
  },
  {
   "cell_type": "code",
   "execution_count": 13,
   "id": "GVRlI8gLYWCO",
   "metadata": {
    "id": "GVRlI8gLYWCO"
   },
   "outputs": [],
   "source": [
    "def generate_data():\n",
    "  # 1- generate n_drivers and n_riders\n",
    "  # range: start, end, stepsize\n",
    "  n_drivers = random.randrange(40, 50, 1)\n",
    "  n_riders = random.randrange(150, 250, 15)\n",
    "  print(\"N_drivers: \", n_drivers)\n",
    "  print(\"N_riders: \", n_riders)\n",
    "  # 2 - generate start point and end point for drivers and riders\n",
    "  trips_start_drivers, trips_dest_drivers = generate_trips(n_drivers, gen='driver')\n",
    "  trips_start_riders, trips_dest_riders = generate_trips(n_riders, gen='rider')\n",
    "  # 3 - generate schedules\n",
    "  drivers_schedule = generate_schedules(n_drivers)\n",
    "  riders_schedule = generate_schedules(n_riders)\n",
    "  # 4- generate ratings for drivers and riders\n",
    "  ratings_d = generate_ratings(n_drivers)\n",
    "  ratings_r = generate_ratings(n_riders)\n",
    "  # 5 - parse in a list of objects\n",
    "  riders = []\n",
    "  drivers = []\n",
    "  for i in range(n_riders):\n",
    "    riders.append( Rider(i, ratings_r[i][0], riders_schedule[i], trips_start_riders[i], trips_dest_riders[i]))\n",
    "\n",
    "  for i in range(n_drivers):\n",
    "    drivers.append( Driver(i, ratings_d[i][0], drivers_schedule[i], trips_start_drivers[i], trips_dest_drivers[i]))\n",
    "\n",
    "  return drivers, riders\n",
    "\n"
   ]
  },
  {
   "cell_type": "code",
   "execution_count": 14,
   "id": "1be3f349-94ec-4ac4-8306-74f789381445",
   "metadata": {
    "colab": {
     "base_uri": "https://localhost:8080/"
    },
    "id": "1be3f349-94ec-4ac4-8306-74f789381445",
    "outputId": "21e1c857-8c4f-421a-d468-0649e29a00af"
   },
   "outputs": [
    {
     "name": "stdout",
     "output_type": "stream",
     "text": [
      "N_drivers:  46\n",
      "N_riders:  195\n",
      "Driver ( id = 0, rating = 3.5, hour = 8:30, start = {'id': 2145, 'coordinates': (12.12, 45.54)}, dest = {'id': 393, 'coordinates': (12.02, 45.21)})\n",
      "Driver ( id = 1, rating = 3.5, hour = 8:00, start = {'id': 1504, 'coordinates': (12.1, 45.46)}, dest = {'id': 380, 'coordinates': (12.46, 45.46)})\n",
      "Driver ( id = 2, rating = 4.5, hour = 7:30, start = {'id': 1734, 'coordinates': (12.21, 45.52)}, dest = {'id': 2037, 'coordinates': (11.81, 45.5)})\n",
      "Driver ( id = 3, rating = 2.5, hour = 12:00, start = {'id': 2012, 'coordinates': (12.09, 45.46)}, dest = {'id': 380, 'coordinates': (12.46, 45.46)})\n",
      "Driver ( id = 4, rating = 3.0, hour = 18:00, start = {'id': 1278, 'coordinates': (12.64, 45.52)}, dest = {'id': 2037, 'coordinates': (11.81, 45.5)})\n",
      "Driver ( id = 5, rating = 3.5, hour = 19:00, start = {'id': 610, 'coordinates': (12.13, 45.41)}, dest = {'id': 2115, 'coordinates': (12.62, 45.65)})\n",
      "Driver ( id = 6, rating = 4.0, hour = 18:00, start = {'id': 1730, 'coordinates': (11.77, 45.39)}, dest = {'id': 272, 'coordinates': (12.16, 45.49)})\n",
      "Driver ( id = 7, rating = 3.0, hour = 8:00, start = {'id': 658, 'coordinates': (11.92, 45.51)}, dest = {'id': 380, 'coordinates': (12.46, 45.46)})\n",
      "Driver ( id = 8, rating = 4.0, hour = 13:00, start = {'id': 2052, 'coordinates': (11.9, 45.59)}, dest = {'id': 380, 'coordinates': (12.46, 45.46)})\n",
      "Driver ( id = 9, rating = 4.0, hour = 8:30, start = {'id': 1707, 'coordinates': (12.38, 45.52)}, dest = {'id': 1808, 'coordinates': (11.86, 45.53)})\n",
      "\n",
      "\n",
      "***********************************************************************\n",
      "\n",
      "\n",
      "Rider ( id = 0, rating = 3.5, hour = 19:30, start = {'id': 1372, 'coordinates': (11.96, 45.23)}, dest = {'id': 2238, 'coordinates': (12.39, 45.62)})\n",
      "Rider ( id = 1, rating = 4.0, hour = 18:30, start = {'id': 1382, 'coordinates': (11.89, 45.3)}, dest = {'id': 2115, 'coordinates': (12.62, 45.65)})\n",
      "Rider ( id = 2, rating = 3.5, hour = 19:00, start = {'id': 289, 'coordinates': (12.21, 45.62)}, dest = {'id': 393, 'coordinates': (12.02, 45.21)})\n",
      "Rider ( id = 3, rating = 4.0, hour = 10:30, start = {'id': 1241, 'coordinates': (11.8, 45.43)}, dest = {'id': 272, 'coordinates': (12.16, 45.49)})\n",
      "Rider ( id = 4, rating = 4.5, hour = 18:30, start = {'id': 623, 'coordinates': (12.24, 45.42)}, dest = {'id': 272, 'coordinates': (12.16, 45.49)})\n",
      "Rider ( id = 5, rating = 3.5, hour = 18:30, start = {'id': 2004, 'coordinates': (12.33, 45.63)}, dest = {'id': 393, 'coordinates': (12.02, 45.21)})\n",
      "Rider ( id = 6, rating = 3.5, hour = 8:00, start = {'id': 705, 'coordinates': (12.14, 45.42)}, dest = {'id': 1808, 'coordinates': (11.86, 45.53)})\n",
      "Rider ( id = 7, rating = 3.5, hour = 19:00, start = {'id': 638, 'coordinates': (11.91, 45.49)}, dest = {'id': 2238, 'coordinates': (12.39, 45.62)})\n",
      "Rider ( id = 8, rating = 3.5, hour = 8:30, start = {'id': 1394, 'coordinates': (11.79, 45.26)}, dest = {'id': 1808, 'coordinates': (11.86, 45.53)})\n",
      "Rider ( id = 9, rating = 3.5, hour = 13:00, start = {'id': 1488, 'coordinates': (12.15, 45.48)}, dest = {'id': 2115, 'coordinates': (12.62, 45.65)})\n"
     ]
    }
   ],
   "source": [
    "drivers, riders = generate_data()\n",
    "\n",
    "for i in range(10) :\n",
    "  print(drivers[i])\n",
    "\n",
    "print(\"\\n\\n***********************************************************************\\n\\n\")\n",
    "\n",
    "for i in range(10) :\n",
    "  print(riders[i])\n"
   ]
  },
  {
   "cell_type": "code",
   "execution_count": 15,
   "id": "rQk3RUI9_9pF",
   "metadata": {
    "colab": {
     "base_uri": "https://localhost:8080/"
    },
    "id": "rQk3RUI9_9pF",
    "outputId": "8d10dd27-5511-47bd-fdc7-42ee4ddf2e80"
   },
   "outputs": [
    {
     "name": "stdout",
     "output_type": "stream",
     "text": [
      "{'id_driver': 0, 'shortest_path': [{'node': 2145, 'hour': '8:30'}, {'node': 2144, 'hour': '08:31'}, {'node': 2146, 'hour': '08:32'}, {'node': 2096, 'hour': '08:33'}, {'node': 1179, 'hour': '08:35'}, {'node': 1178, 'hour': '08:37'}, {'node': 1177, 'hour': '08:38'}, {'node': 1650, 'hour': '08:40'}, {'node': 1670, 'hour': '08:42'}, {'node': 1504, 'hour': '08:43'}, {'node': 787, 'hour': '08:45'}, {'node': 226, 'hour': '08:46'}, {'node': 135, 'hour': '08:49'}, {'node': 133, 'hour': '08:50'}, {'node': 134, 'hour': '08:51'}, {'node': 1048, 'hour': '08:53'}, {'node': 760, 'hour': '08:54'}, {'node': 757, 'hour': '08:56'}, {'node': 1964, 'hour': '08:57'}, {'node': 751, 'hour': '08:59'}, {'node': 1886, 'hour': '09:00'}, {'node': 922, 'hour': '09:02'}, {'node': 1026, 'hour': '09:03'}, {'node': 971, 'hour': '09:05'}, {'node': 976, 'hour': '09:07'}, {'node': 138, 'hour': '09:08'}, {'node': 136, 'hour': '09:09'}, {'node': 1832, 'hour': '09:11'}, {'node': 1612, 'hour': '09:12'}, {'node': 1839, 'hour': '09:14'}, {'node': 156, 'hour': '09:15'}, {'node': 155, 'hour': '09:16'}, {'node': 152, 'hour': '09:18'}, {'node': 158, 'hour': '09:19'}, {'node': 393, 'hour': '09:22'}], 'arrival_time': '09:22'}\n"
     ]
    }
   ],
   "source": [
    "# use of Dijkstra for shortest path\n",
    "\n",
    "drivers_path = []\n",
    "riders_path = []\n",
    "\n",
    "# 50 km/h\n",
    "avg_vel = 50\n",
    "date_format_str = '%H:%M'\n",
    "\n",
    "for driver in drivers:\n",
    "  spath = nx.dijkstra_path(G, driver.start_point.get('id'), driver.end_point.get('id'))\n",
    "  dpath = [{'node' : spath[0], 'hour': driver.hour}]\n",
    "  dist = 0\n",
    "\n",
    "\n",
    "  for i in range(1, len(spath)):\n",
    "    # retrieve distance and convert into km\n",
    "    \n",
    "    # distance in km\n",
    "    dist += (G.get_edge_data(spath[i-1], spath[i]).get('weight')) / 1e3\n",
    "    time = dist / avg_vel\n",
    "    time_1 = datetime.strptime(driver.hour, date_format_str)\n",
    "    time_2 = time_1 + timedelta(hours=time)\n",
    "    str_time = time_2.strftime(date_format_str)\n",
    "\n",
    "    dpath.append({'node': spath[i], 'hour':str_time})\n",
    "\n",
    "\n",
    "  total_dist = nx.shortest_path_length(G, driver.start_point.get('id'), driver.end_point.get('id'), weight='weight')\n",
    "\n",
    "  drivers_path.append({'id_driver': driver.id, 'shortest_path' : dpath, 'arrival_time': str_time})\n",
    "  \n",
    "  #print(\"Driver #\" + str(driver.id) + \": start at \" + driver.hour + \" , end at \" + dpath[len(dpath)-1].get('hour'))\n",
    "  #print(\"    -> total dist km: \", total_dist/1e3)\n",
    "\n",
    "\n",
    "for rider in riders:\n",
    "  spath = nx.dijkstra_path(G, rider.start_point.get('id'), rider.end_point.get('id'))\n",
    "  riders_path.append({'id_rider': rider.id, 'shortest_path' : spath})\n",
    "\n",
    "print(drivers_path[0])\n",
    "#print(riders_path)"
   ]
  },
  {
   "cell_type": "code",
   "execution_count": 16,
   "id": "VvTci_DIxG38",
   "metadata": {
    "id": "VvTci_DIxG38"
   },
   "outputs": [],
   "source": [
    "def min_distance (shortest_path_driver, rider) :\n",
    "  min_distance = float('inf')\n",
    "  xr = rider.start_point.get('coordinates')[0]\n",
    "  yr = rider.start_point.get('coordinates')[1]\n",
    "  for node in shortest_path_driver :\n",
    "    id = node.get('node')\n",
    "    x1 = nodes[id].get('coordinates')[0]\n",
    "    x2 = nodes[id].get('coordinates')[1]\n",
    "    dist = compute_distance(x1, x2, xr, yr)\n",
    "    if dist < min_distance :\n",
    "      min_distance = dist\n",
    "\n",
    "  return min_distance\n"
   ]
  },
  {
   "cell_type": "code",
   "execution_count": 17,
   "id": "ztU1h2qCsQ8a",
   "metadata": {
    "id": "ztU1h2qCsQ8a"
   },
   "outputs": [],
   "source": [
    "# find matching: since we assumed drivers and riders having same dest\n",
    "# first: filter the total of drivers and riders\n",
    "\n",
    "drivers_match = [{} for _ in range(len(drivers))]\n",
    "\n",
    "# couple drivers and riders with same dest and similar hours\n",
    "\n",
    "for driver in drivers :\n",
    "  drivers_match[driver.id] = {'id_driver' : driver.id, 'list_of_riders' : []}\n",
    "  for rider in riders :\n",
    "    dhour_start = datetime.strptime(driver.hour, date_format_str)\n",
    "    dhour_end = datetime.strptime(drivers_path[driver.id].get('arrival_time'), date_format_str)\n",
    "    rhour = datetime.strptime(rider.hour, date_format_str)\n",
    "\n",
    "    #print(\"min distance: \" , min_distance(drivers_path[driver.id].get('shortest_path'), rider))\n",
    "\n",
    "    # filter per\n",
    "    # 1- same dest\n",
    "    # 2- simil hour\n",
    "    # 3- minimum distance from rider and shortest path <= 30 km\n",
    "    if driver.end_point.get('id') == rider.end_point.get('id') and ((dhour_start - timedelta(minutes=30)) <= rhour <= (dhour_end + timedelta(minutes=30)))  :\n",
    "      drivers_match[driver.id].get('list_of_riders').append(rider.id)\n",
    "  \n",
    "\n"
   ]
  },
  {
   "cell_type": "code",
   "execution_count": 18,
   "id": "hpk10lYH2eH2",
   "metadata": {
    "id": "hpk10lYH2eH2"
   },
   "outputs": [],
   "source": [
    "def preference_list_drivers(drivers_match) :\n",
    "\n",
    "  preferences = [{} for _ in range(len(drivers))]\n",
    "\n",
    "  for driver in drivers :\n",
    "    pref_dict = {}\n",
    "    for r in drivers_match[driver.id].get('list_of_riders') :\n",
    "      rider = riders[r]     \n",
    "      min_dist = min_distance(drivers_path[driver.id].get('shortest_path'), rider)\n",
    "      if min_dist <= 35e3 :\n",
    "        # 0.4 * rating + 0.6 * distance in kms\n",
    "        measure =  0.4*rider.rating + 0.6*(min_dist/1e3)\n",
    "        pref_dict[rider.id] = measure\n",
    "\n",
    "    # sort list\n",
    "    preferences[driver.id] = {'id_driver' : driver.id, 'list_of_riders' : list(dict(sorted(pref_dict.items(), key=lambda item: item[1])))}\n",
    "\n",
    "    \n",
    "    \n",
    "  return preferences\n",
    "\n"
   ]
  },
  {
   "cell_type": "code",
   "execution_count": 19,
   "id": "mntDBTb5ksl0",
   "metadata": {
    "id": "mntDBTb5ksl0"
   },
   "outputs": [],
   "source": [
    "def preference_list_riders(list_of_riders) :\n",
    "\n",
    "  preferences = [{} for _ in range(len(riders))]\n",
    "\n",
    "  pref = [ {} for _ in range(len(riders))]\n",
    "\n",
    "  # build the lists\n",
    "\n",
    "  for driver in drivers:\n",
    "    for r in drivers_match[driver.id].get('list_of_riders') :\n",
    "      rider = riders[r]\n",
    "      pref[rider.id][driver.id] = driver.rating\n",
    "      \n",
    "\n",
    "  #sort the lists\n",
    "\n",
    "  for i in range(len(riders)):\n",
    "    preferences[i] = {'id_rider' : i, 'list_of_drivers' : list(dict(sorted(pref[i].items(), key=lambda item: item[1])))} \n",
    "  \n",
    "  return preferences"
   ]
  },
  {
   "cell_type": "markdown",
   "id": "DRt2OiPl6k8n",
   "metadata": {
    "id": "DRt2OiPl6k8n"
   },
   "source": [
    "# Start of main algorithm"
   ]
  },
  {
   "cell_type": "code",
   "execution_count": 20,
   "id": "VHJJzPEQ6n7n",
   "metadata": {
    "colab": {
     "base_uri": "https://localhost:8080/"
    },
    "id": "VHJJzPEQ6n7n",
    "outputId": "3bd94635-70a1-40e6-f974-1861b6a68957"
   },
   "outputs": [
    {
     "name": "stdout",
     "output_type": "stream",
     "text": [
      "[{'id_driver': 0, 'list_of_riders': [128, 140]}, {'id_driver': 1, 'list_of_riders': [82, 142, 159, 97, 23, 192]}, {'id_driver': 2, 'list_of_riders': [166, 164, 89, 77, 28, 86, 52, 106, 57, 84]}, {'id_driver': 3, 'list_of_riders': [155, 147, 112, 90, 139, 186, 181, 99]}, {'id_driver': 4, 'list_of_riders': [25, 165, 153, 41, 167, 174, 119]}, {'id_driver': 5, 'list_of_riders': [183, 146, 156, 93, 180, 1, 94]}, {'id_driver': 6, 'list_of_riders': [49, 123, 4, 189, 178]}, {'id_driver': 7, 'list_of_riders': [97, 82, 192, 142, 23, 159]}, {'id_driver': 8, 'list_of_riders': [147, 139, 99, 90, 181, 51]}, {'id_driver': 9, 'list_of_riders': [179, 6, 184, 32, 191, 152, 8]}, {'id_driver': 10, 'list_of_riders': [113, 124, 76, 54, 38, 7, 145, 193]}, {'id_driver': 11, 'list_of_riders': [20, 120, 172, 30, 68, 10]}, {'id_driver': 12, 'list_of_riders': [147, 139, 90, 99, 181]}, {'id_driver': 13, 'list_of_riders': [122, 36, 61, 37, 92, 73, 5, 151, 2, 55, 62, 105, 163, 24, 102, 43]}, {'id_driver': 14, 'list_of_riders': [145, 38, 110, 157, 96, 7, 124, 0, 76]}, {'id_driver': 15, 'list_of_riders': [17, 118, 149, 47]}, {'id_driver': 16, 'list_of_riders': [47, 118]}, {'id_driver': 17, 'list_of_riders': [169, 22]}, {'id_driver': 18, 'list_of_riders': [64]}, {'id_driver': 19, 'list_of_riders': [126, 133]}, {'id_driver': 20, 'list_of_riders': [15, 9, 104, 19, 75]}, {'id_driver': 21, 'list_of_riders': [47, 118]}, {'id_driver': 22, 'list_of_riders': [47, 118]}, {'id_driver': 23, 'list_of_riders': []}, {'id_driver': 24, 'list_of_riders': [61, 81, 92, 103, 122, 34, 62, 2, 55, 65, 36, 105, 163, 5, 24, 102, 43]}, {'id_driver': 25, 'list_of_riders': [120, 20, 172, 30, 68, 10, 168]}, {'id_driver': 26, 'list_of_riders': [1, 183, 146, 156, 94, 93, 180, 160]}, {'id_driver': 27, 'list_of_riders': [30, 10, 68, 20, 120, 172, 168]}, {'id_driver': 28, 'list_of_riders': [82, 142, 159, 97, 23]}, {'id_driver': 29, 'list_of_riders': [90, 155, 147, 112, 186, 181, 139, 99, 51]}, {'id_driver': 30, 'list_of_riders': [82, 142]}, {'id_driver': 31, 'list_of_riders': [169, 22]}, {'id_driver': 32, 'list_of_riders': [103, 61, 55, 81, 34, 92, 65, 122, 105, 24, 62, 102, 43, 163, 2, 36]}, {'id_driver': 33, 'list_of_riders': [148, 85, 56, 162, 107, 115, 98, 59, 35, 74, 116, 63]}, {'id_driver': 34, 'list_of_riders': [12, 171, 14, 184, 182, 6, 32, 191, 152, 8]}, {'id_driver': 35, 'list_of_riders': [57, 164, 52, 89, 106, 86, 77, 166]}, {'id_driver': 36, 'list_of_riders': [189, 58, 123, 4, 49, 178]}, {'id_driver': 37, 'list_of_riders': [183, 93, 156, 146]}, {'id_driver': 38, 'list_of_riders': [25, 174]}, {'id_driver': 39, 'list_of_riders': [64]}, {'id_driver': 40, 'list_of_riders': [182, 184, 12, 171, 14, 6, 32, 191, 152, 8]}, {'id_driver': 41, 'list_of_riders': [147, 90, 139]}, {'id_driver': 42, 'list_of_riders': [169, 22]}, {'id_driver': 43, 'list_of_riders': [159, 23, 82, 97, 192]}, {'id_driver': 44, 'list_of_riders': [183, 18, 78, 187, 146, 93, 156, 141, 94, 160, 1, 180, 48]}, {'id_driver': 45, 'list_of_riders': [98, 148, 162, 85, 74, 56, 107, 115, 35, 59, 63, 116]}]\n",
      "\n",
      "************************************\n",
      "\n",
      "[{'id_rider': 0, 'list_of_drivers': [14]}, {'id_rider': 1, 'list_of_drivers': [5, 26, 37, 44]}, {'id_rider': 2, 'list_of_drivers': [32, 13, 24]}, {'id_rider': 3, 'list_of_drivers': []}, {'id_rider': 4, 'list_of_drivers': [6, 36]}, {'id_rider': 5, 'list_of_drivers': [32, 13, 24]}, {'id_rider': 6, 'list_of_drivers': [9, 34, 40]}, {'id_rider': 7, 'list_of_drivers': [14, 10]}, {'id_rider': 8, 'list_of_drivers': [9, 34, 40]}, {'id_rider': 9, 'list_of_drivers': [20]}, {'id_rider': 10, 'list_of_drivers': [11, 27, 25]}, {'id_rider': 11, 'list_of_drivers': []}, {'id_rider': 12, 'list_of_drivers': [34, 40]}, {'id_rider': 13, 'list_of_drivers': []}, {'id_rider': 14, 'list_of_drivers': [34, 40]}, {'id_rider': 15, 'list_of_drivers': [20]}, {'id_rider': 16, 'list_of_drivers': []}, {'id_rider': 17, 'list_of_drivers': [15]}, {'id_rider': 18, 'list_of_drivers': [44]}, {'id_rider': 19, 'list_of_drivers': [20]}, {'id_rider': 20, 'list_of_drivers': [11, 27, 25]}, {'id_rider': 21, 'list_of_drivers': []}, {'id_rider': 22, 'list_of_drivers': [17, 31, 42]}, {'id_rider': 23, 'list_of_drivers': [7, 30, 1, 28, 43]}, {'id_rider': 24, 'list_of_drivers': [32, 13, 24]}, {'id_rider': 25, 'list_of_drivers': [4, 38]}, {'id_rider': 26, 'list_of_drivers': [0]}, {'id_rider': 27, 'list_of_drivers': []}, {'id_rider': 28, 'list_of_drivers': [2, 35]}, {'id_rider': 29, 'list_of_drivers': [4, 38]}, {'id_rider': 30, 'list_of_drivers': [11, 27, 25]}, {'id_rider': 31, 'list_of_drivers': []}, {'id_rider': 32, 'list_of_drivers': [9, 34, 40]}, {'id_rider': 33, 'list_of_drivers': []}, {'id_rider': 34, 'list_of_drivers': [32, 24]}, {'id_rider': 35, 'list_of_drivers': [33, 45]}, {'id_rider': 36, 'list_of_drivers': [32, 13, 24]}, {'id_rider': 37, 'list_of_drivers': [13]}, {'id_rider': 38, 'list_of_drivers': [14, 10]}, {'id_rider': 39, 'list_of_drivers': []}, {'id_rider': 40, 'list_of_drivers': []}, {'id_rider': 41, 'list_of_drivers': [4]}, {'id_rider': 42, 'list_of_drivers': []}, {'id_rider': 43, 'list_of_drivers': [32, 13, 24]}, {'id_rider': 44, 'list_of_drivers': []}, {'id_rider': 45, 'list_of_drivers': []}, {'id_rider': 46, 'list_of_drivers': []}, {'id_rider': 47, 'list_of_drivers': [16, 22, 15, 21]}, {'id_rider': 48, 'list_of_drivers': [44]}, {'id_rider': 49, 'list_of_drivers': [6, 36]}, {'id_rider': 50, 'list_of_drivers': []}, {'id_rider': 51, 'list_of_drivers': [3, 8, 29, 41, 12]}, {'id_rider': 52, 'list_of_drivers': [2, 35]}, {'id_rider': 53, 'list_of_drivers': []}, {'id_rider': 54, 'list_of_drivers': [10]}, {'id_rider': 55, 'list_of_drivers': [32, 13, 24]}, {'id_rider': 56, 'list_of_drivers': [33, 45]}, {'id_rider': 57, 'list_of_drivers': [2, 35]}, {'id_rider': 58, 'list_of_drivers': [36]}, {'id_rider': 59, 'list_of_drivers': [33, 45]}, {'id_rider': 60, 'list_of_drivers': []}, {'id_rider': 61, 'list_of_drivers': [32, 13, 24]}, {'id_rider': 62, 'list_of_drivers': [32, 13, 24]}, {'id_rider': 63, 'list_of_drivers': [33, 45]}, {'id_rider': 64, 'list_of_drivers': [18, 39]}, {'id_rider': 65, 'list_of_drivers': [32, 24]}, {'id_rider': 66, 'list_of_drivers': []}, {'id_rider': 67, 'list_of_drivers': []}, {'id_rider': 68, 'list_of_drivers': [11, 27, 25]}, {'id_rider': 69, 'list_of_drivers': []}, {'id_rider': 70, 'list_of_drivers': []}, {'id_rider': 71, 'list_of_drivers': []}, {'id_rider': 72, 'list_of_drivers': []}, {'id_rider': 73, 'list_of_drivers': [32, 13, 24]}, {'id_rider': 74, 'list_of_drivers': [33, 45]}, {'id_rider': 75, 'list_of_drivers': [20]}, {'id_rider': 76, 'list_of_drivers': [14, 10]}, {'id_rider': 77, 'list_of_drivers': [2, 35]}, {'id_rider': 78, 'list_of_drivers': [44]}, {'id_rider': 79, 'list_of_drivers': []}, {'id_rider': 80, 'list_of_drivers': []}, {'id_rider': 81, 'list_of_drivers': [32, 24]}, {'id_rider': 82, 'list_of_drivers': [7, 30, 1, 28, 43]}, {'id_rider': 83, 'list_of_drivers': []}, {'id_rider': 84, 'list_of_drivers': [2, 35]}, {'id_rider': 85, 'list_of_drivers': [33, 45]}, {'id_rider': 86, 'list_of_drivers': [2, 35]}, {'id_rider': 87, 'list_of_drivers': [6, 36]}, {'id_rider': 88, 'list_of_drivers': []}, {'id_rider': 89, 'list_of_drivers': [2, 35]}, {'id_rider': 90, 'list_of_drivers': [3, 8, 29, 41, 12]}, {'id_rider': 91, 'list_of_drivers': []}, {'id_rider': 92, 'list_of_drivers': [32, 13, 24]}, {'id_rider': 93, 'list_of_drivers': [5, 26, 37, 44]}, {'id_rider': 94, 'list_of_drivers': [5, 26, 37, 44]}, {'id_rider': 95, 'list_of_drivers': [32, 24]}, {'id_rider': 96, 'list_of_drivers': [14]}, {'id_rider': 97, 'list_of_drivers': [7, 30, 1, 28, 43]}, {'id_rider': 98, 'list_of_drivers': [33, 45]}, {'id_rider': 99, 'list_of_drivers': [3, 8, 29, 41, 12]}, {'id_rider': 100, 'list_of_drivers': []}, {'id_rider': 101, 'list_of_drivers': []}, {'id_rider': 102, 'list_of_drivers': [32, 13, 24]}, {'id_rider': 103, 'list_of_drivers': [32, 24]}, {'id_rider': 104, 'list_of_drivers': [20]}, {'id_rider': 105, 'list_of_drivers': [32, 13, 24]}, {'id_rider': 106, 'list_of_drivers': [2, 35]}, {'id_rider': 107, 'list_of_drivers': [33, 45]}, {'id_rider': 108, 'list_of_drivers': []}, {'id_rider': 109, 'list_of_drivers': []}, {'id_rider': 110, 'list_of_drivers': [14]}, {'id_rider': 111, 'list_of_drivers': []}, {'id_rider': 112, 'list_of_drivers': [3, 29]}, {'id_rider': 113, 'list_of_drivers': [10]}, {'id_rider': 114, 'list_of_drivers': []}, {'id_rider': 115, 'list_of_drivers': [33, 45]}, {'id_rider': 116, 'list_of_drivers': [33, 45]}, {'id_rider': 117, 'list_of_drivers': []}, {'id_rider': 118, 'list_of_drivers': [16, 22, 15, 21]}, {'id_rider': 119, 'list_of_drivers': [4]}, {'id_rider': 120, 'list_of_drivers': [11, 27, 25]}, {'id_rider': 121, 'list_of_drivers': []}, {'id_rider': 122, 'list_of_drivers': [32, 13, 24]}, {'id_rider': 123, 'list_of_drivers': [6, 36]}, {'id_rider': 124, 'list_of_drivers': [14, 10]}, {'id_rider': 125, 'list_of_drivers': []}, {'id_rider': 126, 'list_of_drivers': [19]}, {'id_rider': 127, 'list_of_drivers': []}, {'id_rider': 128, 'list_of_drivers': [0]}, {'id_rider': 129, 'list_of_drivers': []}, {'id_rider': 130, 'list_of_drivers': []}, {'id_rider': 131, 'list_of_drivers': []}, {'id_rider': 132, 'list_of_drivers': []}, {'id_rider': 133, 'list_of_drivers': [19]}, {'id_rider': 134, 'list_of_drivers': []}, {'id_rider': 135, 'list_of_drivers': []}, {'id_rider': 136, 'list_of_drivers': []}, {'id_rider': 137, 'list_of_drivers': []}, {'id_rider': 138, 'list_of_drivers': []}, {'id_rider': 139, 'list_of_drivers': [3, 8, 29, 41, 12]}, {'id_rider': 140, 'list_of_drivers': [0]}, {'id_rider': 141, 'list_of_drivers': [44]}, {'id_rider': 142, 'list_of_drivers': [7, 30, 1, 28]}, {'id_rider': 143, 'list_of_drivers': [20]}, {'id_rider': 144, 'list_of_drivers': []}, {'id_rider': 145, 'list_of_drivers': [14, 10]}, {'id_rider': 146, 'list_of_drivers': [5, 26, 37, 44]}, {'id_rider': 147, 'list_of_drivers': [3, 8, 29, 41, 12]}, {'id_rider': 148, 'list_of_drivers': [33, 45]}, {'id_rider': 149, 'list_of_drivers': [15]}, {'id_rider': 150, 'list_of_drivers': []}, {'id_rider': 151, 'list_of_drivers': [13]}, {'id_rider': 152, 'list_of_drivers': [9, 34, 40]}, {'id_rider': 153, 'list_of_drivers': [4]}, {'id_rider': 154, 'list_of_drivers': []}, {'id_rider': 155, 'list_of_drivers': [3, 29]}, {'id_rider': 156, 'list_of_drivers': [5, 26, 37, 44]}, {'id_rider': 157, 'list_of_drivers': [14, 10]}, {'id_rider': 158, 'list_of_drivers': [18, 39]}, {'id_rider': 159, 'list_of_drivers': [7, 30, 1, 28, 43]}, {'id_rider': 160, 'list_of_drivers': [5, 26, 37, 44]}, {'id_rider': 161, 'list_of_drivers': []}, {'id_rider': 162, 'list_of_drivers': [33, 45]}, {'id_rider': 163, 'list_of_drivers': [32, 13, 24]}, {'id_rider': 164, 'list_of_drivers': [2, 35]}, {'id_rider': 165, 'list_of_drivers': [4]}, {'id_rider': 166, 'list_of_drivers': [2, 35]}, {'id_rider': 167, 'list_of_drivers': [4]}, {'id_rider': 168, 'list_of_drivers': [11, 27, 25]}, {'id_rider': 169, 'list_of_drivers': [17, 31, 42]}, {'id_rider': 170, 'list_of_drivers': []}, {'id_rider': 171, 'list_of_drivers': [34, 40]}, {'id_rider': 172, 'list_of_drivers': [11, 27, 25]}, {'id_rider': 173, 'list_of_drivers': []}, {'id_rider': 174, 'list_of_drivers': [4, 38]}, {'id_rider': 175, 'list_of_drivers': []}, {'id_rider': 176, 'list_of_drivers': []}, {'id_rider': 177, 'list_of_drivers': []}, {'id_rider': 178, 'list_of_drivers': [6, 36]}, {'id_rider': 179, 'list_of_drivers': [9]}, {'id_rider': 180, 'list_of_drivers': [5, 26, 37, 44]}, {'id_rider': 181, 'list_of_drivers': [3, 8, 29, 41, 12]}, {'id_rider': 182, 'list_of_drivers': [34, 40]}, {'id_rider': 183, 'list_of_drivers': [5, 26, 37, 44]}, {'id_rider': 184, 'list_of_drivers': [9, 34, 40]}, {'id_rider': 185, 'list_of_drivers': []}, {'id_rider': 186, 'list_of_drivers': [3, 29]}, {'id_rider': 187, 'list_of_drivers': [44]}, {'id_rider': 188, 'list_of_drivers': []}, {'id_rider': 189, 'list_of_drivers': [6, 36]}, {'id_rider': 190, 'list_of_drivers': []}, {'id_rider': 191, 'list_of_drivers': [9, 34, 40]}, {'id_rider': 192, 'list_of_drivers': [7, 30, 1, 28, 43]}, {'id_rider': 193, 'list_of_drivers': [10]}, {'id_rider': 194, 'list_of_drivers': []}]\n"
     ]
    }
   ],
   "source": [
    "# 1- get path from Steiner tree (first option: compute shortest path)\n",
    "\n",
    "# 2 - compute preference list of drivers\n",
    "\n",
    "#print(drivers_match[0].get('list_of_riders'))\n",
    "\n",
    "print(preference_list_drivers(drivers_match))\n",
    "\n",
    "print(\"\\n************************************\\n\")\n",
    "\n",
    "# 3 - compute preference list of riders\n",
    "\n",
    "print(preference_list_riders(drivers_match))"
   ]
  },
  {
   "cell_type": "code",
   "execution_count": null,
   "id": "eiHaLSezkbuL",
   "metadata": {
    "id": "eiHaLSezkbuL"
   },
   "outputs": [],
   "source": []
  },
  {
   "cell_type": "code",
   "execution_count": 21,
   "id": "mrmM8dlr9jTE",
   "metadata": {
    "id": "mrmM8dlr9jTE"
   },
   "outputs": [],
   "source": [
    "# create file input.dat (obsolete (?))\n",
    "f = open(\"input.dat\", \"w\")\n",
    "content = \"DIMENSION : \" + str(len(nodes)) + \"\\n\"\n",
    "content += \"DRIVERS : \" + str(len(drivers)) + \"\\n\"\n",
    "content += \"RIDERS : \" + str(len(riders)) + \"\\n\"\n",
    "content += \"NODE_COORD_SECTION\\n\"\n",
    "for node in nodes :\n",
    "  content += str(node.get(\"id\")) + \" \" + str(node.get(\"coordinates\")[0]) + \" \" + str(node.get(\"coordinates\")[1]) + \"\\n\"\n",
    "content += \"ROADS_SECTION\\n\"\n",
    "for road in roads :\n",
    "  content += str(road.get(\"p1\")) + \" \" + str(road.get(\"p2\")) + \"\\n\"\n",
    "content += \"DRIVERS_STARTING_COORD\\n\"\n",
    "for driver in drivers:\n",
    "  content += str(driver.start_point.get(\"id\")) + \" \" + str(driver.start_point.get(\"coordinates\")[0]) + \" \" + str(driver.start_point.get(\"coordinates\")[1]) + \"\\n\"\n",
    "content += \"DRIVERS_DESTINATION_COORD\\n\"\n",
    "for driver in drivers:\n",
    "  content += str(driver.end_point.get(\"id\")) + \" \" + str(driver.end_point.get(\"coordinates\")[0]) + \" \" + str(driver.end_point.get(\"coordinates\")[1]) + \"\\n\"\n",
    "content += \"RIDERS_STARTING_COORD\\n\"\n",
    "for rider in riders:\n",
    "  content += str(rider.start_point.get(\"id\")) + \" \" + str(rider.start_point.get(\"coordinates\")[0]) + \" \" + str(rider.start_point.get(\"coordinates\")[1]) + \"\\n\"\n",
    "content += \"RIDERS_DESTINATION_COORD\\n\"\n",
    "for rider in riders:\n",
    "  content += str(rider.end_point.get(\"id\")) + \" \" + str(rider.end_point.get(\"coordinates\")[0]) + \" \" + str(rider.end_point.get(\"coordinates\")[1]) + \"\\n\"\n",
    "content += \"EOF\"\n",
    "f.write(content)\n",
    "f.close()"
   ]
  },
  {
   "cell_type": "markdown",
   "id": "12d24364-69af-4164-9e0b-2355025e4193",
   "metadata": {
    "tags": []
   },
   "source": [
    "## Stable matching module\n",
    "\n",
    "Stable matching is modeled after the Hospital-Resident problem, where drivers are modeled as hospitals (their capacity being the number of free seats in the car) and riders are modeled as residents.\n",
    "\n",
    "We use the open source ```matching``` library, originally released under MIT license by Cardiff University researcher Henry Wilde. https://github.com/daffidwilde/matching"
   ]
  },
  {
   "cell_type": "markdown",
   "id": "c8ab73f5-d1d3-424c-93bf-67610d55498a",
   "metadata": {},
   "source": [
    "Make sure to install ```matching```: (https://matching.readthedocs.io/en/latest/tutorials/installation.html)\n",
    "\n",
    "```matching``` is also available through **Conda forge**"
   ]
  },
  {
   "cell_type": "code",
   "execution_count": 31,
   "id": "da9b18f9-01d6-4686-a970-51f45f8a6a99",
   "metadata": {},
   "outputs": [
    {
     "ename": "TypeError",
     "evalue": "unhashable type: 'dict'",
     "output_type": "error",
     "traceback": [
      "\u001b[0;31m---------------------------------------------------------------------------\u001b[0m",
      "\u001b[0;31mTypeError\u001b[0m                                 Traceback (most recent call last)",
      "Input \u001b[0;32mIn [31]\u001b[0m, in \u001b[0;36m<cell line: 5>\u001b[0;34m()\u001b[0m\n\u001b[1;32m      1\u001b[0m \u001b[38;5;28;01mfrom\u001b[39;00m \u001b[38;5;21;01mmatching\u001b[39;00m\u001b[38;5;21;01m.\u001b[39;00m\u001b[38;5;21;01mgames\u001b[39;00m \u001b[38;5;28;01mimport\u001b[39;00m HospitalResident\n\u001b[1;32m      3\u001b[0m \u001b[38;5;66;03m#d = {dic[\"id_driver\"]:dic[\"list_of_riders\"] for dic in preference_list_drivers(drivers_match)} #drivers\u001b[39;00m\n\u001b[1;32m      4\u001b[0m \u001b[38;5;66;03m#r = {dic[\"id_rider\"]:dic[\"list_of_drivers\"] for dic in preference_list_riders(drivers_match)} #riders\u001b[39;00m\n\u001b[0;32m----> 5\u001b[0m capacities \u001b[38;5;241m=\u001b[39m {driver_id:\u001b[38;5;241m4\u001b[39m \u001b[38;5;28;01mfor\u001b[39;00m driver_id \u001b[38;5;129;01min\u001b[39;00m d} \u001b[38;5;66;03m#for the sake of simplicity, every driver is able/willing to transport up to 4 people\u001b[39;00m\n\u001b[1;32m      7\u001b[0m game \u001b[38;5;241m=\u001b[39m HospitalResident\u001b[38;5;241m.\u001b[39mcreate_from_dictionaries(\n\u001b[1;32m      8\u001b[0m r, d, capacities\n\u001b[1;32m      9\u001b[0m )\n\u001b[1;32m     11\u001b[0m game\u001b[38;5;241m.\u001b[39msolve(optimal\u001b[38;5;241m=\u001b[39m\u001b[38;5;124m\"\u001b[39m\u001b[38;5;124mhospital\u001b[39m\u001b[38;5;124m\"\u001b[39m)\n",
      "Input \u001b[0;32mIn [31]\u001b[0m, in \u001b[0;36m<dictcomp>\u001b[0;34m(.0)\u001b[0m\n\u001b[1;32m      1\u001b[0m \u001b[38;5;28;01mfrom\u001b[39;00m \u001b[38;5;21;01mmatching\u001b[39;00m\u001b[38;5;21;01m.\u001b[39;00m\u001b[38;5;21;01mgames\u001b[39;00m \u001b[38;5;28;01mimport\u001b[39;00m HospitalResident\n\u001b[1;32m      3\u001b[0m \u001b[38;5;66;03m#d = {dic[\"id_driver\"]:dic[\"list_of_riders\"] for dic in preference_list_drivers(drivers_match)} #drivers\u001b[39;00m\n\u001b[1;32m      4\u001b[0m \u001b[38;5;66;03m#r = {dic[\"id_rider\"]:dic[\"list_of_drivers\"] for dic in preference_list_riders(drivers_match)} #riders\u001b[39;00m\n\u001b[0;32m----> 5\u001b[0m capacities \u001b[38;5;241m=\u001b[39m {driver_id:\u001b[38;5;241m4\u001b[39m \u001b[38;5;28;01mfor\u001b[39;00m driver_id \u001b[38;5;129;01min\u001b[39;00m d} \u001b[38;5;66;03m#for the sake of simplicity, every driver is able/willing to transport up to 4 people\u001b[39;00m\n\u001b[1;32m      7\u001b[0m game \u001b[38;5;241m=\u001b[39m HospitalResident\u001b[38;5;241m.\u001b[39mcreate_from_dictionaries(\n\u001b[1;32m      8\u001b[0m r, d, capacities\n\u001b[1;32m      9\u001b[0m )\n\u001b[1;32m     11\u001b[0m game\u001b[38;5;241m.\u001b[39msolve(optimal\u001b[38;5;241m=\u001b[39m\u001b[38;5;124m\"\u001b[39m\u001b[38;5;124mhospital\u001b[39m\u001b[38;5;124m\"\u001b[39m)\n",
      "\u001b[0;31mTypeError\u001b[0m: unhashable type: 'dict'"
     ]
    }
   ],
   "source": [
    "from matching.games import HospitalResident\n",
    "\n",
    "d = {dic[\"id_driver\"]:dic[\"list_of_riders\"] for dic in preference_list_drivers(drivers_match)} #drivers\n",
    "r = {dic[\"id_rider\"]:dic[\"list_of_drivers\"] for dic in preference_list_riders(drivers_match)} #riders\n",
    "capacities = {driver_id:4 for driver_id in d} #for the sake of simplicity, every driver is able/willing to transport up to 4 people\n",
    "\n",
    "game = HospitalResident.create_from_dictionaries(\n",
    "r, d, capacities\n",
    ")\n",
    "\n",
    "game.solve(optimal=\"hospital\") #driver-optimal"
   ]
  },
  {
   "cell_type": "code",
   "execution_count": null,
   "id": "e9c17f2e-5baa-4d8a-99b2-22d7526e0008",
   "metadata": {},
   "outputs": [],
   "source": []
  }
 ],
 "metadata": {
  "colab": {
   "collapsed_sections": [],
   "name": "AlgoCarSharing.ipynb",
   "provenance": []
  },
  "kernelspec": {
   "display_name": "Python 3 (ipykernel)",
   "language": "python",
   "name": "python3"
  },
  "language_info": {
   "codemirror_mode": {
    "name": "ipython",
    "version": 3
   },
   "file_extension": ".py",
   "mimetype": "text/x-python",
   "name": "python",
   "nbconvert_exporter": "python",
   "pygments_lexer": "ipython3",
   "version": "3.8.13"
  }
 },
 "nbformat": 4,
 "nbformat_minor": 5
}
