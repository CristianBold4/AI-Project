{
  "cells": [
    {
      "cell_type": "markdown",
      "id": "9a84ad5b-ba78-4156-9683-a3cd1eb92438",
      "metadata": {
        "id": "9a84ad5b-ba78-4156-9683-a3cd1eb92438"
      },
      "source": [
        "## Test per progetto AI"
      ]
    },
    {
      "cell_type": "markdown",
      "id": "f78b133c-c586-4acb-927f-9c6ed2425b37",
      "metadata": {
        "id": "f78b133c-c586-4acb-927f-9c6ed2425b37"
      },
      "source": [
        "E' necessario caricare i file roads_small.json e nodes_small.json"
      ]
    },
    {
      "cell_type": "code",
      "execution_count": 3,
      "id": "4bd11cac-00d0-4554-add1-786f80976988",
      "metadata": {
        "id": "4bd11cac-00d0-4554-add1-786f80976988"
      },
      "outputs": [],
      "source": [
        "import json\n",
        "import numpy as np\n",
        "import matplotlib.pyplot as plt\n",
        "import math\n",
        "import networkx as nx\n",
        "import random\n",
        "\n",
        "from datetime import datetime\n",
        "from datetime import timedelta"
      ]
    },
    {
      "cell_type": "code",
      "execution_count": 4,
      "id": "ee530b18-25c2-4d55-8e0b-c6ed8e979380",
      "metadata": {
        "colab": {
          "base_uri": "https://localhost:8080/"
        },
        "id": "ee530b18-25c2-4d55-8e0b-c6ed8e979380",
        "outputId": "d086db7d-22b8-4446-ad36-7bb3b18e5cd4"
      },
      "outputs": [
        {
          "output_type": "stream",
          "name": "stdout",
          "text": [
            "Num nodes 2239\n",
            "Num roads 10138\n"
          ]
        }
      ],
      "source": [
        "nodes = json.load(open('new_nodes.json', 'r'))\n",
        "roads = json.load(open('new_roads.json', 'r'))\n",
        "print(\"Num nodes\", len(nodes))\n",
        "print(\"Num roads\", len(roads))"
      ]
    },
    {
      "cell_type": "markdown",
      "id": "0c9bd191-fbf2-4926-9fe3-5315f2b63def",
      "metadata": {
        "id": "0c9bd191-fbf2-4926-9fe3-5315f2b63def"
      },
      "source": [
        "Create two maps as lookup tables for the nodes"
      ]
    },
    {
      "cell_type": "code",
      "execution_count": 5,
      "id": "d9ddb0c8-29d5-4fe1-9302-ac1481b290ef",
      "metadata": {
        "id": "d9ddb0c8-29d5-4fe1-9302-ac1481b290ef"
      },
      "outputs": [],
      "source": [
        "#create a lookup table for point coordinates\n",
        "node_coords = {point['id']:tuple(point['coordinates']) for point in nodes} #dictonary initialization with comprehension\n",
        "coords_node = {tuple(point['coordinates']):point['id'] for point in nodes} #tuples are hashable-> can be key to a dictionary"
      ]
    },
    {
      "cell_type": "code",
      "execution_count": 6,
      "id": "8bad6089-b3c1-499e-be26-0c53d98e7120",
      "metadata": {
        "colab": {
          "base_uri": "https://localhost:8080/"
        },
        "id": "8bad6089-b3c1-499e-be26-0c53d98e7120",
        "outputId": "4c61ed68-c45e-483e-8de1-e4c6b2bed6b3"
      },
      "outputs": [
        {
          "output_type": "stream",
          "name": "stdout",
          "text": [
            "(12.55, 45.59)\n"
          ]
        }
      ],
      "source": [
        "print(node_coords[roads[11]['p1']]) #retrieve coordinates from node ID"
      ]
    },
    {
      "cell_type": "markdown",
      "id": "79e8398c-a30b-4bca-a4c5-28c647a5dc03",
      "metadata": {
        "id": "79e8398c-a30b-4bca-a4c5-28c647a5dc03"
      },
      "source": [
        "A questo punto bisogna generare le query degli utenti:\n",
        "\n",
        "semplificazione: l'orario non influisce sui tempi di percorrenza -> dipendono solo dalla distanza"
      ]
    },
    {
      "cell_type": "markdown",
      "id": "a81a0a84-db99-4b8b-8d81-cad548c57c5c",
      "metadata": {
        "id": "a81a0a84-db99-4b8b-8d81-cad548c57c5c"
      },
      "source": [
        "Consider each trip as starting or ending in one of the nodes: the function below serves to approximate the closest node on the map"
      ]
    },
    {
      "cell_type": "markdown",
      "id": "bab3d7ee-4cd8-4423-a556-bb23484829b8",
      "metadata": {
        "id": "bab3d7ee-4cd8-4423-a556-bb23484829b8"
      },
      "source": [
        "Regular transfer (not related to pendolarism) is modeled as a gaussian random variable with respect to location ($\\mu = 15km, \\sigma = 10km$)  "
      ]
    },
    {
      "cell_type": "code",
      "source": [
        "# compute distance between two nodes\n",
        "\n",
        "def compute_distance(x_coord_1, y_coord_1, x_coord_2, y_coord_2):\n",
        "  x_coord_1 = x_coord_1 * 111.32\n",
        "  x_coord_2 = x_coord_2 * 111.32\n",
        "  y_coord_1 = 40075 * math.cos(x_coord_1)/360 * y_coord_1;\n",
        "  y_coord_2 = 40075 * math.cos(x_coord_2)/360 * y_coord_2;\n",
        "  dist = math.sqrt((y_coord_1 - y_coord_2)**2 + (x_coord_1 - x_coord_2)**2)\n",
        "  return dist"
      ],
      "metadata": {
        "id": "dlYeFIyA9vIN"
      },
      "id": "dlYeFIyA9vIN",
      "execution_count": 7,
      "outputs": []
    },
    {
      "cell_type": "code",
      "source": [
        "def compute_distance(x1, y1, x2, y2) :\n",
        "  R = 6371e3 #metres\n",
        "  phi1 = x1 * math.pi/180 # φ, λ in radians\n",
        "  phi2 = x2 * math.pi/180\n",
        "  delta_phi = (x2-x1) * math.pi/180\n",
        "  delta_lambda = (y2-y1) * math.pi/180\n",
        "\n",
        "  a = math.sin(delta_phi/2) * math.sin(delta_phi/2) + math.cos(phi1) * math.cos(phi2) * math.sin(delta_lambda/2) * math.sin(delta_lambda/2)\n",
        "  c = 2 * math.atan2(math.sqrt(a), math.sqrt(1-a));\n",
        "\n",
        "  d = R * c #in metres\n",
        "\n",
        "  return d"
      ],
      "metadata": {
        "id": "j33_1pvp0Yyd"
      },
      "id": "j33_1pvp0Yyd",
      "execution_count": 8,
      "outputs": []
    },
    {
      "cell_type": "code",
      "source": [
        "# use of networkx, creation of graph\n",
        "\n",
        "G = nx.Graph()\n",
        "\n",
        "G.add_nodes_from(range(len(nodes)))\n",
        "for road in roads :\n",
        "  n1 = int(road.get(\"p1\"))\n",
        "  n2 = int(road.get(\"p2\"))\n",
        "  x_coord_1 = float(nodes[n1].get('coordinates')[0])\n",
        "  y_coord_1 = float(nodes[n1].get('coordinates')[1])\n",
        "  x_coord_2 = float(nodes[n2].get('coordinates')[0])\n",
        "  y_coord_2 = float(nodes[n2].get('coordinates')[1])\n",
        "  dist = compute_distance(x_coord_1, y_coord_1, x_coord_2, y_coord_2)\n",
        "\n",
        "  G.add_edge(n1, n2, weight=dist)\n",
        "\n",
        "G.get_edge_data(0, 1)\n",
        "\n"
      ],
      "metadata": {
        "colab": {
          "base_uri": "https://localhost:8080/"
        },
        "id": "MqdpU6s99pZ9",
        "outputId": "49b87dfa-dc46-4d8d-a1c7-afdd53580d21"
      },
      "id": "MqdpU6s99pZ9",
      "execution_count": 9,
      "outputs": [
        {
          "output_type": "execute_result",
          "data": {
            "text/plain": [
              "{'weight': 1553.904995103261}"
            ]
          },
          "metadata": {},
          "execution_count": 9
        }
      ]
    },
    {
      "cell_type": "code",
      "execution_count": 10,
      "id": "d587b013-ad1f-4648-8c47-e2b7f8e868ac",
      "metadata": {
        "id": "d587b013-ad1f-4648-8c47-e2b7f8e868ac"
      },
      "outputs": [],
      "source": [
        "def generate_ratings(n_driver):\n",
        "  mean, std = 3.5, 0.5\n",
        "  x = np.random.normal(mean, std, size=(n_driver, 1))\n",
        "  ratings = np.empty(shape = (n_driver, 1))\n",
        "  for i in range(n_driver):\n",
        "    y = math.ceil(x[i])\n",
        "    if (y - x[i] > 0.5) :\n",
        "      ratings[i] = y - 0.5\n",
        "    else :\n",
        "      ratings[i] = y\n",
        "      \n",
        "  return ratings\n"
      ]
    },
    {
      "cell_type": "code",
      "execution_count": 11,
      "id": "cOIS8p1_Eh0j",
      "metadata": {
        "colab": {
          "base_uri": "https://localhost:8080/"
        },
        "id": "cOIS8p1_Eh0j",
        "outputId": "9ae5957d-35a8-4097-8336-54e44a0af677"
      },
      "outputs": [
        {
          "output_type": "stream",
          "name": "stdout",
          "text": [
            "[{'id': 295, 'coordinates': (12.58, 45.47)}, {'id': 12, 'coordinates': (12.64, 45.54)}, {'id': 147, 'coordinates': (12.45, 45.45)}, {'id': 1768, 'coordinates': (11.91, 45.3)}, {'id': 955, 'coordinates': (12.16, 45.54)}, {'id': 1628, 'coordinates': (12.65, 45.65)}]\n"
          ]
        }
      ],
      "source": [
        "# pool of end points \n",
        "# define a random number of destinations (e.g. from 6 to 8)\n",
        "num_dest = random.randrange(6, 8, 1)\n",
        "pool_dest = []\n",
        "for i in range(num_dest):\n",
        "  rand = random.randrange(len(node_coords))\n",
        "  id_dest = list(node_coords.keys())[rand]\n",
        "  coord_dest = list(node_coords.values())[rand]\n",
        "  pool_dest.append({'id':id_dest, 'coordinates':coord_dest})\n",
        "\n",
        "print(pool_dest)"
      ]
    },
    {
      "cell_type": "markdown",
      "source": [
        "Minimum path lenght:\n",
        "- Drivers: 40 km\n",
        "- Riders: 10 km"
      ],
      "metadata": {
        "id": "aaswT2gyQUTD"
      },
      "id": "aaswT2gyQUTD"
    },
    {
      "cell_type": "code",
      "execution_count": 12,
      "id": "Y9GxoHPZb2dD",
      "metadata": {
        "id": "Y9GxoHPZb2dD"
      },
      "outputs": [],
      "source": [
        "def generate_trips(n, gen):\n",
        "  # needs to define, for each driver/rider, one random starting point, and peak from the pool of destinations a random end points\n",
        "  trips_start = []\n",
        "  trips_dest = []\n",
        "  for i in range(n):\n",
        "    # start point\n",
        "    if (gen == 'driver') :\n",
        "      while True:\n",
        "        # start point\n",
        "        rand_s = random.randrange((len(nodes)))\n",
        "        id_start = list(node_coords.keys())[rand_s]\n",
        "        # end point\n",
        "        rand_d = random.randrange(num_dest)\n",
        "        dest = pool_dest[rand_d]\n",
        "        dist = nx.shortest_path_length(G, id_start, dest.get('id'), weight='weight')\n",
        "        if (dist > 40e3) :\n",
        "          coord_start = list(node_coords.values())[rand_s]\n",
        "          break\n",
        "    else :\n",
        "        while True:\n",
        "          # start point\n",
        "          rand_s = random.randrange((len(nodes)))\n",
        "          id_start = list(node_coords.keys())[rand_s]\n",
        "          # end point\n",
        "          rand_d = random.randrange(num_dest)\n",
        "          dest = pool_dest[rand_d]\n",
        "          dist = nx.shortest_path_length(G, id_start, dest.get('id'), weight='weight')\n",
        "          if (dist > 10e3) :\n",
        "            coord_start = list(node_coords.values())[rand_s]\n",
        "            break\n",
        "     \n",
        "    \n",
        "    trips_start.append({'id':id_start, 'coordinates':coord_start})\n",
        "    trips_dest.append(dest)\n",
        "\n",
        "  return trips_start, trips_dest\n"
      ]
    },
    {
      "cell_type": "code",
      "execution_count": 13,
      "id": "359951c9-c520-4e13-8ac4-1c7ec48e1ab2",
      "metadata": {
        "id": "359951c9-c520-4e13-8ac4-1c7ec48e1ab2"
      },
      "outputs": [],
      "source": [
        "def generate_schedules(n):\n",
        "  \n",
        "  #time probability mass: how many requests per 2-hour slot in percentage\n",
        "  time_prob = {   \n",
        "                  '00:00': 1e-3,\n",
        "                  '2:00': 1e-3,\n",
        "                  '4:00': 1e-3,\n",
        "                  '6:00': 1e-3,\n",
        "                  '6:30': 5e-3,\n",
        "                  '7:00': 0.02,\n",
        "                  '7:30': 0.1,\n",
        "                  '8:00': 0.1,\n",
        "                  '8:30': 0.1,\n",
        "                  '10:00': 0.01,\n",
        "                  '10:30': 0.01,\n",
        "                  '12:00': 0.1,\n",
        "                  '12:30': 0.1,\n",
        "                  '13:00': 0.1,\n",
        "                  '14:00': 0.01,\n",
        "                  '16:00': 0.01,\n",
        "                  '18:00': 0.1,\n",
        "                  '18:30': 0.1,\n",
        "                  '19:00': 0.1,\n",
        "                  '19:30': 0.02,\n",
        "                  '20:00': 5e-3,\n",
        "                  '21:00': 5e-3,\n",
        "                  '22:00': 1e-3,\n",
        "  }\n",
        "\n",
        "  \n",
        "\n",
        "  times = []\n",
        "  hours = list(time_prob.keys())\n",
        "  prob = list(time_prob.values())\n",
        "  for i in range(n):\n",
        "    times.append((random.choices(hours, prob)[0]))\n",
        "\n",
        "  return times"
      ]
    },
    {
      "cell_type": "code",
      "execution_count": 14,
      "id": "CIOti8PLigxN",
      "metadata": {
        "id": "CIOti8PLigxN"
      },
      "outputs": [],
      "source": [
        "class Driver:\n",
        "  def __init__(self, id, rating, hour, start_point, end_point):\n",
        "    self.id = id\n",
        "    self.rating = rating\n",
        "    self.hour = hour\n",
        "    self.start_point = start_point\n",
        "    self.end_point = end_point\n",
        "\n",
        "  def __str__(self):\n",
        "    return \"Driver ( id = \" + str(self.id) + \", rating = \" + str(self.rating) + \", hour = \" + self.hour + \", start = \" + str(self.start_point) + \", dest = \" + str(self.end_point) + \")\"\n",
        "\n",
        "class Rider:\n",
        "  def __init__(self, id, rating, hour, start_point, end_point):\n",
        "    self.id = id\n",
        "    self.rating = rating\n",
        "    self.hour = hour\n",
        "    self.start_point = start_point\n",
        "    self.end_point = end_point\n",
        "\n",
        "  def __str__(self):\n",
        "    date_format_str = '%H:%M'\n",
        "    return \"Rider ( id = \" + str(self.id) + \", rating = \" + str(self.rating) + \", hour = \" + self.hour + \", start = \" + str(self.start_point) + \", dest = \" + str(self.end_point) + \")\""
      ]
    },
    {
      "cell_type": "code",
      "execution_count": 15,
      "id": "GVRlI8gLYWCO",
      "metadata": {
        "id": "GVRlI8gLYWCO"
      },
      "outputs": [],
      "source": [
        "def generate_data():\n",
        "  # 1- generate n_drivers and n_riders\n",
        "  # range: start, end, stepsize\n",
        "  n_drivers = random.randrange(40, 50, 1)\n",
        "  n_riders = random.randrange(150, 250, 15)\n",
        "  print(\"N_drivers: \", n_drivers)\n",
        "  print(\"N_riders: \", n_riders)\n",
        "  # 2 - generate start point and end point for drivers and riders\n",
        "  trips_start_drivers, trips_dest_drivers = generate_trips(n_drivers, gen='driver')\n",
        "  trips_start_riders, trips_dest_riders = generate_trips(n_riders, gen='rider')\n",
        "  # 3 - generate schedules\n",
        "  drivers_schedule = generate_schedules(n_drivers)\n",
        "  riders_schedule = generate_schedules(n_riders)\n",
        "  # 4- generate ratings for drivers and riders\n",
        "  ratings_d = generate_ratings(n_drivers)\n",
        "  ratings_r = generate_ratings(n_riders)\n",
        "  # 5 - parse in a list of objects\n",
        "  riders = []\n",
        "  drivers = []\n",
        "  for i in range(n_riders):\n",
        "    riders.append( Rider(i, ratings_r[i][0], riders_schedule[i], trips_start_riders[i], trips_dest_riders[i]))\n",
        "\n",
        "  for i in range(n_drivers):\n",
        "    drivers.append( Driver(i, ratings_d[i][0], drivers_schedule[i], trips_start_drivers[i], trips_dest_drivers[i]))\n",
        "\n",
        "  return drivers, riders\n",
        "\n"
      ]
    },
    {
      "cell_type": "code",
      "execution_count": 16,
      "id": "1be3f349-94ec-4ac4-8306-74f789381445",
      "metadata": {
        "colab": {
          "base_uri": "https://localhost:8080/"
        },
        "id": "1be3f349-94ec-4ac4-8306-74f789381445",
        "outputId": "21e1c857-8c4f-421a-d468-0649e29a00af"
      },
      "outputs": [
        {
          "output_type": "stream",
          "name": "stdout",
          "text": [
            "N_drivers:  44\n",
            "N_riders:  225\n",
            "Driver ( id = 0, rating = 4.0, hour = 8:00, start = {'id': 530, 'coordinates': (12.34, 45.5)}, dest = {'id': 1768, 'coordinates': (11.91, 45.3)})\n",
            "Driver ( id = 1, rating = 4.5, hour = 18:00, start = {'id': 366, 'coordinates': (12.31, 45.49)}, dest = {'id': 12, 'coordinates': (12.64, 45.54)})\n",
            "Driver ( id = 2, rating = 4.0, hour = 8:30, start = {'id': 842, 'coordinates': (12.18, 45.22)}, dest = {'id': 1628, 'coordinates': (12.65, 45.65)})\n",
            "Driver ( id = 3, rating = 5.0, hour = 8:00, start = {'id': 1547, 'coordinates': (12.0, 45.45)}, dest = {'id': 12, 'coordinates': (12.64, 45.54)})\n",
            "Driver ( id = 4, rating = 3.5, hour = 12:00, start = {'id': 1130, 'coordinates': (11.98, 45.54)}, dest = {'id': 12, 'coordinates': (12.64, 45.54)})\n",
            "Driver ( id = 5, rating = 4.0, hour = 7:30, start = {'id': 1069, 'coordinates': (12.1, 45.53)}, dest = {'id': 12, 'coordinates': (12.64, 45.54)})\n",
            "Driver ( id = 6, rating = 4.0, hour = 8:30, start = {'id': 1421, 'coordinates': (11.77, 45.25)}, dest = {'id': 295, 'coordinates': (12.58, 45.47)})\n",
            "Driver ( id = 7, rating = 4.0, hour = 20:00, start = {'id': 1313, 'coordinates': (11.86, 45.29)}, dest = {'id': 147, 'coordinates': (12.45, 45.45)})\n",
            "Driver ( id = 8, rating = 3.5, hour = 12:30, start = {'id': 612, 'coordinates': (12.15, 45.41)}, dest = {'id': 295, 'coordinates': (12.58, 45.47)})\n",
            "Driver ( id = 9, rating = 4.0, hour = 12:00, start = {'id': 219, 'coordinates': (12.16, 45.61)}, dest = {'id': 12, 'coordinates': (12.64, 45.54)})\n",
            "\n",
            "\n",
            "***********************************************************************\n",
            "\n",
            "\n",
            "Rider ( id = 0, rating = 4.0, hour = 21:00, start = {'id': 1319, 'coordinates': (11.78, 45.31)}, dest = {'id': 12, 'coordinates': (12.64, 45.54)})\n",
            "Rider ( id = 1, rating = 4.5, hour = 8:00, start = {'id': 139, 'coordinates': (12.07, 45.3)}, dest = {'id': 1628, 'coordinates': (12.65, 45.65)})\n",
            "Rider ( id = 2, rating = 3.0, hour = 12:30, start = {'id': 1504, 'coordinates': (12.1, 45.46)}, dest = {'id': 295, 'coordinates': (12.58, 45.47)})\n",
            "Rider ( id = 3, rating = 4.0, hour = 7:00, start = {'id': 725, 'coordinates': (11.96, 45.43)}, dest = {'id': 1768, 'coordinates': (11.91, 45.3)})\n",
            "Rider ( id = 4, rating = 3.0, hour = 16:00, start = {'id': 1346, 'coordinates': (11.92, 45.23)}, dest = {'id': 1628, 'coordinates': (12.65, 45.65)})\n",
            "Rider ( id = 5, rating = 3.5, hour = 12:00, start = {'id': 983, 'coordinates': (11.88, 45.31)}, dest = {'id': 1628, 'coordinates': (12.65, 45.65)})\n",
            "Rider ( id = 6, rating = 3.0, hour = 13:00, start = {'id': 2204, 'coordinates': (12.75, 45.62)}, dest = {'id': 12, 'coordinates': (12.64, 45.54)})\n",
            "Rider ( id = 7, rating = 5.0, hour = 18:00, start = {'id': 166, 'coordinates': (12.58, 45.49)}, dest = {'id': 955, 'coordinates': (12.16, 45.54)})\n",
            "Rider ( id = 8, rating = 4.5, hour = 19:00, start = {'id': 1260, 'coordinates': (12.71, 45.55)}, dest = {'id': 1768, 'coordinates': (11.91, 45.3)})\n",
            "Rider ( id = 9, rating = 3.5, hour = 18:00, start = {'id': 1230, 'coordinates': (12.62, 45.54)}, dest = {'id': 147, 'coordinates': (12.45, 45.45)})\n"
          ]
        }
      ],
      "source": [
        "drivers, riders = generate_data()\n",
        "\n",
        "for i in range(10) :\n",
        "  print(drivers[i])\n",
        "\n",
        "print(\"\\n\\n***********************************************************************\\n\\n\")\n",
        "\n",
        "for i in range(10) :\n",
        "  print(riders[i])\n"
      ]
    },
    {
      "cell_type": "code",
      "source": [
        "# use of Dijkstra for shortest path\n",
        "\n",
        "drivers_path = []\n",
        "riders_path = []\n",
        "\n",
        "# 50 km/h\n",
        "avg_vel = 50\n",
        "date_format_str = '%H:%M'\n",
        "\n",
        "for driver in drivers:\n",
        "  spath = nx.dijkstra_path(G, driver.start_point.get('id'), driver.end_point.get('id'))\n",
        "  dpath = [{'node' : spath[0], 'hour': driver.hour}]\n",
        "  dist = 0\n",
        "\n",
        "\n",
        "  for i in range(1, len(spath)):\n",
        "    # retrieve distance and convert into km\n",
        "    \n",
        "    # distance in km\n",
        "    dist += (G.get_edge_data(spath[i-1], spath[i]).get('weight')) / 1e3\n",
        "    time = dist / avg_vel\n",
        "    time_1 = datetime.strptime(driver.hour, date_format_str)\n",
        "    time_2 = time_1 + timedelta(hours=time)\n",
        "    str_time = time_2.strftime(date_format_str)\n",
        "\n",
        "    dpath.append({'node': spath[i], 'hour':str_time})\n",
        "\n",
        "\n",
        "  total_dist = nx.shortest_path_length(G, driver.start_point.get('id'), driver.end_point.get('id'), weight='weight')\n",
        "\n",
        "  drivers_path.append({'id_driver': driver.id, 'shortest_path' : dpath, 'arrival_time': str_time})\n",
        "  \n",
        "  #print(\"Driver #\" + str(driver.id) + \": start at \" + driver.hour + \" , end at \" + dpath[len(dpath)-1].get('hour'))\n",
        "  #print(\"    -> total dist km: \", total_dist/1e3)\n",
        "\n",
        "\n",
        "for rider in riders:\n",
        "  spath = nx.dijkstra_path(G, rider.start_point.get('id'), rider.end_point.get('id'))\n",
        "  riders_path.append({'id_rider': rider.id, 'shortest_path' : spath})\n",
        "\n",
        "print(drivers_path[0])\n",
        "#print(riders_path)"
      ],
      "metadata": {
        "colab": {
          "base_uri": "https://localhost:8080/"
        },
        "id": "rQk3RUI9_9pF",
        "outputId": "8d10dd27-5511-47bd-fdc7-42ee4ddf2e80"
      },
      "id": "rQk3RUI9_9pF",
      "execution_count": 17,
      "outputs": [
        {
          "output_type": "stream",
          "name": "stdout",
          "text": [
            "{'id_driver': 0, 'shortest_path': [{'node': 530, 'hour': '8:00'}, {'node': 292, 'hour': '08:01'}, {'node': 365, 'hour': '08:02'}, {'node': 366, 'hour': '08:04'}, {'node': 234, 'hour': '08:05'}, {'node': 1004, 'hour': '08:08'}, {'node': 84, 'hour': '08:10'}, {'node': 27, 'hour': '08:12'}, {'node': 237, 'hour': '08:13'}, {'node': 121, 'hour': '08:14'}, {'node': 122, 'hour': '08:16'}, {'node': 331, 'hour': '08:17'}, {'node': 120, 'hour': '08:18'}, {'node': 536, 'hour': '08:20'}, {'node': 316, 'hour': '08:24'}, {'node': 647, 'hour': '08:25'}, {'node': 688, 'hour': '08:27'}, {'node': 131, 'hour': '08:28'}, {'node': 645, 'hour': '08:30'}, {'node': 706, 'hour': '08:32'}, {'node': 1541, 'hour': '08:33'}, {'node': 1542, 'hour': '08:35'}, {'node': 1986, 'hour': '08:36'}, {'node': 1898, 'hour': '08:38'}, {'node': 760, 'hour': '08:41'}, {'node': 757, 'hour': '08:43'}, {'node': 754, 'hour': '08:44'}, {'node': 744, 'hour': '08:45'}, {'node': 743, 'hour': '08:47'}, {'node': 685, 'hour': '08:48'}, {'node': 684, 'hour': '08:49'}, {'node': 683, 'hour': '08:51'}, {'node': 761, 'hour': '08:52'}, {'node': 682, 'hour': '08:53'}, {'node': 454, 'hour': '08:55'}, {'node': 803, 'hour': '08:57'}, {'node': 894, 'hour': '08:58'}, {'node': 562, 'hour': '09:00'}, {'node': 1564, 'hour': '09:02'}, {'node': 826, 'hour': '09:03'}, {'node': 1607, 'hour': '09:05'}, {'node': 1809, 'hour': '09:08'}, {'node': 1592, 'hour': '09:09'}, {'node': 1768, 'hour': '09:10'}], 'arrival_time': '09:10'}\n"
          ]
        }
      ]
    },
    {
      "cell_type": "code",
      "source": [
        "def min_distance (shortest_path_driver, rider) :\n",
        "  min_distance = float('inf')\n",
        "  xr = rider.start_point.get('coordinates')[0]\n",
        "  yr = rider.start_point.get('coordinates')[1]\n",
        "  for node in shortest_path_driver :\n",
        "    id = node.get('node')\n",
        "    x1 = nodes[id].get('coordinates')[0]\n",
        "    x2 = nodes[id].get('coordinates')[1]\n",
        "    dist = compute_distance(x1, x2, xr, yr)\n",
        "    if dist < min_distance :\n",
        "      min_distance = dist\n",
        "\n",
        "  return min_distance\n"
      ],
      "metadata": {
        "id": "VvTci_DIxG38"
      },
      "id": "VvTci_DIxG38",
      "execution_count": 18,
      "outputs": []
    },
    {
      "cell_type": "code",
      "source": [
        "# find matching: since we assumed drivers and riders having same dest\n",
        "# first: filter the total of drivers and riders\n",
        "\n",
        "drivers_match = [{} for _ in range(len(drivers))]\n",
        "\n",
        "# couple drivers and riders with same dest and similar hours\n",
        "\n",
        "for driver in drivers :\n",
        "  drivers_match[driver.id] = {'id_driver' : driver.id, 'list_of_riders' : []}\n",
        "  for rider in riders :\n",
        "    dhour_start = datetime.strptime(driver.hour, date_format_str)\n",
        "    dhour_end = datetime.strptime(drivers_path[driver.id].get('arrival_time'), date_format_str)\n",
        "    rhour = datetime.strptime(rider.hour, date_format_str)\n",
        "\n",
        "    #print(\"min distance: \" , min_distance(drivers_path[driver.id].get('shortest_path'), rider))\n",
        "\n",
        "    # filter per\n",
        "    # 1- same dest\n",
        "    # 2- simil hour\n",
        "    # 3- minimum distance from rider and shortest path <= 30 km\n",
        "    if driver.end_point.get('id') == rider.end_point.get('id') and ((dhour_start - timedelta(minutes=30)) <= rhour <= (dhour_end + timedelta(minutes=30)))  :\n",
        "      drivers_match[driver.id].get('list_of_riders').append(rider.id)\n",
        "  \n",
        "\n"
      ],
      "metadata": {
        "id": "ztU1h2qCsQ8a"
      },
      "id": "ztU1h2qCsQ8a",
      "execution_count": 19,
      "outputs": []
    },
    {
      "cell_type": "code",
      "source": [
        "def preference_list_drivers(drivers_match) :\n",
        "\n",
        "  preferences = [{} for _ in range(len(drivers))]\n",
        "\n",
        "  for driver in drivers :\n",
        "    pref_dict = {}\n",
        "    for r in drivers_match[driver.id].get('list_of_riders') :\n",
        "      rider = riders[r]     \n",
        "      min_dist = min_distance(drivers_path[driver.id].get('shortest_path'), rider)\n",
        "      if min_dist <= 35e3 :\n",
        "        # 0.4 * rating + 0.6 * distance in kms\n",
        "        measure =  0.4*rider.rating + 0.6*(min_dist/1e3)\n",
        "        pref_dict[rider.id] = measure\n",
        "\n",
        "    # sort list\n",
        "    preferences[driver.id] = {'id_driver' : driver.id, 'list_of_riders' : list(dict(sorted(pref_dict.items(), key=lambda item: item[1])))}\n",
        "\n",
        "    \n",
        "    \n",
        "  return preferences\n",
        "\n"
      ],
      "metadata": {
        "id": "hpk10lYH2eH2"
      },
      "id": "hpk10lYH2eH2",
      "execution_count": 39,
      "outputs": []
    },
    {
      "cell_type": "code",
      "source": [
        "def preference_list_riders(list_of_riders) :\n",
        "\n",
        "  preferences = [{} for _ in range(len(riders))]\n",
        "\n",
        "  pref = [ {} for _ in range(len(riders))]\n",
        "\n",
        "  # build the lists\n",
        "\n",
        "  for driver in drivers:\n",
        "    for r in drivers_match[driver.id].get('list_of_riders') :\n",
        "      rider = riders[r]\n",
        "      pref[rider.id][driver.id] = driver.rating\n",
        "      \n",
        "\n",
        "  #sort the lists\n",
        "\n",
        "  for i in range(len(riders)):\n",
        "    preferences[i] = {'id_rider' : i, 'list_of_drivers' : list(dict(sorted(pref[i].items(), key=lambda item: item[1])))} \n",
        "  \n",
        "  return preferences"
      ],
      "metadata": {
        "id": "mntDBTb5ksl0"
      },
      "id": "mntDBTb5ksl0",
      "execution_count": 81,
      "outputs": []
    },
    {
      "cell_type": "markdown",
      "source": [
        "# Start of main algorithm"
      ],
      "metadata": {
        "id": "DRt2OiPl6k8n"
      },
      "id": "DRt2OiPl6k8n"
    },
    {
      "cell_type": "code",
      "source": [
        "# 1- get path from Steiner tree (first option: compute shortest path)\n",
        "\n",
        "# 2 - compute preference list of drivers\n",
        "\n",
        "#print(drivers_match[0].get('list_of_riders'))\n",
        "\n",
        "print(preference_list_drivers(drivers_match))\n",
        "\n",
        "# 3 - compute preference list of riders\n",
        "\n",
        "print(preference_list_riders(drivers_match))"
      ],
      "metadata": {
        "colab": {
          "base_uri": "https://localhost:8080/"
        },
        "id": "VHJJzPEQ6n7n",
        "outputId": "3bd94635-70a1-40e6-f974-1861b6a68957"
      },
      "id": "VHJJzPEQ6n7n",
      "execution_count": 82,
      "outputs": [
        {
          "output_type": "stream",
          "name": "stdout",
          "text": [
            "[{'id_driver': 0, 'list_of_riders': [68, 169, 78, 218, 156]}, {'id_driver': 1, 'list_of_riders': [12, 208, 99, 117, 32]}, {'id_driver': 2, 'list_of_riders': [143, 73, 201, 63, 1, 122, 189, 139, 190, 16, 111]}, {'id_driver': 3, 'list_of_riders': [100, 112, 48, 217, 20, 76, 24, 154, 204, 106]}, {'id_driver': 4, 'list_of_riders': [43, 131, 93, 6, 181, 23, 140, 216, 121]}, {'id_driver': 5, 'list_of_riders': [48, 100, 217, 112, 167, 76, 20, 24, 204, 106, 154]}, {'id_driver': 6, 'list_of_riders': [75, 118, 158, 110]}, {'id_driver': 7, 'list_of_riders': []}, {'id_driver': 8, 'list_of_riders': [126, 150, 2, 172]}, {'id_driver': 9, 'list_of_riders': [131, 93, 6, 43, 23]}, {'id_driver': 10, 'list_of_riders': [75, 220, 158, 53, 118, 110]}, {'id_driver': 11, 'list_of_riders': [75, 220, 110, 118, 53, 158]}, {'id_driver': 12, 'list_of_riders': [75, 220, 118, 110, 53, 158]}, {'id_driver': 13, 'list_of_riders': [24, 217, 112, 106, 167, 100, 48, 20, 76, 107, 154]}, {'id_driver': 14, 'list_of_riders': [75, 158]}, {'id_driver': 15, 'list_of_riders': [112, 100, 48, 20, 151, 76, 154]}, {'id_driver': 16, 'list_of_riders': [217, 100, 48, 112, 167, 24, 106]}, {'id_driver': 17, 'list_of_riders': [40, 206, 108, 182]}, {'id_driver': 18, 'list_of_riders': [194, 18, 14, 103, 135, 198]}, {'id_driver': 19, 'list_of_riders': [126, 150, 2, 172]}, {'id_driver': 20, 'list_of_riders': [40]}, {'id_driver': 21, 'list_of_riders': [96, 38, 191, 184, 28, 109, 30, 42, 41, 64]}, {'id_driver': 22, 'list_of_riders': [214, 178, 21, 174, 67, 203, 34, 162, 55, 213, 91]}, {'id_driver': 23, 'list_of_riders': [208, 99, 12, 32, 163]}, {'id_driver': 24, 'list_of_riders': [173, 123, 15, 145, 183, 152, 74, 142, 187, 45]}, {'id_driver': 25, 'list_of_riders': [95, 71, 65, 92, 146, 200, 128, 113, 62, 98]}, {'id_driver': 26, 'list_of_riders': [173, 145, 61, 123, 15, 29, 90, 54, 74, 187, 183, 209, 152, 45, 197, 142]}, {'id_driver': 27, 'list_of_riders': [201, 63, 189, 143, 122, 139, 73, 1, 111, 190, 16]}, {'id_driver': 28, 'list_of_riders': [126, 172, 2, 150, 176, 164]}, {'id_driver': 29, 'list_of_riders': [112, 100, 48, 20, 154, 151, 76, 204]}, {'id_driver': 30, 'list_of_riders': [131, 93, 6, 43, 23, 181, 140]}, {'id_driver': 31, 'list_of_riders': [119, 137, 147, 165, 86, 35, 192, 116]}, {'id_driver': 32, 'list_of_riders': [104, 129, 37, 70, 13, 224]}, {'id_driver': 33, 'list_of_riders': [70, 224, 149, 101, 104, 129, 222, 37, 13, 219, 207, 125, 115, 211]}, {'id_driver': 34, 'list_of_riders': [104, 37, 219, 13, 224, 101, 149, 222]}, {'id_driver': 35, 'list_of_riders': [100, 154, 20, 112, 48, 151, 76, 204]}, {'id_driver': 36, 'list_of_riders': [75, 220, 110, 118, 53, 158]}, {'id_driver': 37, 'list_of_riders': [185, 134, 44, 221, 88, 17, 159, 175, 132]}, {'id_driver': 38, 'list_of_riders': [63, 189, 39, 201, 139, 73, 57, 26, 143, 1, 205, 122, 210, 111, 190, 16]}, {'id_driver': 39, 'list_of_riders': [208, 99, 12, 32, 163]}, {'id_driver': 40, 'list_of_riders': [149, 101, 37, 219, 115]}, {'id_driver': 41, 'list_of_riders': [33, 47, 25, 170, 19, 133, 66, 130, 141, 50]}, {'id_driver': 42, 'list_of_riders': [48, 100, 217, 112, 167, 76, 20, 24]}, {'id_driver': 43, 'list_of_riders': [106, 24, 217, 112, 100, 48, 20, 151, 76, 154]}]\n",
            "[{'id_rider': 0, 'list_of_drivers': []}, {'id_rider': 1, 'list_of_drivers': [38, 2, 27]}, {'id_rider': 2, 'list_of_drivers': [8, 28, 19]}, {'id_rider': 3, 'list_of_drivers': []}, {'id_rider': 4, 'list_of_drivers': []}, {'id_rider': 5, 'list_of_drivers': [22]}, {'id_rider': 6, 'list_of_drivers': [4, 9, 30]}, {'id_rider': 7, 'list_of_drivers': []}, {'id_rider': 8, 'list_of_drivers': [18]}, {'id_rider': 9, 'list_of_drivers': []}, {'id_rider': 10, 'list_of_drivers': []}, {'id_rider': 11, 'list_of_drivers': []}, {'id_rider': 12, 'list_of_drivers': [23, 39, 1]}, {'id_rider': 13, 'list_of_drivers': [33, 32, 34]}, {'id_rider': 14, 'list_of_drivers': [18]}, {'id_rider': 15, 'list_of_drivers': [26, 24]}, {'id_rider': 16, 'list_of_drivers': [38, 2, 27]}, {'id_rider': 17, 'list_of_drivers': [37]}, {'id_rider': 18, 'list_of_drivers': [18]}, {'id_rider': 19, 'list_of_drivers': [41]}, {'id_rider': 20, 'list_of_drivers': [15, 5, 13, 16, 42, 43, 29, 35, 3]}, {'id_rider': 21, 'list_of_drivers': [22]}, {'id_rider': 22, 'list_of_drivers': []}, {'id_rider': 23, 'list_of_drivers': [4, 9, 30]}, {'id_rider': 24, 'list_of_drivers': [5, 13, 16, 42, 43, 3]}, {'id_rider': 25, 'list_of_drivers': [41]}, {'id_rider': 26, 'list_of_drivers': [38]}, {'id_rider': 27, 'list_of_drivers': []}, {'id_rider': 28, 'list_of_drivers': [21]}, {'id_rider': 29, 'list_of_drivers': [26]}, {'id_rider': 30, 'list_of_drivers': [21]}, {'id_rider': 31, 'list_of_drivers': [41]}, {'id_rider': 32, 'list_of_drivers': [23, 39, 1]}, {'id_rider': 33, 'list_of_drivers': [41]}, {'id_rider': 34, 'list_of_drivers': [22]}, {'id_rider': 35, 'list_of_drivers': [31]}, {'id_rider': 36, 'list_of_drivers': []}, {'id_rider': 37, 'list_of_drivers': [33, 32, 40, 34]}, {'id_rider': 38, 'list_of_drivers': [21]}, {'id_rider': 39, 'list_of_drivers': [38]}, {'id_rider': 40, 'list_of_drivers': [17, 20]}, {'id_rider': 41, 'list_of_drivers': [21]}, {'id_rider': 42, 'list_of_drivers': [21]}, {'id_rider': 43, 'list_of_drivers': [4, 9, 30]}, {'id_rider': 44, 'list_of_drivers': [37]}, {'id_rider': 45, 'list_of_drivers': [26, 24]}, {'id_rider': 46, 'list_of_drivers': [37]}, {'id_rider': 47, 'list_of_drivers': [41]}, {'id_rider': 48, 'list_of_drivers': [15, 5, 13, 16, 42, 43, 29, 35, 3]}, {'id_rider': 49, 'list_of_drivers': [31]}, {'id_rider': 50, 'list_of_drivers': [41]}, {'id_rider': 51, 'list_of_drivers': []}, {'id_rider': 52, 'list_of_drivers': []}, {'id_rider': 53, 'list_of_drivers': [10, 11, 12, 36]}, {'id_rider': 54, 'list_of_drivers': [26]}, {'id_rider': 55, 'list_of_drivers': [22]}, {'id_rider': 56, 'list_of_drivers': []}, {'id_rider': 57, 'list_of_drivers': [38]}, {'id_rider': 58, 'list_of_drivers': []}, {'id_rider': 59, 'list_of_drivers': []}, {'id_rider': 60, 'list_of_drivers': [0]}, {'id_rider': 61, 'list_of_drivers': [26]}, {'id_rider': 62, 'list_of_drivers': [25]}, {'id_rider': 63, 'list_of_drivers': [38, 2, 27]}, {'id_rider': 64, 'list_of_drivers': [21]}, {'id_rider': 65, 'list_of_drivers': [25]}, {'id_rider': 66, 'list_of_drivers': [41]}, {'id_rider': 67, 'list_of_drivers': [22]}, {'id_rider': 68, 'list_of_drivers': [0]}, {'id_rider': 69, 'list_of_drivers': [17, 20]}, {'id_rider': 70, 'list_of_drivers': [33, 32]}, {'id_rider': 71, 'list_of_drivers': [25]}, {'id_rider': 72, 'list_of_drivers': []}, {'id_rider': 73, 'list_of_drivers': [38, 2, 27]}, {'id_rider': 74, 'list_of_drivers': [26, 24]}, {'id_rider': 75, 'list_of_drivers': [10, 6, 11, 12, 14, 36]}, {'id_rider': 76, 'list_of_drivers': [15, 5, 13, 16, 42, 43, 29, 35, 3]}, {'id_rider': 77, 'list_of_drivers': []}, {'id_rider': 78, 'list_of_drivers': [0]}, {'id_rider': 79, 'list_of_drivers': []}, {'id_rider': 80, 'list_of_drivers': []}, {'id_rider': 81, 'list_of_drivers': []}, {'id_rider': 82, 'list_of_drivers': [23, 39, 1]}, {'id_rider': 83, 'list_of_drivers': []}, {'id_rider': 84, 'list_of_drivers': []}, {'id_rider': 85, 'list_of_drivers': []}, {'id_rider': 86, 'list_of_drivers': [31]}, {'id_rider': 87, 'list_of_drivers': []}, {'id_rider': 88, 'list_of_drivers': [37]}, {'id_rider': 89, 'list_of_drivers': []}, {'id_rider': 90, 'list_of_drivers': [26]}, {'id_rider': 91, 'list_of_drivers': [22]}, {'id_rider': 92, 'list_of_drivers': [25]}, {'id_rider': 93, 'list_of_drivers': [4, 9, 30]}, {'id_rider': 94, 'list_of_drivers': []}, {'id_rider': 95, 'list_of_drivers': [25]}, {'id_rider': 96, 'list_of_drivers': [21]}, {'id_rider': 97, 'list_of_drivers': [31]}, {'id_rider': 98, 'list_of_drivers': [25]}, {'id_rider': 99, 'list_of_drivers': [23, 39, 1]}, {'id_rider': 100, 'list_of_drivers': [15, 5, 13, 16, 42, 43, 29, 35, 3]}, {'id_rider': 101, 'list_of_drivers': [33, 32, 40, 34]}, {'id_rider': 102, 'list_of_drivers': []}, {'id_rider': 103, 'list_of_drivers': [18]}, {'id_rider': 104, 'list_of_drivers': [33, 32, 34]}, {'id_rider': 105, 'list_of_drivers': [41]}, {'id_rider': 106, 'list_of_drivers': [5, 13, 16, 42, 43, 3]}, {'id_rider': 107, 'list_of_drivers': [5, 13, 16, 42]}, {'id_rider': 108, 'list_of_drivers': [17, 20]}, {'id_rider': 109, 'list_of_drivers': [21]}, {'id_rider': 110, 'list_of_drivers': [10, 6, 11, 12, 14, 36]}, {'id_rider': 111, 'list_of_drivers': [38, 2, 27]}, {'id_rider': 112, 'list_of_drivers': [15, 5, 13, 16, 42, 43, 29, 35, 3]}, {'id_rider': 113, 'list_of_drivers': [25]}, {'id_rider': 114, 'list_of_drivers': [23, 39, 1]}, {'id_rider': 115, 'list_of_drivers': [33, 32, 40, 34]}, {'id_rider': 116, 'list_of_drivers': [31]}, {'id_rider': 117, 'list_of_drivers': [1]}, {'id_rider': 118, 'list_of_drivers': [10, 6, 11, 12, 14, 36]}, {'id_rider': 119, 'list_of_drivers': [31]}, {'id_rider': 120, 'list_of_drivers': []}, {'id_rider': 121, 'list_of_drivers': [4, 9, 30]}, {'id_rider': 122, 'list_of_drivers': [38, 2, 27]}, {'id_rider': 123, 'list_of_drivers': [26, 24]}, {'id_rider': 124, 'list_of_drivers': [25]}, {'id_rider': 125, 'list_of_drivers': [33, 32, 34]}, {'id_rider': 126, 'list_of_drivers': [8, 28, 19]}, {'id_rider': 127, 'list_of_drivers': []}, {'id_rider': 128, 'list_of_drivers': [25]}, {'id_rider': 129, 'list_of_drivers': [33, 32]}, {'id_rider': 130, 'list_of_drivers': [41]}, {'id_rider': 131, 'list_of_drivers': [4, 9, 30]}, {'id_rider': 132, 'list_of_drivers': [37]}, {'id_rider': 133, 'list_of_drivers': [41]}, {'id_rider': 134, 'list_of_drivers': [37]}, {'id_rider': 135, 'list_of_drivers': [18]}, {'id_rider': 136, 'list_of_drivers': []}, {'id_rider': 137, 'list_of_drivers': [31]}, {'id_rider': 138, 'list_of_drivers': []}, {'id_rider': 139, 'list_of_drivers': [38, 2, 27]}, {'id_rider': 140, 'list_of_drivers': [4, 9, 30]}, {'id_rider': 141, 'list_of_drivers': [41]}, {'id_rider': 142, 'list_of_drivers': [26, 24]}, {'id_rider': 143, 'list_of_drivers': [38, 2, 27]}, {'id_rider': 144, 'list_of_drivers': [4, 9, 30]}, {'id_rider': 145, 'list_of_drivers': [26, 24]}, {'id_rider': 146, 'list_of_drivers': [25]}, {'id_rider': 147, 'list_of_drivers': [31]}, {'id_rider': 148, 'list_of_drivers': []}, {'id_rider': 149, 'list_of_drivers': [33, 32, 40, 34]}, {'id_rider': 150, 'list_of_drivers': [8, 28, 19]}, {'id_rider': 151, 'list_of_drivers': [15, 43, 29, 35]}, {'id_rider': 152, 'list_of_drivers': [26, 24]}, {'id_rider': 153, 'list_of_drivers': []}, {'id_rider': 154, 'list_of_drivers': [15, 5, 13, 16, 42, 43, 29, 35, 3]}, {'id_rider': 155, 'list_of_drivers': []}, {'id_rider': 156, 'list_of_drivers': [0]}, {'id_rider': 157, 'list_of_drivers': []}, {'id_rider': 158, 'list_of_drivers': [10, 6, 11, 12, 14, 36]}, {'id_rider': 159, 'list_of_drivers': [37]}, {'id_rider': 160, 'list_of_drivers': []}, {'id_rider': 161, 'list_of_drivers': []}, {'id_rider': 162, 'list_of_drivers': [22]}, {'id_rider': 163, 'list_of_drivers': [23, 39, 1]}, {'id_rider': 164, 'list_of_drivers': [8, 28, 19]}, {'id_rider': 165, 'list_of_drivers': [31]}, {'id_rider': 166, 'list_of_drivers': [31]}, {'id_rider': 167, 'list_of_drivers': [5, 13, 16, 42]}, {'id_rider': 168, 'list_of_drivers': [31]}, {'id_rider': 169, 'list_of_drivers': [0]}, {'id_rider': 170, 'list_of_drivers': [41]}, {'id_rider': 171, 'list_of_drivers': [18]}, {'id_rider': 172, 'list_of_drivers': [8, 28, 19]}, {'id_rider': 173, 'list_of_drivers': [26, 24]}, {'id_rider': 174, 'list_of_drivers': [22]}, {'id_rider': 175, 'list_of_drivers': [37]}, {'id_rider': 176, 'list_of_drivers': [8, 28, 19]}, {'id_rider': 177, 'list_of_drivers': []}, {'id_rider': 178, 'list_of_drivers': [22]}, {'id_rider': 179, 'list_of_drivers': []}, {'id_rider': 180, 'list_of_drivers': [23, 39]}, {'id_rider': 181, 'list_of_drivers': [4, 9, 30]}, {'id_rider': 182, 'list_of_drivers': [17, 20]}, {'id_rider': 183, 'list_of_drivers': [26, 24]}, {'id_rider': 184, 'list_of_drivers': [21]}, {'id_rider': 185, 'list_of_drivers': [37]}, {'id_rider': 186, 'list_of_drivers': []}, {'id_rider': 187, 'list_of_drivers': [26, 24]}, {'id_rider': 188, 'list_of_drivers': [17, 20]}, {'id_rider': 189, 'list_of_drivers': [38, 2, 27]}, {'id_rider': 190, 'list_of_drivers': [38, 2, 27]}, {'id_rider': 191, 'list_of_drivers': [21]}, {'id_rider': 192, 'list_of_drivers': [31]}, {'id_rider': 193, 'list_of_drivers': []}, {'id_rider': 194, 'list_of_drivers': [18]}, {'id_rider': 195, 'list_of_drivers': []}, {'id_rider': 196, 'list_of_drivers': []}, {'id_rider': 197, 'list_of_drivers': [26]}, {'id_rider': 198, 'list_of_drivers': [18]}, {'id_rider': 199, 'list_of_drivers': []}, {'id_rider': 200, 'list_of_drivers': [25]}, {'id_rider': 201, 'list_of_drivers': [38, 2, 27]}, {'id_rider': 202, 'list_of_drivers': [17, 20]}, {'id_rider': 203, 'list_of_drivers': [22]}, {'id_rider': 204, 'list_of_drivers': [15, 5, 13, 16, 42, 43, 29, 35, 3]}, {'id_rider': 205, 'list_of_drivers': [38]}, {'id_rider': 206, 'list_of_drivers': [17, 20]}, {'id_rider': 207, 'list_of_drivers': [33, 32, 34]}, {'id_rider': 208, 'list_of_drivers': [23, 39, 1]}, {'id_rider': 209, 'list_of_drivers': [26]}, {'id_rider': 210, 'list_of_drivers': [38]}, {'id_rider': 211, 'list_of_drivers': [33, 32, 34]}, {'id_rider': 212, 'list_of_drivers': []}, {'id_rider': 213, 'list_of_drivers': [22]}, {'id_rider': 214, 'list_of_drivers': [22]}, {'id_rider': 215, 'list_of_drivers': []}, {'id_rider': 216, 'list_of_drivers': [4, 9, 30]}, {'id_rider': 217, 'list_of_drivers': [5, 13, 16, 42, 43, 3]}, {'id_rider': 218, 'list_of_drivers': [0]}, {'id_rider': 219, 'list_of_drivers': [33, 40, 34]}, {'id_rider': 220, 'list_of_drivers': [10, 11, 12, 36]}, {'id_rider': 221, 'list_of_drivers': [37]}, {'id_rider': 222, 'list_of_drivers': [33, 32, 34]}, {'id_rider': 223, 'list_of_drivers': [0]}, {'id_rider': 224, 'list_of_drivers': [33, 32, 34]}]\n"
          ]
        }
      ]
    },
    {
      "cell_type": "code",
      "source": [
        ""
      ],
      "metadata": {
        "id": "eiHaLSezkbuL"
      },
      "id": "eiHaLSezkbuL",
      "execution_count": null,
      "outputs": []
    },
    {
      "cell_type": "code",
      "execution_count": null,
      "id": "mrmM8dlr9jTE",
      "metadata": {
        "id": "mrmM8dlr9jTE"
      },
      "outputs": [],
      "source": [
        "# create file input.dat (obsolete (?))\n",
        "f = open(\"input.dat\", \"w\")\n",
        "content = \"DIMENSION : \" + str(len(nodes)) + \"\\n\"\n",
        "content += \"DRIVERS : \" + str(len(drivers)) + \"\\n\"\n",
        "content += \"RIDERS : \" + str(len(riders)) + \"\\n\"\n",
        "content += \"NODE_COORD_SECTION\\n\"\n",
        "for node in nodes :\n",
        "  content += str(node.get(\"id\")) + \" \" + str(node.get(\"coordinates\")[0]) + \" \" + str(node.get(\"coordinates\")[1]) + \"\\n\"\n",
        "content += \"ROADS_SECTION\\n\"\n",
        "for road in roads :\n",
        "  content += str(road.get(\"p1\")) + \" \" + str(road.get(\"p2\")) + \"\\n\"\n",
        "content += \"DRIVERS_STARTING_COORD\\n\"\n",
        "for driver in drivers:\n",
        "  content += str(driver.start_point.get(\"id\")) + \" \" + str(driver.start_point.get(\"coordinates\")[0]) + \" \" + str(driver.start_point.get(\"coordinates\")[1]) + \"\\n\"\n",
        "content += \"DRIVERS_DESTINATION_COORD\\n\"\n",
        "for driver in drivers:\n",
        "  content += str(driver.end_point.get(\"id\")) + \" \" + str(driver.end_point.get(\"coordinates\")[0]) + \" \" + str(driver.end_point.get(\"coordinates\")[1]) + \"\\n\"\n",
        "content += \"RIDERS_STARTING_COORD\\n\"\n",
        "for rider in riders:\n",
        "  content += str(rider.start_point.get(\"id\")) + \" \" + str(rider.start_point.get(\"coordinates\")[0]) + \" \" + str(rider.start_point.get(\"coordinates\")[1]) + \"\\n\"\n",
        "content += \"RIDERS_DESTINATION_COORD\\n\"\n",
        "for rider in riders:\n",
        "  content += str(rider.end_point.get(\"id\")) + \" \" + str(rider.end_point.get(\"coordinates\")[0]) + \" \" + str(rider.end_point.get(\"coordinates\")[1]) + \"\\n\"\n",
        "content += \"EOF\"\n",
        "f.write(content)\n",
        "f.close()"
      ]
    }
  ],
  "metadata": {
    "colab": {
      "collapsed_sections": [],
      "name": "AlgoCarSharing.ipynb",
      "provenance": []
    },
    "kernelspec": {
      "display_name": "Python 3 (ipykernel)",
      "language": "python",
      "name": "python3"
    },
    "language_info": {
      "codemirror_mode": {
        "name": "ipython",
        "version": 3
      },
      "file_extension": ".py",
      "mimetype": "text/x-python",
      "name": "python",
      "nbconvert_exporter": "python",
      "pygments_lexer": "ipython3",
      "version": "3.8.13"
    }
  },
  "nbformat": 4,
  "nbformat_minor": 5
}