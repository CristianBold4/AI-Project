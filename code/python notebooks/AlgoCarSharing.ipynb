{
  "cells": [
    {
      "cell_type": "markdown",
      "id": "9a84ad5b-ba78-4156-9683-a3cd1eb92438",
      "metadata": {
        "id": "9a84ad5b-ba78-4156-9683-a3cd1eb92438"
      },
      "source": [
        "## Test per progetto AI"
      ]
    },
    {
      "cell_type": "markdown",
      "id": "f78b133c-c586-4acb-927f-9c6ed2425b37",
      "metadata": {
        "id": "f78b133c-c586-4acb-927f-9c6ed2425b37"
      },
      "source": [
        "E' necessario caricare i file roads_small.json e nodes_small.json"
      ]
    },
    {
      "cell_type": "code",
      "execution_count": 3,
      "id": "4bd11cac-00d0-4554-add1-786f80976988",
      "metadata": {
        "id": "4bd11cac-00d0-4554-add1-786f80976988"
      },
      "outputs": [],
      "source": [
        "import json\n",
        "import numpy as np\n",
        "import matplotlib.pyplot as plt\n",
        "import math\n",
        "import random"
      ]
    },
    {
      "cell_type": "code",
      "execution_count": 4,
      "id": "ee530b18-25c2-4d55-8e0b-c6ed8e979380",
      "metadata": {
        "colab": {
          "base_uri": "https://localhost:8080/"
        },
        "id": "ee530b18-25c2-4d55-8e0b-c6ed8e979380",
        "outputId": "6a837eb5-0f5d-4247-910b-9c32cadf4989"
      },
      "outputs": [
        {
          "output_type": "stream",
          "name": "stdout",
          "text": [
            "Num nodes 2239\n",
            "Num roads 10138\n"
          ]
        }
      ],
      "source": [
        "nodes = json.load(open('new_nodes.json', 'r'))\n",
        "roads = json.load(open('new_roads.json', 'r'))\n",
        "print(\"Num nodes\", len(nodes))\n",
        "print(\"Num roads\", len(roads))"
      ]
    },
    {
      "cell_type": "markdown",
      "id": "0c9bd191-fbf2-4926-9fe3-5315f2b63def",
      "metadata": {
        "id": "0c9bd191-fbf2-4926-9fe3-5315f2b63def"
      },
      "source": [
        "Create two maps as lookup tables for the nodes"
      ]
    },
    {
      "cell_type": "code",
      "execution_count": 5,
      "id": "d9ddb0c8-29d5-4fe1-9302-ac1481b290ef",
      "metadata": {
        "id": "d9ddb0c8-29d5-4fe1-9302-ac1481b290ef"
      },
      "outputs": [],
      "source": [
        "#create a lookup table for point coordinates\n",
        "node_coords = {point['id']:tuple(point['coordinates']) for point in nodes} #dictonary initialization with comprehension\n",
        "coords_node = {tuple(point['coordinates']):point['id'] for point in nodes} #tuples are hashable-> can be key to a dictionary"
      ]
    },
    {
      "cell_type": "code",
      "execution_count": 6,
      "id": "8bad6089-b3c1-499e-be26-0c53d98e7120",
      "metadata": {
        "colab": {
          "base_uri": "https://localhost:8080/"
        },
        "id": "8bad6089-b3c1-499e-be26-0c53d98e7120",
        "outputId": "21ddcded-4f32-4269-8896-87cf2a46540c"
      },
      "outputs": [
        {
          "output_type": "stream",
          "name": "stdout",
          "text": [
            "(12.55, 45.59)\n"
          ]
        }
      ],
      "source": [
        "print(node_coords[roads[11]['p1']]) #retrieve coordinates from node ID"
      ]
    },
    {
      "cell_type": "markdown",
      "id": "79e8398c-a30b-4bca-a4c5-28c647a5dc03",
      "metadata": {
        "id": "79e8398c-a30b-4bca-a4c5-28c647a5dc03"
      },
      "source": [
        "A questo punto bisogna generare le query degli utenti:\n",
        "\n",
        "semplificazione: l'orario non influisce sui tempi di percorrenza -> dipendono solo dalla distanza"
      ]
    },
    {
      "cell_type": "markdown",
      "id": "a81a0a84-db99-4b8b-8d81-cad548c57c5c",
      "metadata": {
        "id": "a81a0a84-db99-4b8b-8d81-cad548c57c5c"
      },
      "source": [
        "Consider each trip as starting or ending in one of the nodes: the function below serves to approximate the closest node on the map"
      ]
    },
    {
      "cell_type": "markdown",
      "id": "bab3d7ee-4cd8-4423-a556-bb23484829b8",
      "metadata": {
        "id": "bab3d7ee-4cd8-4423-a556-bb23484829b8"
      },
      "source": [
        "Regular transfer (not related to pendolarism) is modeled as a gaussian random variable with respect to location ($\\mu = 15km, \\sigma = 10km$)  "
      ]
    },
    {
      "cell_type": "code",
      "source": [
        "# compute distance between two nodes\n",
        "\n",
        "def compute_distance(x_coord_1, y_coord_1, x_coord_2, y_coord_2):\n",
        "  x_coord_1 = x_coord_1 * 111.32\n",
        "  x_coord_2 = x_coord_2 * 111.32\n",
        "  y_coord_1 = 40075 * math.cos(x_coord_1)/360 * y_coord_1;\n",
        "  y_coord_2 = 40075 * math.cos(x_coord_2)/360 * y_coord_2;\n",
        "  dist = math.sqrt((y_coord_1 - y_coord_2)**2 + (x_coord_1 - x_coord_2)**2)\n",
        "  return dist"
      ],
      "metadata": {
        "id": "dlYeFIyA9vIN"
      },
      "id": "dlYeFIyA9vIN",
      "execution_count": 7,
      "outputs": []
    },
    {
      "cell_type": "code",
      "source": [
        "# use of networkx, creation of graph\n",
        "\n",
        "import networkx as nx\n",
        "# use of networkx\n",
        "\n",
        "G = nx.Graph()\n",
        "\n",
        "G.add_nodes_from(range(len(nodes)))\n",
        "for road in roads :\n",
        "  n1 = int(road.get(\"p1\"))\n",
        "  n2 = int(road.get(\"p2\"))\n",
        "  x_coord_1 = float(nodes[n1].get('coordinates')[0])\n",
        "  y_coord_1 = float(nodes[n1].get('coordinates')[1])\n",
        "  x_coord_2 = float(nodes[n2].get('coordinates')[0])\n",
        "  y_coord_2 = float(nodes[n2].get('coordinates')[1])\n",
        "  dist = compute_distance(x_coord_1, y_coord_1, x_coord_2, y_coord_2)\n",
        "\n",
        "  G.add_edge(n1, n2, weight=dist)\n",
        "\n",
        "G.get_edge_data(0, 1)\n",
        "\n"
      ],
      "metadata": {
        "colab": {
          "base_uri": "https://localhost:8080/"
        },
        "id": "MqdpU6s99pZ9",
        "outputId": "09a38008-42f7-4f80-e756-dba45604cacf"
      },
      "id": "MqdpU6s99pZ9",
      "execution_count": 8,
      "outputs": [
        {
          "output_type": "execute_result",
          "data": {
            "text/plain": [
              "{'weight': 2698.256500971123}"
            ]
          },
          "metadata": {},
          "execution_count": 8
        }
      ]
    },
    {
      "cell_type": "code",
      "execution_count": 9,
      "id": "d587b013-ad1f-4648-8c47-e2b7f8e868ac",
      "metadata": {
        "id": "d587b013-ad1f-4648-8c47-e2b7f8e868ac"
      },
      "outputs": [],
      "source": [
        "def generate_ratings(n_driver):\n",
        "  mean, std = 3.5, 0.5\n",
        "  x = np.random.normal(mean, std, size=(n_driver, 1))\n",
        "  ratings = np.empty(shape = (n_driver, 1))\n",
        "  for i in range(n_driver):\n",
        "    y = math.ceil(x[i])\n",
        "    if (y - x[i] > 0.5) :\n",
        "      ratings[i] = y - 0.5\n",
        "    else :\n",
        "      ratings[i] = y\n",
        "      \n",
        "  return ratings\n"
      ]
    },
    {
      "cell_type": "code",
      "execution_count": 85,
      "id": "cOIS8p1_Eh0j",
      "metadata": {
        "colab": {
          "base_uri": "https://localhost:8080/"
        },
        "id": "cOIS8p1_Eh0j",
        "outputId": "19326963-3cf1-4754-e4a8-c9114f88cf03"
      },
      "outputs": [
        {
          "output_type": "stream",
          "name": "stdout",
          "text": [
            "[{'id': 585, 'coordinates': (11.86, 45.56)}, {'id': 270, 'coordinates': (11.8, 45.35)}, {'id': 1519, 'coordinates': (12.05, 45.42)}, {'id': 479, 'coordinates': (12.39, 45.53)}, {'id': 1930, 'coordinates': (12.48, 45.64)}, {'id': 2186, 'coordinates': (12.21, 45.53)}, {'id': 137, 'coordinates': (12.03, 45.29)}]\n"
          ]
        }
      ],
      "source": [
        "# pool of end points \n",
        "# define a random number of destinations (e.g. from 6 to 8)\n",
        "num_dest = random.randrange(6, 8, 1)\n",
        "pool_dest = []\n",
        "for i in range(num_dest):\n",
        "  rand = random.randrange(len(node_coords))\n",
        "  id_dest = list(node_coords.keys())[rand]\n",
        "  coord_dest = list(node_coords.values())[rand]\n",
        "  pool_dest.append({'id':id_dest, 'coordinates':coord_dest})\n",
        "\n",
        "print(pool_dest)"
      ]
    },
    {
      "cell_type": "markdown",
      "source": [
        "Minimum path lenght:\n",
        "- Drivers: 40 km\n",
        "- Riders: 10 km"
      ],
      "metadata": {
        "id": "aaswT2gyQUTD"
      },
      "id": "aaswT2gyQUTD"
    },
    {
      "cell_type": "code",
      "source": [
        "from datetime import datetime\n",
        "from datetime import timedelta"
      ],
      "metadata": {
        "id": "Aphye4iDHfIO"
      },
      "id": "Aphye4iDHfIO",
      "execution_count": 86,
      "outputs": []
    },
    {
      "cell_type": "code",
      "execution_count": 87,
      "id": "Y9GxoHPZb2dD",
      "metadata": {
        "id": "Y9GxoHPZb2dD"
      },
      "outputs": [],
      "source": [
        "def generate_trips(n, gen):\n",
        "  # needs to define, for each driver/rider, one random starting point, and peak from the pool of destinations a random end points\n",
        "  trips_start = []\n",
        "  trips_dest = []\n",
        "  for i in range(n):\n",
        "    # start point\n",
        "    if (gen == 'driver') :\n",
        "      while True:\n",
        "        # start point\n",
        "        rand_s = random.randrange((len(nodes)))\n",
        "        id_start = list(node_coords.keys())[rand_s]\n",
        "        # end point\n",
        "        rand_d = random.randrange(num_dest)\n",
        "        dest = pool_dest[rand_d]\n",
        "        dist = nx.shortest_path_length(G, id_start, dest.get('id'), weight='weight')\n",
        "        if (dist > 40e3) :\n",
        "          coord_start = list(node_coords.values())[rand_s]\n",
        "          break\n",
        "    else :\n",
        "        while True:\n",
        "          # start point\n",
        "          rand_s = random.randrange((len(nodes)))\n",
        "          id_start = list(node_coords.keys())[rand_s]\n",
        "          # end point\n",
        "          rand_d = random.randrange(num_dest)\n",
        "          dest = pool_dest[rand_d]\n",
        "          dist = nx.shortest_path_length(G, id_start, dest.get('id'), weight='weight')\n",
        "          if (dist > 10e3) :\n",
        "            coord_start = list(node_coords.values())[rand_s]\n",
        "            break\n",
        "     \n",
        "    \n",
        "    trips_start.append({'id':id_start, 'coordinates':coord_start})\n",
        "    trips_dest.append(dest)\n",
        "\n",
        "  return trips_start, trips_dest\n"
      ]
    },
    {
      "cell_type": "code",
      "execution_count": 88,
      "id": "359951c9-c520-4e13-8ac4-1c7ec48e1ab2",
      "metadata": {
        "id": "359951c9-c520-4e13-8ac4-1c7ec48e1ab2"
      },
      "outputs": [],
      "source": [
        "def generate_schedules(n):\n",
        "  \n",
        "  #time probability mass: how many requests per 2-hour slot in percentage\n",
        "  time_prob = {   \n",
        "                  '00:00': 1e-3,\n",
        "                  '2:00': 1e-3,\n",
        "                  '4:00': 1e-3,\n",
        "                  '6:00': 1e-3,\n",
        "                  '6:30': 5e-3,\n",
        "                  '7:00': 0.02,\n",
        "                  '7:30': 0.1,\n",
        "                  '8:00': 0.1,\n",
        "                  '8:30': 0.1,\n",
        "                  '10:00': 0.01,\n",
        "                  '10:30': 0.01,\n",
        "                  '12:00': 0.1,\n",
        "                  '12:30': 0.1,\n",
        "                  '13:00': 0.1,\n",
        "                  '14:00': 0.01,\n",
        "                  '16:00': 0.01,\n",
        "                  '18:00': 0.1,\n",
        "                  '18:30': 0.1,\n",
        "                  '19:00': 0.1,\n",
        "                  '19:30': 0.02,\n",
        "                  '20:00': 5e-3,\n",
        "                  '21:00': 5e-3,\n",
        "                  '22:00': 1e-3,\n",
        "  }\n",
        "\n",
        "   \n",
        "\n",
        "\n",
        "  times = []\n",
        "  hours = list(time_prob.keys())\n",
        "  prob = list(time_prob.values())\n",
        "  for i in range(n):\n",
        "    times.append((random.choices(hours, prob)[0]))\n",
        "\n",
        "  return times"
      ]
    },
    {
      "cell_type": "code",
      "execution_count": 89,
      "id": "CIOti8PLigxN",
      "metadata": {
        "id": "CIOti8PLigxN"
      },
      "outputs": [],
      "source": [
        "class Driver:\n",
        "  def __init__(self, id, rating, hour, start_point, end_point):\n",
        "    self.id = id\n",
        "    self.rating = rating\n",
        "    self.hour = hour\n",
        "    self.start_point = start_point\n",
        "    self.end_point = end_point\n",
        "\n",
        "  def __str__(self):\n",
        "    return \"Driver ( id = \" + str(self.id) + \", rating = \" + str(self.rating) + \", hour = \" + self.hour + \", start = \" + str(self.start_point) + \", dest = \" + str(self.end_point) + \")\"\n",
        "\n",
        "class Rider:\n",
        "  def __init__(self, id, hour, start_point, end_point):\n",
        "    self.id = id\n",
        "    self.hour = hour\n",
        "    self.start_point = start_point\n",
        "    self.end_point = end_point\n",
        "\n",
        "  def __str__(self):\n",
        "    date_format_str = '%H:%M'\n",
        "    return \"Rider ( id = \" + str(self.id) + \", hour = \" + self.hour + \", start = \" + str(self.start_point) + \", dest = \" + str(self.end_point) + \")\""
      ]
    },
    {
      "cell_type": "code",
      "execution_count": 90,
      "id": "GVRlI8gLYWCO",
      "metadata": {
        "id": "GVRlI8gLYWCO"
      },
      "outputs": [],
      "source": [
        "def generate_data():\n",
        "  # 1- generate n_drivers and n_riders\n",
        "  # range: start, end, stepsize\n",
        "  n_drivers = random.randrange(40, 50, 1)\n",
        "  n_riders = random.randrange(90, 150, 15)\n",
        "  print(\"N_drivers: \", n_drivers)\n",
        "  print(\"N_riders: \", n_riders)\n",
        "  # 2 - generate start point and end point for drivers and riders\n",
        "  trips_start_drivers, trips_dest_drivers = generate_trips(n_drivers, gen='driver')\n",
        "  trips_start_riders, trips_dest_riders = generate_trips(n_riders, gen='rider')\n",
        "  # 3 - generate schedules\n",
        "  drivers_schedule = generate_schedules(n_drivers)\n",
        "  riders_schedule = generate_schedules(n_riders)\n",
        "  # 4- generate ratings for drivers\n",
        "  ratings = generate_ratings(n_drivers)\n",
        "  # 5 - parse in a list of objects\n",
        "  riders = []\n",
        "  drivers = []\n",
        "  for i in range(n_riders):\n",
        "    riders.append( Rider(i, riders_schedule[i], trips_start_riders[i], trips_dest_riders[i]))\n",
        "\n",
        "  for i in range(n_drivers):\n",
        "    drivers.append( Driver(i, ratings[i][0], drivers_schedule[i], trips_start_drivers[i], trips_dest_drivers[i]))\n",
        "\n",
        "  return drivers, riders\n",
        "\n"
      ]
    },
    {
      "cell_type": "code",
      "execution_count": 91,
      "id": "1be3f349-94ec-4ac4-8306-74f789381445",
      "metadata": {
        "colab": {
          "base_uri": "https://localhost:8080/"
        },
        "id": "1be3f349-94ec-4ac4-8306-74f789381445",
        "outputId": "9b6b2b3d-071d-43fd-f33b-782d60b3ebba"
      },
      "outputs": [
        {
          "output_type": "stream",
          "name": "stdout",
          "text": [
            "N_drivers:  40\n",
            "N_riders:  90\n",
            "Driver ( id = 0, rating = 4.0, hour = 8:30, start = {'id': 2117, 'coordinates': (12.71, 45.59)}, dest = {'id': 137, 'coordinates': (12.03, 45.29)})\n",
            "Driver ( id = 1, rating = 4.0, hour = 12:00, start = {'id': 2116, 'coordinates': (12.67, 45.62)}, dest = {'id': 270, 'coordinates': (11.8, 45.35)})\n",
            "Driver ( id = 2, rating = 4.5, hour = 19:00, start = {'id': 328, 'coordinates': (12.18, 45.51)}, dest = {'id': 479, 'coordinates': (12.39, 45.53)})\n",
            "Driver ( id = 3, rating = 4.0, hour = 7:30, start = {'id': 1835, 'coordinates': (12.02, 45.27)}, dest = {'id': 479, 'coordinates': (12.39, 45.53)})\n",
            "Driver ( id = 4, rating = 3.5, hour = 18:00, start = {'id': 862, 'coordinates': (12.5, 45.61)}, dest = {'id': 2186, 'coordinates': (12.21, 45.53)})\n",
            "Driver ( id = 5, rating = 3.0, hour = 7:30, start = {'id': 336, 'coordinates': (11.99, 45.46)}, dest = {'id': 479, 'coordinates': (12.39, 45.53)})\n",
            "Driver ( id = 6, rating = 4.0, hour = 13:00, start = {'id': 218, 'coordinates': (12.6, 45.49)}, dest = {'id': 137, 'coordinates': (12.03, 45.29)})\n",
            "Driver ( id = 7, rating = 4.0, hour = 8:00, start = {'id': 608, 'coordinates': (12.13, 45.38)}, dest = {'id': 479, 'coordinates': (12.39, 45.53)})\n",
            "Driver ( id = 8, rating = 3.5, hour = 18:00, start = {'id': 1272, 'coordinates': (12.72, 45.53)}, dest = {'id': 2186, 'coordinates': (12.21, 45.53)})\n",
            "Driver ( id = 9, rating = 3.0, hour = 8:00, start = {'id': 283, 'coordinates': (12.23, 45.59)}, dest = {'id': 137, 'coordinates': (12.03, 45.29)})\n",
            "\n",
            "\n",
            "***********************************************************************\n",
            "\n",
            "\n",
            "Rider ( id = 0, hour = 7:00, start = {'id': 396, 'coordinates': (11.96, 45.42)}, dest = {'id': 1930, 'coordinates': (12.48, 45.64)})\n",
            "Rider ( id = 1, hour = 8:30, start = {'id': 2067, 'coordinates': (11.97, 45.3)}, dest = {'id': 137, 'coordinates': (12.03, 45.29)})\n",
            "Rider ( id = 2, hour = 7:00, start = {'id': 1825, 'coordinates': (11.77, 45.37)}, dest = {'id': 1519, 'coordinates': (12.05, 45.42)})\n",
            "Rider ( id = 3, hour = 7:00, start = {'id': 849, 'coordinates': (11.79, 45.24)}, dest = {'id': 137, 'coordinates': (12.03, 45.29)})\n",
            "Rider ( id = 4, hour = 12:00, start = {'id': 1223, 'coordinates': (11.76, 45.24)}, dest = {'id': 137, 'coordinates': (12.03, 45.29)})\n",
            "Rider ( id = 5, hour = 18:30, start = {'id': 1511, 'coordinates': (12.21, 45.43)}, dest = {'id': 479, 'coordinates': (12.39, 45.53)})\n",
            "Rider ( id = 6, hour = 7:30, start = {'id': 534, 'coordinates': (12.2, 45.57)}, dest = {'id': 270, 'coordinates': (11.8, 45.35)})\n",
            "Rider ( id = 7, hour = 16:00, start = {'id': 232, 'coordinates': (12.29, 45.48)}, dest = {'id': 479, 'coordinates': (12.39, 45.53)})\n",
            "Rider ( id = 8, hour = 18:00, start = {'id': 1943, 'coordinates': (11.84, 45.59)}, dest = {'id': 1519, 'coordinates': (12.05, 45.42)})\n",
            "Rider ( id = 9, hour = 18:00, start = {'id': 540, 'coordinates': (12.69, 45.63)}, dest = {'id': 1519, 'coordinates': (12.05, 45.42)})\n"
          ]
        }
      ],
      "source": [
        "drivers, riders = generate_data()\n",
        "\n",
        "for i in range(10) :\n",
        "  print(drivers[i])\n",
        "\n",
        "print(\"\\n\\n***********************************************************************\\n\\n\")\n",
        "\n",
        "for i in range(10) :\n",
        "  print(riders[i])\n"
      ]
    },
    {
      "cell_type": "code",
      "source": [
        "# use of Dijkstra for shortest path\n",
        "\n",
        "drivers_path = []\n",
        "riders_path = []\n",
        "\n",
        "# 50 km/h\n",
        "avg_vel = 50\n",
        "date_format_str = '%H:%M'\n",
        "\n",
        "for driver in drivers:\n",
        "  spath = nx.dijkstra_path(G, driver.start_point.get('id'), driver.end_point.get('id'))\n",
        "  dpath = [{'node' : spath[0], 'hour': driver.hour}]\n",
        "  dist = 0\n",
        "\n",
        "\n",
        "  for i in range(1, len(spath)):\n",
        "    # retrieve distance and convert into km\n",
        "    \n",
        "    # distance in km\n",
        "    dist += (G.get_edge_data(spath[i-1], spath[i]).get('weight')) / 1e3\n",
        "    time = dist / avg_vel\n",
        "    time_1 = datetime.strptime(driver.hour, date_format_str)\n",
        "    time_2 = time_1 + timedelta(hours=time)\n",
        "    str_time = time_2.strftime(date_format_str)\n",
        "\n",
        "    dpath.append({'node': spath[i], 'hour':str_time})\n",
        "\n",
        "\n",
        "  total_dist = nx.shortest_path_length(G, driver.start_point.get('id'), driver.end_point.get('id'), weight='weight')\n",
        "\n",
        "  drivers_path.append({'id_driver': driver.id, 'shortest_path' : dpath, 'arrival_time': str_time})\n",
        "  \n",
        "  #print(\"Driver #\" + str(driver.id) + \": start at \" + driver.hour + \" , end at \" + dpath[len(dpath)-1].get('hour'))\n",
        "  #print(\"    -> total dist km: \", total_dist/1e3)\n",
        "\n",
        "\n",
        "for rider in riders:\n",
        "  spath = nx.dijkstra_path(G, rider.start_point.get('id'), rider.end_point.get('id'))\n",
        "  riders_path.append({'id_rider': rider.id, 'shortest_path' : spath})\n",
        "\n",
        "print(drivers_path[0])\n",
        "#print(riders_path)"
      ],
      "metadata": {
        "colab": {
          "base_uri": "https://localhost:8080/"
        },
        "id": "rQk3RUI9_9pF",
        "outputId": "50bcd2a8-5956-44ba-b1c3-8aff4d3e1f65"
      },
      "id": "rQk3RUI9_9pF",
      "execution_count": 92,
      "outputs": [
        {
          "output_type": "stream",
          "name": "stdout",
          "text": [
            "{'id_driver': 0, 'shortest_path': [{'node': 2117, 'hour': '8:30'}, {'node': 1257, 'hour': '08:30'}, {'node': 420, 'hour': '08:30'}, {'node': 1417, 'hour': '08:30'}, {'node': 2107, 'hour': '08:36'}, {'node': 593, 'hour': '08:36'}, {'node': 595, 'hour': '08:44'}, {'node': 1575, 'hour': '08:46'}, {'node': 1555, 'hour': '08:51'}, {'node': 1553, 'hour': '08:57'}, {'node': 1284, 'hour': '09:02'}, {'node': 1557, 'hour': '09:02'}, {'node': 1225, 'hour': '09:02'}, {'node': 947, 'hour': '09:02'}, {'node': 1226, 'hour': '09:02'}, {'node': 1229, 'hour': '09:04'}, {'node': 1433, 'hour': '09:04'}, {'node': 1019, 'hour': '09:06'}, {'node': 769, 'hour': '09:06'}, {'node': 9, 'hour': '09:06'}, {'node': 10, 'hour': '09:09'}, {'node': 1207, 'hour': '09:09'}, {'node': 1929, 'hour': '09:15'}, {'node': 1930, 'hour': '09:15'}, {'node': 174, 'hour': '09:15'}, {'node': 171, 'hour': '09:26'}, {'node': 170, 'hour': '09:32'}, {'node': 173, 'hour': '09:35'}, {'node': 164, 'hour': '09:41'}, {'node': 162, 'hour': '09:46'}, {'node': 161, 'hour': '09:54'}, {'node': 314, 'hour': '09:59'}, {'node': 309, 'hour': '10:05'}, {'node': 510, 'hour': '10:05'}, {'node': 523, 'hour': '10:12'}, {'node': 312, 'hour': '10:12'}, {'node': 508, 'hour': '10:12'}, {'node': 514, 'hour': '10:16'}, {'node': 783, 'hour': '10:22'}, {'node': 889, 'hour': '10:28'}, {'node': 107, 'hour': '10:28'}, {'node': 1475, 'hour': '10:28'}, {'node': 707, 'hour': '10:28'}, {'node': 1105, 'hour': '10:28'}, {'node': 1671, 'hour': '10:28'}, {'node': 645, 'hour': '10:28'}, {'node': 705, 'hour': '10:28'}, {'node': 611, 'hour': '10:28'}, {'node': 1965, 'hour': '10:28'}, {'node': 605, 'hour': '10:29'}, {'node': 608, 'hour': '10:29'}, {'node': 607, 'hour': '10:29'}, {'node': 604, 'hour': '10:29'}, {'node': 606, 'hour': '10:29'}, {'node': 961, 'hour': '10:29'}, {'node': 307, 'hour': '10:34'}, {'node': 1025, 'hour': '10:39'}, {'node': 1843, 'hour': '10:41'}, {'node': 1844, 'hour': '10:41'}, {'node': 1980, 'hour': '10:47'}, {'node': 1979, 'hour': '10:47'}, {'node': 1687, 'hour': '10:51'}, {'node': 157, 'hour': '10:54'}, {'node': 155, 'hour': '10:54'}, {'node': 156, 'hour': '10:54'}, {'node': 1839, 'hour': '10:54'}, {'node': 1834, 'hour': '10:54'}, {'node': 1836, 'hour': '10:56'}, {'node': 1833, 'hour': '10:58'}, {'node': 137, 'hour': '10:58'}], 'arrival_time': '10:58'}\n"
          ]
        }
      ]
    },
    {
      "cell_type": "code",
      "source": [
        "# find matching: since we assumed drivers and riders having same dest\n",
        "\n",
        "drivers_match = [{} for _ in range(len(drivers))]\n",
        "\n",
        "# couple drivers and riders with same dest and similar hours\n",
        "\n",
        "for driver in drivers :\n",
        "  drivers_match[driver.id] = {'id_driver' : driver.id, 'list_of_riders' : []}\n",
        "  for rider in riders :\n",
        "    dhour_start = datetime.strptime(driver.hour, date_format_str)\n",
        "    #print(drivers_path[driver.id].get('arrival_time'))\n",
        "    dhour_end = datetime.strptime(drivers_path[driver.id].get('arrival_time'), date_format_str)\n",
        "    rhour = datetime.strptime(rider.hour, date_format_str)\n",
        "\n",
        "    \n",
        "    if driver.end_point.get('id') == rider.end_point.get('id') and (dhour_start <= rhour <= dhour_end) :\n",
        "      drivers_match[driver.id].get('list_of_riders').append(rider.id)\n",
        "\n",
        "    \n",
        "\n",
        "print(drivers_match)\n"
      ],
      "metadata": {
        "colab": {
          "base_uri": "https://localhost:8080/"
        },
        "id": "ztU1h2qCsQ8a",
        "outputId": "5417ec22-6e33-4c0c-bcd6-c8e8ce6afc8c"
      },
      "id": "ztU1h2qCsQ8a",
      "execution_count": 93,
      "outputs": [
        {
          "output_type": "stream",
          "name": "stdout",
          "text": [
            "[{'id_driver': 0, 'list_of_riders': [1, 37]}, {'id_driver': 1, 'list_of_riders': [59, 76, 86]}, {'id_driver': 2, 'list_of_riders': [62, 67]}, {'id_driver': 3, 'list_of_riders': [27, 71]}, {'id_driver': 4, 'list_of_riders': [75, 89]}, {'id_driver': 5, 'list_of_riders': [27, 71]}, {'id_driver': 6, 'list_of_riders': []}, {'id_driver': 7, 'list_of_riders': [27, 71]}, {'id_driver': 8, 'list_of_riders': [75, 89]}, {'id_driver': 9, 'list_of_riders': [1, 37]}, {'id_driver': 10, 'list_of_riders': [61, 72, 82]}, {'id_driver': 11, 'list_of_riders': [44]}, {'id_driver': 12, 'list_of_riders': [11, 17, 19, 31, 43, 85]}, {'id_driver': 13, 'list_of_riders': [5, 62, 67]}, {'id_driver': 14, 'list_of_riders': [14, 48, 49, 63, 73]}, {'id_driver': 15, 'list_of_riders': [76, 86]}, {'id_driver': 16, 'list_of_riders': [5, 62, 67]}, {'id_driver': 17, 'list_of_riders': [44]}, {'id_driver': 18, 'list_of_riders': [44]}, {'id_driver': 19, 'list_of_riders': [50, 87, 88]}, {'id_driver': 20, 'list_of_riders': []}, {'id_driver': 21, 'list_of_riders': [23]}, {'id_driver': 22, 'list_of_riders': [58, 70, 79]}, {'id_driver': 23, 'list_of_riders': [27]}, {'id_driver': 24, 'list_of_riders': [20, 28, 56, 57, 61, 72, 82]}, {'id_driver': 25, 'list_of_riders': [1, 37]}, {'id_driver': 26, 'list_of_riders': [1, 37]}, {'id_driver': 27, 'list_of_riders': []}, {'id_driver': 28, 'list_of_riders': [58]}, {'id_driver': 29, 'list_of_riders': [75]}, {'id_driver': 30, 'list_of_riders': []}, {'id_driver': 31, 'list_of_riders': [5, 62, 67]}, {'id_driver': 32, 'list_of_riders': [47]}, {'id_driver': 33, 'list_of_riders': [5, 62, 67]}, {'id_driver': 34, 'list_of_riders': [25, 41, 51, 66, 74, 83]}, {'id_driver': 35, 'list_of_riders': [42, 50, 87, 88]}, {'id_driver': 36, 'list_of_riders': [11, 17, 19, 31, 43, 85]}, {'id_driver': 37, 'list_of_riders': [1, 37]}, {'id_driver': 38, 'list_of_riders': [44]}, {'id_driver': 39, 'list_of_riders': [85]}]\n"
          ]
        }
      ]
    },
    {
      "cell_type": "code",
      "execution_count": null,
      "id": "mrmM8dlr9jTE",
      "metadata": {
        "id": "mrmM8dlr9jTE"
      },
      "outputs": [],
      "source": [
        "# create file input.dat (obsolete (?))\n",
        "f = open(\"input.dat\", \"w\")\n",
        "content = \"DIMENSION : \" + str(len(nodes)) + \"\\n\"\n",
        "content += \"DRIVERS : \" + str(len(drivers)) + \"\\n\"\n",
        "content += \"RIDERS : \" + str(len(riders)) + \"\\n\"\n",
        "content += \"NODE_COORD_SECTION\\n\"\n",
        "for node in nodes :\n",
        "  content += str(node.get(\"id\")) + \" \" + str(node.get(\"coordinates\")[0]) + \" \" + str(node.get(\"coordinates\")[1]) + \"\\n\"\n",
        "content += \"ROADS_SECTION\\n\"\n",
        "for road in roads :\n",
        "  content += str(road.get(\"p1\")) + \" \" + str(road.get(\"p2\")) + \"\\n\"\n",
        "content += \"DRIVERS_STARTING_COORD\\n\"\n",
        "for driver in drivers:\n",
        "  content += str(driver.start_point.get(\"id\")) + \" \" + str(driver.start_point.get(\"coordinates\")[0]) + \" \" + str(driver.start_point.get(\"coordinates\")[1]) + \"\\n\"\n",
        "content += \"DRIVERS_DESTINATION_COORD\\n\"\n",
        "for driver in drivers:\n",
        "  content += str(driver.end_point.get(\"id\")) + \" \" + str(driver.end_point.get(\"coordinates\")[0]) + \" \" + str(driver.end_point.get(\"coordinates\")[1]) + \"\\n\"\n",
        "content += \"RIDERS_STARTING_COORD\\n\"\n",
        "for rider in riders:\n",
        "  content += str(rider.start_point.get(\"id\")) + \" \" + str(rider.start_point.get(\"coordinates\")[0]) + \" \" + str(rider.start_point.get(\"coordinates\")[1]) + \"\\n\"\n",
        "content += \"RIDERS_DESTINATION_COORD\\n\"\n",
        "for rider in riders:\n",
        "  content += str(rider.end_point.get(\"id\")) + \" \" + str(rider.end_point.get(\"coordinates\")[0]) + \" \" + str(rider.end_point.get(\"coordinates\")[1]) + \"\\n\"\n",
        "content += \"EOF\"\n",
        "f.write(content)\n",
        "f.close()"
      ]
    }
  ],
  "metadata": {
    "colab": {
      "collapsed_sections": [],
      "name": "AlgoCarSharing.ipynb",
      "provenance": []
    },
    "kernelspec": {
      "display_name": "Python 3 (ipykernel)",
      "language": "python",
      "name": "python3"
    },
    "language_info": {
      "codemirror_mode": {
        "name": "ipython",
        "version": 3
      },
      "file_extension": ".py",
      "mimetype": "text/x-python",
      "name": "python",
      "nbconvert_exporter": "python",
      "pygments_lexer": "ipython3",
      "version": "3.8.13"
    }
  },
  "nbformat": 4,
  "nbformat_minor": 5
}