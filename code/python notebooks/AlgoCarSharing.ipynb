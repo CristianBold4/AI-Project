{
  "cells": [
    {
      "cell_type": "markdown",
      "id": "9a84ad5b-ba78-4156-9683-a3cd1eb92438",
      "metadata": {
        "id": "9a84ad5b-ba78-4156-9683-a3cd1eb92438"
      },
      "source": [
        "## Test per progetto AI"
      ]
    },
    {
      "cell_type": "markdown",
      "id": "f78b133c-c586-4acb-927f-9c6ed2425b37",
      "metadata": {
        "id": "f78b133c-c586-4acb-927f-9c6ed2425b37"
      },
      "source": [
        "E' necessario caricare i file roads_small.json e nodes_small.json"
      ]
    },
    {
      "cell_type": "code",
      "execution_count": 1,
      "id": "4bd11cac-00d0-4554-add1-786f80976988",
      "metadata": {
        "id": "4bd11cac-00d0-4554-add1-786f80976988"
      },
      "outputs": [],
      "source": [
        "import json\n",
        "import numpy as np\n",
        "import matplotlib.pyplot as plt\n",
        "import math\n",
        "import networkx as nx\n",
        "import random\n",
        "\n",
        "from datetime import datetime\n",
        "from datetime import timedelta"
      ]
    },
    {
      "cell_type": "code",
      "execution_count": 3,
      "id": "ee530b18-25c2-4d55-8e0b-c6ed8e979380",
      "metadata": {
        "colab": {
          "base_uri": "https://localhost:8080/"
        },
        "id": "ee530b18-25c2-4d55-8e0b-c6ed8e979380",
        "outputId": "33ce166b-17fb-46f5-e1da-c92af2b181e5"
      },
      "outputs": [
        {
          "output_type": "stream",
          "name": "stdout",
          "text": [
            "Num nodes 2239\n",
            "Num roads 10138\n"
          ]
        }
      ],
      "source": [
        "nodes = json.load(open('datasets/new_nodes.json', 'r'))\n",
        "roads = json.load(open('datasets/new_roads.json', 'r'))\n",
        "print(\"Num nodes\", len(nodes))\n",
        "print(\"Num roads\", len(roads))"
      ]
    },
    {
      "cell_type": "code",
      "execution_count": 10,
      "id": "14b91ae0-cdb3-418f-b7a0-4240b43df0c2",
      "metadata": {
        "id": "14b91ae0-cdb3-418f-b7a0-4240b43df0c2"
      },
      "outputs": [],
      "source": [
        "np.random.seed(0) # fix the random seed for np\n",
        "random.seed(0)"
      ]
    },
    {
      "cell_type": "markdown",
      "id": "0c9bd191-fbf2-4926-9fe3-5315f2b63def",
      "metadata": {
        "id": "0c9bd191-fbf2-4926-9fe3-5315f2b63def"
      },
      "source": [
        "Create two maps as lookup tables for the nodes"
      ]
    },
    {
      "cell_type": "code",
      "execution_count": 5,
      "id": "d9ddb0c8-29d5-4fe1-9302-ac1481b290ef",
      "metadata": {
        "id": "d9ddb0c8-29d5-4fe1-9302-ac1481b290ef"
      },
      "outputs": [],
      "source": [
        "#create a lookup table for point coordinates\n",
        "node_coords = {point['id']:tuple(point['coordinates']) for point in nodes} #dictonary initialization with comprehension\n",
        "coords_node = {tuple(point['coordinates']):point['id'] for point in nodes} #tuples are hashable-> can be key to a dictionary"
      ]
    },
    {
      "cell_type": "code",
      "execution_count": 6,
      "id": "8bad6089-b3c1-499e-be26-0c53d98e7120",
      "metadata": {
        "colab": {
          "base_uri": "https://localhost:8080/"
        },
        "id": "8bad6089-b3c1-499e-be26-0c53d98e7120",
        "outputId": "c6fb811c-44bc-44d5-e95d-a2f0108cd021"
      },
      "outputs": [
        {
          "output_type": "stream",
          "name": "stdout",
          "text": [
            "(12.55, 45.59)\n"
          ]
        }
      ],
      "source": [
        "print(node_coords[roads[11]['p1']]) #retrieve coordinates from node ID"
      ]
    },
    {
      "cell_type": "markdown",
      "id": "79e8398c-a30b-4bca-a4c5-28c647a5dc03",
      "metadata": {
        "id": "79e8398c-a30b-4bca-a4c5-28c647a5dc03"
      },
      "source": [
        "A questo punto bisogna generare le query degli utenti:\n",
        "\n",
        "semplificazione: l'orario non influisce sui tempi di percorrenza -> dipendono solo dalla distanza"
      ]
    },
    {
      "cell_type": "markdown",
      "id": "a81a0a84-db99-4b8b-8d81-cad548c57c5c",
      "metadata": {
        "id": "a81a0a84-db99-4b8b-8d81-cad548c57c5c"
      },
      "source": [
        "Consider each trip as starting or ending in one of the nodes: the function below serves to approximate the closest node on the map"
      ]
    },
    {
      "cell_type": "markdown",
      "id": "bab3d7ee-4cd8-4423-a556-bb23484829b8",
      "metadata": {
        "id": "bab3d7ee-4cd8-4423-a556-bb23484829b8"
      },
      "source": [
        "Regular transfer (not related to pendolarism) is modeled as a gaussian random variable with respect to location ($\\mu = 15km, \\sigma = 10km$)  "
      ]
    },
    {
      "cell_type": "code",
      "execution_count": 7,
      "id": "dlYeFIyA9vIN",
      "metadata": {
        "id": "dlYeFIyA9vIN"
      },
      "outputs": [],
      "source": [
        "# compute distance between two nodes\n",
        "\n",
        "def compute_distance(x_coord_1, y_coord_1, x_coord_2, y_coord_2):\n",
        "  x_coord_1 = x_coord_1 * 111.32\n",
        "  x_coord_2 = x_coord_2 * 111.32\n",
        "  y_coord_1 = 40075 * math.cos(x_coord_1)/360 * y_coord_1;\n",
        "  y_coord_2 = 40075 * math.cos(x_coord_2)/360 * y_coord_2;\n",
        "  dist = math.sqrt((y_coord_1 - y_coord_2)**2 + (x_coord_1 - x_coord_2)**2)\n",
        "  return dist"
      ]
    },
    {
      "cell_type": "code",
      "execution_count": 8,
      "id": "j33_1pvp0Yyd",
      "metadata": {
        "id": "j33_1pvp0Yyd"
      },
      "outputs": [],
      "source": [
        "def compute_distance(x1, y1, x2, y2) :\n",
        "  R = 6371e3 #metres\n",
        "  phi1 = x1 * math.pi/180 # φ, λ in radians\n",
        "  phi2 = x2 * math.pi/180\n",
        "  delta_phi = (x2-x1) * math.pi/180\n",
        "  delta_lambda = (y2-y1) * math.pi/180\n",
        "\n",
        "  a = math.sin(delta_phi/2) * math.sin(delta_phi/2) + math.cos(phi1) * math.cos(phi2) * math.sin(delta_lambda/2) * math.sin(delta_lambda/2)\n",
        "  c = 2 * math.atan2(math.sqrt(a), math.sqrt(1-a));\n",
        "\n",
        "  d = R * c #in metres\n",
        "\n",
        "  return d"
      ]
    },
    {
      "cell_type": "code",
      "execution_count": 9,
      "id": "MqdpU6s99pZ9",
      "metadata": {
        "colab": {
          "base_uri": "https://localhost:8080/"
        },
        "id": "MqdpU6s99pZ9",
        "outputId": "12550ee6-c5b4-4f85-fa8d-0bf5448a0d35"
      },
      "outputs": [
        {
          "output_type": "execute_result",
          "data": {
            "text/plain": [
              "{'weight': 1553.904995103261}"
            ]
          },
          "metadata": {},
          "execution_count": 9
        }
      ],
      "source": [
        "# use of networkx, creation of graph\n",
        "\n",
        "G = nx.Graph()\n",
        "\n",
        "G.add_nodes_from(range(len(nodes)))\n",
        "for road in roads :\n",
        "  n1 = int(road.get(\"p1\"))\n",
        "  n2 = int(road.get(\"p2\"))\n",
        "  x_coord_1 = float(nodes[n1].get('coordinates')[0])\n",
        "  y_coord_1 = float(nodes[n1].get('coordinates')[1])\n",
        "  x_coord_2 = float(nodes[n2].get('coordinates')[0])\n",
        "  y_coord_2 = float(nodes[n2].get('coordinates')[1])\n",
        "  dist = compute_distance(x_coord_1, y_coord_1, x_coord_2, y_coord_2)\n",
        "\n",
        "  G.add_edge(n1, n2, weight=dist)\n",
        "\n",
        "G.get_edge_data(0, 1)\n",
        "\n"
      ]
    },
    {
      "cell_type": "code",
      "execution_count": 11,
      "id": "d587b013-ad1f-4648-8c47-e2b7f8e868ac",
      "metadata": {
        "id": "d587b013-ad1f-4648-8c47-e2b7f8e868ac"
      },
      "outputs": [],
      "source": [
        "def generate_ratings(n_driver):\n",
        "  mean, std = 3.5, 0.5\n",
        "  x = np.random.normal(mean, std, size=(n_driver, 1))\n",
        "  ratings = np.empty(shape = (n_driver, 1))\n",
        "  for i in range(n_driver):\n",
        "    y = math.ceil(x[i])\n",
        "    if (y - x[i] > 0.5) :\n",
        "      ratings[i] = y - 0.5\n",
        "    else :\n",
        "      ratings[i] = y\n",
        "      \n",
        "  return ratings\n"
      ]
    },
    {
      "cell_type": "code",
      "execution_count": 12,
      "id": "cOIS8p1_Eh0j",
      "metadata": {
        "colab": {
          "base_uri": "https://localhost:8080/"
        },
        "id": "cOIS8p1_Eh0j",
        "outputId": "030cb30f-93b9-43ab-b7b7-8d5a1b5cb609"
      },
      "outputs": [
        {
          "output_type": "stream",
          "name": "stdout",
          "text": [
            "[{'id': 1722, 'coordinates': (12.38, 45.51)}, {'id': 165, 'coordinates': (12.57, 45.48)}, {'id': 1060, 'coordinates': (12.44, 45.61)}, {'id': 2094, 'coordinates': (12.16, 45.51)}, {'id': 1990, 'coordinates': (11.94, 45.33)}, {'id': 1658, 'coordinates': (12.19, 45.24)}, {'id': 1242, 'coordinates': (11.81, 45.44)}]\n"
          ]
        }
      ],
      "source": [
        "# pool of end points \n",
        "# define a random number of destinations (e.g. from 6 to 8)\n",
        "num_dest = random.randrange(6, 8, 1)\n",
        "pool_dest = []\n",
        "for i in range(num_dest):\n",
        "  rand = random.randrange(len(node_coords))\n",
        "  id_dest = list(node_coords.keys())[rand]\n",
        "  coord_dest = list(node_coords.values())[rand]\n",
        "  pool_dest.append({'id':id_dest, 'coordinates':coord_dest})\n",
        "\n",
        "print(pool_dest)"
      ]
    },
    {
      "cell_type": "markdown",
      "id": "aaswT2gyQUTD",
      "metadata": {
        "id": "aaswT2gyQUTD"
      },
      "source": [
        "Minimum path lenght:\n",
        "- Drivers: 40 km\n",
        "- Riders: 10 km"
      ]
    },
    {
      "cell_type": "code",
      "execution_count": 13,
      "id": "Y9GxoHPZb2dD",
      "metadata": {
        "id": "Y9GxoHPZb2dD"
      },
      "outputs": [],
      "source": [
        "def generate_trips(n, gen):\n",
        "  # needs to define, for each driver/rider, one random starting point, and peak from the pool of destinations a random end points\n",
        "  trips_start = []\n",
        "  trips_dest = []\n",
        "  for i in range(n):\n",
        "    # start point\n",
        "    if (gen == 'driver') :\n",
        "      while True:\n",
        "        # start point\n",
        "        rand_s = random.randrange((len(nodes)))\n",
        "        id_start = list(node_coords.keys())[rand_s]\n",
        "        # end point\n",
        "        rand_d = random.randrange(num_dest)\n",
        "        dest = pool_dest[rand_d]\n",
        "        dist = nx.shortest_path_length(G, id_start, dest.get('id'), weight='weight')\n",
        "        if (dist > 40e3) :\n",
        "          coord_start = list(node_coords.values())[rand_s]\n",
        "          break\n",
        "    else :\n",
        "        while True:\n",
        "          # start point\n",
        "          rand_s = random.randrange((len(nodes)))\n",
        "          id_start = list(node_coords.keys())[rand_s]\n",
        "          # end point\n",
        "          rand_d = random.randrange(num_dest)\n",
        "          dest = pool_dest[rand_d]\n",
        "          dist = nx.shortest_path_length(G, id_start, dest.get('id'), weight='weight')\n",
        "          if (dist > 10e3) :\n",
        "            coord_start = list(node_coords.values())[rand_s]\n",
        "            break\n",
        "     \n",
        "    \n",
        "    trips_start.append({'id':id_start, 'coordinates':coord_start})\n",
        "    trips_dest.append(dest)\n",
        "\n",
        "  return trips_start, trips_dest\n"
      ]
    },
    {
      "cell_type": "code",
      "execution_count": 14,
      "id": "359951c9-c520-4e13-8ac4-1c7ec48e1ab2",
      "metadata": {
        "id": "359951c9-c520-4e13-8ac4-1c7ec48e1ab2"
      },
      "outputs": [],
      "source": [
        "def generate_schedules(n):\n",
        "  \n",
        "  #time probability mass: how many requests per 2-hour slot in percentage\n",
        "  time_prob = {   \n",
        "                  '00:00': 1e-3,\n",
        "                  '2:00': 1e-3,\n",
        "                  '4:00': 1e-3,\n",
        "                  '6:00': 1e-3,\n",
        "                  '6:30': 5e-3,\n",
        "                  '7:00': 0.02,\n",
        "                  '7:30': 0.1,\n",
        "                  '8:00': 0.1,\n",
        "                  '8:30': 0.1,\n",
        "                  '10:00': 0.01,\n",
        "                  '10:30': 0.01,\n",
        "                  '12:00': 0.1,\n",
        "                  '12:30': 0.1,\n",
        "                  '13:00': 0.1,\n",
        "                  '14:00': 0.01,\n",
        "                  '16:00': 0.01,\n",
        "                  '18:00': 0.1,\n",
        "                  '18:30': 0.1,\n",
        "                  '19:00': 0.1,\n",
        "                  '19:30': 0.02,\n",
        "                  '20:00': 5e-3,\n",
        "                  '21:00': 5e-3,\n",
        "                  '22:00': 1e-3,\n",
        "  }\n",
        "\n",
        "  \n",
        "\n",
        "  times = []\n",
        "  hours = list(time_prob.keys())\n",
        "  prob = list(time_prob.values())\n",
        "  for i in range(n):\n",
        "    times.append((random.choices(hours, prob)[0]))\n",
        "\n",
        "  return times"
      ]
    },
    {
      "cell_type": "code",
      "execution_count": 15,
      "id": "CIOti8PLigxN",
      "metadata": {
        "id": "CIOti8PLigxN"
      },
      "outputs": [],
      "source": [
        "class Driver:\n",
        "  def __init__(self, id, rating, hour, start_point, end_point):\n",
        "    self.id = id\n",
        "    self.rating = rating\n",
        "    self.hour = hour\n",
        "    self.start_point = start_point\n",
        "    self.end_point = end_point\n",
        "\n",
        "  def __str__(self):\n",
        "    return \"Driver ( id = \" + str(self.id) + \", rating = \" + str(self.rating) + \", hour = \" + self.hour + \", start = \" + str(self.start_point) + \", dest = \" + str(self.end_point) + \")\"\n",
        "\n",
        "class Rider:\n",
        "  def __init__(self, id, rating, hour, start_point, end_point):\n",
        "    self.id = id\n",
        "    self.rating = rating\n",
        "    self.hour = hour\n",
        "    self.start_point = start_point\n",
        "    self.end_point = end_point\n",
        "\n",
        "  def __str__(self):\n",
        "    date_format_str = '%H:%M'\n",
        "    return \"Rider ( id = \" + str(self.id) + \", rating = \" + str(self.rating) + \", hour = \" + self.hour + \", start = \" + str(self.start_point) + \", dest = \" + str(self.end_point) + \")\""
      ]
    },
    {
      "cell_type": "code",
      "execution_count": 16,
      "id": "GVRlI8gLYWCO",
      "metadata": {
        "id": "GVRlI8gLYWCO"
      },
      "outputs": [],
      "source": [
        "def generate_data():\n",
        "  # 1- generate n_drivers and n_riders\n",
        "  # range: start, end, stepsize\n",
        "  n_drivers = random.randrange(40, 50, 1)\n",
        "  n_riders = random.randrange(150, 250, 15)\n",
        "  print(\"N_drivers: \", n_drivers)\n",
        "  print(\"N_riders: \", n_riders)\n",
        "  # 2 - generate start point and end point for drivers and riders\n",
        "  trips_start_drivers, trips_dest_drivers = generate_trips(n_drivers, gen='driver')\n",
        "  trips_start_riders, trips_dest_riders = generate_trips(n_riders, gen='rider')\n",
        "  # 3 - generate schedules\n",
        "  drivers_schedule = generate_schedules(n_drivers)\n",
        "  riders_schedule = generate_schedules(n_riders)\n",
        "  # 4- generate ratings for drivers and riders\n",
        "  ratings_d = generate_ratings(n_drivers)\n",
        "  ratings_r = generate_ratings(n_riders)\n",
        "  # 5 - parse in a list of objects\n",
        "  riders = []\n",
        "  drivers = []\n",
        "  for i in range(n_riders):\n",
        "    riders.append( Rider(i, ratings_r[i][0], riders_schedule[i], trips_start_riders[i], trips_dest_riders[i]))\n",
        "\n",
        "  for i in range(n_drivers):\n",
        "    drivers.append( Driver(i, ratings_d[i][0], drivers_schedule[i], trips_start_drivers[i], trips_dest_drivers[i]))\n",
        "\n",
        "  return drivers, riders\n",
        "\n"
      ]
    },
    {
      "cell_type": "code",
      "execution_count": 17,
      "id": "1be3f349-94ec-4ac4-8306-74f789381445",
      "metadata": {
        "colab": {
          "base_uri": "https://localhost:8080/"
        },
        "id": "1be3f349-94ec-4ac4-8306-74f789381445",
        "outputId": "b551057d-7159-41f9-a4a2-8fb584c5c99c"
      },
      "outputs": [
        {
          "output_type": "stream",
          "name": "stdout",
          "text": [
            "N_drivers:  47\n",
            "N_riders:  180\n",
            "Driver ( id = 0, rating = 4.5, hour = 19:00, start = {'id': 570, 'coordinates': (11.78, 45.29)}, dest = {'id': 1060, 'coordinates': (12.44, 45.61)})\n",
            "Driver ( id = 1, rating = 4.0, hour = 12:30, start = {'id': 388, 'coordinates': (12.28, 45.19)}, dest = {'id': 1990, 'coordinates': (11.94, 45.33)})\n",
            "Driver ( id = 2, rating = 4.0, hour = 8:00, start = {'id': 404, 'coordinates': (12.21, 45.55)}, dest = {'id': 1658, 'coordinates': (12.19, 45.24)})\n",
            "Driver ( id = 3, rating = 5.0, hour = 19:00, start = {'id': 1352, 'coordinates': (11.88, 45.26)}, dest = {'id': 2094, 'coordinates': (12.16, 45.51)})\n",
            "Driver ( id = 4, rating = 4.5, hour = 13:00, start = {'id': 837, 'coordinates': (12.6, 45.65)}, dest = {'id': 1990, 'coordinates': (11.94, 45.33)})\n",
            "Driver ( id = 5, rating = 3.5, hour = 7:30, start = {'id': 255, 'coordinates': (12.3, 45.2)}, dest = {'id': 1242, 'coordinates': (11.81, 45.44)})\n",
            "Driver ( id = 6, rating = 4.0, hour = 18:00, start = {'id': 1633, 'coordinates': (12.63, 45.65)}, dest = {'id': 1658, 'coordinates': (12.19, 45.24)})\n",
            "Driver ( id = 7, rating = 3.5, hour = 18:30, start = {'id': 4, 'coordinates': (12.68, 45.51)}, dest = {'id': 1990, 'coordinates': (11.94, 45.33)})\n",
            "Driver ( id = 8, rating = 3.5, hour = 12:00, start = {'id': 1364, 'coordinates': (11.89, 45.25)}, dest = {'id': 165, 'coordinates': (12.57, 45.48)})\n",
            "Driver ( id = 9, rating = 4.0, hour = 7:30, start = {'id': 257, 'coordinates': (12.2, 45.5)}, dest = {'id': 165, 'coordinates': (12.57, 45.48)})\n",
            "\n",
            "\n",
            "***********************************************************************\n",
            "\n",
            "\n",
            "Rider ( id = 0, rating = 4.0, hour = 13:00, start = {'id': 413, 'coordinates': (12.31, 45.54)}, dest = {'id': 1658, 'coordinates': (12.19, 45.24)})\n",
            "Rider ( id = 1, rating = 3.0, hour = 19:00, start = {'id': 1602, 'coordinates': (12.02, 45.2)}, dest = {'id': 165, 'coordinates': (12.57, 45.48)})\n",
            "Rider ( id = 2, rating = 3.5, hour = 19:00, start = {'id': 1065, 'coordinates': (12.54, 45.65)}, dest = {'id': 1060, 'coordinates': (12.44, 45.61)})\n",
            "Rider ( id = 3, rating = 3.5, hour = 7:30, start = {'id': 1926, 'coordinates': (11.91, 45.53)}, dest = {'id': 1242, 'coordinates': (11.81, 45.44)})\n",
            "Rider ( id = 4, rating = 4.0, hour = 8:30, start = {'id': 693, 'coordinates': (11.91, 45.45)}, dest = {'id': 1658, 'coordinates': (12.19, 45.24)})\n",
            "Rider ( id = 5, rating = 3.5, hour = 7:00, start = {'id': 833, 'coordinates': (11.93, 45.43)}, dest = {'id': 1242, 'coordinates': (11.81, 45.44)})\n",
            "Rider ( id = 6, rating = 3.0, hour = 12:30, start = {'id': 237, 'coordinates': (12.25, 45.47)}, dest = {'id': 1242, 'coordinates': (11.81, 45.44)})\n",
            "Rider ( id = 7, rating = 3.5, hour = 13:00, start = {'id': 648, 'coordinates': (11.95, 45.58)}, dest = {'id': 1242, 'coordinates': (11.81, 45.44)})\n",
            "Rider ( id = 8, rating = 4.0, hour = 19:00, start = {'id': 663, 'coordinates': (11.92, 45.5)}, dest = {'id': 1060, 'coordinates': (12.44, 45.61)})\n",
            "Rider ( id = 9, rating = 4.0, hour = 8:30, start = {'id': 2168, 'coordinates': (11.91, 45.59)}, dest = {'id': 1060, 'coordinates': (12.44, 45.61)})\n"
          ]
        }
      ],
      "source": [
        "drivers, riders = generate_data()\n",
        "\n",
        "for i in range(10) :\n",
        "  print(drivers[i])\n",
        "\n",
        "print(\"\\n\\n***********************************************************************\\n\\n\")\n",
        "\n",
        "for i in range(10) :\n",
        "  print(riders[i])\n"
      ]
    },
    {
      "cell_type": "code",
      "execution_count": 18,
      "id": "rQk3RUI9_9pF",
      "metadata": {
        "colab": {
          "base_uri": "https://localhost:8080/"
        },
        "id": "rQk3RUI9_9pF",
        "outputId": "b098f29e-638e-41ec-82f7-d7d968caecfd"
      },
      "outputs": [
        {
          "output_type": "stream",
          "name": "stdout",
          "text": [
            "{'id_driver': 0, 'shortest_path': [{'node': 570, 'hour': '19:00'}, {'node': 569, 'hour': '19:01'}, {'node': 851, 'hour': '19:02'}, {'node': 486, 'hour': '19:10'}, {'node': 115, 'hour': '19:26'}, {'node': 69, 'hour': '19:30'}, {'node': 396, 'hour': '19:31'}, {'node': 397, 'hour': '19:42'}, {'node': 70, 'hour': '19:44'}, {'node': 1940, 'hour': '19:45'}, {'node': 788, 'hour': '19:46'}, {'node': 787, 'hour': '19:49'}, {'node': 888, 'hour': '19:54'}, {'node': 107, 'hour': '19:56'}, {'node': 108, 'hour': '19:57'}, {'node': 1488, 'hour': '19:59'}, {'node': 1491, 'hour': '20:00'}, {'node': 1676, 'hour': '20:01'}, {'node': 246, 'hour': '20:03'}, {'node': 247, 'hour': '20:05'}, {'node': 539, 'hour': '20:06'}, {'node': 1667, 'hour': '20:08'}, {'node': 67, 'hour': '20:09'}, {'node': 44, 'hour': '20:11'}, {'node': 20, 'hour': '20:12'}, {'node': 21, 'hour': '20:14'}, {'node': 60, 'hour': '20:16'}, {'node': 58, 'hour': '20:17'}, {'node': 59, 'hour': '20:19'}, {'node': 61, 'hour': '20:21'}, {'node': 98, 'hour': '20:22'}, {'node': 891, 'hour': '20:27'}, {'node': 1187, 'hour': '20:28'}, {'node': 162, 'hour': '20:30'}, {'node': 349, 'hour': '20:37'}, {'node': 173, 'hour': '20:40'}, {'node': 170, 'hour': '20:42'}, {'node': 171, 'hour': '20:44'}, {'node': 1060, 'hour': '20:45'}], 'arrival_time': '20:45'}\n"
          ]
        }
      ],
      "source": [
        "# use of Dijkstra for shortest path\n",
        "\n",
        "drivers_path = []\n",
        "riders_path = []\n",
        "\n",
        "# 50 km/h\n",
        "avg_vel = 50\n",
        "date_format_str = '%H:%M'\n",
        "\n",
        "for driver in drivers:\n",
        "  spath = nx.dijkstra_path(G, driver.start_point.get('id'), driver.end_point.get('id'))\n",
        "  dpath = [{'node' : spath[0], 'hour': driver.hour}]\n",
        "  dist = 0\n",
        "\n",
        "\n",
        "  for i in range(1, len(spath)):\n",
        "    # retrieve distance and convert into km\n",
        "    \n",
        "    # distance in km\n",
        "    dist += (G.get_edge_data(spath[i-1], spath[i]).get('weight')) / 1e3\n",
        "    time = dist / avg_vel\n",
        "    time_1 = datetime.strptime(driver.hour, date_format_str)\n",
        "    time_2 = time_1 + timedelta(hours=time)\n",
        "    str_time = time_2.strftime(date_format_str)\n",
        "\n",
        "    dpath.append({'node': spath[i], 'hour':str_time})\n",
        "\n",
        "\n",
        "  total_dist = nx.shortest_path_length(G, driver.start_point.get('id'), driver.end_point.get('id'), weight='weight')\n",
        "\n",
        "  drivers_path.append({'id_driver': driver.id, 'shortest_path' : dpath, 'arrival_time': str_time})\n",
        "  \n",
        "  #print(\"Driver #\" + str(driver.id) + \": start at \" + driver.hour + \" , end at \" + dpath[len(dpath)-1].get('hour'))\n",
        "  #print(\"    -> total dist km: \", total_dist/1e3)\n",
        "\n",
        "\n",
        "for rider in riders:\n",
        "  spath = nx.dijkstra_path(G, rider.start_point.get('id'), rider.end_point.get('id'))\n",
        "  riders_path.append({'id_rider': rider.id, 'shortest_path' : spath})\n",
        "\n",
        "print(drivers_path[0])\n",
        "#print(riders_path)"
      ]
    },
    {
      "cell_type": "code",
      "execution_count": 19,
      "id": "VvTci_DIxG38",
      "metadata": {
        "id": "VvTci_DIxG38"
      },
      "outputs": [],
      "source": [
        "def min_distance (shortest_path_driver, rider) :\n",
        "  min_distance = float('inf')\n",
        "  xr = rider.start_point.get('coordinates')[0]\n",
        "  yr = rider.start_point.get('coordinates')[1]\n",
        "  for node in shortest_path_driver :\n",
        "    id = node.get('node')\n",
        "    x1 = nodes[id].get('coordinates')[0]\n",
        "    x2 = nodes[id].get('coordinates')[1]\n",
        "    dist = compute_distance(x1, x2, xr, yr)\n",
        "    if dist < min_distance :\n",
        "      min_distance = dist\n",
        "\n",
        "  return min_distance\n"
      ]
    },
    {
      "cell_type": "code",
      "execution_count": 20,
      "id": "ztU1h2qCsQ8a",
      "metadata": {
        "id": "ztU1h2qCsQ8a"
      },
      "outputs": [],
      "source": [
        "# find matching: since we assumed drivers and riders having same dest\n",
        "# first: filter the total of drivers and riders\n",
        "\n",
        "drivers_match = [{} for _ in range(len(drivers))]\n",
        "\n",
        "# couple drivers and riders with same dest and similar hours\n",
        "\n",
        "for driver in drivers :\n",
        "  drivers_match[driver.id] = {'id_driver' : driver.id, 'list_of_riders' : []}\n",
        "  for rider in riders :\n",
        "    dhour_start = datetime.strptime(driver.hour, date_format_str)\n",
        "    dhour_end = datetime.strptime(drivers_path[driver.id].get('arrival_time'), date_format_str)\n",
        "    rhour = datetime.strptime(rider.hour, date_format_str)\n",
        "\n",
        "    #print(\"min distance: \" , min_distance(drivers_path[driver.id].get('shortest_path'), rider))\n",
        "\n",
        "    # filter per\n",
        "    # 1- same dest\n",
        "    # 2- simil hour\n",
        "    # 3- minimum distance from rider and shortest path <= 30 km\n",
        "    if driver.end_point.get('id') == rider.end_point.get('id') and ((dhour_start - timedelta(minutes=30)) <= rhour <= (dhour_end + timedelta(minutes=30)))  :\n",
        "      drivers_match[driver.id].get('list_of_riders').append(rider.id)\n",
        "  \n",
        "\n"
      ]
    },
    {
      "cell_type": "code",
      "execution_count": 21,
      "id": "hpk10lYH2eH2",
      "metadata": {
        "id": "hpk10lYH2eH2"
      },
      "outputs": [],
      "source": [
        "def preference_list_drivers(drivers_match) :\n",
        "\n",
        "  preferences = [{} for _ in range(len(drivers))]\n",
        "\n",
        "  for driver in drivers :\n",
        "    pref_dict = {}\n",
        "    for r in drivers_match[driver.id].get('list_of_riders') :\n",
        "      rider = riders[r]     \n",
        "      min_dist = min_distance(drivers_path[driver.id].get('shortest_path'), rider)\n",
        "      if min_dist <= 35e3 :\n",
        "        # 0.4 * rating + 0.6 * distance in kms\n",
        "        measure =  0.4*rider.rating + 0.6*(min_dist/1e3)\n",
        "        pref_dict[rider.id] = measure\n",
        "\n",
        "    # sort list\n",
        "    preferences[driver.id] = {'id_driver' : driver.id, 'list_of_riders' : list(dict(sorted(pref_dict.items(), key=lambda item: item[1])))}\n",
        "\n",
        "    \n",
        "    \n",
        "  return preferences\n",
        "\n"
      ]
    },
    {
      "cell_type": "code",
      "execution_count": 25,
      "id": "mntDBTb5ksl0",
      "metadata": {
        "id": "mntDBTb5ksl0"
      },
      "outputs": [],
      "source": [
        "def preference_list_riders(list_of_riders) :\n",
        "\n",
        "  preferences = [{} for _ in range(len(riders))]\n",
        "\n",
        "  pref = [ {} for _ in range(len(riders))]\n",
        "\n",
        "  # build the lists\n",
        "\n",
        "  for driver in drivers:\n",
        "    for r in drivers_match[driver.id].get('list_of_riders') :\n",
        "      rider = riders[r]\n",
        "      min_dist = min_distance(drivers_path[driver.id].get('shortest_path'), rider)\n",
        "      if min_dist <= 35e3 :\n",
        "        pref[rider.id][driver.id] = driver.rating\n",
        "\n",
        "      \n",
        "      \n",
        "\n",
        "  #sort the lists\n",
        "\n",
        "  for i in range(len(riders)):\n",
        "    preferences[i] = {'id_rider' : i, 'list_of_drivers' : list(dict(sorted(pref[i].items(), key=lambda item: item[1])))} \n",
        "  \n",
        "  return preferences"
      ]
    },
    {
      "cell_type": "markdown",
      "id": "DRt2OiPl6k8n",
      "metadata": {
        "id": "DRt2OiPl6k8n"
      },
      "source": [
        "# Start of main algorithm"
      ]
    },
    {
      "cell_type": "code",
      "execution_count": 26,
      "id": "VHJJzPEQ6n7n",
      "metadata": {
        "colab": {
          "base_uri": "https://localhost:8080/"
        },
        "id": "VHJJzPEQ6n7n",
        "outputId": "893ae9f4-5fd6-470d-8cba-71ffc9dce894"
      },
      "outputs": [
        {
          "output_type": "stream",
          "name": "stdout",
          "text": [
            "[{'id_driver': 0, 'list_of_riders': [111, 85, 78, 8, 18, 2, 153]}, {'id_driver': 1, 'list_of_riders': [86, 19, 54, 84, 13]}, {'id_driver': 2, 'list_of_riders': [159, 167, 71, 72, 103, 176, 4]}, {'id_driver': 3, 'list_of_riders': [154]}, {'id_driver': 4, 'list_of_riders': [86, 54, 13]}, {'id_driver': 5, 'list_of_riders': [58, 5, 21, 152, 3, 105, 34, 149]}, {'id_driver': 6, 'list_of_riders': [143, 25, 50, 157, 178, 38]}, {'id_driver': 7, 'list_of_riders': [165, 155, 140, 131, 96, 145, 124]}, {'id_driver': 8, 'list_of_riders': [63, 130, 53, 90, 177, 139, 104]}, {'id_driver': 9, 'list_of_riders': [83, 31, 74, 122, 20, 147]}, {'id_driver': 10, 'list_of_riders': [63, 53, 177, 130, 104, 90, 139]}, {'id_driver': 11, 'list_of_riders': [41, 67, 109, 28, 33, 76]}, {'id_driver': 12, 'list_of_riders': [24, 162, 156, 68, 170, 52, 118]}, {'id_driver': 13, 'list_of_riders': [131, 165, 155, 140, 96, 145, 124]}, {'id_driver': 14, 'list_of_riders': [72, 159, 71, 103]}, {'id_driver': 15, 'list_of_riders': [86, 54, 13]}, {'id_driver': 16, 'list_of_riders': [42, 87, 161, 171, 116, 66, 56, 150, 102, 9, 148, 22]}, {'id_driver': 17, 'list_of_riders': [83, 122, 147, 31, 74, 36]}, {'id_driver': 18, 'list_of_riders': [47, 146, 95, 60, 11, 106, 117, 99]}, {'id_driver': 19, 'list_of_riders': [15, 174, 126, 115]}, {'id_driver': 20, 'list_of_riders': [83, 31, 74, 122, 20, 147]}, {'id_driver': 21, 'list_of_riders': [50, 178, 157, 38]}, {'id_driver': 22, 'list_of_riders': [50, 178, 157, 38, 25]}, {'id_driver': 23, 'list_of_riders': [21, 5, 3, 34, 152, 58, 105]}, {'id_driver': 24, 'list_of_riders': [5, 149, 105, 70, 123, 152, 3, 21, 34, 51, 64, 58, 158]}, {'id_driver': 25, 'list_of_riders': [155, 140, 145, 96, 165, 124, 131]}, {'id_driver': 26, 'list_of_riders': [0, 29, 91, 12]}, {'id_driver': 27, 'list_of_riders': [107, 16]}, {'id_driver': 28, 'list_of_riders': []}, {'id_driver': 29, 'list_of_riders': [60, 95, 11, 99]}, {'id_driver': 30, 'list_of_riders': [111, 153, 49, 85, 2, 78, 8, 18, 81]}, {'id_driver': 31, 'list_of_riders': [161, 42, 9, 87, 56, 150]}, {'id_driver': 32, 'list_of_riders': [106, 95, 146, 60, 47, 11, 99]}, {'id_driver': 33, 'list_of_riders': [62, 46, 166, 163, 119]}, {'id_driver': 34, 'list_of_riders': [67, 33, 120, 28, 76, 41, 144, 175, 65, 109]}, {'id_driver': 35, 'list_of_riders': [167, 159, 72, 59, 176, 4]}, {'id_driver': 36, 'list_of_riders': [96, 140, 145, 155, 165]}, {'id_driver': 37, 'list_of_riders': [154]}, {'id_driver': 38, 'list_of_riders': [2, 111]}, {'id_driver': 39, 'list_of_riders': [57, 125, 82, 129, 89, 135, 100, 108, 179]}, {'id_driver': 40, 'list_of_riders': [45, 107, 16]}, {'id_driver': 41, 'list_of_riders': []}, {'id_driver': 42, 'list_of_riders': [162, 156, 24, 170, 52, 68, 118]}, {'id_driver': 43, 'list_of_riders': [27, 6, 93, 151, 160, 173, 7, 79, 133, 98, 164]}, {'id_driver': 44, 'list_of_riders': [67, 33, 28, 120, 76, 41, 175, 144, 65, 109]}, {'id_driver': 45, 'list_of_riders': [20, 83, 31, 74, 122, 147]}, {'id_driver': 46, 'list_of_riders': [67, 33, 76, 28, 144, 41, 120, 109]}]\n",
            "\n",
            "************************************\n",
            "\n",
            "[{'id_rider': 0, 'list_of_drivers': [26]}, {'id_rider': 1, 'list_of_drivers': []}, {'id_rider': 2, 'list_of_drivers': [38, 30, 0]}, {'id_rider': 3, 'list_of_drivers': [5, 23, 24]}, {'id_rider': 4, 'list_of_drivers': [2, 35]}, {'id_rider': 5, 'list_of_drivers': [5, 23, 24]}, {'id_rider': 6, 'list_of_drivers': [43]}, {'id_rider': 7, 'list_of_drivers': [43]}, {'id_rider': 8, 'list_of_drivers': [30, 0]}, {'id_rider': 9, 'list_of_drivers': [31, 16]}, {'id_rider': 10, 'list_of_drivers': []}, {'id_rider': 11, 'list_of_drivers': [32, 18, 29]}, {'id_rider': 12, 'list_of_drivers': [26]}, {'id_rider': 13, 'list_of_drivers': [1, 15, 4]}, {'id_rider': 14, 'list_of_drivers': []}, {'id_rider': 15, 'list_of_drivers': [19]}, {'id_rider': 16, 'list_of_drivers': [40, 27]}, {'id_rider': 17, 'list_of_drivers': []}, {'id_rider': 18, 'list_of_drivers': [30, 0]}, {'id_rider': 19, 'list_of_drivers': [1]}, {'id_rider': 20, 'list_of_drivers': [20, 45, 9]}, {'id_rider': 21, 'list_of_drivers': [5, 23, 24]}, {'id_rider': 22, 'list_of_drivers': [16]}, {'id_rider': 23, 'list_of_drivers': []}, {'id_rider': 24, 'list_of_drivers': [42, 12]}, {'id_rider': 25, 'list_of_drivers': [6, 22]}, {'id_rider': 26, 'list_of_drivers': []}, {'id_rider': 27, 'list_of_drivers': [43]}, {'id_rider': 28, 'list_of_drivers': [46, 34, 44, 11]}, {'id_rider': 29, 'list_of_drivers': [26]}, {'id_rider': 30, 'list_of_drivers': []}, {'id_rider': 31, 'list_of_drivers': [20, 17, 45, 9]}, {'id_rider': 32, 'list_of_drivers': []}, {'id_rider': 33, 'list_of_drivers': [46, 34, 44, 11]}, {'id_rider': 34, 'list_of_drivers': [5, 23, 24]}, {'id_rider': 35, 'list_of_drivers': []}, {'id_rider': 36, 'list_of_drivers': [17]}, {'id_rider': 37, 'list_of_drivers': []}, {'id_rider': 38, 'list_of_drivers': [6, 21, 22]}, {'id_rider': 39, 'list_of_drivers': []}, {'id_rider': 40, 'list_of_drivers': []}, {'id_rider': 41, 'list_of_drivers': [46, 34, 44, 11]}, {'id_rider': 42, 'list_of_drivers': [31, 16]}, {'id_rider': 43, 'list_of_drivers': []}, {'id_rider': 44, 'list_of_drivers': []}, {'id_rider': 45, 'list_of_drivers': [40]}, {'id_rider': 46, 'list_of_drivers': [33]}, {'id_rider': 47, 'list_of_drivers': [32, 18]}, {'id_rider': 48, 'list_of_drivers': []}, {'id_rider': 49, 'list_of_drivers': [30]}, {'id_rider': 50, 'list_of_drivers': [6, 21, 22]}, {'id_rider': 51, 'list_of_drivers': [24]}, {'id_rider': 52, 'list_of_drivers': [42, 12]}, {'id_rider': 53, 'list_of_drivers': [8, 10]}, {'id_rider': 54, 'list_of_drivers': [1, 15, 4]}, {'id_rider': 55, 'list_of_drivers': []}, {'id_rider': 56, 'list_of_drivers': [31, 16]}, {'id_rider': 57, 'list_of_drivers': [39]}, {'id_rider': 58, 'list_of_drivers': [5, 23, 24]}, {'id_rider': 59, 'list_of_drivers': [35]}, {'id_rider': 60, 'list_of_drivers': [32, 18, 29]}, {'id_rider': 61, 'list_of_drivers': []}, {'id_rider': 62, 'list_of_drivers': [33]}, {'id_rider': 63, 'list_of_drivers': [8, 10]}, {'id_rider': 64, 'list_of_drivers': [24]}, {'id_rider': 65, 'list_of_drivers': [34, 44]}, {'id_rider': 66, 'list_of_drivers': [16]}, {'id_rider': 67, 'list_of_drivers': [46, 34, 44, 11]}, {'id_rider': 68, 'list_of_drivers': [42, 12]}, {'id_rider': 69, 'list_of_drivers': []}, {'id_rider': 70, 'list_of_drivers': [24]}, {'id_rider': 71, 'list_of_drivers': [2, 14]}, {'id_rider': 72, 'list_of_drivers': [2, 14, 35]}, {'id_rider': 73, 'list_of_drivers': []}, {'id_rider': 74, 'list_of_drivers': [20, 17, 45, 9]}, {'id_rider': 75, 'list_of_drivers': []}, {'id_rider': 76, 'list_of_drivers': [46, 34, 44, 11]}, {'id_rider': 77, 'list_of_drivers': []}, {'id_rider': 78, 'list_of_drivers': [30, 0]}, {'id_rider': 79, 'list_of_drivers': [43]}, {'id_rider': 80, 'list_of_drivers': []}, {'id_rider': 81, 'list_of_drivers': [30]}, {'id_rider': 82, 'list_of_drivers': [39]}, {'id_rider': 83, 'list_of_drivers': [20, 17, 45, 9]}, {'id_rider': 84, 'list_of_drivers': [1]}, {'id_rider': 85, 'list_of_drivers': [30, 0]}, {'id_rider': 86, 'list_of_drivers': [1, 15, 4]}, {'id_rider': 87, 'list_of_drivers': [31, 16]}, {'id_rider': 88, 'list_of_drivers': []}, {'id_rider': 89, 'list_of_drivers': [39]}, {'id_rider': 90, 'list_of_drivers': [8, 10]}, {'id_rider': 91, 'list_of_drivers': [26]}, {'id_rider': 92, 'list_of_drivers': []}, {'id_rider': 93, 'list_of_drivers': [43]}, {'id_rider': 94, 'list_of_drivers': []}, {'id_rider': 95, 'list_of_drivers': [32, 18, 29]}, {'id_rider': 96, 'list_of_drivers': [25, 7, 13, 36]}, {'id_rider': 97, 'list_of_drivers': []}, {'id_rider': 98, 'list_of_drivers': [43]}, {'id_rider': 99, 'list_of_drivers': [32, 18, 29]}, {'id_rider': 100, 'list_of_drivers': [39]}, {'id_rider': 101, 'list_of_drivers': []}, {'id_rider': 102, 'list_of_drivers': [16]}, {'id_rider': 103, 'list_of_drivers': [2, 14]}, {'id_rider': 104, 'list_of_drivers': [8, 10]}, {'id_rider': 105, 'list_of_drivers': [5, 23, 24]}, {'id_rider': 106, 'list_of_drivers': [32, 18]}, {'id_rider': 107, 'list_of_drivers': [40, 27]}, {'id_rider': 108, 'list_of_drivers': [39]}, {'id_rider': 109, 'list_of_drivers': [46, 34, 44, 11]}, {'id_rider': 110, 'list_of_drivers': []}, {'id_rider': 111, 'list_of_drivers': [38, 30, 0]}, {'id_rider': 112, 'list_of_drivers': []}, {'id_rider': 113, 'list_of_drivers': []}, {'id_rider': 114, 'list_of_drivers': []}, {'id_rider': 115, 'list_of_drivers': [19]}, {'id_rider': 116, 'list_of_drivers': [16]}, {'id_rider': 117, 'list_of_drivers': [18]}, {'id_rider': 118, 'list_of_drivers': [42, 12]}, {'id_rider': 119, 'list_of_drivers': [33]}, {'id_rider': 120, 'list_of_drivers': [46, 34, 44]}, {'id_rider': 121, 'list_of_drivers': []}, {'id_rider': 122, 'list_of_drivers': [20, 17, 45, 9]}, {'id_rider': 123, 'list_of_drivers': [24]}, {'id_rider': 124, 'list_of_drivers': [25, 7, 13]}, {'id_rider': 125, 'list_of_drivers': [39]}, {'id_rider': 126, 'list_of_drivers': [19]}, {'id_rider': 127, 'list_of_drivers': []}, {'id_rider': 128, 'list_of_drivers': []}, {'id_rider': 129, 'list_of_drivers': [39]}, {'id_rider': 130, 'list_of_drivers': [8, 10]}, {'id_rider': 131, 'list_of_drivers': [25, 7, 13]}, {'id_rider': 132, 'list_of_drivers': []}, {'id_rider': 133, 'list_of_drivers': [43]}, {'id_rider': 134, 'list_of_drivers': []}, {'id_rider': 135, 'list_of_drivers': [39]}, {'id_rider': 136, 'list_of_drivers': []}, {'id_rider': 137, 'list_of_drivers': []}, {'id_rider': 138, 'list_of_drivers': []}, {'id_rider': 139, 'list_of_drivers': [8, 10]}, {'id_rider': 140, 'list_of_drivers': [25, 7, 13, 36]}, {'id_rider': 141, 'list_of_drivers': []}, {'id_rider': 142, 'list_of_drivers': []}, {'id_rider': 143, 'list_of_drivers': [6]}, {'id_rider': 144, 'list_of_drivers': [46, 34, 44]}, {'id_rider': 145, 'list_of_drivers': [25, 7, 13, 36]}, {'id_rider': 146, 'list_of_drivers': [32, 18]}, {'id_rider': 147, 'list_of_drivers': [20, 17, 45, 9]}, {'id_rider': 148, 'list_of_drivers': [16]}, {'id_rider': 149, 'list_of_drivers': [5, 24]}, {'id_rider': 150, 'list_of_drivers': [31, 16]}, {'id_rider': 151, 'list_of_drivers': [43]}, {'id_rider': 152, 'list_of_drivers': [5, 23, 24]}, {'id_rider': 153, 'list_of_drivers': [30, 0]}, {'id_rider': 154, 'list_of_drivers': [37, 3]}, {'id_rider': 155, 'list_of_drivers': [25, 7, 13, 36]}, {'id_rider': 156, 'list_of_drivers': [42, 12]}, {'id_rider': 157, 'list_of_drivers': [6, 21, 22]}, {'id_rider': 158, 'list_of_drivers': [24]}, {'id_rider': 159, 'list_of_drivers': [2, 14, 35]}, {'id_rider': 160, 'list_of_drivers': [43]}, {'id_rider': 161, 'list_of_drivers': [31, 16]}, {'id_rider': 162, 'list_of_drivers': [42, 12]}, {'id_rider': 163, 'list_of_drivers': [33]}, {'id_rider': 164, 'list_of_drivers': [43]}, {'id_rider': 165, 'list_of_drivers': [25, 7, 13, 36]}, {'id_rider': 166, 'list_of_drivers': [33]}, {'id_rider': 167, 'list_of_drivers': [2, 35]}, {'id_rider': 168, 'list_of_drivers': []}, {'id_rider': 169, 'list_of_drivers': []}, {'id_rider': 170, 'list_of_drivers': [42, 12]}, {'id_rider': 171, 'list_of_drivers': [16]}, {'id_rider': 172, 'list_of_drivers': []}, {'id_rider': 173, 'list_of_drivers': [43]}, {'id_rider': 174, 'list_of_drivers': [19]}, {'id_rider': 175, 'list_of_drivers': [34, 44]}, {'id_rider': 176, 'list_of_drivers': [2, 35]}, {'id_rider': 177, 'list_of_drivers': [8, 10]}, {'id_rider': 178, 'list_of_drivers': [6, 21, 22]}, {'id_rider': 179, 'list_of_drivers': [39]}]\n"
          ]
        }
      ],
      "source": [
        "# 1- get path from Steiner tree (first option: compute shortest path)\n",
        "\n",
        "# 2 - compute preference list of drivers\n",
        "\n",
        "#print(drivers_match[0].get('list_of_riders'))\n",
        "\n",
        "print(preference_list_drivers(drivers_match))\n",
        "\n",
        "print(\"\\n************************************\\n\")\n",
        "\n",
        "# 3 - compute preference list of riders\n",
        "\n",
        "print(preference_list_riders(drivers_match))"
      ]
    },
    {
      "cell_type": "code",
      "execution_count": null,
      "id": "eiHaLSezkbuL",
      "metadata": {
        "id": "eiHaLSezkbuL"
      },
      "outputs": [],
      "source": [
        ""
      ]
    },
    {
      "cell_type": "code",
      "execution_count": null,
      "id": "mrmM8dlr9jTE",
      "metadata": {
        "id": "mrmM8dlr9jTE"
      },
      "outputs": [],
      "source": [
        "# create file input.dat (obsolete (?))\n",
        "f = open(\"input.dat\", \"w\")\n",
        "content = \"DIMENSION : \" + str(len(nodes)) + \"\\n\"\n",
        "content += \"DRIVERS : \" + str(len(drivers)) + \"\\n\"\n",
        "content += \"RIDERS : \" + str(len(riders)) + \"\\n\"\n",
        "content += \"NODE_COORD_SECTION\\n\"\n",
        "for node in nodes :\n",
        "  content += str(node.get(\"id\")) + \" \" + str(node.get(\"coordinates\")[0]) + \" \" + str(node.get(\"coordinates\")[1]) + \"\\n\"\n",
        "content += \"ROADS_SECTION\\n\"\n",
        "for road in roads :\n",
        "  content += str(road.get(\"p1\")) + \" \" + str(road.get(\"p2\")) + \"\\n\"\n",
        "content += \"DRIVERS_STARTING_COORD\\n\"\n",
        "for driver in drivers:\n",
        "  content += str(driver.start_point.get(\"id\")) + \" \" + str(driver.start_point.get(\"coordinates\")[0]) + \" \" + str(driver.start_point.get(\"coordinates\")[1]) + \"\\n\"\n",
        "content += \"DRIVERS_DESTINATION_COORD\\n\"\n",
        "for driver in drivers:\n",
        "  content += str(driver.end_point.get(\"id\")) + \" \" + str(driver.end_point.get(\"coordinates\")[0]) + \" \" + str(driver.end_point.get(\"coordinates\")[1]) + \"\\n\"\n",
        "content += \"RIDERS_STARTING_COORD\\n\"\n",
        "for rider in riders:\n",
        "  content += str(rider.start_point.get(\"id\")) + \" \" + str(rider.start_point.get(\"coordinates\")[0]) + \" \" + str(rider.start_point.get(\"coordinates\")[1]) + \"\\n\"\n",
        "content += \"RIDERS_DESTINATION_COORD\\n\"\n",
        "for rider in riders:\n",
        "  content += str(rider.end_point.get(\"id\")) + \" \" + str(rider.end_point.get(\"coordinates\")[0]) + \" \" + str(rider.end_point.get(\"coordinates\")[1]) + \"\\n\"\n",
        "content += \"EOF\"\n",
        "f.write(content)\n",
        "f.close()"
      ]
    },
    {
      "cell_type": "markdown",
      "id": "12d24364-69af-4164-9e0b-2355025e4193",
      "metadata": {
        "tags": [],
        "id": "12d24364-69af-4164-9e0b-2355025e4193"
      },
      "source": [
        "## Stable matching module\n",
        "\n",
        "Stable matching is modeled after the Hospital-Resident problem, where drivers are modeled as hospitals (their capacity being the number of free seats in the car) and riders are modeled as residents.\n",
        "\n",
        "We use the open source ```matching``` library, originally released under MIT license by Cardiff University researcher Henry Wilde. https://github.com/daffidwilde/matching"
      ]
    },
    {
      "cell_type": "markdown",
      "id": "c8ab73f5-d1d3-424c-93bf-67610d55498a",
      "metadata": {
        "id": "c8ab73f5-d1d3-424c-93bf-67610d55498a"
      },
      "source": [
        "Make sure to install ```matching```: (https://matching.readthedocs.io/en/latest/tutorials/installation.html)\n",
        "\n",
        "```matching``` is also available through **Conda forge**"
      ]
    },
    {
      "cell_type": "code",
      "execution_count": null,
      "id": "da9b18f9-01d6-4686-a970-51f45f8a6a99",
      "metadata": {
        "id": "da9b18f9-01d6-4686-a970-51f45f8a6a99",
        "outputId": "b29ba676-394a-4d08-81fc-f1f1840abed4"
      },
      "outputs": [
        {
          "ename": "TypeError",
          "evalue": "unhashable type: 'dict'",
          "output_type": "error",
          "traceback": [
            "\u001b[0;31m---------------------------------------------------------------------------\u001b[0m",
            "\u001b[0;31mTypeError\u001b[0m                                 Traceback (most recent call last)",
            "Input \u001b[0;32mIn [31]\u001b[0m, in \u001b[0;36m<cell line: 5>\u001b[0;34m()\u001b[0m\n\u001b[1;32m      1\u001b[0m \u001b[38;5;28;01mfrom\u001b[39;00m \u001b[38;5;21;01mmatching\u001b[39;00m\u001b[38;5;21;01m.\u001b[39;00m\u001b[38;5;21;01mgames\u001b[39;00m \u001b[38;5;28;01mimport\u001b[39;00m HospitalResident\n\u001b[1;32m      3\u001b[0m \u001b[38;5;66;03m#d = {dic[\"id_driver\"]:dic[\"list_of_riders\"] for dic in preference_list_drivers(drivers_match)} #drivers\u001b[39;00m\n\u001b[1;32m      4\u001b[0m \u001b[38;5;66;03m#r = {dic[\"id_rider\"]:dic[\"list_of_drivers\"] for dic in preference_list_riders(drivers_match)} #riders\u001b[39;00m\n\u001b[0;32m----> 5\u001b[0m capacities \u001b[38;5;241m=\u001b[39m {driver_id:\u001b[38;5;241m4\u001b[39m \u001b[38;5;28;01mfor\u001b[39;00m driver_id \u001b[38;5;129;01min\u001b[39;00m d} \u001b[38;5;66;03m#for the sake of simplicity, every driver is able/willing to transport up to 4 people\u001b[39;00m\n\u001b[1;32m      7\u001b[0m game \u001b[38;5;241m=\u001b[39m HospitalResident\u001b[38;5;241m.\u001b[39mcreate_from_dictionaries(\n\u001b[1;32m      8\u001b[0m r, d, capacities\n\u001b[1;32m      9\u001b[0m )\n\u001b[1;32m     11\u001b[0m game\u001b[38;5;241m.\u001b[39msolve(optimal\u001b[38;5;241m=\u001b[39m\u001b[38;5;124m\"\u001b[39m\u001b[38;5;124mhospital\u001b[39m\u001b[38;5;124m\"\u001b[39m)\n",
            "Input \u001b[0;32mIn [31]\u001b[0m, in \u001b[0;36m<dictcomp>\u001b[0;34m(.0)\u001b[0m\n\u001b[1;32m      1\u001b[0m \u001b[38;5;28;01mfrom\u001b[39;00m \u001b[38;5;21;01mmatching\u001b[39;00m\u001b[38;5;21;01m.\u001b[39;00m\u001b[38;5;21;01mgames\u001b[39;00m \u001b[38;5;28;01mimport\u001b[39;00m HospitalResident\n\u001b[1;32m      3\u001b[0m \u001b[38;5;66;03m#d = {dic[\"id_driver\"]:dic[\"list_of_riders\"] for dic in preference_list_drivers(drivers_match)} #drivers\u001b[39;00m\n\u001b[1;32m      4\u001b[0m \u001b[38;5;66;03m#r = {dic[\"id_rider\"]:dic[\"list_of_drivers\"] for dic in preference_list_riders(drivers_match)} #riders\u001b[39;00m\n\u001b[0;32m----> 5\u001b[0m capacities \u001b[38;5;241m=\u001b[39m {driver_id:\u001b[38;5;241m4\u001b[39m \u001b[38;5;28;01mfor\u001b[39;00m driver_id \u001b[38;5;129;01min\u001b[39;00m d} \u001b[38;5;66;03m#for the sake of simplicity, every driver is able/willing to transport up to 4 people\u001b[39;00m\n\u001b[1;32m      7\u001b[0m game \u001b[38;5;241m=\u001b[39m HospitalResident\u001b[38;5;241m.\u001b[39mcreate_from_dictionaries(\n\u001b[1;32m      8\u001b[0m r, d, capacities\n\u001b[1;32m      9\u001b[0m )\n\u001b[1;32m     11\u001b[0m game\u001b[38;5;241m.\u001b[39msolve(optimal\u001b[38;5;241m=\u001b[39m\u001b[38;5;124m\"\u001b[39m\u001b[38;5;124mhospital\u001b[39m\u001b[38;5;124m\"\u001b[39m)\n",
            "\u001b[0;31mTypeError\u001b[0m: unhashable type: 'dict'"
          ]
        }
      ],
      "source": [
        "from matching.games import HospitalResident\n",
        "\n",
        "d = {dic[\"id_driver\"]:dic[\"list_of_riders\"] for dic in preference_list_drivers(drivers_match)} #drivers\n",
        "r = {dic[\"id_rider\"]:dic[\"list_of_drivers\"] for dic in preference_list_riders(drivers_match)} #riders\n",
        "capacities = {driver_id:4 for driver_id in d} #for the sake of simplicity, every driver is able/willing to transport up to 4 people\n",
        "\n",
        "game = HospitalResident.create_from_dictionaries(\n",
        "r, d, capacities\n",
        ")\n",
        "\n",
        "game.solve(optimal=\"hospital\") #driver-optimal"
      ]
    },
    {
      "cell_type": "code",
      "execution_count": null,
      "id": "e9c17f2e-5baa-4d8a-99b2-22d7526e0008",
      "metadata": {
        "id": "e9c17f2e-5baa-4d8a-99b2-22d7526e0008"
      },
      "outputs": [],
      "source": [
        ""
      ]
    }
  ],
  "metadata": {
    "colab": {
      "collapsed_sections": [],
      "name": "AlgoCarSharing.ipynb",
      "provenance": []
    },
    "kernelspec": {
      "display_name": "Python 3 (ipykernel)",
      "language": "python",
      "name": "python3"
    },
    "language_info": {
      "codemirror_mode": {
        "name": "ipython",
        "version": 3
      },
      "file_extension": ".py",
      "mimetype": "text/x-python",
      "name": "python",
      "nbconvert_exporter": "python",
      "pygments_lexer": "ipython3",
      "version": "3.8.13"
    }
  },
  "nbformat": 4,
  "nbformat_minor": 5
}