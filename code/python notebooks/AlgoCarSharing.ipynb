{
  "cells": [
    {
      "cell_type": "markdown",
      "id": "9a84ad5b-ba78-4156-9683-a3cd1eb92438",
      "metadata": {
        "id": "9a84ad5b-ba78-4156-9683-a3cd1eb92438"
      },
      "source": [
        "## Test per progetto AI"
      ]
    },
    {
      "cell_type": "markdown",
      "id": "f78b133c-c586-4acb-927f-9c6ed2425b37",
      "metadata": {
        "id": "f78b133c-c586-4acb-927f-9c6ed2425b37"
      },
      "source": [
        "E' necessario caricare i file roads_small.json e nodes_small.json"
      ]
    },
    {
      "cell_type": "code",
      "execution_count": 1,
      "id": "4bd11cac-00d0-4554-add1-786f80976988",
      "metadata": {
        "id": "4bd11cac-00d0-4554-add1-786f80976988"
      },
      "outputs": [],
      "source": [
        "import json\n",
        "import numpy as np\n",
        "import matplotlib.pyplot as plt\n",
        "import math\n",
        "import random"
      ]
    },
    {
      "cell_type": "code",
      "execution_count": 2,
      "id": "ee530b18-25c2-4d55-8e0b-c6ed8e979380",
      "metadata": {
        "colab": {
          "base_uri": "https://localhost:8080/"
        },
        "id": "ee530b18-25c2-4d55-8e0b-c6ed8e979380",
        "outputId": "32f66cac-0261-4524-8ae8-c1927455df49"
      },
      "outputs": [
        {
          "output_type": "stream",
          "name": "stdout",
          "text": [
            "Num nodes 2239\n",
            "Num roads 10138\n"
          ]
        }
      ],
      "source": [
        "nodes = json.load(open('new_nodes.json', 'r'))\n",
        "roads = json.load(open('new_roads.json', 'r'))\n",
        "print(\"Num nodes\", len(nodes))\n",
        "print(\"Num roads\", len(roads))"
      ]
    },
    {
      "cell_type": "markdown",
      "id": "0c9bd191-fbf2-4926-9fe3-5315f2b63def",
      "metadata": {
        "id": "0c9bd191-fbf2-4926-9fe3-5315f2b63def"
      },
      "source": [
        "Create two maps as lookup tables for the nodes"
      ]
    },
    {
      "cell_type": "code",
      "execution_count": 3,
      "id": "d9ddb0c8-29d5-4fe1-9302-ac1481b290ef",
      "metadata": {
        "id": "d9ddb0c8-29d5-4fe1-9302-ac1481b290ef"
      },
      "outputs": [],
      "source": [
        "#create a lookup table for point coordinates\n",
        "node_coords = {point['id']:tuple(point['coordinates']) for point in nodes} #dictonary initialization with comprehension\n",
        "coords_node = {tuple(point['coordinates']):point['id'] for point in nodes} #tuples are hashable-> can be key to a dictionary"
      ]
    },
    {
      "cell_type": "code",
      "execution_count": 4,
      "id": "8bad6089-b3c1-499e-be26-0c53d98e7120",
      "metadata": {
        "colab": {
          "base_uri": "https://localhost:8080/"
        },
        "id": "8bad6089-b3c1-499e-be26-0c53d98e7120",
        "outputId": "c44c8318-6ed1-4cb6-fcb7-8a2e6c70bec6"
      },
      "outputs": [
        {
          "output_type": "stream",
          "name": "stdout",
          "text": [
            "(12.55, 45.59)\n"
          ]
        }
      ],
      "source": [
        "print(node_coords[roads[11]['p1']]) #retrieve coordinates from node ID"
      ]
    },
    {
      "cell_type": "markdown",
      "id": "79e8398c-a30b-4bca-a4c5-28c647a5dc03",
      "metadata": {
        "id": "79e8398c-a30b-4bca-a4c5-28c647a5dc03"
      },
      "source": [
        "A questo punto bisogna generare le query degli utenti:\n",
        "\n",
        "semplificazione: l'orario non influisce sui tempi di percorrenza -> dipendono solo dalla distanza"
      ]
    },
    {
      "cell_type": "markdown",
      "id": "a81a0a84-db99-4b8b-8d81-cad548c57c5c",
      "metadata": {
        "id": "a81a0a84-db99-4b8b-8d81-cad548c57c5c"
      },
      "source": [
        "Consider each trip as starting or ending in one of the nodes: the function below serves to approximate the closest node on the map"
      ]
    },
    {
      "cell_type": "markdown",
      "id": "bab3d7ee-4cd8-4423-a556-bb23484829b8",
      "metadata": {
        "id": "bab3d7ee-4cd8-4423-a556-bb23484829b8"
      },
      "source": [
        "Regular transfer (not related to pendolarism) is modeled as a gaussian random variable with respect to location ($\\mu = 15km, \\sigma = 10km$)  "
      ]
    },
    {
      "cell_type": "code",
      "source": [
        "# compute distance between two nodes\n",
        "\n",
        "def compute_distance(x_coord_1, y_coord_1, x_coord_2, y_coord_2):\n",
        "  x_coord_1 = x_coord_1 * 111.32\n",
        "  x_coord_2 = x_coord_2 * 111.32\n",
        "  y_coord_1 = 40075 * math.cos(x_coord_1)/360 * y_coord_1;\n",
        "  y_coord_2 = 40075 * math.cos(x_coord_2)/360 * y_coord_2;\n",
        "  dist = math.sqrt((y_coord_1 - y_coord_2)**2 + (x_coord_1 - x_coord_2)**2)\n",
        "  return dist"
      ],
      "metadata": {
        "id": "dlYeFIyA9vIN"
      },
      "id": "dlYeFIyA9vIN",
      "execution_count": 61,
      "outputs": []
    },
    {
      "cell_type": "code",
      "source": [
        "import math\n",
        "\n",
        "def compute_distance(x1, y1, x2, y2) :\n",
        "  R = 6371e3 #metres\n",
        "  phi1 = x1 * math.pi/180 # φ, λ in radians\n",
        "  phi2 = x2 * math.pi/180\n",
        "  delta_phi = (x2-x1) * math.pi/180\n",
        "  delta_lambda = (y2-y1) * math.pi/180\n",
        "\n",
        "  a = math.sin(delta_phi/2) * math.sin(delta_phi/2) + math.cos(phi1) * math.cos(phi2) * math.sin(delta_lambda/2) * math.sin(delta_lambda/2)\n",
        "  c = 2 * math.atan2(math.sqrt(a), math.sqrt(1-a));\n",
        "\n",
        "  d = R * c #in metres\n",
        "\n",
        "  return d"
      ],
      "metadata": {
        "id": "j33_1pvp0Yyd"
      },
      "id": "j33_1pvp0Yyd",
      "execution_count": 63,
      "outputs": []
    },
    {
      "cell_type": "code",
      "source": [
        "# use of networkx, creation of graph\n",
        "\n",
        "import networkx as nx\n",
        "# use of networkx\n",
        "\n",
        "G = nx.Graph()\n",
        "\n",
        "G.add_nodes_from(range(len(nodes)))\n",
        "for road in roads :\n",
        "  n1 = int(road.get(\"p1\"))\n",
        "  n2 = int(road.get(\"p2\"))\n",
        "  x_coord_1 = float(nodes[n1].get('coordinates')[0])\n",
        "  y_coord_1 = float(nodes[n1].get('coordinates')[1])\n",
        "  x_coord_2 = float(nodes[n2].get('coordinates')[0])\n",
        "  y_coord_2 = float(nodes[n2].get('coordinates')[1])\n",
        "  dist = compute_distance(x_coord_1, y_coord_1, x_coord_2, y_coord_2)\n",
        "\n",
        "  G.add_edge(n1, n2, weight=dist)\n",
        "\n",
        "G.get_edge_data(0, 1)\n",
        "\n"
      ],
      "metadata": {
        "colab": {
          "base_uri": "https://localhost:8080/"
        },
        "id": "MqdpU6s99pZ9",
        "outputId": "f232e3f3-5e02-4280-fbbf-80847ebece19"
      },
      "id": "MqdpU6s99pZ9",
      "execution_count": 64,
      "outputs": [
        {
          "output_type": "execute_result",
          "data": {
            "text/plain": [
              "{'weight': 1553.904995103261}"
            ]
          },
          "metadata": {},
          "execution_count": 64
        }
      ]
    },
    {
      "cell_type": "code",
      "execution_count": 65,
      "id": "d587b013-ad1f-4648-8c47-e2b7f8e868ac",
      "metadata": {
        "id": "d587b013-ad1f-4648-8c47-e2b7f8e868ac"
      },
      "outputs": [],
      "source": [
        "def generate_ratings(n_driver):\n",
        "  mean, std = 3.5, 0.5\n",
        "  x = np.random.normal(mean, std, size=(n_driver, 1))\n",
        "  ratings = np.empty(shape = (n_driver, 1))\n",
        "  for i in range(n_driver):\n",
        "    y = math.ceil(x[i])\n",
        "    if (y - x[i] > 0.5) :\n",
        "      ratings[i] = y - 0.5\n",
        "    else :\n",
        "      ratings[i] = y\n",
        "      \n",
        "  return ratings\n"
      ]
    },
    {
      "cell_type": "code",
      "execution_count": 66,
      "id": "cOIS8p1_Eh0j",
      "metadata": {
        "colab": {
          "base_uri": "https://localhost:8080/"
        },
        "id": "cOIS8p1_Eh0j",
        "outputId": "39737291-b65e-4e2d-cbc7-4fddd56d9002"
      },
      "outputs": [
        {
          "output_type": "stream",
          "name": "stdout",
          "text": [
            "[{'id': 1307, 'coordinates': (11.85, 45.3)}, {'id': 715, 'coordinates': (11.92, 45.56)}, {'id': 2182, 'coordinates': (12.2, 45.2)}, {'id': 1260, 'coordinates': (12.71, 45.55)}, {'id': 2043, 'coordinates': (11.97, 45.24)}, {'id': 1694, 'coordinates': (12.06, 45.5)}, {'id': 1041, 'coordinates': (12.12, 45.39)}]\n"
          ]
        }
      ],
      "source": [
        "# pool of end points \n",
        "# define a random number of destinations (e.g. from 6 to 8)\n",
        "num_dest = random.randrange(6, 8, 1)\n",
        "pool_dest = []\n",
        "for i in range(num_dest):\n",
        "  rand = random.randrange(len(node_coords))\n",
        "  id_dest = list(node_coords.keys())[rand]\n",
        "  coord_dest = list(node_coords.values())[rand]\n",
        "  pool_dest.append({'id':id_dest, 'coordinates':coord_dest})\n",
        "\n",
        "print(pool_dest)"
      ]
    },
    {
      "cell_type": "markdown",
      "source": [
        "Minimum path lenght:\n",
        "- Drivers: 40 km\n",
        "- Riders: 10 km"
      ],
      "metadata": {
        "id": "aaswT2gyQUTD"
      },
      "id": "aaswT2gyQUTD"
    },
    {
      "cell_type": "code",
      "source": [
        "from datetime import datetime\n",
        "from datetime import timedelta"
      ],
      "metadata": {
        "id": "Aphye4iDHfIO"
      },
      "id": "Aphye4iDHfIO",
      "execution_count": 67,
      "outputs": []
    },
    {
      "cell_type": "code",
      "execution_count": 68,
      "id": "Y9GxoHPZb2dD",
      "metadata": {
        "id": "Y9GxoHPZb2dD"
      },
      "outputs": [],
      "source": [
        "def generate_trips(n, gen):\n",
        "  # needs to define, for each driver/rider, one random starting point, and peak from the pool of destinations a random end points\n",
        "  trips_start = []\n",
        "  trips_dest = []\n",
        "  for i in range(n):\n",
        "    # start point\n",
        "    if (gen == 'driver') :\n",
        "      while True:\n",
        "        # start point\n",
        "        rand_s = random.randrange((len(nodes)))\n",
        "        id_start = list(node_coords.keys())[rand_s]\n",
        "        # end point\n",
        "        rand_d = random.randrange(num_dest)\n",
        "        dest = pool_dest[rand_d]\n",
        "        dist = nx.shortest_path_length(G, id_start, dest.get('id'), weight='weight')\n",
        "        if (dist > 40e3) :\n",
        "          coord_start = list(node_coords.values())[rand_s]\n",
        "          break\n",
        "    else :\n",
        "        while True:\n",
        "          # start point\n",
        "          rand_s = random.randrange((len(nodes)))\n",
        "          id_start = list(node_coords.keys())[rand_s]\n",
        "          # end point\n",
        "          rand_d = random.randrange(num_dest)\n",
        "          dest = pool_dest[rand_d]\n",
        "          dist = nx.shortest_path_length(G, id_start, dest.get('id'), weight='weight')\n",
        "          if (dist > 10e3) :\n",
        "            coord_start = list(node_coords.values())[rand_s]\n",
        "            break\n",
        "     \n",
        "    \n",
        "    trips_start.append({'id':id_start, 'coordinates':coord_start})\n",
        "    trips_dest.append(dest)\n",
        "\n",
        "  return trips_start, trips_dest\n"
      ]
    },
    {
      "cell_type": "code",
      "execution_count": 69,
      "id": "359951c9-c520-4e13-8ac4-1c7ec48e1ab2",
      "metadata": {
        "id": "359951c9-c520-4e13-8ac4-1c7ec48e1ab2"
      },
      "outputs": [],
      "source": [
        "def generate_schedules(n):\n",
        "  \n",
        "  #time probability mass: how many requests per 2-hour slot in percentage\n",
        "  time_prob = {   \n",
        "                  '00:00': 1e-3,\n",
        "                  '2:00': 1e-3,\n",
        "                  '4:00': 1e-3,\n",
        "                  '6:00': 1e-3,\n",
        "                  '6:30': 5e-3,\n",
        "                  '7:00': 0.02,\n",
        "                  '7:30': 0.1,\n",
        "                  '8:00': 0.1,\n",
        "                  '8:30': 0.1,\n",
        "                  '10:00': 0.01,\n",
        "                  '10:30': 0.01,\n",
        "                  '12:00': 0.1,\n",
        "                  '12:30': 0.1,\n",
        "                  '13:00': 0.1,\n",
        "                  '14:00': 0.01,\n",
        "                  '16:00': 0.01,\n",
        "                  '18:00': 0.1,\n",
        "                  '18:30': 0.1,\n",
        "                  '19:00': 0.1,\n",
        "                  '19:30': 0.02,\n",
        "                  '20:00': 5e-3,\n",
        "                  '21:00': 5e-3,\n",
        "                  '22:00': 1e-3,\n",
        "  }\n",
        "\n",
        "  \n",
        "\n",
        "  times = []\n",
        "  hours = list(time_prob.keys())\n",
        "  prob = list(time_prob.values())\n",
        "  for i in range(n):\n",
        "    times.append((random.choices(hours, prob)[0]))\n",
        "\n",
        "  return times"
      ]
    },
    {
      "cell_type": "code",
      "execution_count": 70,
      "id": "CIOti8PLigxN",
      "metadata": {
        "id": "CIOti8PLigxN"
      },
      "outputs": [],
      "source": [
        "class Driver:\n",
        "  def __init__(self, id, rating, hour, start_point, end_point):\n",
        "    self.id = id\n",
        "    self.rating = rating\n",
        "    self.hour = hour\n",
        "    self.start_point = start_point\n",
        "    self.end_point = end_point\n",
        "\n",
        "  def __str__(self):\n",
        "    return \"Driver ( id = \" + str(self.id) + \", rating = \" + str(self.rating) + \", hour = \" + self.hour + \", start = \" + str(self.start_point) + \", dest = \" + str(self.end_point) + \")\"\n",
        "\n",
        "class Rider:\n",
        "  def __init__(self, id, rating, hour, start_point, end_point):\n",
        "    self.id = id\n",
        "    self.rating = rating\n",
        "    self.hour = hour\n",
        "    self.start_point = start_point\n",
        "    self.end_point = end_point\n",
        "\n",
        "  def __str__(self):\n",
        "    date_format_str = '%H:%M'\n",
        "    return \"Rider ( id = \" + str(self.id) + \", rating = \" + str(self.rating) + \", hour = \" + self.hour + \", start = \" + str(self.start_point) + \", dest = \" + str(self.end_point) + \")\""
      ]
    },
    {
      "cell_type": "code",
      "execution_count": 71,
      "id": "GVRlI8gLYWCO",
      "metadata": {
        "id": "GVRlI8gLYWCO"
      },
      "outputs": [],
      "source": [
        "def generate_data():\n",
        "  # 1- generate n_drivers and n_riders\n",
        "  # range: start, end, stepsize\n",
        "  n_drivers = random.randrange(40, 50, 1)\n",
        "  n_riders = random.randrange(150, 250, 15)\n",
        "  print(\"N_drivers: \", n_drivers)\n",
        "  print(\"N_riders: \", n_riders)\n",
        "  # 2 - generate start point and end point for drivers and riders\n",
        "  trips_start_drivers, trips_dest_drivers = generate_trips(n_drivers, gen='driver')\n",
        "  trips_start_riders, trips_dest_riders = generate_trips(n_riders, gen='rider')\n",
        "  # 3 - generate schedules\n",
        "  drivers_schedule = generate_schedules(n_drivers)\n",
        "  riders_schedule = generate_schedules(n_riders)\n",
        "  # 4- generate ratings for drivers and riders\n",
        "  ratings_d = generate_ratings(n_drivers)\n",
        "  ratings_r = generate_ratings(n_riders)\n",
        "  # 5 - parse in a list of objects\n",
        "  riders = []\n",
        "  drivers = []\n",
        "  for i in range(n_riders):\n",
        "    riders.append( Rider(i, ratings_r[i][0], riders_schedule[i], trips_start_riders[i], trips_dest_riders[i]))\n",
        "\n",
        "  for i in range(n_drivers):\n",
        "    drivers.append( Driver(i, ratings_d[i][0], drivers_schedule[i], trips_start_drivers[i], trips_dest_drivers[i]))\n",
        "\n",
        "  return drivers, riders\n",
        "\n"
      ]
    },
    {
      "cell_type": "code",
      "execution_count": 72,
      "id": "1be3f349-94ec-4ac4-8306-74f789381445",
      "metadata": {
        "colab": {
          "base_uri": "https://localhost:8080/"
        },
        "id": "1be3f349-94ec-4ac4-8306-74f789381445",
        "outputId": "29dd7e54-bf4a-4592-e7c6-e9487e2948fd"
      },
      "outputs": [
        {
          "output_type": "stream",
          "name": "stdout",
          "text": [
            "N_drivers:  41\n",
            "N_riders:  150\n",
            "Driver ( id = 0, rating = 3.5, hour = 13:00, start = {'id': 1353, 'coordinates': (11.84, 45.27)}, dest = {'id': 2182, 'coordinates': (12.2, 45.2)})\n",
            "Driver ( id = 1, rating = 3.5, hour = 18:00, start = {'id': 197, 'coordinates': (11.91, 45.42)}, dest = {'id': 2182, 'coordinates': (12.2, 45.2)})\n",
            "Driver ( id = 2, rating = 3.0, hour = 7:30, start = {'id': 1767, 'coordinates': (12.2, 45.53)}, dest = {'id': 1307, 'coordinates': (11.85, 45.3)})\n",
            "Driver ( id = 3, rating = 3.5, hour = 18:30, start = {'id': 311, 'coordinates': (12.27, 45.58)}, dest = {'id': 1307, 'coordinates': (11.85, 45.3)})\n",
            "Driver ( id = 4, rating = 3.0, hour = 18:00, start = {'id': 1429, 'coordinates': (11.81, 45.51)}, dest = {'id': 2182, 'coordinates': (12.2, 45.2)})\n",
            "Driver ( id = 5, rating = 3.5, hour = 13:00, start = {'id': 34, 'coordinates': (12.24, 45.49)}, dest = {'id': 1260, 'coordinates': (12.71, 45.55)})\n",
            "Driver ( id = 6, rating = 3.0, hour = 12:30, start = {'id': 1014, 'coordinates': (12.52, 45.59)}, dest = {'id': 715, 'coordinates': (11.92, 45.56)})\n",
            "Driver ( id = 7, rating = 4.0, hour = 18:00, start = {'id': 1624, 'coordinates': (12.51, 45.57)}, dest = {'id': 1041, 'coordinates': (12.12, 45.39)})\n",
            "Driver ( id = 8, rating = 3.5, hour = 7:30, start = {'id': 2113, 'coordinates': (12.68, 45.59)}, dest = {'id': 2182, 'coordinates': (12.2, 45.2)})\n",
            "Driver ( id = 9, rating = 4.0, hour = 8:30, start = {'id': 297, 'coordinates': (11.83, 45.39)}, dest = {'id': 1260, 'coordinates': (12.71, 45.55)})\n",
            "\n",
            "\n",
            "***********************************************************************\n",
            "\n",
            "\n",
            "Rider ( id = 0, rating = 3.5, hour = 7:30, start = {'id': 1835, 'coordinates': (12.02, 45.27)}, dest = {'id': 2182, 'coordinates': (12.2, 45.2)})\n",
            "Rider ( id = 1, rating = 4.5, hour = 12:30, start = {'id': 900, 'coordinates': (12.0, 45.34)}, dest = {'id': 2043, 'coordinates': (11.97, 45.24)})\n",
            "Rider ( id = 2, rating = 4.5, hour = 8:30, start = {'id': 1947, 'coordinates': (12.2, 45.22)}, dest = {'id': 715, 'coordinates': (11.92, 45.56)})\n",
            "Rider ( id = 3, rating = 3.5, hour = 19:00, start = {'id': 177, 'coordinates': (12.49, 45.45)}, dest = {'id': 2182, 'coordinates': (12.2, 45.2)})\n",
            "Rider ( id = 4, rating = 3.5, hour = 8:00, start = {'id': 908, 'coordinates': (11.8, 45.34)}, dest = {'id': 1694, 'coordinates': (12.06, 45.5)})\n",
            "Rider ( id = 5, rating = 4.0, hour = 12:00, start = {'id': 2130, 'coordinates': (12.59, 45.5)}, dest = {'id': 1260, 'coordinates': (12.71, 45.55)})\n",
            "Rider ( id = 6, rating = 4.0, hour = 7:30, start = {'id': 984, 'coordinates': (11.9, 45.31)}, dest = {'id': 715, 'coordinates': (11.92, 45.56)})\n",
            "Rider ( id = 7, rating = 3.5, hour = 12:00, start = {'id': 2085, 'coordinates': (11.98, 45.27)}, dest = {'id': 1041, 'coordinates': (12.12, 45.39)})\n",
            "Rider ( id = 8, rating = 4.5, hour = 7:30, start = {'id': 953, 'coordinates': (12.17, 45.53)}, dest = {'id': 1260, 'coordinates': (12.71, 45.55)})\n",
            "Rider ( id = 9, rating = 4.0, hour = 12:30, start = {'id': 1111, 'coordinates': (11.98, 45.48)}, dest = {'id': 1260, 'coordinates': (12.71, 45.55)})\n"
          ]
        }
      ],
      "source": [
        "drivers, riders = generate_data()\n",
        "\n",
        "for i in range(10) :\n",
        "  print(drivers[i])\n",
        "\n",
        "print(\"\\n\\n***********************************************************************\\n\\n\")\n",
        "\n",
        "for i in range(10) :\n",
        "  print(riders[i])\n"
      ]
    },
    {
      "cell_type": "code",
      "source": [
        "# use of Dijkstra for shortest path\n",
        "\n",
        "drivers_path = []\n",
        "riders_path = []\n",
        "\n",
        "# 50 km/h\n",
        "avg_vel = 50\n",
        "date_format_str = '%H:%M'\n",
        "\n",
        "for driver in drivers:\n",
        "  spath = nx.dijkstra_path(G, driver.start_point.get('id'), driver.end_point.get('id'))\n",
        "  dpath = [{'node' : spath[0], 'hour': driver.hour}]\n",
        "  dist = 0\n",
        "\n",
        "\n",
        "  for i in range(1, len(spath)):\n",
        "    # retrieve distance and convert into km\n",
        "    \n",
        "    # distance in km\n",
        "    dist += (G.get_edge_data(spath[i-1], spath[i]).get('weight')) / 1e3\n",
        "    time = dist / avg_vel\n",
        "    time_1 = datetime.strptime(driver.hour, date_format_str)\n",
        "    time_2 = time_1 + timedelta(hours=time)\n",
        "    str_time = time_2.strftime(date_format_str)\n",
        "\n",
        "    dpath.append({'node': spath[i], 'hour':str_time})\n",
        "\n",
        "\n",
        "  total_dist = nx.shortest_path_length(G, driver.start_point.get('id'), driver.end_point.get('id'), weight='weight')\n",
        "\n",
        "  drivers_path.append({'id_driver': driver.id, 'shortest_path' : dpath, 'arrival_time': str_time})\n",
        "  \n",
        "  #print(\"Driver #\" + str(driver.id) + \": start at \" + driver.hour + \" , end at \" + dpath[len(dpath)-1].get('hour'))\n",
        "  #print(\"    -> total dist km: \", total_dist/1e3)\n",
        "\n",
        "\n",
        "for rider in riders:\n",
        "  spath = nx.dijkstra_path(G, rider.start_point.get('id'), rider.end_point.get('id'))\n",
        "  riders_path.append({'id_rider': rider.id, 'shortest_path' : spath})\n",
        "\n",
        "print(drivers_path[0])\n",
        "#print(riders_path)"
      ],
      "metadata": {
        "colab": {
          "base_uri": "https://localhost:8080/"
        },
        "id": "rQk3RUI9_9pF",
        "outputId": "d5f4589e-d852-4f01-ac3b-3b487fc8c49d"
      },
      "id": "rQk3RUI9_9pF",
      "execution_count": 73,
      "outputs": [
        {
          "output_type": "stream",
          "name": "stdout",
          "text": [
            "{'id_driver': 0, 'shortest_path': [{'node': 1353, 'hour': '13:00'}, {'node': 1298, 'hour': '13:01'}, {'node': 1316, 'hour': '13:02'}, {'node': 1318, 'hour': '13:04'}, {'node': 1354, 'hour': '13:05'}, {'node': 1355, 'hour': '13:06'}, {'node': 1356, 'hour': '13:08'}, {'node': 879, 'hour': '13:10'}, {'node': 877, 'hour': '13:12'}, {'node': 1759, 'hour': '13:14'}, {'node': 1770, 'hour': '13:16'}, {'node': 159, 'hour': '13:17'}, {'node': 154, 'hour': '13:23'}, {'node': 152, 'hour': '13:25'}, {'node': 155, 'hour': '13:26'}, {'node': 157, 'hour': '13:31'}, {'node': 1687, 'hour': '13:33'}, {'node': 1979, 'hour': '13:34'}, {'node': 1824, 'hour': '13:35'}, {'node': 1823, 'hour': '13:37'}, {'node': 597, 'hour': '13:42'}, {'node': 598, 'hour': '13:44'}, {'node': 840, 'hour': '13:45'}, {'node': 842, 'hour': '13:46'}, {'node': 386, 'hour': '13:48'}, {'node': 1949, 'hour': '13:49'}, {'node': 2182, 'hour': '13:51'}], 'arrival_time': '13:51'}\n"
          ]
        }
      ]
    },
    {
      "cell_type": "code",
      "source": [
        "def min_distance (shortest_path_driver, rider) :\n",
        "  min_distance = float('inf')\n",
        "  xr = rider.start_point.get('coordinates')[0]\n",
        "  yr = rider.start_point.get('coordinates')[1]\n",
        "  for node in shortest_path_driver :\n",
        "    id = node.get('node')\n",
        "    x1 = nodes[id].get('coordinates')[0]\n",
        "    x2 = nodes[id].get('coordinates')[1]\n",
        "    dist = compute_distance(x1, x2, xr, yr)\n",
        "    if dist < min_distance :\n",
        "      min_distance = dist\n",
        "\n",
        "  return min_distance\n"
      ],
      "metadata": {
        "id": "VvTci_DIxG38"
      },
      "id": "VvTci_DIxG38",
      "execution_count": 76,
      "outputs": []
    },
    {
      "cell_type": "code",
      "source": [
        "# find matching: since we assumed drivers and riders having same dest\n",
        "# first: filter the total of drivers and riders\n",
        "\n",
        "drivers_match = [{} for _ in range(len(drivers))]\n",
        "\n",
        "# couple drivers and riders with same dest and similar hours\n",
        "\n",
        "for driver in drivers :\n",
        "  drivers_match[driver.id] = {'id_driver' : driver.id, 'list_of_riders' : []}\n",
        "  for rider in riders :\n",
        "    dhour_start = datetime.strptime(driver.hour, date_format_str)\n",
        "    dhour_end = datetime.strptime(drivers_path[driver.id].get('arrival_time'), date_format_str)\n",
        "    rhour = datetime.strptime(rider.hour, date_format_str)\n",
        "\n",
        "    #print(\"min distance: \" , min_distance(drivers_path[driver.id].get('shortest_path'), rider))\n",
        "\n",
        "    # filter per\n",
        "    # 1- same dest\n",
        "    # 2- simil hour\n",
        "    # 3- minimum distance from rider and shortest path <= 30 km\n",
        "    if driver.end_point.get('id') == rider.end_point.get('id') and ((dhour_start - timedelta(minutes=30)) <= rhour <= (dhour_end + timedelta(minutes=30)))  :\n",
        "      drivers_match[driver.id].get('list_of_riders').append(rider.id)\n",
        "  \n",
        "\n"
      ],
      "metadata": {
        "id": "ztU1h2qCsQ8a"
      },
      "id": "ztU1h2qCsQ8a",
      "execution_count": 80,
      "outputs": []
    },
    {
      "cell_type": "code",
      "source": [
        "def preference_list_drivers(shortest_paths_driver, list_of_riders) :\n",
        "\n",
        "  preferences = [{} for _ in range(len(drivers))]\n",
        "\n",
        "  for driver in drivers :\n",
        "    pref_dict = {}\n",
        "    for r in list_of_riders :\n",
        "      rider = riders[r]     \n",
        "      min_dist = min_distance(drivers_path[driver.id].get('shortest_path'), rider)\n",
        "      if min_dist <= 35e3 :\n",
        "        # 0.4 * rating + 0.6 * distance in kms\n",
        "        metric =  0.4*rider.rating + 0.6*(min_dist/1e3)\n",
        "        pref_dict[rider.id] = metric\n",
        "\n",
        "    # sort list\n",
        "    preferences[driver.id] = {'id_driver' : driver.id, 'list_of_riders' : dict(sorted(pref_dict.items(), key=lambda item: item[1]))}\n",
        "\n",
        "    \n",
        "    \n",
        "  return preferences\n",
        "\n"
      ],
      "metadata": {
        "id": "hpk10lYH2eH2"
      },
      "id": "hpk10lYH2eH2",
      "execution_count": 110,
      "outputs": []
    },
    {
      "cell_type": "markdown",
      "source": [
        "# Start of main algorithm"
      ],
      "metadata": {
        "id": "DRt2OiPl6k8n"
      },
      "id": "DRt2OiPl6k8n"
    },
    {
      "cell_type": "code",
      "source": [
        "# 1- get path from Steiner tree (first option: compute shortest path)\n",
        "\n",
        "print(preference_list_drivers(drivers_path[0], drivers_match[0].get('list_of_riders')))"
      ],
      "metadata": {
        "colab": {
          "base_uri": "https://localhost:8080/"
        },
        "id": "VHJJzPEQ6n7n",
        "outputId": "8cbc307b-20f2-4123-f15c-f02a8c8025f2"
      },
      "id": "VHJJzPEQ6n7n",
      "execution_count": 112,
      "outputs": [
        {
          "output_type": "stream",
          "name": "stdout",
          "text": [
            "[{'id_driver': 0, 'list_of_riders': {23: 3.6680873877344897, 65: 15.561233258824753, 89: 21.836282705674545}}, {'id_driver': 1, 'list_of_riders': {65: 5.769483417256016, 23: 6.763860436748965, 89: 12.044533408089004, 61: 14.011616574714289}}, {'id_driver': 2, 'list_of_riders': {65: 6.188377079846021, 113: 10.068553877688938, 89: 12.234013708476507, 61: 12.781758070028602, 23: 14.968839666535056}}, {'id_driver': 3, 'list_of_riders': {113: 4.398340306199196, 65: 6.188377079846021, 89: 12.234013708476507, 61: 12.781758070028602, 23: 14.968839666535056}}, {'id_driver': 4, 'list_of_riders': {65: 5.817848461289465, 23: 6.763860436748965, 89: 9.686987860000762, 61: 14.011616574714289}}, {'id_driver': 5, 'list_of_riders': {113: 8.643214528759346, 61: 19.757189195896313}}, {'id_driver': 6, 'list_of_riders': {89: 2.9055666938254863, 61: 4.863072516530172, 113: 5.1217222496778145, 65: 5.598281422388373}}, {'id_driver': 7, 'list_of_riders': {113: 5.424617487562117, 23: 14.499162546509272, 65: 14.909101865575085, 61: 16.19969797186754, 89: 18.444891614440234}}, {'id_driver': 8, 'list_of_riders': {23: 7.541153199573836, 113: 8.643214528759346, 65: 16.655589970139538, 61: 17.926186930557765, 89: 20.308490525256843}}, {'id_driver': 9, 'list_of_riders': {65: 6.188377079846021, 113: 7.466695565424713, 89: 12.234013708476507, 61: 12.781758070028602, 23: 15.451261553290164}}, {'id_driver': 10, 'list_of_riders': {23: 4.29394301049671, 113: 6.58289556999426, 65: 13.515988340847574, 61: 16.19969797186754, 89: 17.961232507925548}}, {'id_driver': 11, 'list_of_riders': {89: 2.9055666938254863, 61: 4.863072516530172, 113: 5.1217222496778145, 65: 5.598281422388373}}, {'id_driver': 12, 'list_of_riders': {89: 2.9055666938254863, 113: 3.6662758648346356, 61: 4.863072516530172, 65: 5.598281422388373}}, {'id_driver': 13, 'list_of_riders': {89: 2.9055666938254863, 113: 3.5555651965852575, 61: 4.863072516530172, 65: 5.598281422388373}}, {'id_driver': 14, 'list_of_riders': {89: 2.9055666938254863, 113: 3.6662758648346356, 61: 4.863072516530172, 65: 5.598281422388373}}, {'id_driver': 15, 'list_of_riders': {65: 8.653964743441142, 23: 12.692386020756437, 89: 14.80748323210392, 61: 15.957518711753629, 113: 20.308724935627588}}, {'id_driver': 16, 'list_of_riders': {23: 4.29394301049671, 113: 8.643214528759346, 65: 13.515988340847574, 61: 16.19969797186754, 89: 17.961232507925548}}, {'id_driver': 17, 'list_of_riders': {65: 6.464806723738284, 23: 6.763860436748965, 89: 12.717557725926934, 61: 15.072998173214689}}, {'id_driver': 18, 'list_of_riders': {23: 4.29394301049671, 113: 11.566266938356744, 65: 13.515988340847574, 61: 16.19969797186754, 89: 17.961232507925548}}, {'id_driver': 19, 'list_of_riders': {89: 2.9055666938254863, 61: 4.863072516530172, 113: 5.1217222496778145, 65: 5.598281422388373}}, {'id_driver': 20, 'list_of_riders': {65: 3.868678239469353, 89: 5.468296905042754, 23: 6.663928321062242, 61: 10.245045053675799}}, {'id_driver': 21, 'list_of_riders': {65: 6.491402617376378, 61: 9.62434686378227, 89: 12.300492141859502, 23: 14.214930906593636, 113: 19.145590379318826}}, {'id_driver': 22, 'list_of_riders': {65: 6.188377079846021, 113: 7.466695565424713, 89: 12.234013708476507, 61: 12.781758070028602, 23: 14.69516477659649}}, {'id_driver': 23, 'list_of_riders': {89: 2.9055666938254863, 113: 3.6662758648346356, 61: 4.863072516530172, 65: 5.598281422388373}}, {'id_driver': 24, 'list_of_riders': {113: 5.424617487562117, 23: 14.499162546509272, 65: 14.909101865575085, 61: 16.19969797186754, 89: 18.444891614440234}}, {'id_driver': 25, 'list_of_riders': {113: 6.814840507706268, 61: 6.890380393255482, 65: 8.989363761081023, 89: 9.63167253190559, 23: 22.47978460328747}}, {'id_driver': 26, 'list_of_riders': {23: 6.763860436748965, 65: 8.153074151022807, 61: 10.9527675273121, 89: 11.888391957412413, 113: 21.996067741822994}}, {'id_driver': 27, 'list_of_riders': {113: 9.53063620426766}}, {'id_driver': 28, 'list_of_riders': {65: 6.491402617376378, 61: 9.62434686378227, 89: 12.300492141859502, 23: 14.214930906593636, 113: 19.145590379318826}}, {'id_driver': 29, 'list_of_riders': {113: 8.643214528759346, 23: 14.499162546509272, 65: 14.909101865575085, 61: 16.19969797186754, 89: 18.444891614440234}}, {'id_driver': 30, 'list_of_riders': {113: 7.466695565424713, 61: 18.441019085223825, 65: 21.974658724880197}}, {'id_driver': 31, 'list_of_riders': {23: 4.29394301049671, 61: 11.29811964711967, 113: 12.76148792523098, 65: 12.838385893478957, 89: 15.671211415274511}}, {'id_driver': 32, 'list_of_riders': {113: 7.458373505730295, 23: 7.541153199573836, 65: 16.39091165683274, 61: 16.53038528137216, 89: 19.24188059473242}}, {'id_driver': 33, 'list_of_riders': {23: 7.541153199573836, 61: 12.886880497040135, 113: 13.781481037337377, 65: 15.892227396332178, 89: 16.79091165683262}}, {'id_driver': 34, 'list_of_riders': {65: 1.8671695598673383, 89: 2.9055666938254863, 61: 6.950411351389233, 23: 18.327438032413095}}, {'id_driver': 35, 'list_of_riders': {65: 6.491402617376378, 61: 9.62434686378227, 89: 12.300492141859502, 23: 12.76241444992775, 113: 19.145590379318826}}, {'id_driver': 36, 'list_of_riders': {65: 6.491402617376378, 113: 7.466695565424713, 89: 12.379333335336037, 61: 12.560816561047057, 23: 14.214930906593636}}, {'id_driver': 37, 'list_of_riders': {113: 8.643214528759346, 65: 9.764962319252284, 23: 11.076984386015843, 89: 15.464235751812407, 61: 15.957518711753629}}, {'id_driver': 38, 'list_of_riders': {113: 7.466695565424713, 61: 19.282284555226973}}, {'id_driver': 39, 'list_of_riders': {23: 4.29394301049671, 113: 8.801241259945161, 65: 13.515988340847574, 61: 16.19969797186754, 89: 17.961232507925548}}, {'id_driver': 40, 'list_of_riders': {113: 3.6662758648346356, 65: 6.188377079846021, 89: 12.234013708476507, 61: 12.781758070028602, 23: 14.968839666535056}}]\n"
          ]
        }
      ]
    },
    {
      "cell_type": "code",
      "execution_count": null,
      "id": "mrmM8dlr9jTE",
      "metadata": {
        "id": "mrmM8dlr9jTE"
      },
      "outputs": [],
      "source": [
        "# create file input.dat (obsolete (?))\n",
        "f = open(\"input.dat\", \"w\")\n",
        "content = \"DIMENSION : \" + str(len(nodes)) + \"\\n\"\n",
        "content += \"DRIVERS : \" + str(len(drivers)) + \"\\n\"\n",
        "content += \"RIDERS : \" + str(len(riders)) + \"\\n\"\n",
        "content += \"NODE_COORD_SECTION\\n\"\n",
        "for node in nodes :\n",
        "  content += str(node.get(\"id\")) + \" \" + str(node.get(\"coordinates\")[0]) + \" \" + str(node.get(\"coordinates\")[1]) + \"\\n\"\n",
        "content += \"ROADS_SECTION\\n\"\n",
        "for road in roads :\n",
        "  content += str(road.get(\"p1\")) + \" \" + str(road.get(\"p2\")) + \"\\n\"\n",
        "content += \"DRIVERS_STARTING_COORD\\n\"\n",
        "for driver in drivers:\n",
        "  content += str(driver.start_point.get(\"id\")) + \" \" + str(driver.start_point.get(\"coordinates\")[0]) + \" \" + str(driver.start_point.get(\"coordinates\")[1]) + \"\\n\"\n",
        "content += \"DRIVERS_DESTINATION_COORD\\n\"\n",
        "for driver in drivers:\n",
        "  content += str(driver.end_point.get(\"id\")) + \" \" + str(driver.end_point.get(\"coordinates\")[0]) + \" \" + str(driver.end_point.get(\"coordinates\")[1]) + \"\\n\"\n",
        "content += \"RIDERS_STARTING_COORD\\n\"\n",
        "for rider in riders:\n",
        "  content += str(rider.start_point.get(\"id\")) + \" \" + str(rider.start_point.get(\"coordinates\")[0]) + \" \" + str(rider.start_point.get(\"coordinates\")[1]) + \"\\n\"\n",
        "content += \"RIDERS_DESTINATION_COORD\\n\"\n",
        "for rider in riders:\n",
        "  content += str(rider.end_point.get(\"id\")) + \" \" + str(rider.end_point.get(\"coordinates\")[0]) + \" \" + str(rider.end_point.get(\"coordinates\")[1]) + \"\\n\"\n",
        "content += \"EOF\"\n",
        "f.write(content)\n",
        "f.close()"
      ]
    }
  ],
  "metadata": {
    "colab": {
      "collapsed_sections": [],
      "name": "AlgoCarSharing.ipynb",
      "provenance": []
    },
    "kernelspec": {
      "display_name": "Python 3 (ipykernel)",
      "language": "python",
      "name": "python3"
    },
    "language_info": {
      "codemirror_mode": {
        "name": "ipython",
        "version": 3
      },
      "file_extension": ".py",
      "mimetype": "text/x-python",
      "name": "python",
      "nbconvert_exporter": "python",
      "pygments_lexer": "ipython3",
      "version": "3.8.13"
    }
  },
  "nbformat": 4,
  "nbformat_minor": 5
}