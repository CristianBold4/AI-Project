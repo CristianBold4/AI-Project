{
 "cells": [
  {
   "cell_type": "code",
   "execution_count": 1,
   "id": "aefad666-75a4-4981-ad6c-24365c6e4f8f",
   "metadata": {},
   "outputs": [],
   "source": [
    "import networkx as nx\n",
    "import json\n",
    "G = nx.Graph()"
   ]
  },
  {
   "cell_type": "code",
   "execution_count": 2,
   "id": "25bfa127-497f-4c14-98d2-f0da363e7eda",
   "metadata": {},
   "outputs": [
    {
     "name": "stdout",
     "output_type": "stream",
     "text": [
      "Graph with 52637 nodes and 67098 edges\n"
     ]
    }
   ],
   "source": [
    "roads = json.load(open(\"roads.json\"))\n",
    "nodes = json.load(open(\"nodes.json\"))\n",
    "\n",
    "#print(roads_small)\n",
    "road_graph_list = [(road['p1'], road['p2'], road) for road in roads] #p1-p2 are the nodes; all the rest of information is kept as edge data\n",
    "#print(road_graph_list)\n",
    "G.add_edges_from(road_graph_list)\n",
    "print(G)"
   ]
  },
  {
   "cell_type": "code",
   "execution_count": 10,
   "id": "e5217415-fa1e-495f-b052-e2c10cf847e2",
   "metadata": {},
   "outputs": [
    {
     "name": "stdout",
     "output_type": "stream",
     "text": [
      "{'id': '1376589543', 'coordinates': [12.5308204, 45.4681674]}\n",
      "99845\n",
      "67833\n"
     ]
    }
   ],
   "source": [
    "print(nodes[0])\n",
    "\n",
    "print(len(nodes))\n",
    "print(len(roads))"
   ]
  },
  {
   "cell_type": "code",
   "execution_count": 4,
   "id": "57cf8e62-76dd-44e2-982b-9e1f975e2a7a",
   "metadata": {},
   "outputs": [
    {
     "name": "stdout",
     "output_type": "stream",
     "text": [
      "Graph with 51917 nodes and 66268 edges\n"
     ]
    }
   ],
   "source": [
    "largest_cc = max(nx.connected_components(G), key=len)\n",
    "CC = G.subgraph(largest_cc).copy()\n",
    "print(CC)"
   ]
  },
  {
   "cell_type": "code",
   "execution_count": 5,
   "id": "34545839-76b6-4af6-a93a-bc675f83f2ec",
   "metadata": {},
   "outputs": [],
   "source": [
    "#print(CC.get_edge_data('1376589543', '1376589486'))\n",
    "connected_roads = [CC.get_edge_data(i,j) for (i,j) in CC.edges]\n",
    "\n",
    "nodes2 = nodes.copy()\n",
    "\n",
    "for node in nodes: #inefficiente come la merda ma vabbè\n",
    "    if node['id'] not in list(CC.nodes):\n",
    "        nodes2.remove(node)"
   ]
  },
  {
   "cell_type": "code",
   "execution_count": 8,
   "id": "296ffbe0-7c11-463c-a1c4-1350c193b14c",
   "metadata": {},
   "outputs": [
    {
     "name": "stdout",
     "output_type": "stream",
     "text": [
      "{'p1': '1376589543', 'p2': '1376589486', 'discriminator': '1376589476', 'directed': False, 'sidewalks': [False, False], 'distance': 93.09510897707752}\n",
      "{'id': '1376589543', 'coordinates': [12.5308204, 45.4681674]}\n",
      "51917\n",
      "66268\n"
     ]
    }
   ],
   "source": [
    "print(connected_roads[0])\n",
    "print(nodes[0])\n",
    "print(len(nodes2))\n",
    "print(len(connected_roads))"
   ]
  },
  {
   "cell_type": "code",
   "execution_count": 7,
   "id": "1fbb1bd4-a23d-432f-8bf2-a048a9d1275f",
   "metadata": {},
   "outputs": [],
   "source": [
    "with open(\"connected_roads.json\", \"w\") as f:\n",
    "    json.dump(connected_roads, f)\n",
    "\n",
    "with open(\"connected_nodes.json\", \"w\") as f:\n",
    "    json.dump(nodes2, f)"
   ]
  },
  {
   "cell_type": "code",
   "execution_count": null,
   "id": "edafdd19-e4ff-4f9b-9fca-7e80442074b4",
   "metadata": {},
   "outputs": [],
   "source": []
  }
 ],
 "metadata": {
  "kernelspec": {
   "display_name": "Python 3 (ipykernel)",
   "language": "python",
   "name": "python3"
  },
  "language_info": {
   "codemirror_mode": {
    "name": "ipython",
    "version": 3
   },
   "file_extension": ".py",
   "mimetype": "text/x-python",
   "name": "python",
   "nbconvert_exporter": "python",
   "pygments_lexer": "ipython3",
   "version": "3.8.13"
  }
 },
 "nbformat": 4,
 "nbformat_minor": 5
}
