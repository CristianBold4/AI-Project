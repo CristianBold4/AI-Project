{
  "cells": [
    {
      "cell_type": "markdown",
      "id": "9a84ad5b-ba78-4156-9683-a3cd1eb92438",
      "metadata": {
        "id": "9a84ad5b-ba78-4156-9683-a3cd1eb92438"
      },
      "source": [
        "## Test per progetto AI"
      ]
    },
    {
      "cell_type": "markdown",
      "id": "f78b133c-c586-4acb-927f-9c6ed2425b37",
      "metadata": {
        "id": "f78b133c-c586-4acb-927f-9c6ed2425b37"
      },
      "source": [
        "E' necessario caricare i file roads_small.json e nodes_small.json"
      ]
    },
    {
      "cell_type": "code",
      "execution_count": 3,
      "id": "4bd11cac-00d0-4554-add1-786f80976988",
      "metadata": {
        "id": "4bd11cac-00d0-4554-add1-786f80976988"
      },
      "outputs": [],
      "source": [
        "import json\n",
        "import numpy as np\n",
        "import matplotlib.pyplot as plt\n",
        "import math\n",
        "import random"
      ]
    },
    {
      "cell_type": "code",
      "execution_count": 4,
      "id": "ee530b18-25c2-4d55-8e0b-c6ed8e979380",
      "metadata": {
        "id": "ee530b18-25c2-4d55-8e0b-c6ed8e979380",
        "colab": {
          "base_uri": "https://localhost:8080/"
        },
        "outputId": "b2aace6f-b198-49b8-a68c-4a8a60a959f9"
      },
      "outputs": [
        {
          "output_type": "stream",
          "name": "stdout",
          "text": [
            "Num nodes 2341\n",
            "Num roads 10325\n"
          ]
        }
      ],
      "source": [
        "nodes = json.load(open('nodes_small.json', 'r'))\n",
        "roads = json.load(open('roads_small.json', 'r'))\n",
        "print(\"Num nodes\", len(nodes))\n",
        "print(\"Num roads\", len(roads))"
      ]
    },
    {
      "cell_type": "markdown",
      "id": "0c9bd191-fbf2-4926-9fe3-5315f2b63def",
      "metadata": {
        "id": "0c9bd191-fbf2-4926-9fe3-5315f2b63def"
      },
      "source": [
        "Create two maps as lookup tables for the nodes"
      ]
    },
    {
      "cell_type": "code",
      "execution_count": 8,
      "id": "d9ddb0c8-29d5-4fe1-9302-ac1481b290ef",
      "metadata": {
        "id": "d9ddb0c8-29d5-4fe1-9302-ac1481b290ef"
      },
      "outputs": [],
      "source": [
        "#create a lookup table for point coordinates\n",
        "node_coords = {point['id']:tuple(point['coordinates']) for point in nodes} #dictonary initialization with comprehension\n",
        "coords_node = {tuple(point['coordinates']):point['id'] for point in nodes} #tuples are hashable-> can be key to a dictionary"
      ]
    },
    {
      "cell_type": "code",
      "execution_count": 9,
      "id": "8bad6089-b3c1-499e-be26-0c53d98e7120",
      "metadata": {
        "id": "8bad6089-b3c1-499e-be26-0c53d98e7120",
        "colab": {
          "base_uri": "https://localhost:8080/"
        },
        "outputId": "81bc4bd0-55bd-4004-d4c6-fd051122b04a"
      },
      "outputs": [
        {
          "output_type": "stream",
          "name": "stdout",
          "text": [
            "(12.27, 45.46)\n"
          ]
        }
      ],
      "source": [
        "print(node_coords[roads[11]['p1']]) #retrieve coordinates from node ID"
      ]
    },
    {
      "cell_type": "markdown",
      "id": "79e8398c-a30b-4bca-a4c5-28c647a5dc03",
      "metadata": {
        "id": "79e8398c-a30b-4bca-a4c5-28c647a5dc03"
      },
      "source": [
        "A questo punto bisogna generare le query degli utenti:\n",
        "\n",
        "semplificazione: l'orario non influisce sui tempi di percorrenza -> dipendono solo dalla distanza"
      ]
    },
    {
      "cell_type": "markdown",
      "id": "a81a0a84-db99-4b8b-8d81-cad548c57c5c",
      "metadata": {
        "id": "a81a0a84-db99-4b8b-8d81-cad548c57c5c"
      },
      "source": [
        "Consider each trip as starting or ending in one of the nodes: the function below serves to approximate the closest node on the map"
      ]
    },
    {
      "cell_type": "markdown",
      "id": "bab3d7ee-4cd8-4423-a556-bb23484829b8",
      "metadata": {
        "id": "bab3d7ee-4cd8-4423-a556-bb23484829b8"
      },
      "source": [
        "Regular transfer (not related to pendolarism) is modeled as a gaussian random variable with respect to location ($\\mu = 15km, \\sigma = 10km$)  "
      ]
    },
    {
      "cell_type": "code",
      "execution_count": 10,
      "id": "d587b013-ad1f-4648-8c47-e2b7f8e868ac",
      "metadata": {
        "id": "d587b013-ad1f-4648-8c47-e2b7f8e868ac"
      },
      "outputs": [],
      "source": [
        "def generate_ratings(n_driver):\n",
        "  mean, std = 3.5, 0.5\n",
        "  x = np.random.normal(mean, std, size=(n_driver, 1))\n",
        "  ratings = np.empty(shape = (n_driver, 1))\n",
        "  for i in range(n_driver):\n",
        "    y = math.ceil(x[i])\n",
        "    if (y - x[i] > 0.5) :\n",
        "      ratings[i] = y - 0.5\n",
        "    else :\n",
        "      ratings[i] = y\n",
        "      \n",
        "  return ratings\n"
      ]
    },
    {
      "cell_type": "code",
      "source": [
        "# pool of end points \n",
        "# define a random number of destinations (e.g. from 8 to 12)\n",
        "num_dest = random.randrange(8, 12, 1)\n",
        "pool_dest = []\n",
        "for i in range(num_dest):\n",
        "  rand = random.randrange(len(node_coords))\n",
        "  id_dest = list(node_coords.keys())[rand]\n",
        "  coord_dest = list(node_coords.values())[rand]\n",
        "  pool_dest.append({'id':id_dest, 'coordinates':coord_dest})\n",
        "\n",
        "print(pool_dest)"
      ],
      "metadata": {
        "colab": {
          "base_uri": "https://localhost:8080/"
        },
        "id": "cOIS8p1_Eh0j",
        "outputId": "c22f91b5-7520-4ff5-b58e-7902ec334d5a"
      },
      "id": "cOIS8p1_Eh0j",
      "execution_count": 11,
      "outputs": [
        {
          "output_type": "stream",
          "name": "stdout",
          "text": [
            "[{'id': '2036165459', 'coordinates': (12.12, 45.28)}, {'id': '7320543361', 'coordinates': (12.65, 45.5)}, {'id': '1549025405', 'coordinates': (12.03, 45.27)}, {'id': '3111510354', 'coordinates': (12.0, 45.57)}, {'id': '1447888556', 'coordinates': (12.34, 45.56)}, {'id': '1550968929', 'coordinates': (12.19, 45.45)}, {'id': '1121656130', 'coordinates': (11.81, 45.51)}, {'id': '6469211860', 'coordinates': (12.08, 45.4)}, {'id': '6456811708', 'coordinates': (12.12, 45.56)}, {'id': '2208382403', 'coordinates': (11.95, 45.27)}, {'id': '1499849413', 'coordinates': (12.08, 45.21)}]\n"
          ]
        }
      ]
    },
    {
      "cell_type": "code",
      "source": [
        "def generate_trips(n):\n",
        "  # needs to define, for each driver/rider, one random starting point, and peak from the pool of destinations a random end points\n",
        "  trips_start = []\n",
        "  trips_dest = []\n",
        "  for i in range(n):\n",
        "    # start point\n",
        "    rand_s = random.randrange((len(node_coords)))\n",
        "    id_start = list(node_coords.keys())[rand_s]\n",
        "    coord_start = list(node_coords.values())[rand_s]\n",
        "    trips_start.append({'id':id_start, 'coordinates':coord_start})\n",
        "    # end point\n",
        "    rand_d = random.randrange(num_dest)\n",
        "    dest = pool_dest[rand_d]\n",
        "    trips_dest.append(dest)\n",
        "\n",
        "  return trips_start, trips_dest\n"
      ],
      "metadata": {
        "id": "Y9GxoHPZb2dD"
      },
      "id": "Y9GxoHPZb2dD",
      "execution_count": 12,
      "outputs": []
    },
    {
      "cell_type": "code",
      "execution_count": 13,
      "id": "359951c9-c520-4e13-8ac4-1c7ec48e1ab2",
      "metadata": {
        "id": "359951c9-c520-4e13-8ac4-1c7ec48e1ab2"
      },
      "outputs": [],
      "source": [
        "def generate_schedules(n):\n",
        "  #time probability mass: how many requests per 2-hour slot in percentage\n",
        "  time_prob = {   6 : 0.2,\n",
        "                  8 : 0.1,\n",
        "                  10 : 0.07,\n",
        "                  12 : 0.1,\n",
        "                  14 : 0.07,\n",
        "                  16 : 0.15,\n",
        "                  18 : 0.15,\n",
        "                  20 : 0.05,\n",
        "                  22 : 0.05,\n",
        "                  0 : 0.01,\n",
        "                  2 : 0.01,\n",
        "                  4 : 0.04 }\n",
        "\n",
        "  times = []\n",
        "  hours = list(time_prob.keys())\n",
        "  prob = list(time_prob.values())\n",
        "  for i in range(n):\n",
        "    times.append(str(random.choices(hours, prob)[0]) + \":00\")\n",
        "\n",
        "  return times"
      ]
    },
    {
      "cell_type": "code",
      "source": [
        "class Driver:\n",
        "  def __init__(self, id, rating, hour, start_point, end_point):\n",
        "    self.id = id\n",
        "    self.rating = rating\n",
        "    self.hour = hour\n",
        "    self.start_point = start_point\n",
        "    self.end_point = end_point\n",
        "\n",
        "  def __str__(self):\n",
        "    return \"Driver ( id = \" + str(self.id) + \", rating = \" + str(self.rating) + \", hour = \" + self.hour + \", start = \" + str(self.start_point) + \", dest = \" + str(self.end_point) + \")\"\n",
        "\n",
        "class Rider:\n",
        "  def __init__(self, id, hour, start_point, end_point):\n",
        "    self.id = id\n",
        "    self.hour = hour\n",
        "    self.start_point = start_point\n",
        "    self.end_point = end_point\n",
        "\n",
        "  def __str__(self):\n",
        "    return \"Rider ( id = \" + str(self.id) + \", hour = \" + self.hour + \", start = \" + str(self.start_point) + \", dest = \" + str(self.end_point) + \")\""
      ],
      "metadata": {
        "id": "CIOti8PLigxN"
      },
      "id": "CIOti8PLigxN",
      "execution_count": 14,
      "outputs": []
    },
    {
      "cell_type": "code",
      "source": [
        "def generate_data():\n",
        "  # 1- generate n_drivers and n_riders\n",
        "  # range: start, end, stepsize\n",
        "  n_drivers = random.randrange(40, 50, 1)\n",
        "  n_riders = random.randrange(90, 150, 15)\n",
        "  print(\"N_drivers: \", n_drivers)\n",
        "  print(\"N_riders: \", n_riders)\n",
        "  # 2 - generate start point and end point for drivers and riders\n",
        "  trips_start_drivers, trips_dest_drivers = generate_trips(n_drivers)\n",
        "  trips_start_riders, trips_dest_riders = generate_trips(n_riders)\n",
        "  # 3 - generate schedules\n",
        "  drivers_schedule = generate_schedules(n_drivers)\n",
        "  riders_schedule = generate_schedules(n_riders)\n",
        "  # 4- generate ratings for drivers\n",
        "  ratings = generate_ratings(n_drivers)\n",
        "  # 5 - parse in a list of objects\n",
        "  riders = []\n",
        "  drivers = []\n",
        "  for i in range(n_riders):\n",
        "    riders.append( Rider(i, riders_schedule[i], trips_start_riders[i], trips_dest_riders[i]))\n",
        "\n",
        "  for i in range(n_drivers):\n",
        "    drivers.append( Driver(i, ratings[i][0], drivers_schedule[i], trips_start_drivers[i], trips_dest_drivers[i]))\n",
        "\n",
        "  return drivers, riders\n",
        "\n"
      ],
      "metadata": {
        "id": "GVRlI8gLYWCO"
      },
      "id": "GVRlI8gLYWCO",
      "execution_count": 15,
      "outputs": []
    },
    {
      "cell_type": "code",
      "execution_count": 16,
      "id": "1be3f349-94ec-4ac4-8306-74f789381445",
      "metadata": {
        "colab": {
          "base_uri": "https://localhost:8080/"
        },
        "id": "1be3f349-94ec-4ac4-8306-74f789381445",
        "outputId": "92864251-aa00-473e-e19b-2a34dfeb21d7"
      },
      "outputs": [
        {
          "output_type": "stream",
          "name": "stdout",
          "text": [
            "N_drivers:  41\n",
            "N_riders:  120\n",
            "Driver ( id = 0, rating = 4.0, hour = 16:00, start = {'id': '2706030436', 'coordinates': (12.09, 45.43)}, dest = {'id': '1121656130', 'coordinates': (11.81, 45.51)})\n",
            "Driver ( id = 1, rating = 3.5, hour = 18:00, start = {'id': '456025609', 'coordinates': (12.32, 45.56)}, dest = {'id': '1550968929', 'coordinates': (12.19, 45.45)})\n",
            "Driver ( id = 2, rating = 3.0, hour = 10:00, start = {'id': '1883809706', 'coordinates': (11.85, 45.48)}, dest = {'id': '1550968929', 'coordinates': (12.19, 45.45)})\n",
            "Driver ( id = 3, rating = 4.0, hour = 16:00, start = {'id': '8504047886', 'coordinates': (12.05, 45.53)}, dest = {'id': '1447888556', 'coordinates': (12.34, 45.56)})\n",
            "Driver ( id = 4, rating = 3.5, hour = 16:00, start = {'id': '7333329645', 'coordinates': (12.65, 45.52)}, dest = {'id': '2208382403', 'coordinates': (11.95, 45.27)})\n",
            "\n",
            "\n",
            "***********************************************************************\n",
            "\n",
            "\n",
            "Rider ( id = 0, hour = 6:00, start = {'id': '4964577313', 'coordinates': (12.1, 45.52)}, dest = {'id': '6456811708', 'coordinates': (12.12, 45.56)})\n",
            "Rider ( id = 1, hour = 20:00, start = {'id': '2623355810', 'coordinates': (12.05, 45.47)}, dest = {'id': '7320543361', 'coordinates': (12.65, 45.5)})\n",
            "Rider ( id = 2, hour = 12:00, start = {'id': '1614024425', 'coordinates': (11.84, 45.21)}, dest = {'id': '6469211860', 'coordinates': (12.08, 45.4)})\n",
            "Rider ( id = 3, hour = 6:00, start = {'id': '4929605815', 'coordinates': (11.83, 45.47)}, dest = {'id': '2036165459', 'coordinates': (12.12, 45.28)})\n",
            "Rider ( id = 4, hour = 18:00, start = {'id': '1969743636', 'coordinates': (12.15, 45.19)}, dest = {'id': '1499849413', 'coordinates': (12.08, 45.21)})\n"
          ]
        }
      ],
      "source": [
        "drivers, riders = generate_data()\n",
        "\n",
        "for i in range(5) :\n",
        "  print(drivers[i])\n",
        "\n",
        "print(\"\\n\\n***********************************************************************\\n\\n\")\n",
        "\n",
        "for i in range(5) :\n",
        "  print(riders[i])\n"
      ]
    },
    {
      "cell_type": "code",
      "source": [
        "# create file input.dat\n",
        "f = open(\"input.dat\", \"w\")\n",
        "content = \"DIMENSION : \" + str(len(nodes)) + \"\\n\"\n",
        "content += \"DRIVERS : \" + str(len(drivers)) + \"\\n\"\n",
        "content += \"RIDERS : \" + str(len(riders)) + \"\\n\"\n",
        "content += \"NODE_COORD_SECTION\\n\"\n",
        "for node in nodes :\n",
        "  content += str(node.get(\"id\")) + \" \" + str(node.get(\"coordinates\")[0]) + \" \" + str(node.get(\"coordinates\")[1]) + \"\\n\"\n",
        "content += \"DRIVERS_STARTING_COORD\\n\"\n",
        "for driver in drivers:\n",
        "  content += str(driver.start_point.get(\"id\")) + \" \" + str(driver.start_point.get(\"coordinates\")[0]) + \" \" + str(driver.start_point.get(\"coordinates\")[1]) + \"\\n\"\n",
        "content += \"DRIVERS_DESTINATION_COORD\\n\"\n",
        "for driver in drivers:\n",
        "  content += str(driver.end_point.get(\"id\")) + \" \" + str(driver.end_point.get(\"coordinates\")[0]) + \" \" + str(driver.end_point.get(\"coordinates\")[1]) + \"\\n\"\n",
        "content += \"RIDERS_STARTING_COORD\\n\"\n",
        "for rider in riders:\n",
        "  content += str(rider.start_point.get(\"id\")) + \" \" + str(rider.start_point.get(\"coordinates\")[0]) + \" \" + str(rider.start_point.get(\"coordinates\")[1]) + \"\\n\"\n",
        "content += \"RIDERS_DESTINATION_COORD\\n\"\n",
        "for rider in riders:\n",
        "  content += str(rider.end_point.get(\"id\")) + \" \" + str(rider.end_point.get(\"coordinates\")[0]) + \" \" + str(rider.end_point.get(\"coordinates\")[1]) + \"\\n\"\n",
        "content += \"EOF\"\n",
        "f.write(content)\n",
        "f.close()"
      ],
      "metadata": {
        "id": "mrmM8dlr9jTE"
      },
      "id": "mrmM8dlr9jTE",
      "execution_count": 28,
      "outputs": []
    }
  ],
  "metadata": {
    "kernelspec": {
      "display_name": "Python 3 (ipykernel)",
      "language": "python",
      "name": "python3"
    },
    "language_info": {
      "codemirror_mode": {
        "name": "ipython",
        "version": 3
      },
      "file_extension": ".py",
      "mimetype": "text/x-python",
      "name": "python",
      "nbconvert_exporter": "python",
      "pygments_lexer": "ipython3",
      "version": "3.9.11"
    },
    "colab": {
      "name": "AlgoCarSharing.ipynb",
      "provenance": [],
      "collapsed_sections": []
    }
  },
  "nbformat": 4,
  "nbformat_minor": 5
}