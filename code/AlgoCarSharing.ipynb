{
  "cells": [
    {
      "cell_type": "markdown",
      "id": "9a84ad5b-ba78-4156-9683-a3cd1eb92438",
      "metadata": {
        "id": "9a84ad5b-ba78-4156-9683-a3cd1eb92438"
      },
      "source": [
        "## Test per progetto AI"
      ]
    },
    {
      "cell_type": "markdown",
      "id": "f78b133c-c586-4acb-927f-9c6ed2425b37",
      "metadata": {
        "id": "f78b133c-c586-4acb-927f-9c6ed2425b37"
      },
      "source": [
        "E' necessario caricare i file roads_small.json e nodes_small.json"
      ]
    },
    {
      "cell_type": "code",
      "execution_count": 1,
      "id": "4bd11cac-00d0-4554-add1-786f80976988",
      "metadata": {
        "id": "4bd11cac-00d0-4554-add1-786f80976988"
      },
      "outputs": [],
      "source": [
        "import json\n",
        "import numpy as np\n",
        "import matplotlib.pyplot as plt\n",
        "import math\n",
        "import random"
      ]
    },
    {
      "cell_type": "code",
      "execution_count": 2,
      "id": "99bbfe0b-3fb2-4e02-b5d1-1943ff020e62",
      "metadata": {
        "id": "99bbfe0b-3fb2-4e02-b5d1-1943ff020e62"
      },
      "outputs": [],
      "source": [
        "#%matplotlib inline"
      ]
    },
    {
      "cell_type": "code",
      "execution_count": 3,
      "id": "ee530b18-25c2-4d55-8e0b-c6ed8e979380",
      "metadata": {
        "id": "ee530b18-25c2-4d55-8e0b-c6ed8e979380",
        "colab": {
          "base_uri": "https://localhost:8080/"
        },
        "outputId": "8adf64e0-f70f-41ee-c0e0-6f7379f82e0f"
      },
      "outputs": [
        {
          "output_type": "stream",
          "name": "stdout",
          "text": [
            "Num nodes 2341\n",
            "Num roads 10325\n"
          ]
        }
      ],
      "source": [
        "nodes = json.load(open('nodes_small.json', 'r'))\n",
        "roads = json.load(open('roads_small.json', 'r'))\n",
        "print(\"Num nodes\", len(nodes))\n",
        "print(\"Num roads\", len(roads))"
      ]
    },
    {
      "cell_type": "code",
      "execution_count": 4,
      "id": "4f1642a6-f6a6-4087-804c-25a5513fb954",
      "metadata": {
        "colab": {
          "base_uri": "https://localhost:8080/"
        },
        "id": "4f1642a6-f6a6-4087-804c-25a5513fb954",
        "outputId": "52a2d41a-2e4c-430d-dec9-292f927afa59"
      },
      "outputs": [
        {
          "output_type": "execute_result",
          "data": {
            "text/plain": [
              "{'directed': False,\n",
              " 'discriminator': '957918184',\n",
              " 'distance': 461.10051922849374,\n",
              " 'p1': '3006329516',\n",
              " 'p2': '427043064',\n",
              " 'sidewalks': [False, False]}"
            ]
          },
          "metadata": {},
          "execution_count": 4
        }
      ],
      "source": [
        "roads[1] #roads are indicized as 0,1,2..."
      ]
    },
    {
      "cell_type": "code",
      "execution_count": 5,
      "id": "a8a99acf-8496-4944-916d-3561d5209089",
      "metadata": {
        "colab": {
          "base_uri": "https://localhost:8080/",
          "height": 35
        },
        "id": "a8a99acf-8496-4944-916d-3561d5209089",
        "outputId": "2f7e5569-ed9c-4120-82ac-58d40a64c676"
      },
      "outputs": [
        {
          "output_type": "execute_result",
          "data": {
            "text/plain": [
              "'3006329516'"
            ],
            "application/vnd.google.colaboratory.intrinsic+json": {
              "type": "string"
            }
          },
          "metadata": {},
          "execution_count": 5
        }
      ],
      "source": [
        "roads[1]['p1']"
      ]
    },
    {
      "cell_type": "code",
      "execution_count": 6,
      "id": "6ccf90be-470c-4f76-b4da-1b58866f6908",
      "metadata": {
        "colab": {
          "base_uri": "https://localhost:8080/"
        },
        "id": "6ccf90be-470c-4f76-b4da-1b58866f6908",
        "outputId": "08893059-edb4-4b4b-838c-97756363b0a1"
      },
      "outputs": [
        {
          "output_type": "execute_result",
          "data": {
            "text/plain": [
              "{'coordinates': [12.53, 45.46], 'id': '3006329516'}"
            ]
          },
          "metadata": {},
          "execution_count": 6
        }
      ],
      "source": [
        "nodes[0]"
      ]
    },
    {
      "cell_type": "markdown",
      "id": "0c9bd191-fbf2-4926-9fe3-5315f2b63def",
      "metadata": {
        "id": "0c9bd191-fbf2-4926-9fe3-5315f2b63def"
      },
      "source": [
        "Create two maps as lookup tables for the nodes"
      ]
    },
    {
      "cell_type": "code",
      "execution_count": 7,
      "id": "d9ddb0c8-29d5-4fe1-9302-ac1481b290ef",
      "metadata": {
        "id": "d9ddb0c8-29d5-4fe1-9302-ac1481b290ef"
      },
      "outputs": [],
      "source": [
        "#create a lookup table for point coordinates\n",
        "node_coords = {point['id']:tuple(point['coordinates']) for point in nodes} #dictonary initialization with comprehension\n",
        "coords_node = {tuple(point['coordinates']):point['id'] for point in nodes} #tuples are hashable-> can be key to a dictionary"
      ]
    },
    {
      "cell_type": "code",
      "execution_count": 8,
      "id": "8bad6089-b3c1-499e-be26-0c53d98e7120",
      "metadata": {
        "id": "8bad6089-b3c1-499e-be26-0c53d98e7120",
        "colab": {
          "base_uri": "https://localhost:8080/"
        },
        "outputId": "1e8f7afa-e8f5-4334-f2a9-65ad86e3568d"
      },
      "outputs": [
        {
          "output_type": "stream",
          "name": "stdout",
          "text": [
            "(12.27, 45.46)\n"
          ]
        }
      ],
      "source": [
        "print(node_coords[roads[11]['p1']]) #retrieve coordinates from node ID"
      ]
    },
    {
      "cell_type": "markdown",
      "id": "79e8398c-a30b-4bca-a4c5-28c647a5dc03",
      "metadata": {
        "id": "79e8398c-a30b-4bca-a4c5-28c647a5dc03"
      },
      "source": [
        "A questo punto bisogna generare le query degli utenti:\n",
        "\n",
        "semplificazione: l'orario non influisce sui tempi di percorrenza -> dipendono solo dalla distanza"
      ]
    },
    {
      "cell_type": "markdown",
      "id": "a81a0a84-db99-4b8b-8d81-cad548c57c5c",
      "metadata": {
        "id": "a81a0a84-db99-4b8b-8d81-cad548c57c5c"
      },
      "source": [
        "Consider each trip as starting or ending in one of the nodes: the function below serves to approximate the closest node on the map"
      ]
    },
    {
      "cell_type": "markdown",
      "id": "bab3d7ee-4cd8-4423-a556-bb23484829b8",
      "metadata": {
        "id": "bab3d7ee-4cd8-4423-a556-bb23484829b8"
      },
      "source": [
        "Regular transfer (not related to pendolarism) is modeled as a gaussian random variable with respect to location ($\\mu = 15km, \\sigma = 10km$)  "
      ]
    },
    {
      "cell_type": "code",
      "execution_count": 14,
      "id": "d587b013-ad1f-4648-8c47-e2b7f8e868ac",
      "metadata": {
        "id": "d587b013-ad1f-4648-8c47-e2b7f8e868ac"
      },
      "outputs": [],
      "source": [
        "def generate_ratings(n_driver):\n",
        "  mean, std = 3.5, 0.5\n",
        "  x = np.random.normal(mean, std, size=(n_driver, 1))\n",
        "  ratings = np.empty(shape = (n_driver, 1))\n",
        "  for i in range(n_driver):\n",
        "    y = math.ceil(x[i])\n",
        "    if (y - x[i] > 0.5) :\n",
        "      ratings[i] = y - 0.5\n",
        "    else :\n",
        "      ratings[i] = y\n",
        "      \n",
        "  return ratings\n"
      ]
    },
    {
      "cell_type": "code",
      "source": [
        "# pool of end points \n",
        "# define a random number of destinations (e.g. from 8 to 12)\n",
        "num_dest = random.randrange(8, 12, 1)\n",
        "pool_dest = []\n",
        "for i in range(num_dest):\n",
        "  rand = random.randrange(len(node_coords))\n",
        "  id_dest = list(node_coords.keys())[rand]\n",
        "  coord_dest = list(node_coords.values())[rand]\n",
        "  pool_dest.append({'id':id_dest, 'coordinates':coord_dest})\n",
        "\n",
        "print(pool_dest)"
      ],
      "metadata": {
        "colab": {
          "base_uri": "https://localhost:8080/"
        },
        "id": "cOIS8p1_Eh0j",
        "outputId": "8b62287a-1978-46e2-df5e-0aaa8ef771ec"
      },
      "id": "cOIS8p1_Eh0j",
      "execution_count": 29,
      "outputs": [
        {
          "output_type": "stream",
          "name": "stdout",
          "text": [
            "[{'id': '8039450669', 'coordinates': (11.78, 45.34)}, {'id': '8789265183', 'coordinates': (12.39, 45.59)}, {'id': '2999709445', 'coordinates': (12.2, 45.45)}, {'id': '48150163', 'coordinates': (12.52, 45.62)}, {'id': '2539798832', 'coordinates': (11.81, 45.44)}, {'id': '653943312', 'coordinates': (11.99, 45.25)}, {'id': '4587689364', 'coordinates': (12.54, 45.64)}, {'id': '330870502', 'coordinates': (11.92, 45.39)}]\n"
          ]
        }
      ]
    },
    {
      "cell_type": "code",
      "source": [
        "def generate_trips(n):\n",
        "  # needs to define, for each driver/rider, one random starting point, and peak from the pool of destinations a random end points\n",
        "  trips_start = []\n",
        "  trips_dest = []\n",
        "  for i in range(n):\n",
        "    # start point\n",
        "    rand_s = random.randrange((len(node_coords)))\n",
        "    id_start = list(node_coords.keys())[rand_s]\n",
        "    coord_start = list(node_coords.values())[rand_s]\n",
        "    trips_start.append({'id':id_start, 'coordinates':coord_start})\n",
        "    # end point\n",
        "    rand_d = random.randrange(num_dest)\n",
        "    dest = pool_dest[rand_d]\n",
        "    trips_dest.append(dest)\n",
        "\n",
        "  return trips_start, trips_dest\n"
      ],
      "metadata": {
        "id": "Y9GxoHPZb2dD"
      },
      "id": "Y9GxoHPZb2dD",
      "execution_count": 54,
      "outputs": []
    },
    {
      "cell_type": "code",
      "execution_count": 53,
      "id": "359951c9-c520-4e13-8ac4-1c7ec48e1ab2",
      "metadata": {
        "id": "359951c9-c520-4e13-8ac4-1c7ec48e1ab2"
      },
      "outputs": [],
      "source": [
        "def generate_schedules(n):\n",
        "  #time probability mass: how many requests per 2-hour slot in percentage\n",
        "  time_prob = {   6 : 0.2,\n",
        "                  8 : 0.1,\n",
        "                  10 : 0.07,\n",
        "                  12 : 0.1,\n",
        "                  14 : 0.07,\n",
        "                  16 : 0.15,\n",
        "                  18 : 0.15,\n",
        "                  20 : 0.05,\n",
        "                  22 : 0.05,\n",
        "                  0 : 0.01,\n",
        "                  2 : 0.01,\n",
        "                  4 : 0.04 }\n",
        "\n",
        "  times = []\n",
        "  hours = list(time_prob.keys())\n",
        "  prob = list(time_prob.values())\n",
        "  for i in range(n):\n",
        "    times.append(str(random.choices(hours, prob)[0]) + \":00\")\n",
        "\n",
        "  return times"
      ]
    },
    {
      "cell_type": "code",
      "source": [
        "class Driver:\n",
        "  def __init__(self, id, rating, hour, start_point, end_point):\n",
        "    self.id = id\n",
        "    self.rating = rating\n",
        "    self.hour = hour\n",
        "    self.start_point = start_point\n",
        "    self.end_point = end_point\n",
        "\n",
        "  def __str__(self):\n",
        "    return \"Driver ( id = \" + str(self.id) + \", rating = \" + str(self.rating) + \", hour = \" + self.hour + \", start = \" + str(self.start_point) + \", dest = \" + str(self.end_point) + \")\"\n",
        "\n",
        "class Rider:\n",
        "  def __init__(self, id, hour, start_point, end_point):\n",
        "    self.id = id\n",
        "    self.hour = hour\n",
        "    self.start_point = start_point\n",
        "    self.end_point = end_point\n",
        "\n",
        "  def __str__(self):\n",
        "    return \"Rider ( id = \" + str(self.id) + \", hour = \" + self.hour + \", start = \" + str(self.start_point) + \", dest = \" + str(self.end_point) + \")\""
      ],
      "metadata": {
        "id": "CIOti8PLigxN"
      },
      "id": "CIOti8PLigxN",
      "execution_count": 77,
      "outputs": []
    },
    {
      "cell_type": "code",
      "source": [
        "def generate_data():\n",
        "  # 1- generate n_drivers and n_riders\n",
        "  # range: start, end, stepsize\n",
        "  n_drivers = random.randrange(40, 50, 1)\n",
        "  n_riders = random.randrange(90, 150, 15)\n",
        "  print(\"N_drivers: \", n_drivers)\n",
        "  print(\"N_riders: \", n_riders)\n",
        "  # 2 - generate start point and end point for drivers and riders\n",
        "  trips_start_drivers, trips_dest_drivers = generate_trips(n_drivers)\n",
        "  trips_start_riders, trips_dest_riders = generate_trips(n_riders)\n",
        "  # 3 - generate schedules\n",
        "  drivers_schedule = generate_schedules(n_drivers)\n",
        "  riders_schedule = generate_schedules(n_riders)\n",
        "  # 4- generate ratings for drivers\n",
        "  ratings = generate_ratings(n_drivers)\n",
        "  # 5 - parse in a list of objects\n",
        "  riders = []\n",
        "  drivers = []\n",
        "  for i in range(n_riders):\n",
        "    riders.append( Rider(i, riders_schedule[i], trips_start_riders[i], trips_dest_riders[i]))\n",
        "\n",
        "  for i in range(n_drivers):\n",
        "    drivers.append( Driver(i, ratings[i][0], drivers_schedule[i], trips_start_drivers[i], trips_dest_drivers[i]))\n",
        "\n",
        "  return drivers, riders\n",
        "\n"
      ],
      "metadata": {
        "id": "GVRlI8gLYWCO"
      },
      "id": "GVRlI8gLYWCO",
      "execution_count": 80,
      "outputs": []
    },
    {
      "cell_type": "code",
      "execution_count": 81,
      "id": "1be3f349-94ec-4ac4-8306-74f789381445",
      "metadata": {
        "colab": {
          "base_uri": "https://localhost:8080/"
        },
        "id": "1be3f349-94ec-4ac4-8306-74f789381445",
        "outputId": "96db077d-fb11-4034-bdaa-26d0e9ea05ce"
      },
      "outputs": [
        {
          "output_type": "stream",
          "name": "stdout",
          "text": [
            "N_drivers:  45\n",
            "N_riders:  120\n",
            "Driver ( id = 0, rating = 3.5, hour = 18:00, start = {'id': '313013208', 'coordinates': (12.25, 45.41)}, dest = {'id': '8789265183', 'coordinates': (12.39, 45.59)})\n",
            "Driver ( id = 1, rating = 4.5, hour = 18:00, start = {'id': '2444516688', 'coordinates': (11.86, 45.37)}, dest = {'id': '8039450669', 'coordinates': (11.78, 45.34)})\n",
            "Driver ( id = 2, rating = 3.5, hour = 6:00, start = {'id': '8261912126', 'coordinates': (12.19, 45.53)}, dest = {'id': '2999709445', 'coordinates': (12.2, 45.45)})\n",
            "Driver ( id = 3, rating = 3.0, hour = 14:00, start = {'id': '495125033', 'coordinates': (12.55, 45.65)}, dest = {'id': '4587689364', 'coordinates': (12.54, 45.64)})\n",
            "Driver ( id = 4, rating = 3.5, hour = 6:00, start = {'id': '1462181640', 'coordinates': (11.95, 45.57)}, dest = {'id': '330870502', 'coordinates': (11.92, 45.39)})\n",
            "\n",
            "\n",
            "***********************************************************************\n",
            "\n",
            "\n",
            "Rider ( id = 0, hour = 18:00, start = {'id': '6436253332', 'coordinates': (12.23, 45.44)}, dest = {'id': '2999709445', 'coordinates': (12.2, 45.45)})\n",
            "Rider ( id = 1, hour = 2:00, start = {'id': '4020439264', 'coordinates': (12.11, 45.4)}, dest = {'id': '2539798832', 'coordinates': (11.81, 45.44)})\n",
            "Rider ( id = 2, hour = 6:00, start = {'id': '6426532556', 'coordinates': (12.1, 45.33)}, dest = {'id': '330870502', 'coordinates': (11.92, 45.39)})\n",
            "Rider ( id = 3, hour = 6:00, start = {'id': '2224933373', 'coordinates': (11.92, 45.27)}, dest = {'id': '330870502', 'coordinates': (11.92, 45.39)})\n",
            "Rider ( id = 4, hour = 12:00, start = {'id': '1385739982', 'coordinates': (11.87, 45.58)}, dest = {'id': '4587689364', 'coordinates': (12.54, 45.64)})\n"
          ]
        }
      ],
      "source": [
        "drivers, riders = generate_data()\n",
        "\n",
        "for i in range(5) :\n",
        "  print(drivers[i])\n",
        "\n",
        "print(\"\\n\\n***********************************************************************\\n\\n\")\n",
        "\n",
        "for i in range(5) :\n",
        "  print(riders[i])\n"
      ]
    }
  ],
  "metadata": {
    "kernelspec": {
      "display_name": "Python 3 (ipykernel)",
      "language": "python",
      "name": "python3"
    },
    "language_info": {
      "codemirror_mode": {
        "name": "ipython",
        "version": 3
      },
      "file_extension": ".py",
      "mimetype": "text/x-python",
      "name": "python",
      "nbconvert_exporter": "python",
      "pygments_lexer": "ipython3",
      "version": "3.9.11"
    },
    "colab": {
      "name": "AlgoCarSharing.ipynb",
      "provenance": [],
      "collapsed_sections": []
    }
  },
  "nbformat": 4,
  "nbformat_minor": 5
}