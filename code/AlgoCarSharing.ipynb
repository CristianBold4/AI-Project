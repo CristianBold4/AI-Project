{
 "cells": [
  {
   "cell_type": "markdown",
   "id": "9a84ad5b-ba78-4156-9683-a3cd1eb92438",
   "metadata": {
    "id": "9a84ad5b-ba78-4156-9683-a3cd1eb92438"
   },
   "source": [
    "## Test per progetto AI"
   ]
  },
  {
   "cell_type": "markdown",
   "id": "f78b133c-c586-4acb-927f-9c6ed2425b37",
   "metadata": {
    "id": "f78b133c-c586-4acb-927f-9c6ed2425b37"
   },
   "source": [
    "E' necessario caricare i file roads_small.json e nodes_small.json"
   ]
  },
  {
   "cell_type": "code",
   "execution_count": 1,
   "id": "4bd11cac-00d0-4554-add1-786f80976988",
   "metadata": {
    "id": "4bd11cac-00d0-4554-add1-786f80976988"
   },
   "outputs": [],
   "source": [
    "import json\n",
    "import numpy as np\n",
    "import matplotlib.pyplot as plt\n",
    "import math\n",
    "import random"
   ]
  },
  {
   "cell_type": "code",
   "execution_count": 3,
   "id": "ee530b18-25c2-4d55-8e0b-c6ed8e979380",
   "metadata": {
    "colab": {
     "base_uri": "https://localhost:8080/"
    },
    "id": "ee530b18-25c2-4d55-8e0b-c6ed8e979380",
    "outputId": "fd5c63b6-c01e-4a7c-b826-05f9b4f2be44"
   },
   "outputs": [
    {
     "name": "stdout",
     "output_type": "stream",
     "text": [
      "Num nodes 2341\n",
      "Num roads 10325\n"
     ]
    }
   ],
   "source": [
    "nodes = json.load(open('new_nodes.json', 'r'))\n",
    "roads = json.load(open('new_roads.json', 'r'))\n",
    "print(\"Num nodes\", len(nodes))\n",
    "print(\"Num roads\", len(roads))"
   ]
  },
  {
   "cell_type": "markdown",
   "id": "0c9bd191-fbf2-4926-9fe3-5315f2b63def",
   "metadata": {
    "id": "0c9bd191-fbf2-4926-9fe3-5315f2b63def"
   },
   "source": [
    "Create two maps as lookup tables for the nodes"
   ]
  },
  {
   "cell_type": "code",
   "execution_count": 4,
   "id": "d9ddb0c8-29d5-4fe1-9302-ac1481b290ef",
   "metadata": {
    "id": "d9ddb0c8-29d5-4fe1-9302-ac1481b290ef"
   },
   "outputs": [],
   "source": [
    "#create a lookup table for point coordinates\n",
    "node_coords = {point['id']:tuple(point['coordinates']) for point in nodes} #dictonary initialization with comprehension\n",
    "coords_node = {tuple(point['coordinates']):point['id'] for point in nodes} #tuples are hashable-> can be key to a dictionary"
   ]
  },
  {
   "cell_type": "code",
   "execution_count": 5,
   "id": "8bad6089-b3c1-499e-be26-0c53d98e7120",
   "metadata": {
    "colab": {
     "base_uri": "https://localhost:8080/"
    },
    "id": "8bad6089-b3c1-499e-be26-0c53d98e7120",
    "outputId": "af6f4f31-0d69-4900-8c51-c66b522ddebd"
   },
   "outputs": [
    {
     "name": "stdout",
     "output_type": "stream",
     "text": [
      "(12.27, 45.46)\n"
     ]
    }
   ],
   "source": [
    "print(node_coords[roads[11]['p1']]) #retrieve coordinates from node ID"
   ]
  },
  {
   "cell_type": "markdown",
   "id": "79e8398c-a30b-4bca-a4c5-28c647a5dc03",
   "metadata": {
    "id": "79e8398c-a30b-4bca-a4c5-28c647a5dc03"
   },
   "source": [
    "A questo punto bisogna generare le query degli utenti:\n",
    "\n",
    "semplificazione: l'orario non influisce sui tempi di percorrenza -> dipendono solo dalla distanza"
   ]
  },
  {
   "cell_type": "markdown",
   "id": "a81a0a84-db99-4b8b-8d81-cad548c57c5c",
   "metadata": {
    "id": "a81a0a84-db99-4b8b-8d81-cad548c57c5c"
   },
   "source": [
    "Consider each trip as starting or ending in one of the nodes: the function below serves to approximate the closest node on the map"
   ]
  },
  {
   "cell_type": "markdown",
   "id": "bab3d7ee-4cd8-4423-a556-bb23484829b8",
   "metadata": {
    "id": "bab3d7ee-4cd8-4423-a556-bb23484829b8"
   },
   "source": [
    "Regular transfer (not related to pendolarism) is modeled as a gaussian random variable with respect to location ($\\mu = 15km, \\sigma = 10km$)  "
   ]
  },
  {
   "cell_type": "code",
   "execution_count": 6,
   "id": "d587b013-ad1f-4648-8c47-e2b7f8e868ac",
   "metadata": {
    "id": "d587b013-ad1f-4648-8c47-e2b7f8e868ac"
   },
   "outputs": [],
   "source": [
    "def generate_ratings(n_driver):\n",
    "  mean, std = 3.5, 0.5\n",
    "  x = np.random.normal(mean, std, size=(n_driver, 1))\n",
    "  ratings = np.empty(shape = (n_driver, 1))\n",
    "  for i in range(n_driver):\n",
    "    y = math.ceil(x[i])\n",
    "    if (y - x[i] > 0.5) :\n",
    "      ratings[i] = y - 0.5\n",
    "    else :\n",
    "      ratings[i] = y\n",
    "      \n",
    "  return ratings\n"
   ]
  },
  {
   "cell_type": "code",
   "execution_count": 7,
   "id": "cOIS8p1_Eh0j",
   "metadata": {
    "colab": {
     "base_uri": "https://localhost:8080/"
    },
    "id": "cOIS8p1_Eh0j",
    "outputId": "a8bb7e73-1950-4fd3-eeab-bd7d23904d1d"
   },
   "outputs": [
    {
     "name": "stdout",
     "output_type": "stream",
     "text": [
      "[{'id': 358, 'coordinates': (11.99, 45.47)}, {'id': 1836, 'coordinates': (11.84, 45.22)}, {'id': 4, 'coordinates': (12.68, 45.51)}, {'id': 2068, 'coordinates': (11.91, 45.34)}, {'id': 1090, 'coordinates': (12.08, 45.4)}, {'id': 327, 'coordinates': (12.12, 45.26)}, {'id': 2175, 'coordinates': (12.15, 45.2)}, {'id': 799, 'coordinates': (11.8, 45.45)}, {'id': 1537, 'coordinates': (12.12, 45.48)}, {'id': 1723, 'coordinates': (11.86, 45.49)}]\n"
     ]
    }
   ],
   "source": [
    "# pool of end points \n",
    "# define a random number of destinations (e.g. from 8 to 12)\n",
    "num_dest = random.randrange(8, 12, 1)\n",
    "pool_dest = []\n",
    "for i in range(num_dest):\n",
    "  rand = random.randrange(len(node_coords))\n",
    "  id_dest = list(node_coords.keys())[rand]\n",
    "  coord_dest = list(node_coords.values())[rand]\n",
    "  pool_dest.append({'id':id_dest, 'coordinates':coord_dest})\n",
    "\n",
    "print(pool_dest)"
   ]
  },
  {
   "cell_type": "code",
   "execution_count": 8,
   "id": "Y9GxoHPZb2dD",
   "metadata": {
    "id": "Y9GxoHPZb2dD"
   },
   "outputs": [],
   "source": [
    "def generate_trips(n):\n",
    "  # needs to define, for each driver/rider, one random starting point, and peak from the pool of destinations a random end points\n",
    "  trips_start = []\n",
    "  trips_dest = []\n",
    "  for i in range(n):\n",
    "    # start point\n",
    "    rand_s = random.randrange((len(node_coords)))\n",
    "    id_start = list(node_coords.keys())[rand_s]\n",
    "    coord_start = list(node_coords.values())[rand_s]\n",
    "    trips_start.append({'id':id_start, 'coordinates':coord_start})\n",
    "    # end point\n",
    "    rand_d = random.randrange(num_dest)\n",
    "    dest = pool_dest[rand_d]\n",
    "    trips_dest.append(dest)\n",
    "\n",
    "  return trips_start, trips_dest\n"
   ]
  },
  {
   "cell_type": "code",
   "execution_count": 9,
   "id": "359951c9-c520-4e13-8ac4-1c7ec48e1ab2",
   "metadata": {
    "id": "359951c9-c520-4e13-8ac4-1c7ec48e1ab2"
   },
   "outputs": [],
   "source": [
    "def generate_schedules(n):\n",
    "  #time probability mass: how many requests per 2-hour slot in percentage\n",
    "  time_prob = {   6 : 0.2,\n",
    "                  8 : 0.1,\n",
    "                  10 : 0.07,\n",
    "                  12 : 0.1,\n",
    "                  14 : 0.07,\n",
    "                  16 : 0.15,\n",
    "                  18 : 0.15,\n",
    "                  20 : 0.05,\n",
    "                  22 : 0.05,\n",
    "                  0 : 0.01,\n",
    "                  2 : 0.01,\n",
    "                  4 : 0.04 }\n",
    "\n",
    "  times = []\n",
    "  hours = list(time_prob.keys())\n",
    "  prob = list(time_prob.values())\n",
    "  for i in range(n):\n",
    "    times.append(str(random.choices(hours, prob)[0]) + \":00\")\n",
    "\n",
    "  return times"
   ]
  },
  {
   "cell_type": "code",
   "execution_count": 10,
   "id": "CIOti8PLigxN",
   "metadata": {
    "id": "CIOti8PLigxN"
   },
   "outputs": [],
   "source": [
    "class Driver:\n",
    "  def __init__(self, id, rating, hour, start_point, end_point):\n",
    "    self.id = id\n",
    "    self.rating = rating\n",
    "    self.hour = hour\n",
    "    self.start_point = start_point\n",
    "    self.end_point = end_point\n",
    "\n",
    "  def __str__(self):\n",
    "    return \"Driver ( id = \" + str(self.id) + \", rating = \" + str(self.rating) + \", hour = \" + self.hour + \", start = \" + str(self.start_point) + \", dest = \" + str(self.end_point) + \")\"\n",
    "\n",
    "class Rider:\n",
    "  def __init__(self, id, hour, start_point, end_point):\n",
    "    self.id = id\n",
    "    self.hour = hour\n",
    "    self.start_point = start_point\n",
    "    self.end_point = end_point\n",
    "\n",
    "  def __str__(self):\n",
    "    return \"Rider ( id = \" + str(self.id) + \", hour = \" + self.hour + \", start = \" + str(self.start_point) + \", dest = \" + str(self.end_point) + \")\""
   ]
  },
  {
   "cell_type": "code",
   "execution_count": 11,
   "id": "GVRlI8gLYWCO",
   "metadata": {
    "id": "GVRlI8gLYWCO"
   },
   "outputs": [],
   "source": [
    "def generate_data():\n",
    "  # 1- generate n_drivers and n_riders\n",
    "  # range: start, end, stepsize\n",
    "  n_drivers = random.randrange(40, 50, 1)\n",
    "  n_riders = random.randrange(90, 150, 15)\n",
    "  print(\"N_drivers: \", n_drivers)\n",
    "  print(\"N_riders: \", n_riders)\n",
    "  # 2 - generate start point and end point for drivers and riders\n",
    "  trips_start_drivers, trips_dest_drivers = generate_trips(n_drivers)\n",
    "  trips_start_riders, trips_dest_riders = generate_trips(n_riders)\n",
    "  # 3 - generate schedules\n",
    "  drivers_schedule = generate_schedules(n_drivers)\n",
    "  riders_schedule = generate_schedules(n_riders)\n",
    "  # 4- generate ratings for drivers\n",
    "  ratings = generate_ratings(n_drivers)\n",
    "  # 5 - parse in a list of objects\n",
    "  riders = []\n",
    "  drivers = []\n",
    "  for i in range(n_riders):\n",
    "    riders.append( Rider(i, riders_schedule[i], trips_start_riders[i], trips_dest_riders[i]))\n",
    "\n",
    "  for i in range(n_drivers):\n",
    "    drivers.append( Driver(i, ratings[i][0], drivers_schedule[i], trips_start_drivers[i], trips_dest_drivers[i]))\n",
    "\n",
    "  return drivers, riders\n",
    "\n"
   ]
  },
  {
   "cell_type": "code",
   "execution_count": 12,
   "id": "1be3f349-94ec-4ac4-8306-74f789381445",
   "metadata": {
    "colab": {
     "base_uri": "https://localhost:8080/"
    },
    "id": "1be3f349-94ec-4ac4-8306-74f789381445",
    "outputId": "2835cb0b-a2e9-45b9-f375-7e5786947da1"
   },
   "outputs": [
    {
     "name": "stdout",
     "output_type": "stream",
     "text": [
      "N_drivers:  42\n",
      "N_riders:  105\n",
      "Driver ( id = 0, rating = 3.5, hour = 16:00, start = {'id': 1312, 'coordinates': (12.7, 45.56)}, dest = {'id': 799, 'coordinates': (11.8, 45.45)})\n",
      "Driver ( id = 1, rating = 4.0, hour = 14:00, start = {'id': 212, 'coordinates': (11.87, 45.4)}, dest = {'id': 1537, 'coordinates': (12.12, 45.48)})\n",
      "Driver ( id = 2, rating = 3.0, hour = 6:00, start = {'id': 1540, 'coordinates': (11.75, 45.24)}, dest = {'id': 327, 'coordinates': (12.12, 45.26)})\n",
      "Driver ( id = 3, rating = 4.5, hour = 18:00, start = {'id': 472, 'coordinates': (11.94, 45.4)}, dest = {'id': 1537, 'coordinates': (12.12, 45.48)})\n",
      "Driver ( id = 4, rating = 4.0, hour = 6:00, start = {'id': 1182, 'coordinates': (12.05, 45.59)}, dest = {'id': 1537, 'coordinates': (12.12, 45.48)})\n",
      "\n",
      "\n",
      "***********************************************************************\n",
      "\n",
      "\n",
      "Rider ( id = 0, hour = 20:00, start = {'id': 1714, 'coordinates': (11.75, 45.32)}, dest = {'id': 1090, 'coordinates': (12.08, 45.4)})\n",
      "Rider ( id = 1, hour = 20:00, start = {'id': 1731, 'coordinates': (12.18, 45.24)}, dest = {'id': 4, 'coordinates': (12.68, 45.51)})\n",
      "Rider ( id = 2, hour = 6:00, start = {'id': 877, 'coordinates': (11.78, 45.23)}, dest = {'id': 1090, 'coordinates': (12.08, 45.4)})\n",
      "Rider ( id = 3, hour = 12:00, start = {'id': 1581, 'coordinates': (11.82, 45.37)}, dest = {'id': 1723, 'coordinates': (11.86, 45.49)})\n",
      "Rider ( id = 4, hour = 18:00, start = {'id': 1710, 'coordinates': (12.02, 45.58)}, dest = {'id': 799, 'coordinates': (11.8, 45.45)})\n"
     ]
    }
   ],
   "source": [
    "drivers, riders = generate_data()\n",
    "\n",
    "for i in range(5) :\n",
    "  print(drivers[i])\n",
    "\n",
    "print(\"\\n\\n***********************************************************************\\n\\n\")\n",
    "\n",
    "for i in range(5) :\n",
    "  print(riders[i])\n"
   ]
  },
  {
   "cell_type": "code",
   "execution_count": 14,
   "id": "mrmM8dlr9jTE",
   "metadata": {
    "id": "mrmM8dlr9jTE"
   },
   "outputs": [],
   "source": [
    "# create file input.dat\n",
    "f = open(\"input.dat\", \"w\")\n",
    "content = \"DIMENSION : \" + str(len(nodes)) + \"\\n\"\n",
    "content += \"DRIVERS : \" + str(len(drivers)) + \"\\n\"\n",
    "content += \"RIDERS : \" + str(len(riders)) + \"\\n\"\n",
    "content += \"NODE_COORD_SECTION\\n\"\n",
    "for node in nodes :\n",
    "  content += str(node.get(\"id\")) + \" \" + str(node.get(\"coordinates\")[0]) + \" \" + str(node.get(\"coordinates\")[1]) + \"\\n\"\n",
    "content += \"ROADS_SECTION\\n\"\n",
    "for road in roads :\n",
    "  content += str(road.get(\"p1\")) + \" \" + str(road.get(\"p2\")) + \"\\n\"\n",
    "content += \"DRIVERS_STARTING_COORD\\n\"\n",
    "for driver in drivers:\n",
    "  content += str(driver.start_point.get(\"id\")) + \" \" + str(driver.start_point.get(\"coordinates\")[0]) + \" \" + str(driver.start_point.get(\"coordinates\")[1]) + \"\\n\"\n",
    "content += \"DRIVERS_DESTINATION_COORD\\n\"\n",
    "for driver in drivers:\n",
    "  content += str(driver.end_point.get(\"id\")) + \" \" + str(driver.end_point.get(\"coordinates\")[0]) + \" \" + str(driver.end_point.get(\"coordinates\")[1]) + \"\\n\"\n",
    "content += \"RIDERS_STARTING_COORD\\n\"\n",
    "for rider in riders:\n",
    "  content += str(rider.start_point.get(\"id\")) + \" \" + str(rider.start_point.get(\"coordinates\")[0]) + \" \" + str(rider.start_point.get(\"coordinates\")[1]) + \"\\n\"\n",
    "content += \"RIDERS_DESTINATION_COORD\\n\"\n",
    "for rider in riders:\n",
    "  content += str(rider.end_point.get(\"id\")) + \" \" + str(rider.end_point.get(\"coordinates\")[0]) + \" \" + str(rider.end_point.get(\"coordinates\")[1]) + \"\\n\"\n",
    "content += \"EOF\"\n",
    "f.write(content)\n",
    "f.close()"
   ]
  }
 ],
 "metadata": {
  "colab": {
   "collapsed_sections": [],
   "name": "AlgoCarSharing.ipynb",
   "provenance": []
  },
  "kernelspec": {
   "display_name": "Python 3 (ipykernel)",
   "language": "python",
   "name": "python3"
  },
  "language_info": {
   "codemirror_mode": {
    "name": "ipython",
    "version": 3
   },
   "file_extension": ".py",
   "mimetype": "text/x-python",
   "name": "python",
   "nbconvert_exporter": "python",
   "pygments_lexer": "ipython3",
   "version": "3.8.13"
  }
 },
 "nbformat": 4,
 "nbformat_minor": 5
}
