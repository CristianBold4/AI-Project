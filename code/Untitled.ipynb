{
 "cells": [
  {
   "cell_type": "markdown",
   "id": "9a84ad5b-ba78-4156-9683-a3cd1eb92438",
   "metadata": {},
   "source": [
    "## Test per progetto AI"
   ]
  },
  {
   "cell_type": "markdown",
   "id": "f78b133c-c586-4acb-927f-9c6ed2425b37",
   "metadata": {},
   "source": [
    "E' necessario scaricare i file roads.json e nodes.json"
   ]
  },
  {
   "cell_type": "code",
   "execution_count": 66,
   "id": "4bd11cac-00d0-4554-add1-786f80976988",
   "metadata": {},
   "outputs": [],
   "source": [
    "import json\n",
    "import numpy as np\n",
    "import matplotlib.pyplot as plt\n",
    "import math"
   ]
  },
  {
   "cell_type": "code",
   "execution_count": 2,
   "id": "99bbfe0b-3fb2-4e02-b5d1-1943ff020e62",
   "metadata": {},
   "outputs": [],
   "source": [
    "#%matplotlib inline"
   ]
  },
  {
   "cell_type": "code",
   "execution_count": 51,
   "id": "ee530b18-25c2-4d55-8e0b-c6ed8e979380",
   "metadata": {},
   "outputs": [],
   "source": [
    "nodes = json.load(open('nodes.json', 'r'))\n",
    "roads = json.load(open('roads.json', 'r'))"
   ]
  },
  {
   "cell_type": "code",
   "execution_count": 37,
   "id": "4f1642a6-f6a6-4087-804c-25a5513fb954",
   "metadata": {},
   "outputs": [
    {
     "data": {
      "text/plain": [
       "{'p1': '1695859083',\n",
       " 'p2': '1376589543',\n",
       " 'discriminator': '3006329516',\n",
       " 'directed': False,\n",
       " 'sidewalks': [False, False],\n",
       " 'distance': 839.7041050407402}"
      ]
     },
     "execution_count": 37,
     "metadata": {},
     "output_type": "execute_result"
    }
   ],
   "source": [
    "roads[1] #roads are indicized as 0,1,2..."
   ]
  },
  {
   "cell_type": "code",
   "execution_count": 38,
   "id": "a8a99acf-8496-4944-916d-3561d5209089",
   "metadata": {},
   "outputs": [
    {
     "data": {
      "text/plain": [
       "'1695859083'"
      ]
     },
     "execution_count": 38,
     "metadata": {},
     "output_type": "execute_result"
    }
   ],
   "source": [
    "roads[1]['p1']"
   ]
  },
  {
   "cell_type": "code",
   "execution_count": 55,
   "id": "6ccf90be-470c-4f76-b4da-1b58866f6908",
   "metadata": {},
   "outputs": [
    {
     "data": {
      "text/plain": [
       "{'id': '1376589543', 'coordinates': [12.5308204, 45.4681674]}"
      ]
     },
     "execution_count": 55,
     "metadata": {},
     "output_type": "execute_result"
    }
   ],
   "source": [
    "nodes[0]"
   ]
  },
  {
   "cell_type": "markdown",
   "id": "0c9bd191-fbf2-4926-9fe3-5315f2b63def",
   "metadata": {},
   "source": [
    "Create two maps as lookup tables for the nodes"
   ]
  },
  {
   "cell_type": "code",
   "execution_count": 53,
   "id": "d9ddb0c8-29d5-4fe1-9302-ac1481b290ef",
   "metadata": {},
   "outputs": [],
   "source": [
    "#create a lookup table for point coordinates\n",
    "node_coords = {point['id']:tuple(point['coordinates']) for point in nodes} #dictonary initialization with comprehension\n",
    "coords_node = {tuple(point['coordinates']):point['id'] for point in nodes} #tuples are hashable-> can be key to a dictionary"
   ]
  },
  {
   "cell_type": "code",
   "execution_count": 61,
   "id": "8bad6089-b3c1-499e-be26-0c53d98e7120",
   "metadata": {},
   "outputs": [
    {
     "name": "stdout",
     "output_type": "stream",
     "text": [
      "(12.6728663, 45.571353)\n"
     ]
    }
   ],
   "source": [
    "print(node_coords[roads[11]['p1']]) #retrieve coordinates from node ID"
   ]
  },
  {
   "cell_type": "markdown",
   "id": "79e8398c-a30b-4bca-a4c5-28c647a5dc03",
   "metadata": {},
   "source": [
    "A questo punto bisogna generare le query degli utenti:\n",
    "\n",
    "semplificazione: l'orario non influisce sui tempi di percorrenza -> dipendono solo dalla distanza"
   ]
  },
  {
   "cell_type": "code",
   "execution_count": 22,
   "id": "359951c9-c520-4e13-8ac4-1c7ec48e1ab2",
   "metadata": {},
   "outputs": [
    {
     "data": {
      "image/png": "[encoded data removed]",
      "text/plain": [
       "<Figure size 432x288 with 1 Axes>"
      ]
     },
     "metadata": {
      "needs_background": "light"
     },
     "output_type": "display_data"
    }
   ],
   "source": [
    "#time probability mass: how many requests per 2-hour slot in percentage\n",
    "time_prob = {6 : 0.2,\n",
    "                 8 : 0.1,\n",
    "                 10 : 0.07,\n",
    "                 12 : 0.1,\n",
    "                 14 : 0.07,\n",
    "                 16 : 0.15,\n",
    "                 18 : 0.15,\n",
    "                 20 : 0.05,\n",
    "                 22 : 0.05,\n",
    "                 0 : 0.01,\n",
    "                 2 : 0.01,\n",
    "                 4 : 0.04 }\n",
    "\n",
    "#for plotting\n",
    "names = []\n",
    "values = []\n",
    "for i in range(0, 24, 2):\n",
    "    names.append(\"{}:00-{}:00\".format(i, (i+2)%24))\n",
    "    values.append(time_prob[i])\n",
    "\n",
    "names.reverse()\n",
    "values.reverse()\n",
    "\n",
    "plt.title(\"Total probability mass by time slot\")\n",
    "plt.barh(range(12), values, tick_label=names)\n",
    "plt.show()"
   ]
  },
  {
   "cell_type": "markdown",
   "id": "a81a0a84-db99-4b8b-8d81-cad548c57c5c",
   "metadata": {},
   "source": [
    "Consider each trip as starting or ending in one of the nodes: the function below serves to approximate the closest node on the map"
   ]
  },
  {
   "cell_type": "code",
   "execution_count": 91,
   "id": "2c2f40bc-d868-473a-8dc8-69aa727f2b05",
   "metadata": {},
   "outputs": [],
   "source": [
    "def find_closest_node(long, lat) :\n",
    "    best_dist = math.inf\n",
    "    best_id = -1\n",
    "    \n",
    "    #truncate at 7 decimals\n",
    "    long = int(long*10e7)/10e7\n",
    "    lat = int(lat*10e7)/10e7\n",
    "    \n",
    "    for node in coords_node :\n",
    "        dist = math.sqrt((long-node[0])**2 + (lat-node[1])**2)\n",
    "        if dist < best_dist:\n",
    "            best_id = coords_node[node]\n",
    "            best_dist = dist\n",
    "    \n",
    "    return best_id"
   ]
  },
  {
   "cell_type": "code",
   "execution_count": 92,
   "id": "a54a5435-1b91-46ea-a53d-af183d1cc98b",
   "metadata": {},
   "outputs": [
    {
     "name": "stdout",
     "output_type": "stream",
     "text": [
      "(12.3984001, 45.5367487)\n"
     ]
    }
   ],
   "source": [
    "id = find_closest_node(12.3962225537085, 45.538878713223) #format (long,lat) Altino\n",
    "print(node_coords[id])"
   ]
  },
  {
   "cell_type": "markdown",
   "id": "ca0169b2-4c4c-4ffe-960f-2dfd8eb327ba",
   "metadata": {},
   "source": [
    "Nota: i punti non sono molto densi"
   ]
  },
  {
   "cell_type": "code",
   "execution_count": 21,
   "id": "4cc8bfab-da1e-4cc7-afaa-c95a5d4c0b1e",
   "metadata": {},
   "outputs": [],
   "source": [
    "#to model commuters, we split the map into \"residential zones\" and \"work zones\"\n"
   ]
  },
  {
   "cell_type": "markdown",
   "id": "bab3d7ee-4cd8-4423-a556-bb23484829b8",
   "metadata": {},
   "source": [
    "Regular transfer (not related to pendolarism) is modeled as a gaussian random variable with respect to location ($\\mu = 15km, \\sigma = 10km$)  "
   ]
  },
  {
   "cell_type": "code",
   "execution_count": 29,
   "id": "d587b013-ad1f-4648-8c47-e2b7f8e868ac",
   "metadata": {},
   "outputs": [],
   "source": []
  },
  {
   "cell_type": "code",
   "execution_count": null,
   "id": "1be3f349-94ec-4ac4-8306-74f789381445",
   "metadata": {},
   "outputs": [],
   "source": []
  },
  {
   "cell_type": "code",
   "execution_count": null,
   "id": "1dfa2c61-3389-4fcf-86b3-304f37141fc0",
   "metadata": {},
   "outputs": [],
   "source": []
  }
 ],
 "metadata": {
  "kernelspec": {
   "display_name": "Python 3 (ipykernel)",
   "language": "python",
   "name": "python3"
  },
  "language_info": {
   "codemirror_mode": {
    "name": "ipython",
    "version": 3
   },
   "file_extension": ".py",
   "mimetype": "text/x-python",
   "name": "python",
   "nbconvert_exporter": "python",
   "pygments_lexer": "ipython3",
   "version": "3.9.11"
  }
 },
 "nbformat": 4,
 "nbformat_minor": 5
}
