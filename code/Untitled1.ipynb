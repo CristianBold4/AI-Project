{
 "cells": [
  {
   "cell_type": "markdown",
   "id": "2935db7e-4c62-4d33-b2e4-4e9a39411c34",
   "metadata": {},
   "source": [
    "# Node undersampling"
   ]
  },
  {
   "cell_type": "markdown",
   "id": "a0bf8bd0-99ea-410e-89de-6da338087162",
   "metadata": {},
   "source": [
    "1. Truncate nodes to 5 decimals\n",
    "2. Find duplicates among nodes\n",
    "3. Keep only the first node in both nodes and roads\n",
    "4. Scan all roads to remove the duplicated nodes\n",
    "\n",
    "Note: con 2 cifre decimali la risoluzione è di circa 2km... bene ma non benissimo"
   ]
  },
  {
   "cell_type": "code",
   "execution_count": 1,
   "id": "e84caf85-7171-4cae-8917-bc95fa1f8c04",
   "metadata": {},
   "outputs": [],
   "source": [
    "import json"
   ]
  },
  {
   "cell_type": "code",
   "execution_count": 2,
   "id": "06cd24bb-d0f7-4b1f-86da-98f787633cac",
   "metadata": {},
   "outputs": [],
   "source": [
    "nodes = json.load(open('nodes.json', 'r'))\n",
    "roads = json.load(open('roads.json', 'r'))"
   ]
  },
  {
   "cell_type": "code",
   "execution_count": 3,
   "id": "40268400-619d-4bd9-b2d2-6ab5cb74a8bb",
   "metadata": {},
   "outputs": [],
   "source": [
    "node_coords = {point['id']:tuple(point['coordinates']) for point in nodes} #dictonary initialization with comprehension\n",
    "coords_node = {tuple(point['coordinates']):point['id'] for point in nodes} #tuples are hashable-> can be key to a dictionary"
   ]
  },
  {
   "cell_type": "code",
   "execution_count": 41,
   "id": "89ecc62a-daa0-48d9-8f85-657370e2d755",
   "metadata": {},
   "outputs": [
    {
     "data": {
      "text/plain": [
       "1.23"
      ]
     },
     "execution_count": 41,
     "metadata": {},
     "output_type": "execute_result"
    }
   ],
   "source": [
    "#not really general, I make it work here for my points\n",
    "def truncate(num):\n",
    "    return int(num * 100) / 100;\n",
    "#test\n",
    "truncate(1.2345678987654)"
   ]
  },
  {
   "cell_type": "code",
   "execution_count": 15,
   "id": "bfe2e420-4801-4ff3-9695-00fa2a32cecc",
   "metadata": {},
   "outputs": [
    {
     "name": "stdout",
     "output_type": "stream",
     "text": [
      "('1456859333', (12.39, 45.42))\n",
      "99845\n"
     ]
    }
   ],
   "source": [
    "trunc_node_coords = {node:(0,0) for node in node_coords} #all nodes are associated with coordinates (0,0) initially\n",
    "\n",
    "for coords in coords_node:\n",
    "    trunc_coords = (truncate(coords[0]), truncate(coords[1]))\n",
    "    node = coords_node[coords]\n",
    "    trunc_node_coords[node] = trunc_coords\n",
    "    \n",
    "print(list(trunc_node_coords.items())[55])\n",
    "print(len(trunc_node_coords))"
   ]
  },
  {
   "cell_type": "code",
   "execution_count": 32,
   "id": "16299d14-aaec-47ef-8c87-7170b09523cc",
   "metadata": {},
   "outputs": [
    {
     "name": "stdout",
     "output_type": "stream",
     "text": [
      "2341\n",
      "((12.2, 45.44), '2086870796')\n"
     ]
    }
   ],
   "source": [
    "trunc_coords_node = {trunc_node_coords[node]:node for node in trunc_node_coords} #duplicate autoremoval\n",
    "print(len(trunc_coords_node))\n",
    "print(list(trunc_coords_node.items())[25])"
   ]
  },
  {
   "cell_type": "code",
   "execution_count": 42,
   "id": "ac2d411b-7bef-424b-a9c3-f663ad530a15",
   "metadata": {},
   "outputs": [],
   "source": [
    "#keep track of duplicates for quick substitution\n",
    "dupl = {} #key = node replaced | value = node to replace it with\n",
    "for tr_coords in trunc_coords_node:\n",
    "    for coords in coords_node:\n",
    "        if (truncate(coords[0]), truncate(coords[1])) == tr_coords:\n",
    "            dupl.update({coords_node[coords]:trunc_coords_node[tr_coords]})"
   ]
  },
  {
   "cell_type": "code",
   "execution_count": 56,
   "id": "2f4b8f33-7bff-4042-bc68-4e6d641500de",
   "metadata": {},
   "outputs": [],
   "source": [
    "#write into a json file\n",
    "\n",
    "with open(\"nodes_small.json\", \"w\") as f:\n",
    "    json.dump(trunc_node_coords, f)"
   ]
  },
  {
   "cell_type": "code",
   "execution_count": 61,
   "id": "1eff75f2-9e6b-433d-8ceb-1e3c5ef7d57a",
   "metadata": {},
   "outputs": [
    {
     "name": "stdout",
     "output_type": "stream",
     "text": [
      "{'p1': '729936659', 'p2': '729936660', 'directed': True, 'sidewalks': [False, False], 'distance': 17.49509788424825}\n",
      "<class 'dict'>\n"
     ]
    }
   ],
   "source": [
    "print(roads[4])\n",
    "print(type(roads[4]))"
   ]
  },
  {
   "cell_type": "code",
   "execution_count": 71,
   "id": "8e39dbb5-324d-4616-8395-dbb745c88ae2",
   "metadata": {},
   "outputs": [],
   "source": [
    "#change the roads\n",
    "new_roads = []\n",
    "for road in roads:\n",
    "    road['p1'] = dupl[road['p1']]\n",
    "    road['p2'] = dupl[road['p2']]\n",
    "    if road['p1'] != road['p2']:\n",
    "        new_roads.append(road)"
   ]
  },
  {
   "cell_type": "code",
   "execution_count": 72,
   "id": "b3f3dcab-765c-465a-867f-5ff3bf80b87a",
   "metadata": {},
   "outputs": [
    {
     "data": {
      "text/plain": [
       "10325"
      ]
     },
     "execution_count": 72,
     "metadata": {},
     "output_type": "execute_result"
    }
   ],
   "source": [
    "len(new_roads)"
   ]
  },
  {
   "cell_type": "code",
   "execution_count": 73,
   "id": "cf2caf46-b61c-40bd-af0b-4fee4b0c23e3",
   "metadata": {},
   "outputs": [],
   "source": [
    "with open(\"roads_small.json\", \"w\") as f:\n",
    "    json.dump(new_roads, f)\n",
    "    "
   ]
  },
  {
   "cell_type": "code",
   "execution_count": 76,
   "id": "4658611c-f447-4e85-b54e-26b73033d97d",
   "metadata": {},
   "outputs": [],
   "source": [
    "#check!\n",
    "for road in new_roads:\n",
    "    if road['p1'] not in trunc_node_coords or road['p2'] not in trunc_node_coords:\n",
    "        print(\"ERROR\")"
   ]
  },
  {
   "cell_type": "code",
   "execution_count": null,
   "id": "52b6047c-8e63-48c5-a5c8-54430a2c3496",
   "metadata": {},
   "outputs": [],
   "source": []
  }
 ],
 "metadata": {
  "kernelspec": {
   "display_name": "Python 3 (ipykernel)",
   "language": "python",
   "name": "python3"
  },
  "language_info": {
   "codemirror_mode": {
    "name": "ipython",
    "version": 3
   },
   "file_extension": ".py",
   "mimetype": "text/x-python",
   "name": "python",
   "nbconvert_exporter": "python",
   "pygments_lexer": "ipython3",
   "version": "3.9.11"
  }
 },
 "nbformat": 4,
 "nbformat_minor": 5
}
